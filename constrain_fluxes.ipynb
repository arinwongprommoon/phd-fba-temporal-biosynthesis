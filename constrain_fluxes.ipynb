{
 "cells": [
  {
   "cell_type": "markdown",
   "id": "7bdf4897",
   "metadata": {},
   "source": [
    "Import dependencies"
   ]
  },
  {
   "cell_type": "code",
   "execution_count": null,
   "id": "1ae365d7",
   "metadata": {},
   "outputs": [],
   "source": [
    "%reload_ext autoreload\n",
    "%autoreload 1\n",
    "%matplotlib inline\n",
    "\n",
    "import matplotlib.pyplot as plt\n",
    "import numpy as np\n",
    "import pandas as pd\n",
    "import cobra\n",
    "\n",
    "from yeast8model import Yeast8Model"
   ]
  },
  {
   "cell_type": "markdown",
   "id": "0f912b14",
   "metadata": {},
   "source": [
    "# Construct models of cells of interest"
   ]
  },
  {
   "cell_type": "code",
   "execution_count": null,
   "id": "8f4c766c",
   "metadata": {},
   "outputs": [],
   "source": [
    "glc_exch_rate = 16.89\n",
    "wt_ec = Yeast8Model(\"./models/ecYeastGEM_batch_8-6-0.xml\")\n",
    "wt_ec.model.reactions.get_by_id(\"r_1714\").bounds = (-glc_exch_rate, 0)\n",
    "wt_ec.model.reactions.get_by_id(\"r_1714_REV\").bounds = (0, glc_exch_rate)"
   ]
  },
  {
   "cell_type": "code",
   "execution_count": null,
   "id": "a4903d89",
   "metadata": {},
   "outputs": [],
   "source": [
    "from yeast8model import biomass_component_list_orig\n",
    "\n",
    "glucose_bounds = (-4.75, 0) # gives a sensible growth rate for wt\n",
    "wt_y8 = Yeast8Model(\"./models/yeast-GEM_8-6-0.xml\", growth_id=\"r_2111\", biomass_id=\"r_4041\")\n",
    "wt_y8.biomass_component_list = biomass_component_list_orig\n",
    "wt_y8.model.reactions.r_1714.bounds = glucose_bounds\n",
    "wt_y8.add_media_components(['r_1992'])"
   ]
  },
  {
   "cell_type": "markdown",
   "id": "e1104974",
   "metadata": {},
   "source": [
    "# Effect of flux constraints"
   ]
  },
  {
   "cell_type": "code",
   "execution_count": null,
   "id": "2c475f5c",
   "metadata": {},
   "outputs": [],
   "source": [
    "from yeast8model import get_ablation_ratio"
   ]
  },
  {
   "cell_type": "code",
   "execution_count": null,
   "id": "c7b3790f",
   "metadata": {},
   "outputs": [],
   "source": [
    "# Step down, because 'phantom' values or copying issues (that I don't want to fix)\n",
    "fractions = np.linspace(1, 0, num=6)"
   ]
  },
  {
   "cell_type": "markdown",
   "id": "88a0f7ac",
   "metadata": {},
   "source": [
    "## Enzyme-constrained"
   ]
  },
  {
   "cell_type": "markdown",
   "id": "a3e5ef1a",
   "metadata": {},
   "source": [
    "Get sum of absolute values in 'vanilla' FBA"
   ]
  },
  {
   "cell_type": "code",
   "execution_count": null,
   "id": "82263619",
   "metadata": {},
   "outputs": [],
   "source": [
    "sol = wt_ec.optimize()\n",
    "orig_flux_sum = sol.fluxes.abs().sum()"
   ]
  },
  {
   "cell_type": "markdown",
   "id": "443b9432",
   "metadata": {},
   "source": [
    "Sweep constraint value, see if it affects ablation.\n",
    "\n",
    "Note: may have to re-initialise the model before running these."
   ]
  },
  {
   "cell_type": "code",
   "execution_count": null,
   "id": "d26ffd87",
   "metadata": {},
   "outputs": [],
   "source": [
    "upper_bound_list = []\n",
    "flux_sum_list = []\n",
    "ratio_list = []\n",
    "\n",
    "for fraction in fractions:\n",
    "    ub = fraction*orig_flux_sum\n",
    "    wt_ec.set_flux_constraint(upper_bound=ub)\n",
    "    sol = wt_ec.optimize()\n",
    "    abl_res = wt_ec.ablate()\n",
    "    ratio = get_ablation_ratio(abl_res)\n",
    "    upper_bound_list.append(ub)\n",
    "    flux_sum_list.append(sol.fluxes.abs().sum())\n",
    "    ratio_list.append(ratio)"
   ]
  },
  {
   "cell_type": "code",
   "execution_count": null,
   "id": "dc1e15fa",
   "metadata": {},
   "outputs": [],
   "source": [
    "fig, ax = plt.subplots()\n",
    "ax.plot(fractions, upper_bound_list, label='Set upper bound for sum of absolute values')\n",
    "ax.plot(fractions, flux_sum_list, label='Sum of absolute values')\n",
    "ax.set_xlabel('Fraction of original sum of absolute values of fluxes')\n",
    "ax.set_ylabel('Value')\n",
    "ax.legend()"
   ]
  },
  {
   "cell_type": "code",
   "execution_count": null,
   "id": "997de6e9",
   "metadata": {},
   "outputs": [],
   "source": [
    "fig, ax = plt.subplots()\n",
    "ax.plot(fractions, ratio_list, 'o-', label='Ratio')\n",
    "ax.set_xlabel('Fraction of original sum of absolute values of fluxes')\n",
    "ax.set_ylabel('Ratio')\n",
    "ax.legend()"
   ]
  },
  {
   "cell_type": "markdown",
   "id": "fec1619a",
   "metadata": {},
   "source": [
    "Grid"
   ]
  },
  {
   "cell_type": "code",
   "execution_count": null,
   "id": "751ecb6d",
   "metadata": {},
   "outputs": [],
   "source": [
    "exch_rate_dict = {\n",
    "    \"r_1714\": np.linspace(0, 2*8.45, 4), # glucose\n",
    "    \"r_1654\": np.linspace(0, 2*1.45, 4), # ammonium\n",
    "}"
   ]
  },
  {
   "cell_type": "code",
   "execution_count": null,
   "id": "b94dc473",
   "metadata": {},
   "outputs": [],
   "source": [
    "ablation_result_array_list = []\n",
    "\n",
    "for fraction in fractions:\n",
    "    ub = fraction*orig_flux_sum\n",
    "    wt_ec.set_flux_constraint(upper_bound=ub)\n",
    "    sol = wt_ec.optimize()\n",
    "    ablation_result_array = wt_ec.ablation_grid(exch_rate_dict)\n",
    "    ablation_result_array_list.append(ablation_result_array)"
   ]
  },
  {
   "cell_type": "code",
   "execution_count": null,
   "id": "6368819a",
   "metadata": {},
   "outputs": [],
   "source": [
    "from yeast8model import heatmap_ablation_grid, vget_ablation_ratio"
   ]
  },
  {
   "cell_type": "code",
   "execution_count": null,
   "id": "5ce7f3a8",
   "metadata": {
    "scrolled": false
   },
   "outputs": [],
   "source": [
    "grid_xlabel_leader='Glucose exchange'\n",
    "grid_ylabel_leader='Ammonium exchange'\n",
    "\n",
    "xmax = np.max(list(exch_rate_dict.values())[0])\n",
    "ymax = np.max(list(exch_rate_dict.values())[0])\n",
    "grid_xlabel = f\"{grid_xlabel_leader} (% max = {xmax:.2f})\"\n",
    "grid_ylabel = f\"{grid_ylabel_leader} (% max = {ymax:.2f})\"\n",
    "\n",
    "nsubfig = len(fractions)\n",
    "fig, ax = plt.subplots(nrows=nsubfig, ncols=1, figsize=(7,6*nsubfig))\n",
    "\n",
    "for idx, fraction in enumerate(fractions):\n",
    "    ratio_array = vget_ablation_ratio(ablation_result_array_list[idx])\n",
    "    heatmap_ablation_grid(\n",
    "        ax[idx], exch_rate_dict, ratio_array, percent_saturation=True, vmin=0.5, vmax=1.5\n",
    "    )\n",
    "    ax[idx].set_xlabel(grid_xlabel)\n",
    "    ax[idx].set_ylabel(grid_ylabel)\n",
    "    ax[idx].set_title(f'Constraint: {fraction:.3f} of max sum of fluxes')"
   ]
  },
  {
   "cell_type": "markdown",
   "id": "44433685",
   "metadata": {},
   "source": [
    "## Non-ec"
   ]
  },
  {
   "cell_type": "code",
   "execution_count": null,
   "id": "ea0f080e",
   "metadata": {},
   "outputs": [],
   "source": [
    "sol = wt_y8.optimize()\n",
    "orig_flux_sum = sol.fluxes.abs().sum()"
   ]
  },
  {
   "cell_type": "code",
   "execution_count": null,
   "id": "7b00bff9",
   "metadata": {},
   "outputs": [],
   "source": [
    "upper_bound_list = []\n",
    "flux_sum_list = []\n",
    "ratio_list = []\n",
    "\n",
    "for fraction in fractions:\n",
    "    ub = fraction*orig_flux_sum\n",
    "    wt_y8.set_flux_constraint(upper_bound=ub)\n",
    "    sol = wt_y8.optimize()\n",
    "    abl_res = wt_y8.ablate()\n",
    "    ratio = get_ablation_ratio(abl_res)\n",
    "    upper_bound_list.append(ub)\n",
    "    flux_sum_list.append(sol.fluxes.abs().sum())\n",
    "    ratio_list.append(ratio)"
   ]
  },
  {
   "cell_type": "code",
   "execution_count": null,
   "id": "35d05919",
   "metadata": {},
   "outputs": [],
   "source": [
    "fig, ax = plt.subplots()\n",
    "ax.plot(fractions, upper_bound_list, label='Set upper bound for sum of absolute values')\n",
    "ax.plot(fractions, flux_sum_list, label='Sum of absolute values')\n",
    "ax.set_xlabel('Fraction of original sum of absolute values of fluxes')\n",
    "ax.set_ylabel('Value')\n",
    "ax.legend()"
   ]
  },
  {
   "cell_type": "code",
   "execution_count": null,
   "id": "850406e3",
   "metadata": {},
   "outputs": [],
   "source": [
    "fig, ax = plt.subplots()\n",
    "ax.plot(fractions, ratio_list, 'o-', label='Ratio')\n",
    "ax.set_xlabel('Fraction of original sum of absolute values of fluxes')\n",
    "ax.set_ylabel('Ratio')\n",
    "ax.legend()"
   ]
  },
  {
   "cell_type": "markdown",
   "id": "c46b76a6",
   "metadata": {},
   "source": [
    "Grid"
   ]
  },
  {
   "cell_type": "code",
   "execution_count": null,
   "id": "3281f0db",
   "metadata": {},
   "outputs": [],
   "source": [
    "exch_rate_dict = {\n",
    "    \"r_1714\": np.linspace(0, 2*4.75, 4), # glucose\n",
    "    \"r_1654\": np.linspace(0, 2*2.88, 4), # ammonium\n",
    "}"
   ]
  },
  {
   "cell_type": "code",
   "execution_count": null,
   "id": "a743b593",
   "metadata": {},
   "outputs": [],
   "source": [
    "ablation_result_array_list = []\n",
    "\n",
    "for fraction in fractions:\n",
    "    ub = fraction*orig_flux_sum\n",
    "    wt_y8.set_flux_constraint(upper_bound=ub)\n",
    "    sol = wt_y8.optimize()\n",
    "    ablation_result_array = wt_y8.ablation_grid(exch_rate_dict)\n",
    "    ablation_result_array_list.append(ablation_result_array)"
   ]
  },
  {
   "cell_type": "code",
   "execution_count": null,
   "id": "b1b81bf6",
   "metadata": {},
   "outputs": [],
   "source": [
    "grid_xlabel_leader='Glucose exchange'\n",
    "grid_ylabel_leader='Ammonium exchange'\n",
    "\n",
    "xmax = np.max(list(exch_rate_dict.values())[0])\n",
    "ymax = np.max(list(exch_rate_dict.values())[0])\n",
    "grid_xlabel = f\"{grid_xlabel_leader} (% max = {xmax:.2f})\"\n",
    "grid_ylabel = f\"{grid_ylabel_leader} (% max = {ymax:.2f})\"\n",
    "\n",
    "nsubfig = len(fractions)\n",
    "fig, ax = plt.subplots(nrows=nsubfig, ncols=1, figsize=(7,6*nsubfig))\n",
    "\n",
    "for idx, fraction in enumerate(fractions):\n",
    "    ratio_array = vget_ablation_ratio(ablation_result_array_list[idx])\n",
    "    heatmap_ablation_grid(\n",
    "        ax[idx], exch_rate_dict, ratio_array, percent_saturation=True, vmin=0.5, vmax=1.5\n",
    "    )\n",
    "    ax[idx].set_xlabel(grid_xlabel)\n",
    "    ax[idx].set_ylabel(grid_ylabel)\n",
    "    ax[idx].set_title(f'Constraint: {fraction:.3f} of max sum of fluxes')"
   ]
  }
 ],
 "metadata": {
  "kernelspec": {
   "display_name": "fba",
   "language": "python",
   "name": "fba"
  },
  "language_info": {
   "codemirror_mode": {
    "name": "ipython",
    "version": 3
   },
   "file_extension": ".py",
   "mimetype": "text/x-python",
   "name": "python",
   "nbconvert_exporter": "python",
   "pygments_lexer": "ipython3",
   "version": "3.8.14"
  }
 },
 "nbformat": 4,
 "nbformat_minor": 5
}

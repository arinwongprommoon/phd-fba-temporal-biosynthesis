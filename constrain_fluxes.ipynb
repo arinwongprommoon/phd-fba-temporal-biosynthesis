{
 "cells": [
  {
   "cell_type": "markdown",
   "id": "7bdf4897",
   "metadata": {},
   "source": [
    "Import dependencies"
   ]
  },
  {
   "cell_type": "code",
   "execution_count": null,
   "id": "1ae365d7",
   "metadata": {},
   "outputs": [],
   "source": [
    "%reload_ext autoreload\n",
    "%autoreload 1\n",
    "%matplotlib inline\n",
    "\n",
    "import matplotlib.pyplot as plt\n",
    "import numpy as np\n",
    "import pandas as pd\n",
    "import cobra\n",
    "\n",
    "from yeast8model import Yeast8Model"
   ]
  },
  {
   "cell_type": "markdown",
   "id": "0f912b14",
   "metadata": {},
   "source": [
    "# Construct models of cells of interest"
   ]
  },
  {
   "cell_type": "code",
   "execution_count": null,
   "id": "8f4c766c",
   "metadata": {},
   "outputs": [],
   "source": [
    "glc_exch_rate = 16.89\n",
    "wt_ec = Yeast8Model(\"./models/ecYeastGEM_batch_8-6-0.xml\")\n",
    "wt_ec.model.reactions.get_by_id(\"r_1714\").bounds = (-glc_exch_rate, 0)\n",
    "wt_ec.model.reactions.get_by_id(\"r_1714_REV\").bounds = (0, glc_exch_rate)"
   ]
  },
  {
   "cell_type": "code",
   "execution_count": null,
   "id": "a4903d89",
   "metadata": {},
   "outputs": [],
   "source": [
    "from yeast8model import biomass_component_list_orig\n",
    "\n",
    "glucose_bounds = (-4.75, 0) # gives a sensible growth rate for wt\n",
    "wt_y8 = Yeast8Model(\"./models/yeast-GEM_8-6-0.xml\", growth_id=\"r_2111\", biomass_id=\"r_4041\")\n",
    "wt_y8.biomass_component_list = biomass_component_list_orig\n",
    "wt_y8.model.reactions.r_1714.bounds = glucose_bounds\n",
    "wt_y8.add_media_components(['r_1992'])"
   ]
  },
  {
   "cell_type": "markdown",
   "id": "e1104974",
   "metadata": {},
   "source": [
    "# Effect of flux constraints"
   ]
  },
  {
   "cell_type": "code",
   "execution_count": null,
   "id": "2c475f5c",
   "metadata": {},
   "outputs": [],
   "source": [
    "from yeast8model import get_ablation_ratio"
   ]
  },
  {
   "cell_type": "markdown",
   "id": "9d887557",
   "metadata": {},
   "source": [
    "Convenience functions"
   ]
  },
  {
   "cell_type": "code",
   "execution_count": null,
   "id": "7b49748c",
   "metadata": {},
   "outputs": [],
   "source": [
    "def cf_vs_gr(ymodel, fractions):\n",
    "    # get original flux sum\n",
    "    sol = ymodel.optimize()\n",
    "    orig_flux_sum = sol.fluxes.abs().sum()\n",
    "    \n",
    "    gr_list = []\n",
    "    ratio_list = []\n",
    "    for fraction in fractions:\n",
    "        # impose flux constraint\n",
    "        ub = fraction*orig_flux_sum\n",
    "        ymodel.set_flux_constraint(upper_bound=ub)\n",
    "        sol = ymodel.optimize()\n",
    "        # ablate & ratio\n",
    "        abl_res = ymodel.ablate()\n",
    "        ratio = get_ablation_ratio(abl_res)\n",
    "        # append lists\n",
    "        gr_list.append(sol.fluxes['r_2111'])\n",
    "        ratio_list.append(ratio)\n",
    "        \n",
    "    return gr_list, ratio_list"
   ]
  },
  {
   "cell_type": "markdown",
   "id": "f2dd2f32",
   "metadata": {},
   "source": [
    "## Parameters"
   ]
  },
  {
   "cell_type": "code",
   "execution_count": null,
   "id": "c7b3790f",
   "metadata": {},
   "outputs": [],
   "source": [
    "# Step down, because 'phantom' values or copying issues (that I don't want to fix)\n",
    "fractions = np.linspace(1, 0, num=51)"
   ]
  },
  {
   "cell_type": "markdown",
   "id": "88a0f7ac",
   "metadata": {},
   "source": [
    "## Enzyme-constrained"
   ]
  },
  {
   "cell_type": "markdown",
   "id": "443b9432",
   "metadata": {},
   "source": [
    "Get sum of absolute values in 'vanilla' FBA.\n",
    "\n",
    "Then, sweep constraint value, see if it affects ablation.\n",
    "\n",
    "Note: re-initialise the model before (re-)running these."
   ]
  },
  {
   "cell_type": "code",
   "execution_count": null,
   "id": "28af30e4",
   "metadata": {
    "scrolled": true
   },
   "outputs": [],
   "source": [
    "gr_list, ratio_list = cf_vs_gr(wt_ec, fractions)"
   ]
  },
  {
   "cell_type": "code",
   "execution_count": null,
   "id": "b1b0b2e6",
   "metadata": {},
   "outputs": [],
   "source": [
    "fig, ax = plt.subplots()\n",
    "ax.plot(fractions, gr_list, 'o-')\n",
    "ax.set_xlabel('Fraction of original sum of absolute values of fluxes')\n",
    "ax.set_ylabel('Growth rate')\n",
    "ax.set_xlim((0,1))\n",
    "ax.set_ylim((0,0.5))"
   ]
  },
  {
   "cell_type": "code",
   "execution_count": null,
   "id": "997de6e9",
   "metadata": {},
   "outputs": [],
   "source": [
    "fig, ax = plt.subplots()\n",
    "ax.plot(fractions, ratio_list, 'o-')\n",
    "ax.set_xlabel('Fraction of original sum of absolute values of fluxes')\n",
    "ax.set_ylabel('Ratio')\n",
    "ax.set_xlim((0,1))\n",
    "ax.set_ylim((0,1.4))"
   ]
  },
  {
   "cell_type": "code",
   "execution_count": null,
   "id": "4f5e0b13",
   "metadata": {},
   "outputs": [],
   "source": [
    "ratio_list"
   ]
  },
  {
   "cell_type": "markdown",
   "id": "44433685",
   "metadata": {},
   "source": [
    "## Non-ec"
   ]
  },
  {
   "cell_type": "code",
   "execution_count": null,
   "id": "17e6405d",
   "metadata": {},
   "outputs": [],
   "source": [
    "gr_list, ratio_list = cf_vs_gr(wt_y8, fractions)"
   ]
  },
  {
   "cell_type": "code",
   "execution_count": null,
   "id": "192c259f",
   "metadata": {},
   "outputs": [],
   "source": [
    "fig, ax = plt.subplots()\n",
    "ax.plot(fractions, gr_list, 'o-')\n",
    "ax.set_xlabel('Fraction of original sum of absolute values of fluxes')\n",
    "ax.set_ylabel('Growth rate')\n",
    "ax.set_xlim((0,1))\n",
    "ax.set_ylim((0,0.5))"
   ]
  },
  {
   "cell_type": "code",
   "execution_count": null,
   "id": "10a2c1d6",
   "metadata": {},
   "outputs": [],
   "source": [
    "fig, ax = plt.subplots()\n",
    "ax.plot(fractions, ratio_list, 'o-')\n",
    "ax.set_xlabel('Fraction of original sum of absolute values of fluxes')\n",
    "ax.set_ylabel('Ratio')\n",
    "ax.set_xlim((0,1))\n",
    "ax.set_ylim((0,1.4))"
   ]
  },
  {
   "cell_type": "markdown",
   "id": "2966e742",
   "metadata": {},
   "source": [
    "# Unused"
   ]
  },
  {
   "cell_type": "code",
   "execution_count": null,
   "id": "71068114",
   "metadata": {},
   "outputs": [],
   "source": [
    "upper_bound_list = []\n",
    "flux_sum_list = []\n",
    "ratio_list = []\n",
    "\n",
    "for fraction in fractions:\n",
    "    ub = fraction*orig_flux_sum\n",
    "    wt_ec.set_flux_constraint(upper_bound=ub)\n",
    "    sol = wt_ec.optimize()\n",
    "    abl_res = wt_ec.ablate()\n",
    "    ratio = get_ablation_ratio(abl_res)\n",
    "    upper_bound_list.append(ub)\n",
    "    flux_sum_list.append(sol.fluxes.abs().sum())\n",
    "    ratio_list.append(ratio)"
   ]
  }
 ],
 "metadata": {
  "kernelspec": {
   "display_name": "fba",
   "language": "python",
   "name": "fba"
  },
  "language_info": {
   "codemirror_mode": {
    "name": "ipython",
    "version": 3
   },
   "file_extension": ".py",
   "mimetype": "text/x-python",
   "name": "python",
   "nbconvert_exporter": "python",
   "pygments_lexer": "ipython3",
   "version": "3.8.14"
  }
 },
 "nbformat": 4,
 "nbformat_minor": 5
}

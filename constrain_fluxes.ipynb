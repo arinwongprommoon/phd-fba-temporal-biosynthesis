{
 "cells": [
  {
   "cell_type": "markdown",
   "id": "153dead8",
   "metadata": {},
   "source": [
    "Import dependencies"
   ]
  },
  {
   "cell_type": "code",
   "execution_count": null,
   "id": "82f29f05",
   "metadata": {},
   "outputs": [],
   "source": [
    "%reload_ext autoreload\n",
    "%autoreload 1\n",
    "%matplotlib inline\n",
    "\n",
    "import matplotlib.pyplot as plt\n",
    "import numpy as np\n",
    "import pandas as pd\n",
    "import cobra\n",
    "\n",
    "from yeast8model import Yeast8Model"
   ]
  },
  {
   "cell_type": "markdown",
   "id": "2606e82e",
   "metadata": {},
   "source": [
    "# Construct models of cells of interest"
   ]
  },
  {
   "cell_type": "code",
   "execution_count": null,
   "id": "bfa01ca4",
   "metadata": {},
   "outputs": [],
   "source": [
    "glc_exch_rate = 16.89\n",
    "wt_ec = Yeast8Model(\"./models/ecYeastGEM_batch_8-6-0.xml\")\n",
    "wt_ec.model.reactions.get_by_id(\"r_1714\").bounds = (-glc_exch_rate, 0)\n",
    "wt_ec.model.reactions.get_by_id(\"r_1714_REV\").bounds = (0, glc_exch_rate)"
   ]
  },
  {
   "cell_type": "code",
   "execution_count": null,
   "id": "b334d386",
   "metadata": {},
   "outputs": [],
   "source": [
    "from yeast8model import biomass_component_list_orig\n",
    "\n",
    "glucose_bounds = (-4.75, 0) # gives a sensible growth rate for wt\n",
    "wt_y8 = Yeast8Model(\"./models/yeast-GEM_8-6-0.xml\", growth_id=\"r_2111\", biomass_id=\"r_4041\")\n",
    "wt_y8.biomass_component_list = biomass_component_list_orig\n",
    "wt_y8.model.reactions.r_1714.bounds = glucose_bounds\n",
    "wt_y8.add_media_components(['r_1992'])"
   ]
  },
  {
   "cell_type": "markdown",
   "id": "74de4c63",
   "metadata": {},
   "source": [
    "# Effect of flux constraints"
   ]
  },
  {
   "cell_type": "code",
   "execution_count": null,
   "id": "f11f56b1",
   "metadata": {},
   "outputs": [],
   "source": [
    "from yeast8model import get_ablation_ratio"
   ]
  },
  {
   "cell_type": "markdown",
   "id": "f8335008",
   "metadata": {},
   "source": [
    "Get sum of absolute values in 'vanilla' FBA"
   ]
  },
  {
   "cell_type": "code",
   "execution_count": null,
   "id": "4fe30045",
   "metadata": {},
   "outputs": [],
   "source": [
    "sol = wt_ec.optimize()\n",
    "orig_flux_sum = sol.fluxes.abs().sum()"
   ]
  },
  {
   "cell_type": "markdown",
   "id": "336b33b0",
   "metadata": {},
   "source": [
    "Sweep constraint value, see if it affects ablation.\n",
    "\n",
    "Note: may have to re-initialise the model before running these."
   ]
  },
  {
   "cell_type": "code",
   "execution_count": null,
   "id": "0bb703b6",
   "metadata": {},
   "outputs": [],
   "source": [
    "# Step down, because 'phantom' values or copying issues (that I don't want to fix)\n",
    "fractions = np.linspace(1, 0, num=11)"
   ]
  },
  {
   "cell_type": "code",
   "execution_count": null,
   "id": "5784690f",
   "metadata": {},
   "outputs": [],
   "source": [
    "for fraction in fractions:\n",
    "    ub = fraction*orig_flux_sum\n",
    "    wt_ec.set_flux_constraint(upper_bound=ub)\n",
    "    sol = wt_ec.optimize()\n",
    "    abl_res = wt_ec.ablate()\n",
    "    ratio = get_ablation_ratio(abl_res)\n",
    "    print(f'upper bound: {ub}')\n",
    "    print(f'sum of abs of fluxes: {sol.fluxes.abs().sum()}')\n",
    "    print(f'ratio: {ratio}')"
   ]
  }
 ],
 "metadata": {
  "kernelspec": {
   "display_name": "fba",
   "language": "python",
   "name": "fba"
  },
  "language_info": {
   "codemirror_mode": {
    "name": "ipython",
    "version": 3
   },
   "file_extension": ".py",
   "mimetype": "text/x-python",
   "name": "python",
   "nbconvert_exporter": "python",
   "pygments_lexer": "ipython3",
   "version": "3.8.14"
  }
 },
 "nbformat": 4,
 "nbformat_minor": 5
}

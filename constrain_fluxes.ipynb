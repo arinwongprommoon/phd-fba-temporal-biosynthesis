{
 "cells": [
  {
   "cell_type": "markdown",
   "id": "7bdf4897",
   "metadata": {},
   "source": [
    "Import dependencies"
   ]
  },
  {
   "cell_type": "code",
   "execution_count": null,
   "id": "1ae365d7",
   "metadata": {},
   "outputs": [],
   "source": [
    "%reload_ext autoreload\n",
    "%autoreload 1\n",
    "%matplotlib inline\n",
    "\n",
    "import matplotlib.pyplot as plt\n",
    "import numpy as np\n",
    "import pandas as pd\n",
    "import cobra\n",
    "\n",
    "from yeast8model import Yeast8Model"
   ]
  },
  {
   "cell_type": "markdown",
   "id": "0f912b14",
   "metadata": {},
   "source": [
    "# Construct models of cells of interest"
   ]
  },
  {
   "cell_type": "code",
   "execution_count": null,
   "id": "8f4c766c",
   "metadata": {},
   "outputs": [],
   "source": [
    "glc_exch_rate = 16.89\n",
    "wt_ec = Yeast8Model(\"./models/ecYeastGEM_batch_8-6-0.xml\")\n",
    "wt_ec.model.reactions.get_by_id(\"r_1714\").bounds = (-glc_exch_rate, 0)\n",
    "wt_ec.model.reactions.get_by_id(\"r_1714_REV\").bounds = (0, glc_exch_rate)"
   ]
  },
  {
   "cell_type": "code",
   "execution_count": null,
   "id": "a4903d89",
   "metadata": {},
   "outputs": [],
   "source": [
    "from yeast8model import biomass_component_list_orig\n",
    "\n",
    "glucose_bounds = (-4.75, 0) # gives a sensible growth rate for wt\n",
    "wt_y8 = Yeast8Model(\"./models/yeast-GEM_8-6-0.xml\", growth_id=\"r_2111\", biomass_id=\"r_4041\")\n",
    "wt_y8.biomass_component_list = biomass_component_list_orig\n",
    "wt_y8.model.reactions.r_1714.bounds = glucose_bounds\n",
    "wt_y8.add_media_components(['r_1992'])"
   ]
  },
  {
   "cell_type": "markdown",
   "id": "e1104974",
   "metadata": {},
   "source": [
    "# Effect of flux constraints"
   ]
  },
  {
   "cell_type": "code",
   "execution_count": null,
   "id": "2c475f5c",
   "metadata": {},
   "outputs": [],
   "source": [
    "from yeast8model import get_ablation_ratio"
   ]
  },
  {
   "cell_type": "markdown",
   "id": "a3e5ef1a",
   "metadata": {},
   "source": [
    "Get sum of absolute values in 'vanilla' FBA"
   ]
  },
  {
   "cell_type": "code",
   "execution_count": null,
   "id": "82263619",
   "metadata": {},
   "outputs": [],
   "source": [
    "sol = wt_ec.optimize()\n",
    "orig_flux_sum = sol.fluxes.abs().sum()"
   ]
  },
  {
   "cell_type": "markdown",
   "id": "443b9432",
   "metadata": {},
   "source": [
    "Sweep constraint value, see if it affects ablation.\n",
    "\n",
    "Note: may have to re-initialise the model before running these."
   ]
  },
  {
   "cell_type": "code",
   "execution_count": null,
   "id": "f1aaf73e",
   "metadata": {},
   "outputs": [],
   "source": [
    "# Step down, because 'phantom' values or copying issues (that I don't want to fix)\n",
    "fractions = np.linspace(1, 0, num=11)"
   ]
  },
  {
   "cell_type": "code",
   "execution_count": null,
   "id": "d26ffd87",
   "metadata": {},
   "outputs": [],
   "source": [
    "upper_bound_list = []\n",
    "flux_sum_list = []\n",
    "ratio_list = []\n",
    "\n",
    "for fraction in fractions:\n",
    "    ub = fraction*orig_flux_sum\n",
    "    wt_ec.set_flux_constraint(upper_bound=ub)\n",
    "    sol = wt_ec.optimize()\n",
    "    abl_res = wt_ec.ablate()\n",
    "    ratio = get_ablation_ratio(abl_res)\n",
    "    upper_bound_list.append(ub)\n",
    "    flux_sum_list.append(sol.fluxes.abs().sum())\n",
    "    ratio_list.append(ratio)"
   ]
  },
  {
   "cell_type": "code",
   "execution_count": null,
   "id": "dc1e15fa",
   "metadata": {},
   "outputs": [],
   "source": [
    "fig, ax = plt.subplots()\n",
    "ax.plot(fractions, upper_bound_list, label='Set upper bound for sum of absolute values')\n",
    "ax.plot(fractions, flux_sum_list, label='Sum of absolute values')\n",
    "ax.set_xlabel('Fraction of sum of absolute values, without constraint')\n",
    "ax.set_ylabel('Value')\n",
    "ax.legend()"
   ]
  },
  {
   "cell_type": "code",
   "execution_count": null,
   "id": "997de6e9",
   "metadata": {},
   "outputs": [],
   "source": [
    "fig, ax = plt.subplots()\n",
    "ax.plot(fractions, ratio_list, label='Ratio')\n",
    "ax.set_xlabel('Fraction of sum of absolute values, without constraint')\n",
    "ax.set_ylabel('Ratio')\n",
    "ax.legend()"
   ]
  }
 ],
 "metadata": {
  "kernelspec": {
   "display_name": "fba",
   "language": "python",
   "name": "fba"
  },
  "language_info": {
   "codemirror_mode": {
    "name": "ipython",
    "version": 3
   },
   "file_extension": ".py",
   "mimetype": "text/x-python",
   "name": "python",
   "nbconvert_exporter": "python",
   "pygments_lexer": "ipython3",
   "version": "3.8.14"
  }
 },
 "nbformat": 4,
 "nbformat_minor": 5
}

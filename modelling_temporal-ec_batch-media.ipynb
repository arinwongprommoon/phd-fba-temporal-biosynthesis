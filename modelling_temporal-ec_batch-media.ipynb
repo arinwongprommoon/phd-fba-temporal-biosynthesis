{
 "cells": [
  {
   "cell_type": "markdown",
   "id": "98316e56",
   "metadata": {},
   "source": [
    "Import dependencies"
   ]
  },
  {
   "cell_type": "code",
   "execution_count": null,
   "id": "03a24339",
   "metadata": {},
   "outputs": [],
   "source": [
    "%reload_ext autoreload\n",
    "%autoreload 1\n",
    "%matplotlib inline\n",
    "\n",
    "import matplotlib.pyplot as plt\n",
    "import numpy as np\n",
    "import cobra\n",
    "import escher"
   ]
  },
  {
   "cell_type": "markdown",
   "id": "5bbc1424",
   "metadata": {},
   "source": [
    "# Load model"
   ]
  },
  {
   "cell_type": "markdown",
   "id": "1fd2afd1",
   "metadata": {},
   "source": [
    "Choose from alternatives"
   ]
  },
  {
   "cell_type": "code",
   "execution_count": null,
   "id": "4c9aa36d",
   "metadata": {},
   "outputs": [],
   "source": [
    "# Yeast 8\n",
    "model = cobra.io.read_sbml_model(\"./models/yeast-GEM-BiGG.xml\")"
   ]
  },
  {
   "cell_type": "code",
   "execution_count": null,
   "id": "3372fd9a",
   "metadata": {},
   "outputs": [],
   "source": [
    "# Enzyme-constrained Yeast 8, batch\n",
    "# https://github.com/SysBioChalmers/ecModels/tree/main/ecYeastGEM/model\n",
    "# This is supposed under CI, i.e.\n",
    "# automatically re-generated and updated when new models are available.\n",
    "# This model is based on Yeast8.3.4\n",
    "\n",
    "# Average enzyme saturation factor (sigma) = 0.5\n",
    "# Total protein content in the cell [g protein/gDw] (Ptot) = 0.5\n",
    "# Fraction of enzymes in the model [g enzyme/g protein] (f) = 0.5\n",
    "# https://github.com/SysBioChalmers/GECKO/blob/main/userData/ecYeastGEM/YeastGEMAdapter.m\n",
    "model = cobra.io.read_sbml_model(\"./models/ecYeastGEM_batch.xml\")"
   ]
  },
  {
   "cell_type": "markdown",
   "id": "5b4fcf41",
   "metadata": {},
   "source": [
    "Show model"
   ]
  },
  {
   "cell_type": "code",
   "execution_count": null,
   "id": "76a11d19",
   "metadata": {},
   "outputs": [],
   "source": [
    "model"
   ]
  },
  {
   "cell_type": "markdown",
   "id": "9b2aed99",
   "metadata": {},
   "source": [
    "# Objective function"
   ]
  },
  {
   "cell_type": "markdown",
   "id": "05ab72f6",
   "metadata": {},
   "source": [
    "In the ecYeast8 (batch) model, the objective function -- growth -- is reaction ID `r_2111`.\n",
    "\n",
    "This reaction is linked to the biomass reaction, ID `r_4041`.\n",
    "\n",
    "Here, we also see the stoichiometry.  There are five classes of macromolecules: lipids, proteins, carbohydrates, DNA, and RNA.  And there are two other bulk metabolites: cofactor and ion."
   ]
  },
  {
   "cell_type": "code",
   "execution_count": null,
   "id": "7fa4b7b5",
   "metadata": {},
   "outputs": [],
   "source": [
    "model.reactions.get_by_id('r_2111')"
   ]
  },
  {
   "cell_type": "code",
   "execution_count": null,
   "id": "462669cf",
   "metadata": {},
   "outputs": [],
   "source": [
    "model.reactions.get_by_id('r_4041')"
   ]
  },
  {
   "cell_type": "markdown",
   "id": "23541b72",
   "metadata": {},
   "source": [
    "Remove bounds on glucose uptake and growth rate"
   ]
  },
  {
   "cell_type": "code",
   "execution_count": null,
   "id": "156e478b",
   "metadata": {},
   "outputs": [],
   "source": [
    "# (no need because bounds are already unrestricted)\n",
    "# Unrestrict glucose uptake\n",
    "model.reactions.get_by_id('r_1714').bounds = (-1000.0, 0)\n",
    "# Unrestrict oxygen uptake (aerobic)\n",
    "model.reactions.get_by_id('r_1992').bounds = (-1000.0, 0)\n",
    "# Unrestrict objective function\n",
    "model.reactions.get_by_id('r_4041').bounds = (0, 1000.0)"
   ]
  },
  {
   "cell_type": "markdown",
   "id": "764030fa",
   "metadata": {},
   "source": [
    "Optimise using (vanilla) FBA"
   ]
  },
  {
   "cell_type": "code",
   "execution_count": null,
   "id": "fb8fc7c2",
   "metadata": {},
   "outputs": [],
   "source": [
    "solution = model.optimize()"
   ]
  },
  {
   "cell_type": "code",
   "execution_count": null,
   "id": "0d090c5a",
   "metadata": {},
   "outputs": [],
   "source": [
    "model.summary()"
   ]
  },
  {
   "cell_type": "code",
   "execution_count": null,
   "id": "e03ed86e",
   "metadata": {},
   "outputs": [],
   "source": [
    "doubling_time = np.log(2)/solution.fluxes['r_2111']\n",
    "doubling_time"
   ]
  },
  {
   "cell_type": "markdown",
   "id": "e76f2fef",
   "metadata": {},
   "source": [
    "> Doubling time is predicted to be 1.84 hours.  Experimental data suggests 1.5 hours."
   ]
  },
  {
   "cell_type": "markdown",
   "id": "6d7dc9be",
   "metadata": {},
   "source": [
    "Linear reaction coefficients"
   ]
  },
  {
   "cell_type": "code",
   "execution_count": null,
   "id": "a9997f71",
   "metadata": {},
   "outputs": [],
   "source": [
    "cobra.util.solver.linear_reaction_coefficients(model)"
   ]
  },
  {
   "cell_type": "markdown",
   "id": "adfacf46",
   "metadata": {},
   "source": [
    "# Change media"
   ]
  },
  {
   "cell_type": "markdown",
   "id": "c68bd9c0",
   "metadata": {},
   "source": [
    "Show medium"
   ]
  },
  {
   "cell_type": "code",
   "execution_count": null,
   "id": "05cb8827",
   "metadata": {},
   "outputs": [],
   "source": [
    "model.medium"
   ]
  },
  {
   "cell_type": "code",
   "execution_count": null,
   "id": "b4849afa",
   "metadata": {},
   "outputs": [],
   "source": [
    "for reaction_id in model.medium.keys():\n",
    "    print(model.reactions.get_by_id(reaction_id).name)"
   ]
  },
  {
   "cell_type": "markdown",
   "id": "ef7a39ca",
   "metadata": {},
   "source": [
    "## Pyruvate"
   ]
  },
  {
   "cell_type": "markdown",
   "id": "83a6f707",
   "metadata": {},
   "source": [
    "Pyruvate exchange is `r_2033`"
   ]
  },
  {
   "cell_type": "code",
   "execution_count": null,
   "id": "9f59bd7e",
   "metadata": {},
   "outputs": [],
   "source": [
    "model.reactions.get_by_id('r_2033')"
   ]
  },
  {
   "cell_type": "markdown",
   "id": "a95da119",
   "metadata": {},
   "source": [
    "Kill glucose uptake, unrestrict pyruvate uptake."
   ]
  },
  {
   "cell_type": "code",
   "execution_count": null,
   "id": "0c0ed9a4",
   "metadata": {},
   "outputs": [],
   "source": [
    "# kill glucose\n",
    "model.reactions.get_by_id('r_1714').bounds = (0, 0)\n",
    "model.reactions.get_by_id('r_1714_REV').bounds = (0, 0)\n",
    "# unrestrict pyruvate\n",
    "model.reactions.get_by_id('r_2033').bounds = (-1000.0, 0)"
   ]
  },
  {
   "cell_type": "markdown",
   "id": "bef9db6b",
   "metadata": {},
   "source": [
    "Solve again"
   ]
  },
  {
   "cell_type": "code",
   "execution_count": null,
   "id": "3359841d",
   "metadata": {},
   "outputs": [],
   "source": [
    "solution = model.optimize()\n",
    "model.summary()"
   ]
  },
  {
   "cell_type": "code",
   "execution_count": null,
   "id": "fa8aab9d",
   "metadata": {},
   "outputs": [],
   "source": [
    "doubling_time = np.log(2)/solution.fluxes['r_2111']\n",
    "doubling_time"
   ]
  },
  {
   "cell_type": "markdown",
   "id": "22eef54f",
   "metadata": {},
   "source": [
    "> Doubling time is predicted to be 2.68 hours.  Experimental data suggests 3-4 hours."
   ]
  },
  {
   "cell_type": "markdown",
   "id": "718e4e83",
   "metadata": {},
   "source": [
    "## Others"
   ]
  },
  {
   "cell_type": "markdown",
   "id": "9a08f7ec",
   "metadata": {},
   "source": [
    "Other media of interest, beyond experiments: ethanol, glycerol, ethanol+glycerol, acetyldehyde/acetate.  These have been used in YMC studies, e.g. with synchrony experiments."
   ]
  },
  {
   "cell_type": "markdown",
   "id": "f189fe1a",
   "metadata": {},
   "source": [
    "Ethanol"
   ]
  },
  {
   "cell_type": "code",
   "execution_count": null,
   "id": "d1365b37",
   "metadata": {},
   "outputs": [],
   "source": [
    "# kill glucose\n",
    "model.reactions.get_by_id('r_1714').bounds = (0, 0)\n",
    "model.reactions.get_by_id('r_1714_REV').bounds = (0, 0)\n",
    "# unrestrict ethanol\n",
    "model.reactions.get_by_id('r_1761').bounds = (-1000, 0)"
   ]
  },
  {
   "cell_type": "markdown",
   "id": "15e4ac0e",
   "metadata": {},
   "source": [
    "Glycerol"
   ]
  },
  {
   "cell_type": "code",
   "execution_count": null,
   "id": "d458aa32",
   "metadata": {},
   "outputs": [],
   "source": [
    "# kill glucose\n",
    "model.reactions.get_by_id('r_1714').bounds = (0, 0)\n",
    "model.reactions.get_by_id('r_1714_REV').bounds = (0, 0)\n",
    "# unrestrict glycerol\n",
    "model.reactions.get_by_id('r_1808').bounds = (-1000, 0)"
   ]
  },
  {
   "cell_type": "markdown",
   "id": "61f5f83a",
   "metadata": {},
   "source": [
    "Ethanol + glycerol"
   ]
  },
  {
   "cell_type": "code",
   "execution_count": null,
   "id": "2f3d916c",
   "metadata": {},
   "outputs": [],
   "source": [
    "# kill glucose\n",
    "model.reactions.get_by_id('r_1714').bounds = (0, 0)\n",
    "model.reactions.get_by_id('r_1714_REV').bounds = (0, 0)\n",
    "# unrestrict ethanol\n",
    "model.reactions.get_by_id('r_1761').bounds = (-1000, 0)\n",
    "# unrestrict glycerol\n",
    "model.reactions.get_by_id('r_1808').bounds = (-1000, 0)"
   ]
  },
  {
   "cell_type": "markdown",
   "id": "68ed562f",
   "metadata": {},
   "source": [
    "Acetaldehyde"
   ]
  },
  {
   "cell_type": "code",
   "execution_count": null,
   "id": "e9d04234",
   "metadata": {},
   "outputs": [],
   "source": [
    "# kill glucose\n",
    "model.reactions.get_by_id('r_1714').bounds = (0, 0)\n",
    "model.reactions.get_by_id('r_1714_REV').bounds = (0, 0)\n",
    "# unrestrict acetaldehyde\n",
    "model.reactions.get_by_id('r_1631').bounds = (-1000, 0)"
   ]
  },
  {
   "cell_type": "markdown",
   "id": "8917de55",
   "metadata": {},
   "source": [
    "Optimise"
   ]
  },
  {
   "cell_type": "code",
   "execution_count": null,
   "id": "8088ff60",
   "metadata": {},
   "outputs": [],
   "source": [
    "solution = model.optimize()\n",
    "model.summary()"
   ]
  },
  {
   "cell_type": "code",
   "execution_count": null,
   "id": "3cbb7ce2",
   "metadata": {},
   "outputs": [],
   "source": [
    "doubling_time = np.log(2)/solution.fluxes['r_2111']\n",
    "doubling_time"
   ]
  },
  {
   "cell_type": "markdown",
   "id": "43c2c9b1",
   "metadata": {},
   "source": [
    "> Interpretation: Growth is slower, as expected.  But how do fluxes explain behaviour in YMC?  Inspect redox compounds like NAD(P)H, or flavoprotein-catalysed reaction fluxes?  Of course there is a caveat -- FBA assumes steady-state, but YMC is cyclic."
   ]
  },
  {
   "cell_type": "markdown",
   "id": "06fb9cab",
   "metadata": {},
   "source": [
    "## Ablation?"
   ]
  }
 ],
 "metadata": {
  "kernelspec": {
   "display_name": "fba",
   "language": "python",
   "name": "fba"
  },
  "language_info": {
   "codemirror_mode": {
    "name": "ipython",
    "version": 3
   },
   "file_extension": ".py",
   "mimetype": "text/x-python",
   "name": "python",
   "nbconvert_exporter": "python",
   "pygments_lexer": "ipython3",
   "version": "3.7.9"
  }
 },
 "nbformat": 4,
 "nbformat_minor": 5
}

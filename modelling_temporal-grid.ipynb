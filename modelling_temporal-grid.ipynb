{
 "cells": [
  {
   "cell_type": "markdown",
   "id": "9400baeb",
   "metadata": {},
   "source": [
    "Import dependencies"
   ]
  },
  {
   "cell_type": "code",
   "execution_count": null,
   "id": "04142383",
   "metadata": {},
   "outputs": [],
   "source": [
    "%reload_ext autoreload\n",
    "%autoreload 1\n",
    "%matplotlib inline\n",
    "\n",
    "import matplotlib.pyplot as plt\n",
    "import numpy as np\n",
    "import pandas as pd\n",
    "import cobra\n",
    "\n",
    "from yeast8model import Yeast8Model"
   ]
  },
  {
   "cell_type": "markdown",
   "id": "4c2c7d8b",
   "metadata": {},
   "source": [
    "# Construct models of cells of interest"
   ]
  },
  {
   "cell_type": "code",
   "execution_count": null,
   "id": "10ec8c7e",
   "metadata": {},
   "outputs": [],
   "source": [
    "glc_exch_rate = 16.89\n",
    "wt_ec = Yeast8Model(\"./models/ecYeastGEM_batch_8-6-0.xml\")\n",
    "wt_ec.model.reactions.get_by_id(\"r_1714\").bounds = (-glc_exch_rate, 0)\n",
    "wt_ec.model.reactions.get_by_id(\"r_1714_REV\").bounds = (0, glc_exch_rate)"
   ]
  },
  {
   "cell_type": "code",
   "execution_count": null,
   "id": "2dd91ec2",
   "metadata": {},
   "outputs": [],
   "source": [
    "from yeast8model import biomass_component_list_orig\n",
    "\n",
    "glucose_bounds = (-4.75, 0) # gives a sensible growth rate for wt\n",
    "wt_y8 = Yeast8Model(\"./models/yeast-GEM_8-6-0.xml\", growth_id=\"r_2111\", biomass_id=\"r_4041\")\n",
    "wt_y8.biomass_component_list = biomass_component_list_orig\n",
    "wt_y8.model.reactions.r_1714.bounds = glucose_bounds\n",
    "wt_y8.add_media_components(['r_1992'])"
   ]
  },
  {
   "cell_type": "markdown",
   "id": "ae3ec4ee",
   "metadata": {},
   "source": [
    "# Grid"
   ]
  },
  {
   "cell_type": "markdown",
   "id": "c1c07ba4",
   "metadata": {},
   "source": [
    "Note: the grid thing should take ~8 minutes (probably varies: 5-10 minutes)."
   ]
  },
  {
   "cell_type": "code",
   "execution_count": null,
   "id": "907390fd",
   "metadata": {},
   "outputs": [],
   "source": [
    "from yeast8model import heatmap_ablation_grid"
   ]
  },
  {
   "cell_type": "markdown",
   "id": "131372af",
   "metadata": {},
   "source": [
    "## Enzyme-constrained"
   ]
  },
  {
   "cell_type": "markdown",
   "id": "abf6a529",
   "metadata": {},
   "source": [
    "`linspace` values are based on saturation exchange rates from the saturation curves.  These values may be different from the optimal uptake values from optimising the unmodified wild-type model."
   ]
  },
  {
   "cell_type": "markdown",
   "id": "a44058f8",
   "metadata": {},
   "source": [
    "### Glucose × ammonium"
   ]
  },
  {
   "cell_type": "code",
   "execution_count": null,
   "id": "69e3a5ac",
   "metadata": {},
   "outputs": [],
   "source": [
    "exch_rate_dict = {\n",
    "    \"r_1714\": np.linspace(0, 8.45, 5), # glucose\n",
    "    \"r_1654\": np.linspace(0, 1.45, 5), # ammonium\n",
    "}\n",
    "ratio_array, largest_component_array = wt_ec.ablation_grid(exch_rate_dict)"
   ]
  },
  {
   "cell_type": "code",
   "execution_count": null,
   "id": "5cc528cc",
   "metadata": {},
   "outputs": [],
   "source": [
    "fig, ax = plt.subplots()\n",
    "heatmap_ablation_grid(ax, exch_rate_dict, ratio_array, largest_component_array)\n",
    "ax.set_xlabel('Glucose exchange (mmol/gDW/h)')\n",
    "ax.set_ylabel('Ammonium exchange (mmol/gDW/h)')\n",
    "plt.show()"
   ]
  },
  {
   "cell_type": "markdown",
   "id": "eae99b59",
   "metadata": {},
   "source": [
    "### Pyruvate × ammonium"
   ]
  },
  {
   "cell_type": "code",
   "execution_count": null,
   "id": "19ecb5c8",
   "metadata": {},
   "outputs": [],
   "source": [
    "exch_rate_dict = {\n",
    "    \"r_2033\": np.linspace(0, 4.27, 5), # pyruvate\n",
    "    \"r_1654\": np.linspace(0, 1.45, 5), # ammonium\n",
    "}\n",
    "ratio_array, largest_component_array = wt_ec.ablation_grid(exch_rate_dict)"
   ]
  },
  {
   "cell_type": "code",
   "execution_count": null,
   "id": "aabe5454",
   "metadata": {},
   "outputs": [],
   "source": [
    "fig, ax = plt.subplots()\n",
    "heatmap_ablation_grid(ax, exch_rate_dict, ratio_array, largest_component_array)\n",
    "ax.set_xlabel('Pyruvate exchange (mmol/gDW/h)')\n",
    "ax.set_ylabel('Ammonium exchange (mmol/gDW/h)')\n",
    "plt.show()"
   ]
  },
  {
   "cell_type": "markdown",
   "id": "309d6212",
   "metadata": {},
   "source": [
    "## Original yeast-GEM (no enzyme constraints)"
   ]
  },
  {
   "cell_type": "markdown",
   "id": "03f0b17e",
   "metadata": {},
   "source": [
    "### Glucose × ammonium"
   ]
  },
  {
   "cell_type": "code",
   "execution_count": null,
   "id": "0500f82f",
   "metadata": {},
   "outputs": [],
   "source": [
    "exch_rate_dict = {\n",
    "    \"r_1714\": np.linspace(0, 4.75, 5), # glucose\n",
    "    \"r_1654\": np.linspace(0, 2.88, 5), # ammonium\n",
    "}\n",
    "ratio_array, largest_component_array = wt_y8.ablation_grid(exch_rate_dict)"
   ]
  },
  {
   "cell_type": "code",
   "execution_count": null,
   "id": "adf8fd48",
   "metadata": {},
   "outputs": [],
   "source": [
    "fig, ax = plt.subplots()\n",
    "heatmap_ablation_grid(ax, exch_rate_dict, ratio_array, largest_component_array)\n",
    "ax.set_xlabel('Glucose exchange (mmol/gDW/h)')\n",
    "ax.set_ylabel('Ammonium exchange (mmol/gDW/h)')\n",
    "plt.show()"
   ]
  },
  {
   "cell_type": "code",
   "execution_count": null,
   "id": "f3d611f9",
   "metadata": {},
   "outputs": [],
   "source": [
    "ratio_array"
   ]
  },
  {
   "cell_type": "markdown",
   "id": "488b4424",
   "metadata": {},
   "source": [
    "### Pyruvate × ammonium"
   ]
  },
  {
   "cell_type": "code",
   "execution_count": null,
   "id": "9b7c1328",
   "metadata": {},
   "outputs": [],
   "source": [
    "exch_rate_dict = {\n",
    "    \"r_2033\": np.linspace(0, 13.32, 5), # pyruvate\n",
    "    \"r_1654\": np.linspace(0, 2.88, 5), # ammonium\n",
    "}\n",
    "ratio_array, largest_component_array = wt_y8.ablation_grid(exch_rate_dict)"
   ]
  },
  {
   "cell_type": "code",
   "execution_count": null,
   "id": "7d0b9977",
   "metadata": {},
   "outputs": [],
   "source": [
    "fig, ax = plt.subplots()\n",
    "heatmap_ablation_grid(ax, exch_rate_dict, ratio_array, largest_component_array)\n",
    "ax.set_xlabel('Pyruvate exchange (mmol/gDW/h)')\n",
    "ax.set_ylabel('Ammonium exchange (mmol/gDW/h)')\n",
    "plt.show()"
   ]
  }
 ],
 "metadata": {
  "kernelspec": {
   "display_name": "fba",
   "language": "python",
   "name": "fba"
  },
  "language_info": {
   "codemirror_mode": {
    "name": "ipython",
    "version": 3
   },
   "file_extension": ".py",
   "mimetype": "text/x-python",
   "name": "python",
   "nbconvert_exporter": "python",
   "pygments_lexer": "ipython3",
   "version": "3.8.14"
  }
 },
 "nbformat": 4,
 "nbformat_minor": 5
}

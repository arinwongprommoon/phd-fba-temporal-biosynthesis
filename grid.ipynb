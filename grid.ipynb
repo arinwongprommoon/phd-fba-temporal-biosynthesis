{
 "cells": [
  {
   "cell_type": "markdown",
   "id": "9400baeb",
   "metadata": {},
   "source": [
    "Import dependencies"
   ]
  },
  {
   "cell_type": "code",
   "execution_count": null,
   "id": "04142383",
   "metadata": {},
   "outputs": [],
   "source": [
    "%reload_ext autoreload\n",
    "%autoreload 1\n",
    "%matplotlib inline\n",
    "\n",
    "import matplotlib.pyplot as plt\n",
    "import numpy as np\n",
    "import pandas as pd\n",
    "import cobra\n",
    "\n",
    "from yeast8model import Yeast8Model"
   ]
  },
  {
   "cell_type": "markdown",
   "id": "4c2c7d8b",
   "metadata": {},
   "source": [
    "# Construct models of cells of interest"
   ]
  },
  {
   "cell_type": "code",
   "execution_count": null,
   "id": "10ec8c7e",
   "metadata": {},
   "outputs": [],
   "source": [
    "glc_exch_rate = 16.89\n",
    "wt_ec = Yeast8Model(\"./models/ecYeastGEM_batch_8-6-0.xml\")\n",
    "wt_ec.model.reactions.get_by_id(\"r_1714\").bounds = (-glc_exch_rate, 0)\n",
    "wt_ec.model.reactions.get_by_id(\"r_1714_REV\").bounds = (0, glc_exch_rate)"
   ]
  },
  {
   "cell_type": "code",
   "execution_count": null,
   "id": "2dd91ec2",
   "metadata": {},
   "outputs": [],
   "source": [
    "from yeast8model import biomass_component_list_orig\n",
    "\n",
    "glucose_bounds = (-4.75, 0) # gives a sensible growth rate for wt\n",
    "wt_y8 = Yeast8Model(\"./models/yeast-GEM_8-6-0.xml\", growth_id=\"r_2111\", biomass_id=\"r_4041\")\n",
    "wt_y8.biomass_component_list = biomass_component_list_orig\n",
    "wt_y8.model.reactions.r_1714.bounds = glucose_bounds\n",
    "wt_y8.add_media_components(['r_1992'])"
   ]
  },
  {
   "cell_type": "markdown",
   "id": "ae3ec4ee",
   "metadata": {},
   "source": [
    "# Grid"
   ]
  },
  {
   "cell_type": "markdown",
   "id": "c1c07ba4",
   "metadata": {},
   "source": [
    "Note: the grid thing should take ~8 minutes (probably varies: 5-10 minutes)."
   ]
  },
  {
   "cell_type": "code",
   "execution_count": null,
   "id": "907390fd",
   "metadata": {},
   "outputs": [],
   "source": [
    "from yeast8model import heatmap_ablation_grid, vget_ablation_ratio"
   ]
  },
  {
   "cell_type": "markdown",
   "id": "cbaf0102",
   "metadata": {},
   "source": [
    "Convenience functions"
   ]
  },
  {
   "cell_type": "code",
   "execution_count": null,
   "id": "2bca2a3f",
   "metadata": {},
   "outputs": [],
   "source": [
    "@np.vectorize\n",
    "def vget_growthrate(x):\n",
    "    return x.ablated_flux[0]"
   ]
  },
  {
   "cell_type": "code",
   "execution_count": null,
   "id": "3a1694ad",
   "metadata": {},
   "outputs": [],
   "source": [
    "def grid_plots(\n",
    "    ablation_result_array,\n",
    "    exch_rate_dict,\n",
    "    ratio_vmin=0.5,\n",
    "    ratio_vmax=1.5,\n",
    "    grid_xlabel_leader='Glucose exchange',\n",
    "    grid_ylabel_leader='Ammonium exchange',\n",
    "):\n",
    "    ratio_array = vget_ablation_ratio(ablation_result_array)\n",
    "    growthrate_array = vget_growthrate(ablation_result_array)\n",
    "    ratios = ratio_array[1:,1:].ravel()\n",
    "    growthrates = growthrate_array[1:,1:].ravel()\n",
    "\n",
    "    fig, ax = plt.subplots(nrows=3, ncols=1, figsize=(7,18))\n",
    "    \n",
    "    xmax = np.max(list(exch_rate_dict.values())[0])\n",
    "    ymax = np.max(list(exch_rate_dict.values())[0])\n",
    "    grid_xlabel = f\"{grid_xlabel_leader} (% max = {xmax:.2f})\"\n",
    "    grid_ylabel = f\"{grid_ylabel_leader} (% max = {ymax:.2f})\"\n",
    "\n",
    "    heatmap_ablation_grid(\n",
    "        ax[0], exch_rate_dict, ratio_array, percent_saturation=True, vmin=ratio_vmin, vmax=ratio_vmax\n",
    "    )\n",
    "    ax[0].set_xlabel(grid_xlabel)\n",
    "    ax[0].set_ylabel(grid_ylabel)\n",
    "\n",
    "    heatmap_ablation_grid(\n",
    "        ax[1], exch_rate_dict, growthrate_array, percent_saturation=True, cbar_label=\"growth rate\"\n",
    "    )\n",
    "    ax[1].set_xlabel(grid_xlabel)\n",
    "    ax[1].set_ylabel(grid_ylabel)\n",
    "\n",
    "    ax[2].scatter(growthrates, ratios)\n",
    "    ax[2].set_xlabel('Growth rate (/h)')\n",
    "    ax[2].set_ylabel('Ablation ratio')"
   ]
  },
  {
   "cell_type": "markdown",
   "id": "131372af",
   "metadata": {},
   "source": [
    "## Enzyme-constrained"
   ]
  },
  {
   "cell_type": "markdown",
   "id": "abf6a529",
   "metadata": {},
   "source": [
    "`linspace` values are based on saturation exchange rates from the saturation curves.  These values may be different from the optimal uptake values from optimising the unmodified wild-type model."
   ]
  },
  {
   "cell_type": "markdown",
   "id": "a44058f8",
   "metadata": {},
   "source": [
    "### Glucose × ammonium"
   ]
  },
  {
   "cell_type": "code",
   "execution_count": null,
   "id": "69e3a5ac",
   "metadata": {},
   "outputs": [],
   "source": [
    "exch_rate_dict = {\n",
    "    \"r_1714\": np.linspace(0, 2*8.45, 16), # glucose\n",
    "    \"r_1654\": np.linspace(0, 2*1.45, 16), # ammonium\n",
    "}\n",
    "ablation_result_array = wt_ec.ablation_grid(exch_rate_dict)"
   ]
  },
  {
   "cell_type": "code",
   "execution_count": null,
   "id": "c3d48a20",
   "metadata": {},
   "outputs": [],
   "source": [
    "grid_plots(ablation_result_array, exch_rate_dict)"
   ]
  },
  {
   "cell_type": "markdown",
   "id": "eae99b59",
   "metadata": {},
   "source": [
    "### Pyruvate × ammonium"
   ]
  },
  {
   "cell_type": "code",
   "execution_count": null,
   "id": "19ecb5c8",
   "metadata": {},
   "outputs": [],
   "source": [
    "exch_rate_dict = {\n",
    "    \"r_2033\": np.linspace(0, 2*4.27, 16), # pyruvate\n",
    "    \"r_1654\": np.linspace(0, 2*1.45, 16), # ammonium\n",
    "}\n",
    "ablation_result_array = wt_ec.ablation_grid(exch_rate_dict)"
   ]
  },
  {
   "cell_type": "code",
   "execution_count": null,
   "id": "e61cd47e",
   "metadata": {},
   "outputs": [],
   "source": [
    "grid_plots(ablation_result_array, exch_rate_dict, ratio_vmin=0.75, ratio_vmax=1.25, grid_xlabel_leader=\"Pyruvate exchange\")"
   ]
  },
  {
   "cell_type": "markdown",
   "id": "309d6212",
   "metadata": {},
   "source": [
    "## Original yeast-GEM (no enzyme constraints)"
   ]
  },
  {
   "cell_type": "markdown",
   "id": "03f0b17e",
   "metadata": {},
   "source": [
    "### Glucose × ammonium"
   ]
  },
  {
   "cell_type": "code",
   "execution_count": null,
   "id": "0500f82f",
   "metadata": {},
   "outputs": [],
   "source": [
    "exch_rate_dict = {\n",
    "    \"r_1714\": np.linspace(0, 2*4.75, 16), # glucose\n",
    "    \"r_1654\": np.linspace(0, 2*2.88, 16), # ammonium\n",
    "}\n",
    "ablation_result_array = wt_y8.ablation_grid(exch_rate_dict)"
   ]
  },
  {
   "cell_type": "code",
   "execution_count": null,
   "id": "c5c5cdab",
   "metadata": {},
   "outputs": [],
   "source": [
    "grid_plots(ablation_result_array, exch_rate_dict, ratio_vmin=0.75, ratio_vmax=1.25)"
   ]
  },
  {
   "cell_type": "markdown",
   "id": "488b4424",
   "metadata": {},
   "source": [
    "### Pyruvate × ammonium"
   ]
  },
  {
   "cell_type": "code",
   "execution_count": null,
   "id": "9b7c1328",
   "metadata": {},
   "outputs": [],
   "source": [
    "exch_rate_dict = {\n",
    "    \"r_2033\": np.linspace(0, 2*13.32, 16), # pyruvate\n",
    "    \"r_1654\": np.linspace(0, 2*2.88, 16), # ammonium\n",
    "}\n",
    "ablation_result_array = wt_y8.ablation_grid(exch_rate_dict)"
   ]
  },
  {
   "cell_type": "code",
   "execution_count": null,
   "id": "85f9b0a8",
   "metadata": {},
   "outputs": [],
   "source": [
    "grid_plots(ablation_result_array, exch_rate_dict, ratio_vmin=0.75, ratio_vmax=1.25, grid_xlabel_leader=\"Pyruvate exchange\")"
   ]
  }
 ],
 "metadata": {
  "kernelspec": {
   "display_name": "fba",
   "language": "python",
   "name": "fba"
  },
  "language_info": {
   "codemirror_mode": {
    "name": "ipython",
    "version": 3
   },
   "file_extension": ".py",
   "mimetype": "text/x-python",
   "name": "python",
   "nbconvert_exporter": "python",
   "pygments_lexer": "ipython3",
   "version": "3.8.14"
  }
 },
 "nbformat": 4,
 "nbformat_minor": 5
}

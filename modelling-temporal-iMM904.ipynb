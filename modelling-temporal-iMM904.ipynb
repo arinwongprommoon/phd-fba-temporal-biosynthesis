{
 "cells": [
  {
   "cell_type": "markdown",
   "id": "e0e04d9b",
   "metadata": {},
   "source": [
    "Import dependencies"
   ]
  },
  {
   "cell_type": "code",
   "execution_count": null,
   "id": "fefa4eea",
   "metadata": {},
   "outputs": [],
   "source": [
    "%reload_ext autoreload\n",
    "%autoreload 1\n",
    "%matplotlib inline\n",
    "\n",
    "import matplotlib.pyplot as plt\n",
    "import numpy as np\n",
    "import pandas as pd\n",
    "import cobra\n",
    "import escher"
   ]
  },
  {
   "cell_type": "markdown",
   "id": "780905e2",
   "metadata": {},
   "source": [
    "# Load model"
   ]
  },
  {
   "cell_type": "code",
   "execution_count": null,
   "id": "f1887f8a",
   "metadata": {},
   "outputs": [],
   "source": [
    "model = cobra.io.load_json_model(\"./models/iMM904.json\")"
   ]
  },
  {
   "cell_type": "markdown",
   "id": "bf1c89f5",
   "metadata": {},
   "source": [
    "# Utilities"
   ]
  },
  {
   "cell_type": "code",
   "execution_count": null,
   "id": "432892d6",
   "metadata": {},
   "outputs": [],
   "source": [
    "def print_formulas(reaction):\n",
    "    \"\"\"Print formulas of reactants and products of a reaction.\"\"\"\n",
    "    print('reactants')\n",
    "    for reactant in reaction.reactants:\n",
    "        print(f'{reactant.id} ({reactant.name}): F {reactant.formula}')\n",
    "    print('products')\n",
    "    for product in reaction.products:\n",
    "        print(f'{product.id} ({product.name}): F {product.formula}')\n",
    "\n",
    "def print_formula_weights(reaction):\n",
    "    \"\"\"Print formula weights of reactants and products of a reaction.\"\"\"\n",
    "    print('reactants')\n",
    "    for reactant in reaction.reactants:\n",
    "        print(f'{reactant.id} ({reactant.name}): MW {reactant.formula_weight}')\n",
    "    print('products')\n",
    "    for product in reaction.products:\n",
    "        print(f'{product.id} ({product.name}): MW {product.formula_weight}')\n",
    "        \n",
    "def print_stoichiometry(reaction):\n",
    "    \"\"\"Pretty-print stoichiometry of reaction.\"\"\"\n",
    "    for metabolite, coeff in reaction.metabolites.items():\n",
    "        print(f'{coeff}, {metabolite.name}')"
   ]
  },
  {
   "cell_type": "markdown",
   "id": "78b3cd2e",
   "metadata": {},
   "source": [
    "# Objective function"
   ]
  },
  {
   "cell_type": "markdown",
   "id": "6ba0f8e3",
   "metadata": {},
   "source": [
    "Get objective function (biomass/growth)"
   ]
  },
  {
   "cell_type": "code",
   "execution_count": null,
   "id": "ed34643b",
   "metadata": {},
   "outputs": [],
   "source": [
    "biomass = model.reactions.BIOMASS_SC5_notrace\n",
    "biomass"
   ]
  },
  {
   "cell_type": "code",
   "execution_count": null,
   "id": "fd49c024",
   "metadata": {},
   "outputs": [],
   "source": [
    "print_stoichiometry(biomass)"
   ]
  },
  {
   "cell_type": "markdown",
   "id": "c942df97",
   "metadata": {},
   "source": [
    "> These stoichiometric constants were determined by the relative compositions (i.e. mass fractions) of these compounds in exponentially growing yeast, as determined from experiments (Mo et al., 2009)."
   ]
  },
  {
   "cell_type": "markdown",
   "id": "fcc1c13e",
   "metadata": {},
   "source": [
    "Medium"
   ]
  },
  {
   "cell_type": "code",
   "execution_count": null,
   "id": "29eaba75",
   "metadata": {},
   "outputs": [],
   "source": [
    "model.medium"
   ]
  },
  {
   "cell_type": "markdown",
   "id": "2acb73d6",
   "metadata": {},
   "source": [
    "Unrestrict bounds"
   ]
  },
  {
   "cell_type": "code",
   "execution_count": null,
   "id": "cdcd1364",
   "metadata": {},
   "outputs": [],
   "source": [
    "model.reactions.get_by_id('EX_glc__D_e').bounds = (-10, 0)\n",
    "model.reactions.get_by_id('EX_o2_e').bounds = (-999999.0, 0)"
   ]
  },
  {
   "cell_type": "markdown",
   "id": "d0a00401",
   "metadata": {},
   "source": [
    "> Problem: If I set the bounds of glucose exchange to be (-99999, 0), the objective function reaches a huge value, so I left it at the default value."
   ]
  },
  {
   "cell_type": "markdown",
   "id": "8dc0fba1",
   "metadata": {},
   "source": [
    "Linear reaction coefficients"
   ]
  },
  {
   "cell_type": "code",
   "execution_count": null,
   "id": "2c36ab9f",
   "metadata": {},
   "outputs": [],
   "source": [
    "cobra.util.solver.linear_reaction_coefficients(model)"
   ]
  },
  {
   "cell_type": "markdown",
   "id": "c920823e",
   "metadata": {},
   "source": [
    "> The objective function is the biomass reaction and the biomass reaction only, not a linear combination of anything."
   ]
  },
  {
   "cell_type": "markdown",
   "id": "a1cf8271",
   "metadata": {},
   "source": [
    "Optimise using (vanilla) FBA"
   ]
  },
  {
   "cell_type": "code",
   "execution_count": null,
   "id": "10b64bee",
   "metadata": {},
   "outputs": [],
   "source": [
    "solution = model.optimize()"
   ]
  },
  {
   "cell_type": "code",
   "execution_count": null,
   "id": "025a2af4",
   "metadata": {},
   "outputs": [],
   "source": [
    "model.summary()"
   ]
  },
  {
   "cell_type": "code",
   "execution_count": null,
   "id": "058d02dd",
   "metadata": {},
   "outputs": [],
   "source": [
    "solution"
   ]
  },
  {
   "cell_type": "markdown",
   "id": "348dfea8",
   "metadata": {},
   "source": [
    "# Fluxes"
   ]
  },
  {
   "cell_type": "markdown",
   "id": "129fcb32",
   "metadata": {},
   "source": [
    "Import list of metabolites represented in biomass reaction.  `biomass_type` is manually labelled."
   ]
  },
  {
   "cell_type": "code",
   "execution_count": null,
   "id": "0718fc3d",
   "metadata": {},
   "outputs": [],
   "source": [
    "biomass_metabolites_df = pd.read_csv('iMM904-biomass-categories.csv', delimiter=',')"
   ]
  },
  {
   "cell_type": "code",
   "execution_count": null,
   "id": "1299c09d",
   "metadata": {},
   "outputs": [],
   "source": [
    "biomass_metabolites_df"
   ]
  },
  {
   "cell_type": "markdown",
   "id": "3eb6f2d2",
   "metadata": {},
   "source": [
    "Get fluxes of each metabolite in the (optimised) biomass reaction, append to the dataframe."
   ]
  },
  {
   "cell_type": "code",
   "execution_count": null,
   "id": "ee890ea0",
   "metadata": {},
   "outputs": [],
   "source": [
    "model.metabolites.get_by_id('so4_c').summary()"
   ]
  },
  {
   "cell_type": "markdown",
   "id": "fdcf6cfe",
   "metadata": {},
   "source": [
    "> There is one producing reaction so I take the flux of this metabolite through this reaction (-1.106).  For other reactions, I take the sum.  Below, I repeat this process for all metabolites represented in the reactants of the biomass reaction."
   ]
  },
  {
   "cell_type": "code",
   "execution_count": null,
   "id": "b590a162",
   "metadata": {},
   "outputs": [],
   "source": [
    "biomass_metabolites_df['flux'] = [np.nan] * len(biomass_metabolites_df)"
   ]
  },
  {
   "cell_type": "code",
   "execution_count": null,
   "id": "6ea3cff8",
   "metadata": {},
   "outputs": [],
   "source": [
    "# ignore this\n",
    "for df_idx, metabolite_id in enumerate(biomass_metabolites_df.id):\n",
    "    metabolite = model.metabolites.get_by_id(metabolite_id)\n",
    "    # Inspect reactants, ignore products, based on stoichiometric constants\n",
    "    if biomass.metabolites[metabolite] < 0:\n",
    "        flux_in_biomass = metabolite.summary().consuming_flux.loc['BIOMASS_SC5_notrace'].flux\n",
    "        #print(f'{metabolite.name}: {-1/flux_in_biomass}')\n",
    "        biomass_metabolites_df['flux'].iloc[df_idx] = flux_in_biomass"
   ]
  },
  {
   "cell_type": "code",
   "execution_count": null,
   "id": "831fcffc",
   "metadata": {},
   "outputs": [],
   "source": [
    "# alternatively\n",
    "for df_idx, metabolite_id in enumerate(biomass_metabolites_df.id):\n",
    "    metabolite = model.metabolites.get_by_id(metabolite_id)\n",
    "    # Inspect reactants, ignore products, based on stoichiometric constants\n",
    "    if biomass.metabolites[metabolite] < 0:\n",
    "        flux_producing = sum(metabolite.summary().producing_flux.flux)\n",
    "        #print(f'{metabolite.name}: {-1/flux_in_biomass}')\n",
    "        biomass_metabolites_df['flux'].iloc[df_idx] = flux_producing"
   ]
  },
  {
   "cell_type": "code",
   "execution_count": null,
   "id": "ca4f5b7b",
   "metadata": {},
   "outputs": [],
   "source": [
    "biomass_metabolites_df"
   ]
  },
  {
   "cell_type": "markdown",
   "id": "f7d4c054",
   "metadata": {},
   "source": [
    "# Timescale"
   ]
  },
  {
   "cell_type": "markdown",
   "id": "06048385",
   "metadata": {},
   "source": [
    "## From objective function"
   ]
  },
  {
   "cell_type": "markdown",
   "id": "788cde82",
   "metadata": {},
   "source": [
    "The objective function is expressed in units of mmol gDW-1 h-1"
   ]
  },
  {
   "cell_type": "code",
   "execution_count": null,
   "id": "3f7316dd",
   "metadata": {},
   "outputs": [],
   "source": [
    "solution.objective_value"
   ]
  },
  {
   "cell_type": "markdown",
   "id": "2f2e6057",
   "metadata": {},
   "source": [
    "Converting this into estimated time:"
   ]
  },
  {
   "cell_type": "code",
   "execution_count": null,
   "id": "0d6b203a",
   "metadata": {},
   "outputs": [],
   "source": [
    "CELL_DRY_MASS = 15e-12\n",
    "\n",
    "#time = CELL_DRY_MASS/solution.objective_value\n",
    "time = 1/solution.objective_value"
   ]
  },
  {
   "cell_type": "code",
   "execution_count": null,
   "id": "54931b1f",
   "metadata": {},
   "outputs": [],
   "source": [
    "time"
   ]
  },
  {
   "cell_type": "markdown",
   "id": "e6db96bb",
   "metadata": {},
   "source": [
    "## From fluxes"
   ]
  },
  {
   "cell_type": "markdown",
   "id": "14847ae1",
   "metadata": {},
   "source": [
    "Compute sum of reactant coefficients.\n",
    "\n",
    "This is needed to calculate the mass fraction of each metabolite.  This calculation is based on the assumption that the relative values of the reactant coefficients reflect the mass fraction of each metabolite, as suggested by Mo et al. (2009)."
   ]
  },
  {
   "cell_type": "code",
   "execution_count": null,
   "id": "4f370462",
   "metadata": {},
   "outputs": [],
   "source": [
    "sum_reactant_coeffs = -sum([coeff for (_, coeff) in biomass.metabolites.items() if coeff < 0])\n",
    "sum_reactant_coeffs"
   ]
  },
  {
   "cell_type": "markdown",
   "id": "4f5c201c",
   "metadata": {},
   "source": [
    "Remove the coeffs from NGAM as these ones were considered separately when constructing the biomass reaction of the model."
   ]
  },
  {
   "cell_type": "code",
   "execution_count": null,
   "id": "97339537",
   "metadata": {},
   "outputs": [],
   "source": [
    "sum_reactant_coeffs -= -biomass.metabolites[model.metabolites.get_by_id('atp_c')]\n",
    "sum_reactant_coeffs -= -biomass.metabolites[model.metabolites.get_by_id('h2o_c')]\n",
    "sum_reactant_coeffs"
   ]
  },
  {
   "cell_type": "markdown",
   "id": "8fa53810",
   "metadata": {},
   "source": [
    "Construct new columns in `biomass_metabolites_df`."
   ]
  },
  {
   "cell_type": "code",
   "execution_count": null,
   "id": "c15fc5d4",
   "metadata": {},
   "outputs": [],
   "source": [
    "biomass_metabolites_df['stoich'] = [np.nan] * len(biomass_metabolites_df)\n",
    "biomass_metabolites_df['mass_fraction'] = [np.nan] * len(biomass_metabolites_df)\n",
    "biomass_metabolites_df['formula_weight'] = [np.nan] * len(biomass_metabolites_df)\n",
    "\n",
    "for df_idx, metabolite_id in enumerate(biomass_metabolites_df.id):\n",
    "    metabolite = model.metabolites.get_by_id(metabolite_id)\n",
    "    biomass_metabolites_df['stoich'].iloc[df_idx] = biomass.metabolites[metabolite]\n",
    "    # Inspect reactants, ignore products, based on stoichiometric constants\n",
    "    if biomass.metabolites[metabolite] < 0:\n",
    "        if metabolite_id in ['atp_c', 'h2o_c']:\n",
    "            biomass_metabolites_df['mass_fraction'].iloc[df_idx] = np.nan\n",
    "        else:\n",
    "            biomass_metabolites_df['mass_fraction'].iloc[df_idx] = -biomass.metabolites[metabolite]/sum_reactant_coeffs\n",
    "        biomass_metabolites_df['formula_weight'].iloc[df_idx] = metabolite.formula_weight"
   ]
  },
  {
   "cell_type": "markdown",
   "id": "ce7ea63b",
   "metadata": {},
   "source": [
    "Estimate time.\n",
    "\n",
    "Logic:\n",
    "- For metabolite $s_i$, the mass of $s_i$ that must be produced is equal to (mass of cell) $\\times$ (coeff of $s_i$)/(sum of coeffs).  (coeff of $s_i$)/(sum of coeffs) can alternatively be expressed as the mass fraction of $s_i$.\n",
    "- The number of moles that this mass represents is thus equal to (mass $s_i$)/(MW $s_i$).\n",
    "- The time is thus equal to (mol $s_i$)/((flux in mmol/gDW/h)(mass of cell)).\n",
    "- This works out to (1000 $\\times$ mass fraction $s_i$)/((MW $s_i$)(flux in mmol/gDW/h)).  The 1000 is there because molecular weight is expressed as g/mol while flux is in mmol/gDW/h."
   ]
  },
  {
   "cell_type": "code",
   "execution_count": null,
   "id": "55898174",
   "metadata": {},
   "outputs": [],
   "source": [
    "biomass_metabolites_df['time'] = -1000 * biomass_metabolites_df['mass_fraction'] / (biomass_metabolites_df['formula_weight'] * biomass_metabolites_df['flux'])"
   ]
  },
  {
   "cell_type": "code",
   "execution_count": null,
   "id": "103dac2f",
   "metadata": {},
   "outputs": [],
   "source": [
    "biomass_metabolites_df"
   ]
  },
  {
   "cell_type": "code",
   "execution_count": null,
   "id": "4f654f68",
   "metadata": {},
   "outputs": [],
   "source": [
    "biomass_metabolites_df['time'].sum()"
   ]
  }
 ],
 "metadata": {
  "kernelspec": {
   "display_name": "fba",
   "language": "python",
   "name": "fba"
  },
  "language_info": {
   "codemirror_mode": {
    "name": "ipython",
    "version": 3
   },
   "file_extension": ".py",
   "mimetype": "text/x-python",
   "name": "python",
   "nbconvert_exporter": "python",
   "pygments_lexer": "ipython3",
   "version": "3.7.9"
  }
 },
 "nbformat": 4,
 "nbformat_minor": 5
}

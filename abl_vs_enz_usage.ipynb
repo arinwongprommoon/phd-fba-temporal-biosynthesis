{
 "cells": [
  {
   "cell_type": "markdown",
   "id": "6d4c1c30",
   "metadata": {},
   "source": [
    "Imports"
   ]
  },
  {
   "cell_type": "code",
   "execution_count": null,
   "id": "2af15bbd",
   "metadata": {},
   "outputs": [],
   "source": [
    "import matplotlib.pyplot as plt\n",
    "import numpy as np\n",
    "import pandas as pd\n",
    "import seaborn as sns\n",
    "\n",
    "from yeast8model import Yeast8Model"
   ]
  },
  {
   "cell_type": "markdown",
   "id": "e5e53e24",
   "metadata": {},
   "source": [
    "Initialise model"
   ]
  },
  {
   "cell_type": "code",
   "execution_count": null,
   "id": "29662609",
   "metadata": {},
   "outputs": [],
   "source": [
    "glc_exch_rate = 16.89\n",
    "wt_ec = Yeast8Model(\"./models/ecYeastGEM_batch_8-6-0.xml\")\n",
    "wt_ec.model.reactions.get_by_id(\"r_1714\").bounds = (-glc_exch_rate, 0)\n",
    "wt_ec.model.reactions.get_by_id(\"r_1714_REV\").bounds = (0, glc_exch_rate)"
   ]
  },
  {
   "cell_type": "markdown",
   "id": "f4acbd74",
   "metadata": {},
   "source": [
    "Ablate and store fluxes in each round"
   ]
  },
  {
   "cell_type": "code",
   "execution_count": null,
   "id": "02cdbf48",
   "metadata": {},
   "outputs": [],
   "source": [
    "wt_ec.ablation_result = wt_ec.ablate()\n",
    "\n",
    "ablation_fluxes = wt_ec.ablation_fluxes\n",
    "ablation_fluxes_diff = ablation_fluxes.copy()\n",
    "ablation_fluxes_diff.pop(\"original\")\n",
    "for biomass_component, fluxes in ablation_fluxes_diff.items():\n",
    "    ablation_fluxes_diff[biomass_component] = (\n",
    "        ablation_fluxes[biomass_component] - ablation_fluxes[\"original\"]\n",
    "    )\n",
    "    print(f\"{biomass_component}\")\n",
    "    print(f\"min {1e5 * ablation_fluxes_diff[biomass_component].min()} * 1e-5\")\n",
    "    print(f\"max {1e5 * ablation_fluxes_diff[biomass_component].max()} * 1e-5\")"
   ]
  },
  {
   "cell_type": "markdown",
   "id": "6b421246",
   "metadata": {},
   "source": [
    "(Other work -- rename sections later)"
   ]
  },
  {
   "cell_type": "code",
   "execution_count": null,
   "id": "643c97be",
   "metadata": {
    "scrolled": false
   },
   "outputs": [],
   "source": [
    "# Choose component\n",
    "biomass_component = 'carbohydrate'\n",
    "s = ablation_fluxes_diff[biomass_component].copy()\n",
    "\n",
    "# Get top (False) or bottom (True) N\n",
    "n = 50\n",
    "s = s.sort_values(ascending=False)[:n]\n",
    "\n",
    "# Extract protein IDs\n",
    "rxn_idx_list = s.index.to_list()\n",
    "enz_metabolite_ids = [rxn_idx.replace(\"draw_\", \"\") + \"[c]\" for rxn_idx in rxn_idx_list]\n",
    "\n",
    "# Print participating reactions\n",
    "for enz_metabolite_id in enz_metabolite_ids:\n",
    "    print(enz_metabolite_id)\n",
    "    participating_rxns = list(wt_ec.model.metabolites.get_by_id(enz_metabolite_id)._reaction)\n",
    "    for participating_rxn in participating_rxns:\n",
    "        print(participating_rxn.name)\n",
    "    print('\\n')"
   ]
  }
 ],
 "metadata": {
  "kernelspec": {
   "display_name": "fba",
   "language": "python",
   "name": "fba"
  },
  "language_info": {
   "codemirror_mode": {
    "name": "ipython",
    "version": 3
   },
   "file_extension": ".py",
   "mimetype": "text/x-python",
   "name": "python",
   "nbconvert_exporter": "python",
   "pygments_lexer": "ipython3",
   "version": "3.8.14"
  }
 },
 "nbformat": 4,
 "nbformat_minor": 5
}

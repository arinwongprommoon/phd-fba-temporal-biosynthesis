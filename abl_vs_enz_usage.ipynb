{
 "cells": [
  {
   "cell_type": "markdown",
   "id": "b22a0319",
   "metadata": {},
   "source": [
    "Imports"
   ]
  },
  {
   "cell_type": "code",
   "execution_count": null,
   "id": "7aa7857c",
   "metadata": {},
   "outputs": [],
   "source": [
    "import matplotlib.pyplot as plt\n",
    "import numpy as np\n",
    "import pandas as pd\n",
    "import seaborn as sns\n",
    "\n",
    "from yeast8model import Yeast8Model"
   ]
  },
  {
   "cell_type": "markdown",
   "id": "735bcc23",
   "metadata": {},
   "source": [
    "Initialise model"
   ]
  },
  {
   "cell_type": "code",
   "execution_count": null,
   "id": "5b419df6",
   "metadata": {},
   "outputs": [],
   "source": [
    "glc_exch_rate = 16.89\n",
    "wt_ec = Yeast8Model(\"./models/ecYeastGEM_batch_8-6-0.xml\")\n",
    "wt_ec.model.reactions.get_by_id(\"r_1714\").bounds = (-glc_exch_rate, 0)\n",
    "wt_ec.model.reactions.get_by_id(\"r_1714_REV\").bounds = (0, glc_exch_rate)"
   ]
  },
  {
   "cell_type": "markdown",
   "id": "dcc053c2",
   "metadata": {},
   "source": [
    "Ablate and store fluxes in each round"
   ]
  },
  {
   "cell_type": "code",
   "execution_count": null,
   "id": "e0f35205",
   "metadata": {},
   "outputs": [],
   "source": [
    "wt_ec.ablation_result = wt_ec.ablate()\n",
    "\n",
    "ablation_fluxes = wt_ec.ablation_fluxes\n",
    "ablation_fluxes_diff = ablation_fluxes.copy()\n",
    "ablation_fluxes_diff.pop(\"original\")\n",
    "for biomass_component, fluxes in ablation_fluxes_diff.items():\n",
    "    ablation_fluxes_diff[biomass_component] = (\n",
    "        ablation_fluxes[biomass_component] - ablation_fluxes[\"original\"]\n",
    "    )\n",
    "    print(f\"{biomass_component}\")\n",
    "    print(f\"min {1e5 * ablation_fluxes_diff[biomass_component].min()} * 1e-5\")\n",
    "    print(f\"max {1e5 * ablation_fluxes_diff[biomass_component].max()} * 1e-5\")"
   ]
  },
  {
   "cell_type": "markdown",
   "id": "b04a0e93",
   "metadata": {},
   "source": [
    "Subsystems"
   ]
  },
  {
   "cell_type": "code",
   "execution_count": null,
   "id": "aa75b592",
   "metadata": {},
   "outputs": [],
   "source": [
    "# Load subsystems.csv as a lookup table, convert to dict for speed\n",
    "subsystem_df = pd.read_csv('easy_subsystems.csv', index_col=0)\n",
    "subsystem_dict = dict(zip(\n",
    "    subsystem_df.reaction_id.to_list(),\n",
    "    subsystem_df.subsystem.to_list()\n",
    "))"
   ]
  },
  {
   "cell_type": "code",
   "execution_count": null,
   "id": "0cf334c1",
   "metadata": {
    "scrolled": false
   },
   "outputs": [],
   "source": [
    "# Choose component\n",
    "biomass_component = 'lipid'\n",
    "s = ablation_fluxes_diff[biomass_component].copy()\n",
    "\n",
    "# Get top (False) or bottom (True) N\n",
    "n = 100\n",
    "s = s.sort_values(ascending=False)[:n]"
   ]
  },
  {
   "cell_type": "code",
   "execution_count": null,
   "id": "f2e1be64",
   "metadata": {},
   "outputs": [],
   "source": [
    "def plot_subsystem_freqs(s, ax):\n",
    "    # Extract protein IDs\n",
    "    rxn_idx_list = s.index.to_list()\n",
    "    enz_metabolite_ids = [rxn_idx.replace(\"draw_\", \"\") + \"[c]\" for rxn_idx in rxn_idx_list]\n",
    "\n",
    "    # Get participating reaction IDs\n",
    "    participating_rxn_ids = []\n",
    "    for enz_metabolite_id in enz_metabolite_ids:\n",
    "        enz_participating_rxns = list(wt_ec.model.metabolites.get_by_id(enz_metabolite_id)._reaction)\n",
    "        enz_participating_rxn_ids = [enz_participating_rxn.id for enz_participating_rxn in enz_participating_rxns]\n",
    "        participating_rxn_ids.extend(enz_participating_rxn_ids)\n",
    "    # unique\n",
    "    participating_rxn_ids = list(set(participating_rxn_ids))\n",
    "\n",
    "    # Subsystems that correspond to the participating reactions\n",
    "    subsystem_list = [\n",
    "        subsystem_dict[rxn_id[:6]]\n",
    "        for rxn_id in participating_rxn_ids\n",
    "        if rxn_id[:2] == \"r_\"\n",
    "    ]\n",
    "\n",
    "    # Frequency table & plot\n",
    "    subsystem_freqs = pd.Series(subsystem_list).value_counts()\n",
    "    subsystem_freqs.plot.barh(ax)\n",
    "    ax.invert_yaxis()\n",
    "    ax.set_xlabel('Number of occurences of subsystem')"
   ]
  },
  {
   "cell_type": "code",
   "execution_count": null,
   "id": "0b9a3f4d",
   "metadata": {
    "scrolled": true
   },
   "outputs": [],
   "source": [
    "fig, ax = plt.subplots()\n",
    "plot_subsystem_freqs(s, ax)"
   ]
  },
  {
   "cell_type": "markdown",
   "id": "027e3af1",
   "metadata": {},
   "source": [
    "Loop"
   ]
  },
  {
   "cell_type": "code",
   "execution_count": null,
   "id": "1a14c697",
   "metadata": {
    "scrolled": true
   },
   "outputs": [],
   "source": [
    "n = 100\n",
    "\n",
    "#fig, ax = plt.subplots(nrows=len(ablation_fluxes_diff.items()), ncols=1, figsize=(7,42))\n",
    "\n",
    "for idx, (biomass_component, fluxes) in enumerate(ablation_fluxes_diff.items()):\n",
    "    fig, ax = plt.subplots()\n",
    "    s = fluxes.copy()\n",
    "    s = s.sort_values(ascending=False)[:n]\n",
    "    plot_subsystem_freqs(s, ax)\n",
    "    ax.set_title(biomass_component)"
   ]
  },
  {
   "cell_type": "markdown",
   "id": "0b7427fb",
   "metadata": {},
   "source": [
    "(New work)"
   ]
  },
  {
   "cell_type": "code",
   "execution_count": null,
   "id": "7b2112c6",
   "metadata": {},
   "outputs": [],
   "source": [
    "# Choose component\n",
    "biomass_component = 'lipid'\n",
    "s = ablation_fluxes_diff[biomass_component].copy()"
   ]
  },
  {
   "cell_type": "code",
   "execution_count": null,
   "id": "5176f35e",
   "metadata": {},
   "outputs": [],
   "source": [
    "s_negative = s[s < 0]\n",
    "s_positive = s[s > 0]"
   ]
  },
  {
   "cell_type": "code",
   "execution_count": null,
   "id": "225c776d",
   "metadata": {},
   "outputs": [],
   "source": [
    "s_positive"
   ]
  },
  {
   "cell_type": "code",
   "execution_count": null,
   "id": "6c41b8ff",
   "metadata": {},
   "outputs": [],
   "source": [
    "rxn_idx_list = s_positive.index.to_list()\n",
    "enz_metabolite_ids = [rxn_idx.replace(\"draw_\", \"\") + \"[c]\" for rxn_idx in rxn_idx_list]\n",
    "\n",
    "participating_rxn_ids = []\n",
    "enz_usage_fluxes = []\n",
    "for idx, enz_metabolite_id in enumerate(enz_metabolite_ids):\n",
    "    enz_participating_rxns = list(wt_ec.model.metabolites.get_by_id(enz_metabolite_id)._reaction)\n",
    "    enz_participating_rxn_ids = [enz_participating_rxn.id for enz_participating_rxn in enz_participating_rxns]\n",
    "    participating_rxn_ids.extend(enz_participating_rxn_ids)\n",
    "    enz_usage_fluxes.extend([s_positive[idx]] * len(enz_participating_rxn_ids))\n",
    "    \n",
    "# Subsystems that correspond to the participating reactions\n",
    "subsystem_list = [\n",
    "    subsystem_dict[rxn_id[:6]]\n",
    "    if rxn_id[:2] == \"r_\"\n",
    "    else 'Enzyme usage'\n",
    "    for rxn_id in participating_rxn_ids\n",
    "]"
   ]
  },
  {
   "cell_type": "code",
   "execution_count": null,
   "id": "ea808d42",
   "metadata": {},
   "outputs": [],
   "source": [
    "participating_rxn_df = pd.DataFrame(\n",
    "    {\n",
    "        'participating_rxn_id': participating_rxn_ids,\n",
    "        'subsystem': subsystem_list,\n",
    "        'enz_usage_flux': enz_usage_fluxes,\n",
    "    }\n",
    ")"
   ]
  },
  {
   "cell_type": "code",
   "execution_count": null,
   "id": "99053628",
   "metadata": {},
   "outputs": [],
   "source": [
    "participating_rxn_df"
   ]
  },
  {
   "cell_type": "code",
   "execution_count": null,
   "id": "b3c715de",
   "metadata": {},
   "outputs": [],
   "source": [
    "table = pd.pivot_table(participating_rxn_df, values='enz_usage_flux', index='subsystem', aggfunc=np.sum)"
   ]
  },
  {
   "cell_type": "code",
   "execution_count": null,
   "id": "bb2baeff",
   "metadata": {},
   "outputs": [],
   "source": [
    "table.drop(['Enzyme usage'], inplace=True)"
   ]
  },
  {
   "cell_type": "code",
   "execution_count": null,
   "id": "a83e5243",
   "metadata": {},
   "outputs": [],
   "source": [
    "table = table.sort_values(ascending=False, by='enz_usage_flux')"
   ]
  },
  {
   "cell_type": "code",
   "execution_count": null,
   "id": "277d0a9e",
   "metadata": {},
   "outputs": [],
   "source": [
    "table"
   ]
  },
  {
   "cell_type": "code",
   "execution_count": null,
   "id": "da9d6337",
   "metadata": {},
   "outputs": [],
   "source": [
    "ax = table.plot.barh()\n",
    "ax.invert_yaxis()"
   ]
  }
 ],
 "metadata": {
  "kernelspec": {
   "display_name": "fba",
   "language": "python",
   "name": "fba"
  },
  "language_info": {
   "codemirror_mode": {
    "name": "ipython",
    "version": 3
   },
   "file_extension": ".py",
   "mimetype": "text/x-python",
   "name": "python",
   "nbconvert_exporter": "python",
   "pygments_lexer": "ipython3",
   "version": "3.8.14"
  }
 },
 "nbformat": 4,
 "nbformat_minor": 5
}

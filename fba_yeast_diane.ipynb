{
 "cells": [
  {
   "cell_type": "markdown",
   "metadata": {
    "hideCode": false,
    "hidePrompt": false
   },
   "source": [
    "# Yeast model FBA"
   ]
  },
  {
   "cell_type": "code",
   "execution_count": null,
   "metadata": {
    "hideCode": false,
    "hidePrompt": false
   },
   "outputs": [],
   "source": [
    "%reload_ext autoreload\n",
    "%autoreload 1\n",
    "%matplotlib inline\n",
    "\n",
    "import matplotlib.pyplot as plt\n",
    "import numpy as np\n",
    "import cobra\n",
    "import escher"
   ]
  },
  {
   "cell_type": "code",
   "execution_count": null,
   "metadata": {
    "hideCode": false,
    "hidePrompt": false
   },
   "outputs": [],
   "source": [
    "model = cobra.io.load_json_model(\"./models/iMM904.json\")\n",
    "model"
   ]
  },
  {
   "cell_type": "code",
   "execution_count": null,
   "metadata": {},
   "outputs": [],
   "source": [
    "[model.reactions.get_by_id(r).name for r in model.medium.keys()]"
   ]
  },
  {
   "cell_type": "code",
   "execution_count": null,
   "metadata": {
    "hideCode": false,
    "hidePrompt": false
   },
   "outputs": [],
   "source": [
    "model.reactions.BIOMASS_SC5_notrace"
   ]
  },
  {
   "cell_type": "markdown",
   "metadata": {
    "hideCode": false,
    "hidePrompt": false
   },
   "source": [
    "The objective reaction in this case combines amino acids (building proteins?)"
   ]
  },
  {
   "cell_type": "code",
   "execution_count": null,
   "metadata": {},
   "outputs": [],
   "source": [
    "solution = model.optimize()"
   ]
  },
  {
   "cell_type": "code",
   "execution_count": null,
   "metadata": {
    "hideCode": false,
    "hidePrompt": false
   },
   "outputs": [],
   "source": [
    "b = escher.Builder(map_name='iMM904.Central carbon metabolism',\n",
    "                  reaction_data=solution.fluxes.to_dict())"
   ]
  },
  {
   "cell_type": "code",
   "execution_count": null,
   "metadata": {},
   "outputs": [],
   "source": [
    "b"
   ]
  },
  {
   "cell_type": "code",
   "execution_count": null,
   "metadata": {},
   "outputs": [],
   "source": [
    "solution.fluxes.to_dict()"
   ]
  },
  {
   "cell_type": "code",
   "execution_count": null,
   "metadata": {
    "hideCode": false,
    "hidePrompt": false
   },
   "outputs": [],
   "source": [
    "# set glucose intake to something \"feasible\"\n",
    "# TODO value for ecoli, check value for yeast\n",
    "model.reactions.EX_glc__D_e.bounds = (-18.5, 1)"
   ]
  },
  {
   "cell_type": "markdown",
   "metadata": {
    "hideCode": false,
    "hidePrompt": false
   },
   "source": [
    "# Aerobic vs anaerobic growth\n",
    "Doing the same tests as for ecoli\n",
    "\n",
    "## Aerobic growth"
   ]
  },
  {
   "cell_type": "code",
   "execution_count": null,
   "metadata": {
    "hideCode": false,
    "hidePrompt": false
   },
   "outputs": [],
   "source": [
    "model.reactions.EX_o2_e.bounds = (-1000, 1)\n",
    "solution = model.optimize()\n",
    "print(\"Growth rate: %.2f\" %solution.objective_value)"
   ]
  },
  {
   "cell_type": "code",
   "execution_count": null,
   "metadata": {
    "hideCode": false,
    "hidePrompt": false
   },
   "outputs": [],
   "source": [
    "model.summary()"
   ]
  },
  {
   "cell_type": "code",
   "execution_count": null,
   "metadata": {
    "hideCode": false,
    "hidePrompt": false
   },
   "outputs": [],
   "source": [
    "b = escher.Builder(map_name='iMM904.Central carbon metabolism',\n",
    "                  reaction_data=solution.fluxes.to_dict())\n",
    "b"
   ]
  },
  {
   "cell_type": "markdown",
   "metadata": {
    "hideCode": false,
    "hidePrompt": false
   },
   "source": [
    "## Anaerobic growth"
   ]
  },
  {
   "cell_type": "code",
   "execution_count": null,
   "metadata": {
    "hideCode": false,
    "hidePrompt": false
   },
   "outputs": [],
   "source": [
    "model.reactions.EX_o2_e.bounds = (0, 1)\n",
    "solution = model.optimize()\n",
    "print(\"Growth rate: %.2f\" %solution.objective_value)"
   ]
  },
  {
   "cell_type": "code",
   "execution_count": null,
   "metadata": {
    "hideCode": false,
    "hidePrompt": false
   },
   "outputs": [],
   "source": [
    "model.summary()"
   ]
  },
  {
   "cell_type": "code",
   "execution_count": null,
   "metadata": {
    "hideCode": false,
    "hidePrompt": false
   },
   "outputs": [],
   "source": [
    "b = escher.Builder(map_name='iMM904.Central carbon metabolism',\n",
    "                  reaction_data=solution.fluxes.to_dict())\n",
    "b"
   ]
  },
  {
   "cell_type": "markdown",
   "metadata": {
    "hideCode": false,
    "hidePrompt": false
   },
   "source": [
    "## Finding the switch"
   ]
  },
  {
   "cell_type": "code",
   "execution_count": null,
   "metadata": {
    "hideCode": false,
    "hidePrompt": false
   },
   "outputs": [],
   "source": [
    "objective = []\n",
    "co2_flux = []\n",
    "h2o_flux = []\n",
    "ethanol_flux = []\n",
    "pyrdc_flux = []\n",
    "bounds = np.arange(-100,0,0.1)\n",
    "for i in bounds:\n",
    "    model.reactions.EX_o2_e.bounds = (i,0)\n",
    "    sol = model.optimize()\n",
    "    objective.append(sol.objective_value)\n",
    "    co2_flux.append(sol.fluxes.EX_co2_e)\n",
    "    h2o_flux.append(sol.fluxes.EX_h2o_e)\n",
    "    ethanol_flux.append(sol.fluxes.EX_etoh_e)\n",
    "    pyrdc_flux.append(sol.fluxes.PYRDC)"
   ]
  },
  {
   "cell_type": "code",
   "execution_count": null,
   "metadata": {
    "hideCode": false,
    "hidePrompt": false
   },
   "outputs": [],
   "source": [
    "fig, ax = plt.subplots(2,3)\n",
    "ax[0][0].plot(objective, label=\"objective\", color=\"red\")\n",
    "ax[0][1].plot(co2_flux, label=\"CO2\", color=\"blue\")\n",
    "ax[0][2].axis(\"off\")\n",
    "ax[1][0].plot(ethanol_flux, label=\"ethanol\", color=\"green\")\n",
    "ax[1][1].plot(h2o_flux, label=\"H2O\", color=\"yellow\")\n",
    "ax[1][2].plot(pyrdc_flux, label=\"PYRDC\", color=\"purple\")\n",
    "fig.suptitle(\"Fluxes for decreasing O2 uptake\")\n",
    "fig.legend()\n",
    "plt.show()"
   ]
  },
  {
   "cell_type": "markdown",
   "metadata": {
    "hideCode": false,
    "hidePrompt": false
   },
   "source": [
    "## Changing the medium"
   ]
  },
  {
   "cell_type": "code",
   "execution_count": null,
   "metadata": {
    "hideCode": false,
    "hidePrompt": false
   },
   "outputs": [],
   "source": [
    "#glucose to fructose\n",
    "with model as model:\n",
    "    model.reactions.EX_glc__D_e.bounds = (0, 1)\n",
    "    model.reactions.EX_fru_e.bounds = (-20, 1)\n",
    "    model.reactions.EX_o2_e.bounds = (-1000, 1)\n",
    "    solution = model.optimize()\n",
    "    model.summary()\n"
   ]
  },
  {
   "cell_type": "code",
   "execution_count": null,
   "metadata": {
    "hideCode": false,
    "hidePrompt": false
   },
   "outputs": [],
   "source": [
    "b = escher.Builder(map_name='iMM904.Central carbon metabolism',\n",
    "                  reaction_data=solution.fluxes.to_dict())\n",
    "b"
   ]
  },
  {
   "cell_type": "markdown",
   "metadata": {
    "hideCode": false,
    "hidePrompt": false
   },
   "source": [
    "## Mixing sugars\n",
    "Move the bounds of fructose and glucose."
   ]
  },
  {
   "cell_type": "code",
   "execution_count": null,
   "metadata": {
    "hideCode": false,
    "hidePrompt": false
   },
   "outputs": [],
   "source": [
    "# fixed glucose, increase fructose\n",
    "# find flow through fructose\n",
    "fru_flow = []\n",
    "glc_flow = []\n",
    "grad = np.arange(-20,-40, -1)\n",
    "with model as model:\n",
    "    model.reactions.EX_glc__D_e.bounds = (-20, 1)\n",
    "    for i in grad:\n",
    "        model.reactions.EX_fru_e.bounds = (i, 1)\n",
    "        sol = model.optimize()\n",
    "        fru_flow.append(-sol.fluxes.EX_fru_e)\n",
    "        glc_flow.append(-sol.fluxes.EX_glc__D_e)\n",
    "    model.summary()"
   ]
  },
  {
   "cell_type": "code",
   "execution_count": null,
   "metadata": {
    "hideCode": false,
    "hidePrompt": false
   },
   "outputs": [],
   "source": [
    "plt.plot(grad, fru_flow, label=\"fructose\")\n",
    "plt.plot(grad, glc_flow, label=\"glucose\")\n",
    "plt.legend()"
   ]
  },
  {
   "cell_type": "markdown",
   "metadata": {
    "hideCode": false,
    "hidePrompt": false
   },
   "source": [
    "#### Additional constraint: oxygen uptake limited."
   ]
  },
  {
   "cell_type": "code",
   "execution_count": null,
   "metadata": {
    "hideCode": false,
    "hidePrompt": false
   },
   "outputs": [],
   "source": [
    "# fixed glucose, increase fructose\n",
    "# find flow through fructose\n",
    "fru_flow = []\n",
    "glc_flow = []\n",
    "etoh_flow = []\n",
    "o2_flow = []\n",
    "grad = np.arange(0,40, 1)\n",
    "with model as model:\n",
    "    model.reactions.EX_o2_e.bounds = (-100, 1)\n",
    "    model.reactions.EX_glc__D_e.bounds = (-20, 1)\n",
    "    for i in grad:\n",
    "        model.reactions.EX_fru_e.bounds = (-i, 1)\n",
    "        sol = model.optimize()\n",
    "        etoh_flow.append(abs(sol.fluxes.EX_etoh_e))\n",
    "        fru_flow.append(abs(sol.fluxes.EX_fru_e))\n",
    "        glc_flow.append(abs(sol.fluxes.EX_glc__D_e))\n",
    "        o2_flow.append(abs(sol.fluxes.EX_o2_e))\n",
    "    model.summary()"
   ]
  },
  {
   "cell_type": "code",
   "execution_count": null,
   "metadata": {
    "hideCode": false,
    "hidePrompt": false
   },
   "outputs": [],
   "source": [
    "fig, ax = plt.subplots(2,2)\n",
    "ax[0][0].plot(grad, fru_flow, color=\"blue\", label=\"fructose\")\n",
    "ax[0][1].plot(grad, glc_flow, color=\"red\", label=\"glucose\")\n",
    "ax[1][0].plot(grad, etoh_flow, color=\"green\", label=\"ethanol\")\n",
    "ax[1][1].plot(grad, o2_flow, color=\"orange\", label=\"oxygen\")\n",
    "fig.legend()"
   ]
  },
  {
   "cell_type": "code",
   "execution_count": null,
   "metadata": {
    "hideCode": false,
    "hidePrompt": false
   },
   "outputs": [],
   "source": [
    "b = escher.Builder(map_name='iMM904.Central carbon metabolism',\n",
    "                  reaction_data=sol.fluxes.to_dict())\n",
    "b"
   ]
  },
  {
   "cell_type": "markdown",
   "metadata": {
    "hideCode": false,
    "hidePrompt": false
   },
   "source": [
    "#### Additional constraint: oxygen and ammonia uptake limited."
   ]
  },
  {
   "cell_type": "code",
   "execution_count": null,
   "metadata": {
    "hideCode": false,
    "hidePrompt": false
   },
   "outputs": [],
   "source": [
    "# fixed glucose, increase fructose\n",
    "# find flow through fructose\n",
    "fru_flow = []\n",
    "glc_flow = []\n",
    "etoh_flow = []\n",
    "o2_flow = []\n",
    "grad = np.arange(0,40, 1)\n",
    "with model as model:\n",
    "    model.reactions.EX_o2_e.bounds = (-100, 1)\n",
    "    model.reactions.EX_nh4_e.bounds = (-23, 1)\n",
    "    model.reactions.EX_glc__D_e.bounds = (-20, 1)\n",
    "    for i in grad:\n",
    "        model.reactions.EX_fru_e.bounds = (-i, 1)\n",
    "        sol = model.optimize()\n",
    "        etoh_flow.append(abs(sol.fluxes.EX_etoh_e))\n",
    "        fru_flow.append(abs(sol.fluxes.EX_fru_e))\n",
    "        glc_flow.append(abs(sol.fluxes.EX_glc__D_e))\n",
    "        o2_flow.append(abs(sol.fluxes.EX_o2_e))\n",
    "    model.summary()"
   ]
  },
  {
   "cell_type": "code",
   "execution_count": null,
   "metadata": {
    "hideCode": false,
    "hidePrompt": false
   },
   "outputs": [],
   "source": [
    "fig, ax = plt.subplots(2,2)\n",
    "ax[0][0].plot(grad, fru_flow, color=\"blue\", label=\"fructose\")\n",
    "ax[0][1].plot(grad, glc_flow, color=\"red\", label=\"glucose\")\n",
    "ax[1][0].plot(grad, etoh_flow, color=\"green\", label=\"ethanol\")\n",
    "ax[1][1].plot(grad, o2_flow, color=\"orange\", label=\"oxygen\")\n",
    "fig.legend()"
   ]
  },
  {
   "cell_type": "code",
   "execution_count": null,
   "metadata": {
    "hideCode": false,
    "hidePrompt": false
   },
   "outputs": [],
   "source": [
    "b = escher.Builder(map_name='iMM904.Central carbon metabolism',\n",
    "                  reaction_data=sol.fluxes.to_dict())\n",
    "b"
   ]
  },
  {
   "cell_type": "markdown",
   "metadata": {
    "hideCode": false,
    "hidePrompt": false
   },
   "source": [
    "## Testing essentiality of reactions"
   ]
  },
  {
   "cell_type": "code",
   "execution_count": null,
   "metadata": {
    "hideCode": false,
    "hidePrompt": false
   },
   "outputs": [],
   "source": [
    "essential_reactions = {''}"
   ]
  },
  {
   "cell_type": "code",
   "execution_count": null,
   "metadata": {
    "hideCode": false,
    "hidePrompt": false
   },
   "outputs": [],
   "source": [
    "%%time\n",
    "# Check essential reactions\n",
    "\n",
    "for i in range(10):\n",
    "    for reaction in model.reactions:\n",
    "        with model as model: #using the model as a context\n",
    "            reaction.knock_out()\n",
    "            model.optimize()\n",
    "            if model.objective.value<= 0.01:\n",
    "                essential_reactions.add(reaction.id)\n",
    "            "
   ]
  },
  {
   "cell_type": "code",
   "execution_count": null,
   "metadata": {
    "hideCode": false,
    "hidePrompt": false
   },
   "outputs": [],
   "source": [
    "print(len(essential_reactions), len(model.reactions))"
   ]
  },
  {
   "cell_type": "code",
   "execution_count": null,
   "metadata": {
    "hideCode": false,
    "hidePrompt": false
   },
   "outputs": [],
   "source": [
    "import random\n",
    "random.sample(essential_reactions, 5)"
   ]
  },
  {
   "cell_type": "markdown",
   "metadata": {
    "hideCode": false,
    "hidePrompt": false
   },
   "source": [
    "## Genes?"
   ]
  },
  {
   "cell_type": "code",
   "execution_count": null,
   "metadata": {
    "hideCode": false,
    "hidePrompt": false
   },
   "outputs": [],
   "source": [
    "pgi = model.reactions.PGI\n",
    "gpr = pgi.gene_reaction_rule\n",
    "gpr"
   ]
  },
  {
   "cell_type": "code",
   "execution_count": null,
   "metadata": {
    "hideCode": false,
    "hidePrompt": false
   },
   "outputs": [],
   "source": [
    "pgi.genes"
   ]
  },
  {
   "cell_type": "code",
   "execution_count": null,
   "metadata": {
    "hideCode": false,
    "hidePrompt": false
   },
   "outputs": [],
   "source": [
    "pgi_gene = model.genes.YBR196C\n",
    "pgi_gene.reactions"
   ]
  }
 ],
 "metadata": {
  "hide_code_all_hidden": false,
  "kernelspec": {
   "display_name": "fba",
   "language": "python",
   "name": "fba"
  },
  "language_info": {
   "codemirror_mode": {
    "name": "ipython",
    "version": 3
   },
   "file_extension": ".py",
   "mimetype": "text/x-python",
   "name": "python",
   "nbconvert_exporter": "python",
   "pygments_lexer": "ipython3",
   "version": "3.7.9"
  }
 },
 "nbformat": 4,
 "nbformat_minor": 2
}

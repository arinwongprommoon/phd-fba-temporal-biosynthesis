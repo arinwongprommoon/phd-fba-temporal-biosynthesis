{
 "cells": [
  {
   "cell_type": "markdown",
   "id": "98316e56",
   "metadata": {},
   "source": [
    "Import stuff"
   ]
  },
  {
   "cell_type": "code",
   "execution_count": null,
   "id": "03a24339",
   "metadata": {},
   "outputs": [],
   "source": [
    "%reload_ext autoreload\n",
    "%autoreload 1\n",
    "%matplotlib inline\n",
    "\n",
    "import matplotlib.pyplot as plt\n",
    "import numpy as np\n",
    "import cobra\n",
    "import escher"
   ]
  },
  {
   "cell_type": "markdown",
   "id": "5bbc1424",
   "metadata": {},
   "source": [
    "Load model"
   ]
  },
  {
   "cell_type": "code",
   "execution_count": null,
   "id": "e9015a22",
   "metadata": {},
   "outputs": [],
   "source": [
    "model = cobra.io.read_sbml_model(\"./models/yeast-GEM-BiGG.xml\")\n",
    "model"
   ]
  },
  {
   "cell_type": "markdown",
   "id": "4f1b703f",
   "metadata": {},
   "source": [
    "Objective function is `GROWTH` in the yeast-GEM model, inspecting it and related reactions:"
   ]
  },
  {
   "cell_type": "code",
   "execution_count": null,
   "id": "f00fa83a",
   "metadata": {},
   "outputs": [],
   "source": [
    "model.reactions.get_by_id('GROWTH')"
   ]
  },
  {
   "cell_type": "code",
   "execution_count": null,
   "id": "53774998",
   "metadata": {},
   "outputs": [],
   "source": [
    "model.metabolites.get_by_id('biomass_c')"
   ]
  },
  {
   "cell_type": "code",
   "execution_count": null,
   "id": "e38d56f5",
   "metadata": {},
   "outputs": [],
   "source": [
    "# This is the biomass pseudoreaction -- we're interested in the stoichiometry of this.\n",
    "biomass = model.reactions.get_by_id('BIOMASS_yeast-GEM')\n",
    "biomass\n",
    "# Conveniently, it has one 'metabolite' for all lipids, one for all proteins,\n",
    "# one for RNA, etc.  We want to remove each in turn, so if it's written in this way,\n",
    "# it's super easy to do so."
   ]
  },
  {
   "cell_type": "markdown",
   "id": "15922521",
   "metadata": {},
   "source": [
    "Inspecting each type of macromolecule..."
   ]
  },
  {
   "cell_type": "markdown",
   "id": "192393d8",
   "metadata": {},
   "source": [
    "Lipid"
   ]
  },
  {
   "cell_type": "code",
   "execution_count": null,
   "id": "41c0f7cb",
   "metadata": {},
   "outputs": [],
   "source": [
    "model.metabolites.get_by_id('s_1096')"
   ]
  },
  {
   "cell_type": "code",
   "execution_count": null,
   "id": "cc3e810b",
   "metadata": {},
   "outputs": [],
   "source": [
    "model.reactions.get_by_id('BIOMASS_yeast-GEM_LIP')"
   ]
  },
  {
   "cell_type": "markdown",
   "id": "1c33c550",
   "metadata": {},
   "source": [
    "Protein"
   ]
  },
  {
   "cell_type": "code",
   "execution_count": null,
   "id": "bde91d3a",
   "metadata": {},
   "outputs": [],
   "source": [
    "model.metabolites.get_by_id('protein_c')"
   ]
  },
  {
   "cell_type": "code",
   "execution_count": null,
   "id": "bce7b91f",
   "metadata": {},
   "outputs": [],
   "source": [
    "model.reactions.get_by_id('BIOMASS_yeast-GEM_PROT')"
   ]
  },
  {
   "cell_type": "markdown",
   "id": "888cd23b",
   "metadata": {},
   "source": [
    "Simulate model and view fluxes"
   ]
  },
  {
   "cell_type": "code",
   "execution_count": null,
   "id": "ebd2bc00",
   "metadata": {},
   "outputs": [],
   "source": [
    "solution = model.optimize()\n",
    "b = escher.Builder(\n",
    "    map_name='iMM904.Central carbon metabolism',\n",
    "    reaction_data=solution.fluxes.to_dict()\n",
    ")\n",
    "b"
   ]
  },
  {
   "cell_type": "markdown",
   "id": "db373254",
   "metadata": {},
   "source": [
    "Modify biomass reaction"
   ]
  },
  {
   "cell_type": "markdown",
   "id": "727437ea",
   "metadata": {},
   "source": [
    "Remove lipid"
   ]
  },
  {
   "cell_type": "code",
   "execution_count": null,
   "id": "f52bd049",
   "metadata": {},
   "outputs": [],
   "source": [
    "biomass.subtract_metabolites({\n",
    "    model.metabolites.get_by_id('s_1096'): -1\n",
    "})"
   ]
  },
  {
   "cell_type": "code",
   "execution_count": null,
   "id": "487e4c31",
   "metadata": {},
   "outputs": [],
   "source": [
    "model.optimize()"
   ]
  }
 ],
 "metadata": {
  "kernelspec": {
   "display_name": "fba",
   "language": "python",
   "name": "fba"
  },
  "language_info": {
   "codemirror_mode": {
    "name": "ipython",
    "version": 3
   },
   "file_extension": ".py",
   "mimetype": "text/x-python",
   "name": "python",
   "nbconvert_exporter": "python",
   "pygments_lexer": "ipython3",
   "version": "3.7.9"
  }
 },
 "nbformat": 4,
 "nbformat_minor": 5
}

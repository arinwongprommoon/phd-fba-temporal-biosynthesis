{
 "cells": [
  {
   "cell_type": "markdown",
   "id": "cbc523a8",
   "metadata": {},
   "source": [
    "Import stuff"
   ]
  },
  {
   "cell_type": "code",
   "execution_count": 2,
   "id": "8a14209e",
   "metadata": {},
   "outputs": [],
   "source": [
    "%reload_ext autoreload\n",
    "%autoreload 1\n",
    "%matplotlib inline\n",
    "\n",
    "import matplotlib.pyplot as plt\n",
    "import numpy as np\n",
    "import cobra\n",
    "import escher"
   ]
  },
  {
   "cell_type": "markdown",
   "id": "a8c73acf",
   "metadata": {},
   "source": [
    "Load model"
   ]
  },
  {
   "cell_type": "code",
   "execution_count": 3,
   "id": "e1b72f79",
   "metadata": {},
   "outputs": [
    {
     "name": "stdout",
     "output_type": "stream",
     "text": [
      "Scaling...\n",
      " A: min|aij| =  1.000e+00  max|aij| =  1.000e+00  ratio =  1.000e+00\n",
      "Problem data seem to be well scaled\n"
     ]
    },
    {
     "data": {
      "text/html": [
       "\n",
       "        <table>\n",
       "            <tr>\n",
       "                <td><strong>Name</strong></td>\n",
       "                <td>yeastGEM_v8__46__6__46__0</td>\n",
       "            </tr><tr>\n",
       "                <td><strong>Memory address</strong></td>\n",
       "                <td>0x07fb3545d8b90</td>\n",
       "            </tr><tr>\n",
       "                <td><strong>Number of metabolites</strong></td>\n",
       "                <td>2749</td>\n",
       "            </tr><tr>\n",
       "                <td><strong>Number of reactions</strong></td>\n",
       "                <td>4069</td>\n",
       "            </tr><tr>\n",
       "                <td><strong>Number of groups</strong></td>\n",
       "                <td>3</td>\n",
       "            </tr><tr>\n",
       "                <td><strong>Objective expression</strong></td>\n",
       "                <td>1.0*r_2111 - 1.0*r_2111_reverse_58b69</td>\n",
       "            </tr><tr>\n",
       "                <td><strong>Compartments</strong></td>\n",
       "                <td>cell envelope, cytoplasm, extracellular, mitochondrion, nucleus, peroxisome, endoplasmic reticulum, Golgi, lipid particle, vacuole, endoplasmic reticulum membrane, vacuolar membrane, Golgi membrane, mitochondrial membrane</td>\n",
       "            </tr>\n",
       "          </table>"
      ],
      "text/plain": [
       "<Model yeastGEM_v8__46__6__46__0 at 0x7fb3545d8b90>"
      ]
     },
     "execution_count": 3,
     "metadata": {},
     "output_type": "execute_result"
    }
   ],
   "source": [
    "model = cobra.io.read_sbml_model(\"./models/yeast-GEM.xml\")\n",
    "model"
   ]
  },
  {
   "cell_type": "markdown",
   "id": "453d0f39",
   "metadata": {},
   "source": [
    "Objective function is `r_2111` in the yeast-GEM model, inspecting it and related reactions:"
   ]
  },
  {
   "cell_type": "code",
   "execution_count": 4,
   "id": "5486dcec",
   "metadata": {},
   "outputs": [
    {
     "data": {
      "text/html": [
       "\n",
       "        <table>\n",
       "            <tr>\n",
       "                <td><strong>Reaction identifier</strong></td><td>r_2111</td>\n",
       "            </tr><tr>\n",
       "                <td><strong>Name</strong></td><td>growth</td>\n",
       "            </tr><tr>\n",
       "                <td><strong>Memory address</strong></td>\n",
       "                <td>0x7fb30e07a0d0</td>\n",
       "            </tr><tr>\n",
       "                <td><strong>Stoichiometry</strong></td>\n",
       "                <td>\n",
       "                    <p style='text-align:right'>s_0450 --></p>\n",
       "                    <p style='text-align:right'>biomass --></p>\n",
       "                </td>\n",
       "            </tr><tr>\n",
       "                <td><strong>GPR</strong></td><td></td>\n",
       "            </tr><tr>\n",
       "                <td><strong>Lower bound</strong></td><td>0.0</td>\n",
       "            </tr><tr>\n",
       "                <td><strong>Upper bound</strong></td><td>1000.0</td>\n",
       "            </tr>\n",
       "        </table>\n",
       "        "
      ],
      "text/plain": [
       "<Reaction r_2111 at 0x7fb30e07a0d0>"
      ]
     },
     "execution_count": 4,
     "metadata": {},
     "output_type": "execute_result"
    }
   ],
   "source": [
    "model.reactions.r_2111"
   ]
  },
  {
   "cell_type": "code",
   "execution_count": 12,
   "id": "d9167ab0",
   "metadata": {},
   "outputs": [
    {
     "data": {
      "text/html": [
       "\n",
       "        <table>\n",
       "            <tr>\n",
       "                <td><strong>Metabolite identifier</strong></td><td>s_0450</td>\n",
       "            </tr><tr>\n",
       "                <td><strong>Name</strong></td><td>biomass</td>\n",
       "            </tr><tr>\n",
       "                <td><strong>Memory address</strong></td>\n",
       "                <td>0x7fb30f2e6b10</td>\n",
       "            </tr><tr>\n",
       "                <td><strong>Formula</strong></td><td></td>\n",
       "            </tr><tr>\n",
       "                <td><strong>Compartment</strong></td><td>c</td>\n",
       "            </tr><tr>\n",
       "                <td><strong>In 2 reaction(s)</strong></td><td>\n",
       "                    r_4041, r_2111\n",
       "                    </td>\n",
       "            </tr>\n",
       "        </table>"
      ],
      "text/plain": [
       "<Metabolite s_0450 at 0x7fb30f2e6b10>"
      ]
     },
     "execution_count": 12,
     "metadata": {},
     "output_type": "execute_result"
    }
   ],
   "source": [
    "model.metabolites.get_by_id('s_0450')"
   ]
  },
  {
   "cell_type": "code",
   "execution_count": 13,
   "id": "c08816ae",
   "metadata": {},
   "outputs": [
    {
     "data": {
      "text/html": [
       "\n",
       "        <table>\n",
       "            <tr>\n",
       "                <td><strong>Reaction identifier</strong></td><td>r_4041</td>\n",
       "            </tr><tr>\n",
       "                <td><strong>Name</strong></td><td>biomass pseudoreaction</td>\n",
       "            </tr><tr>\n",
       "                <td><strong>Memory address</strong></td>\n",
       "                <td>0x7fb30e7a0d50</td>\n",
       "            </tr><tr>\n",
       "                <td><strong>Stoichiometry</strong></td>\n",
       "                <td>\n",
       "                    <p style='text-align:right'>55.3 s_0434 + 55.3 s_0803 + s_1096 + s_3717 + s_3718 + s_3719 + s_3720 + s_4205 + s_4206 --> 55.3 s_0394 + s_0450 + 55.3 s_0794 + 55.3 s_1322</p>\n",
       "                    <p style='text-align:right'>55.3 ATP + 55.3 H2O + lipid + protein + carbohydrate + RNA + DNA + cofactor + ion --> 55.3 ADP + biomass + 55.3 H+ + 55.3 phosphate</p>\n",
       "                </td>\n",
       "            </tr><tr>\n",
       "                <td><strong>GPR</strong></td><td></td>\n",
       "            </tr><tr>\n",
       "                <td><strong>Lower bound</strong></td><td>0.0</td>\n",
       "            </tr><tr>\n",
       "                <td><strong>Upper bound</strong></td><td>1000.0</td>\n",
       "            </tr>\n",
       "        </table>\n",
       "        "
      ],
      "text/plain": [
       "<Reaction r_4041 at 0x7fb30e7a0d50>"
      ]
     },
     "execution_count": 13,
     "metadata": {},
     "output_type": "execute_result"
    }
   ],
   "source": [
    "# This is the biomass pseudoreaction -- we're interested in the stoichiometry of this.\n",
    "model.reactions.r_4041\n",
    "# Conveniently, it has one 'metabolite' for all lipids, one for all proteins,\n",
    "# one for RNA, etc.  We want to remove each in turn, so if it's written in this way,\n",
    "# it's super easy to do so."
   ]
  },
  {
   "cell_type": "markdown",
   "id": "b3d91b04",
   "metadata": {},
   "source": [
    "Inspecting each type of macromolecule..."
   ]
  },
  {
   "cell_type": "markdown",
   "id": "e7c4cd73",
   "metadata": {},
   "source": [
    "Lipid"
   ]
  },
  {
   "cell_type": "code",
   "execution_count": 16,
   "id": "424f2499",
   "metadata": {},
   "outputs": [
    {
     "data": {
      "text/html": [
       "\n",
       "        <table>\n",
       "            <tr>\n",
       "                <td><strong>Metabolite identifier</strong></td><td>s_1096</td>\n",
       "            </tr><tr>\n",
       "                <td><strong>Name</strong></td><td>lipid</td>\n",
       "            </tr><tr>\n",
       "                <td><strong>Memory address</strong></td>\n",
       "                <td>0x7fb30f1c91d0</td>\n",
       "            </tr><tr>\n",
       "                <td><strong>Formula</strong></td><td></td>\n",
       "            </tr><tr>\n",
       "                <td><strong>Compartment</strong></td><td>c</td>\n",
       "            </tr><tr>\n",
       "                <td><strong>In 2 reaction(s)</strong></td><td>\n",
       "                    r_2108, r_4041\n",
       "                    </td>\n",
       "            </tr>\n",
       "        </table>"
      ],
      "text/plain": [
       "<Metabolite s_1096 at 0x7fb30f1c91d0>"
      ]
     },
     "execution_count": 16,
     "metadata": {},
     "output_type": "execute_result"
    }
   ],
   "source": [
    "model.metabolites.get_by_id('s_1096')"
   ]
  },
  {
   "cell_type": "code",
   "execution_count": 17,
   "id": "e19b4ea3",
   "metadata": {},
   "outputs": [
    {
     "data": {
      "text/html": [
       "\n",
       "        <table>\n",
       "            <tr>\n",
       "                <td><strong>Reaction identifier</strong></td><td>r_2108</td>\n",
       "            </tr><tr>\n",
       "                <td><strong>Name</strong></td><td>lipid pseudoreaction - merge</td>\n",
       "            </tr><tr>\n",
       "                <td><strong>Memory address</strong></td>\n",
       "                <td>0x7fb30e0ebc90</td>\n",
       "            </tr><tr>\n",
       "                <td><strong>Stoichiometry</strong></td>\n",
       "                <td>\n",
       "                    <p style='text-align:right'>s_3746 + s_3747 --> s_1096</p>\n",
       "                    <p style='text-align:right'>lipid backbone + lipid chain --> lipid</p>\n",
       "                </td>\n",
       "            </tr><tr>\n",
       "                <td><strong>GPR</strong></td><td></td>\n",
       "            </tr><tr>\n",
       "                <td><strong>Lower bound</strong></td><td>0.0</td>\n",
       "            </tr><tr>\n",
       "                <td><strong>Upper bound</strong></td><td>1000.0</td>\n",
       "            </tr>\n",
       "        </table>\n",
       "        "
      ],
      "text/plain": [
       "<Reaction r_2108 at 0x7fb30e0ebc90>"
      ]
     },
     "execution_count": 17,
     "metadata": {},
     "output_type": "execute_result"
    }
   ],
   "source": [
    "model.reactions.r_2108"
   ]
  },
  {
   "cell_type": "markdown",
   "id": "9f5b2e5e",
   "metadata": {},
   "source": [
    "Protein"
   ]
  },
  {
   "cell_type": "code",
   "execution_count": 18,
   "id": "9248b9e5",
   "metadata": {},
   "outputs": [
    {
     "data": {
      "text/html": [
       "\n",
       "        <table>\n",
       "            <tr>\n",
       "                <td><strong>Metabolite identifier</strong></td><td>s_3717</td>\n",
       "            </tr><tr>\n",
       "                <td><strong>Name</strong></td><td>protein</td>\n",
       "            </tr><tr>\n",
       "                <td><strong>Memory address</strong></td>\n",
       "                <td>0x7fb30efe5cd0</td>\n",
       "            </tr><tr>\n",
       "                <td><strong>Formula</strong></td><td></td>\n",
       "            </tr><tr>\n",
       "                <td><strong>Compartment</strong></td><td>c</td>\n",
       "            </tr><tr>\n",
       "                <td><strong>In 2 reaction(s)</strong></td><td>\n",
       "                    r_4047, r_4041\n",
       "                    </td>\n",
       "            </tr>\n",
       "        </table>"
      ],
      "text/plain": [
       "<Metabolite s_3717 at 0x7fb30efe5cd0>"
      ]
     },
     "execution_count": 18,
     "metadata": {},
     "output_type": "execute_result"
    }
   ],
   "source": [
    "model.metabolites.get_by_id('s_3717')"
   ]
  },
  {
   "cell_type": "code",
   "execution_count": 19,
   "id": "b12c6296",
   "metadata": {},
   "outputs": [
    {
     "data": {
      "text/html": [
       "\n",
       "        <table>\n",
       "            <tr>\n",
       "                <td><strong>Reaction identifier</strong></td><td>r_4047</td>\n",
       "            </tr><tr>\n",
       "                <td><strong>Name</strong></td><td>protein pseudoreaction</td>\n",
       "            </tr><tr>\n",
       "                <td><strong>Memory address</strong></td>\n",
       "                <td>0x7fb30d275810</td>\n",
       "            </tr><tr>\n",
       "                <td><strong>Stoichiometry</strong></td>\n",
       "                <td>\n",
       "                    <p style='text-align:right'>0.527012401964609 s_0404 + 0.184592178971158 s_0428 + 0.116820320233205 s_0430 + 0.341731040134025 s_0432 + 0.00758125964441183 s_0542 + 0.121070423838014 s_0747 + 0.346670343714861 s_0748 +...</p>\n",
       "                    <p style='text-align:right'>0.527012401964609 Ala-tRNA(Ala) + 0.184592178971158 Arg-tRNA(Arg) + 0.116820320233205 Asn-tRNA(Asn) + 0.341731040134025 Asp-tRNA(Asp) + 0.00758125964441183 Cys-tRNA(Cys) + 0.121070423838014 Gln-...</p>\n",
       "                </td>\n",
       "            </tr><tr>\n",
       "                <td><strong>GPR</strong></td><td></td>\n",
       "            </tr><tr>\n",
       "                <td><strong>Lower bound</strong></td><td>0.0</td>\n",
       "            </tr><tr>\n",
       "                <td><strong>Upper bound</strong></td><td>1000.0</td>\n",
       "            </tr>\n",
       "        </table>\n",
       "        "
      ],
      "text/plain": [
       "<Reaction r_4047 at 0x7fb30d275810>"
      ]
     },
     "execution_count": 19,
     "metadata": {},
     "output_type": "execute_result"
    }
   ],
   "source": [
    "model.reactions.r_4047"
   ]
  },
  {
   "cell_type": "markdown",
   "id": "f77e199b",
   "metadata": {},
   "source": [
    "Simulate model and view fluxes"
   ]
  },
  {
   "cell_type": "code",
   "execution_count": 21,
   "id": "e9af39b6",
   "metadata": {},
   "outputs": [
    {
     "name": "stdout",
     "output_type": "stream",
     "text": [
      "Downloading Map from https://escher.github.io/1-0-0/6/maps/Saccharomyces%20cerevisiae/iMM904.Central%20carbon%20metabolism.json\n"
     ]
    },
    {
     "data": {
      "application/vnd.jupyter.widget-view+json": {
       "model_id": "82a1f7a7409d4193b248faf098ea4e9c",
       "version_major": 2,
       "version_minor": 0
      },
      "text/plain": [
       "Builder(reaction_data={'r_0001': 0.0, 'r_0002': 0.0, 'r_0003': 0.0, 'r_0004': 0.0, 'r_0005': 0.061324459940565…"
      ]
     },
     "metadata": {},
     "output_type": "display_data"
    }
   ],
   "source": [
    "# ISSUE: Fluxes not shown, likely because ID mismatch between map on escher and the model.\n",
    "# TODO: Fix that\n",
    "\n",
    "solution = model.optimize()\n",
    "b = escher.Builder(\n",
    "    map_name='iMM904.Central carbon metabolism',\n",
    "    reaction_data=solution.fluxes.to_dict()\n",
    ")\n",
    "b"
   ]
  }
 ],
 "metadata": {
  "kernelspec": {
   "display_name": "fba",
   "language": "python",
   "name": "fba"
  },
  "language_info": {
   "codemirror_mode": {
    "name": "ipython",
    "version": 3
   },
   "file_extension": ".py",
   "mimetype": "text/x-python",
   "name": "python",
   "nbconvert_exporter": "python",
   "pygments_lexer": "ipython3",
   "version": "3.7.9"
  }
 },
 "nbformat": 4,
 "nbformat_minor": 5
}

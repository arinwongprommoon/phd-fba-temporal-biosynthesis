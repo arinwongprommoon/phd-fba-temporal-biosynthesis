{
 "cells": [
  {
   "cell_type": "markdown",
   "id": "98316e56",
   "metadata": {},
   "source": [
    "Import dependencies"
   ]
  },
  {
   "cell_type": "code",
   "execution_count": null,
   "id": "03a24339",
   "metadata": {},
   "outputs": [],
   "source": [
    "%reload_ext autoreload\n",
    "%autoreload 1\n",
    "%matplotlib inline\n",
    "\n",
    "import matplotlib.pyplot as plt\n",
    "import numpy as np\n",
    "import cobra\n",
    "import escher"
   ]
  },
  {
   "cell_type": "markdown",
   "id": "5bbc1424",
   "metadata": {},
   "source": [
    "# Load model"
   ]
  },
  {
   "cell_type": "markdown",
   "id": "1fd2afd1",
   "metadata": {},
   "source": [
    "Choose from alternatives"
   ]
  },
  {
   "cell_type": "code",
   "execution_count": null,
   "id": "4c9aa36d",
   "metadata": {},
   "outputs": [],
   "source": [
    "# Yeast 8\n",
    "model = cobra.io.read_sbml_model(\"../data/gemfiles/yeast-GEM-BiGG.xml\")"
   ]
  },
  {
   "cell_type": "code",
   "execution_count": null,
   "id": "3372fd9a",
   "metadata": {},
   "outputs": [],
   "source": [
    "# Enzyme-constrained Yeast 8, batch\n",
    "# https://github.com/SysBioChalmers/ecModels/tree/main/ecYeastGEM/model\n",
    "# This is supposed under CI, i.e.\n",
    "# automatically re-generated and updated when new models are available.\n",
    "# This model is based on Yeast8.3.4\n",
    "\n",
    "# Average enzyme saturation factor (sigma) = 0.5\n",
    "# Total protein content in the cell [g protein/gDw] (Ptot) = 0.5\n",
    "# Fraction of enzymes in the model [g enzyme/g protein] (f) = 0.5\n",
    "# https://github.com/SysBioChalmers/GECKO/blob/main/userData/ecYeastGEM/YeastGEMAdapter.m\n",
    "model = cobra.io.read_sbml_model(\"../data/gemfiles/ecYeastGEM_batch_8-6-0.xml\")"
   ]
  },
  {
   "cell_type": "markdown",
   "id": "5b4fcf41",
   "metadata": {},
   "source": [
    "Show model"
   ]
  },
  {
   "cell_type": "code",
   "execution_count": null,
   "id": "76a11d19",
   "metadata": {},
   "outputs": [],
   "source": [
    "model"
   ]
  },
  {
   "cell_type": "markdown",
   "id": "9b2aed99",
   "metadata": {},
   "source": [
    "# Objective function"
   ]
  },
  {
   "cell_type": "markdown",
   "id": "05ab72f6",
   "metadata": {},
   "source": [
    "In the ecYeast8 (batch) model, the objective function -- growth -- is reaction ID `r_2111`.\n",
    "\n",
    "This reaction is linked to the biomass reaction, ID `r_4041`.\n",
    "\n",
    "Here, we also see the stoichiometry.  There are five classes of macromolecules: lipids, proteins, carbohydrates, DNA, and RNA.  And there are two other bulk metabolites: cofactor and ion."
   ]
  },
  {
   "cell_type": "code",
   "execution_count": null,
   "id": "7fa4b7b5",
   "metadata": {},
   "outputs": [],
   "source": [
    "model.reactions.get_by_id('r_2111')"
   ]
  },
  {
   "cell_type": "code",
   "execution_count": null,
   "id": "462669cf",
   "metadata": {},
   "outputs": [],
   "source": [
    "model.reactions.get_by_id('r_4041')"
   ]
  },
  {
   "cell_type": "markdown",
   "id": "f681a17b",
   "metadata": {},
   "source": [
    "Medium"
   ]
  },
  {
   "cell_type": "code",
   "execution_count": null,
   "id": "c5836b2b",
   "metadata": {},
   "outputs": [],
   "source": [
    "model.medium"
   ]
  },
  {
   "cell_type": "code",
   "execution_count": null,
   "id": "b5a5a3ce",
   "metadata": {},
   "outputs": [],
   "source": [
    "for reaction_id in model.medium.keys():\n",
    "    print(model.reactions.get_by_id(reaction_id).name)"
   ]
  },
  {
   "cell_type": "markdown",
   "id": "23541b72",
   "metadata": {},
   "source": [
    "Remove bounds on glucose uptake and growth rate"
   ]
  },
  {
   "cell_type": "code",
   "execution_count": null,
   "id": "156e478b",
   "metadata": {},
   "outputs": [],
   "source": [
    "# (no need because bounds are already unrestricted)\n",
    "# Unrestrict glucose uptake\n",
    "model.reactions.get_by_id('r_1714').bounds = (-1000.0, 0)\n",
    "# Unrestrict oxygen uptake (aerobic)\n",
    "model.reactions.get_by_id('r_1992').bounds = (-1000.0, 0)\n",
    "# Unrestrict objective function\n",
    "model.reactions.get_by_id('r_4041').bounds = (0, 1000.0)"
   ]
  },
  {
   "cell_type": "markdown",
   "id": "764030fa",
   "metadata": {},
   "source": [
    "Optimise using (vanilla) FBA"
   ]
  },
  {
   "cell_type": "code",
   "execution_count": null,
   "id": "fb8fc7c2",
   "metadata": {},
   "outputs": [],
   "source": [
    "solution = model.optimize()"
   ]
  },
  {
   "cell_type": "code",
   "execution_count": null,
   "id": "0d090c5a",
   "metadata": {},
   "outputs": [],
   "source": [
    "model.summary()"
   ]
  },
  {
   "cell_type": "code",
   "execution_count": null,
   "id": "e03ed86e",
   "metadata": {},
   "outputs": [],
   "source": [
    "solution['r_0466No1']"
   ]
  },
  {
   "cell_type": "markdown",
   "id": "6d7dc9be",
   "metadata": {},
   "source": [
    "Linear reaction coefficients"
   ]
  },
  {
   "cell_type": "code",
   "execution_count": null,
   "id": "a9997f71",
   "metadata": {},
   "outputs": [],
   "source": [
    "cobra.util.solver.linear_reaction_coefficients(model)"
   ]
  },
  {
   "cell_type": "markdown",
   "id": "db373254",
   "metadata": {},
   "source": [
    "# Modify biomass reaction by ablating each type of macromolecule"
   ]
  },
  {
   "cell_type": "markdown",
   "id": "ada34a4c",
   "metadata": {},
   "source": [
    "## Some convenience classes"
   ]
  },
  {
   "cell_type": "code",
   "execution_count": null,
   "id": "c0ecde3d",
   "metadata": {},
   "outputs": [],
   "source": [
    "CELL_DRY_MASS = 15e-12 # g\n",
    "MW_BIOMASS_MMOL = 979.24108756487 / 1000\n",
    "\n",
    "class BiomassComponent():\n",
    "    def __init__(\n",
    "        self,\n",
    "        metabolite_label,\n",
    "        metabolite_id,\n",
    "        pseudoreaction,\n",
    "        molecular_mass,\n",
    "        mass_per_cell,\n",
    "        copy_number,\n",
    "    ):\n",
    "        self.metabolite_label = metabolite_label\n",
    "        self.metabolite_id = metabolite_id\n",
    "        self.pseudoreaction = pseudoreaction\n",
    "        self.molecular_mass = molecular_mass # g/mmol\n",
    "        self.mass_per_cell = mass_per_cell # g\n",
    "        self.copy_number = copy_number\n",
    "        \n",
    "        self.ablated_flux = None # h-1\n",
    "        self.est_time = None # h\n",
    "        \n",
    "    def get_est_time(self):\n",
    "        self.est_time = (self.molecular_mass/MW_BIOMASS_MMOL) * (np.log(2)/self.ablated_flux)"
   ]
  },
  {
   "cell_type": "markdown",
   "id": "6980b425",
   "metadata": {},
   "source": [
    "We use molecular weights calculated earlier and other attributes from the cell economics project."
   ]
  },
  {
   "cell_type": "code",
   "execution_count": null,
   "id": "7aeb39d1",
   "metadata": {},
   "outputs": [],
   "source": [
    "MW_CARB = 368.03795704972003\n",
    "MW_DNA = 3.9060196439999997\n",
    "MW_RNA = 64.04235752722991\n",
    "MW_PROTEIN = 504.3744234012359\n",
    "MW_COFACTOR = 4.832782477018401\n",
    "MW_ION = 2.4815607543700002\n",
    "MW_LIPID = 31.5659867112958\n",
    "MW_BIOMASS = 979.24108756487"
   ]
  },
  {
   "cell_type": "code",
   "execution_count": null,
   "id": "de2b91cb",
   "metadata": {},
   "outputs": [],
   "source": [
    "# TODO:\n",
    "# - Create CSV table containing these\n",
    "# - Create a class builder that builds these classes based on the CSV table\n",
    "# - FURTHER: make it able to deal with ranges of values (lower limit, upper limit)\n",
    "\n",
    "Lipids = BiomassComponent(\n",
    "    metabolite_label='lipid',\n",
    "    metabolite_id='s_1096[c]',\n",
    "    pseudoreaction='r_2108',\n",
    "    molecular_mass=MW_LIPID*1e-3,\n",
    "    mass_per_cell=900e-15,\n",
    "    copy_number=1e9,\n",
    ")\n",
    "\n",
    "Proteins = BiomassComponent(\n",
    "    metabolite_label='protein',\n",
    "    metabolite_id='s_3717[c]',\n",
    "    pseudoreaction='r_4047',\n",
    "    molecular_mass=MW_PROTEIN*1e-3,\n",
    "    mass_per_cell=7650e-15,\n",
    "    copy_number=1e8,\n",
    ")\n",
    "\n",
    "Carbohydrates = BiomassComponent(\n",
    "    metabolite_label='carbohydrate',\n",
    "    metabolite_id='s_3718[c]',\n",
    "    pseudoreaction='r_4048',\n",
    "    molecular_mass=MW_CARB*1e-3,\n",
    "    mass_per_cell=(75+3450)*1e-15, # 'storage carbohydrates' + 'structural polymers'\n",
    "    copy_number=2122804981, # estimated from above & avogadro's const\n",
    ")\n",
    "\n",
    "DNA = BiomassComponent(\n",
    "    metabolite_label='DNA',\n",
    "    metabolite_id='s_3720[c]',\n",
    "    pseudoreaction='r_4050',\n",
    "    molecular_mass=MW_DNA*1e-3,\n",
    "    mass_per_cell=75e-15,\n",
    "    copy_number=16,\n",
    ")\n",
    "\n",
    "RNA = BiomassComponent(\n",
    "    metabolite_label='RNA',\n",
    "    metabolite_id='s_3719[c]',\n",
    "    pseudoreaction='r_4049',\n",
    "    molecular_mass=MW_RNA*1e-3,\n",
    "    mass_per_cell=1650e-15,\n",
    "    copy_number=4e6,\n",
    ")\n",
    "\n",
    "Cofactors = BiomassComponent(\n",
    "    metabolite_label='cofactor',\n",
    "    metabolite_id='s_4205[c]',\n",
    "    pseudoreaction='r_4598',\n",
    "    molecular_mass=MW_COFACTOR*1e-3,\n",
    "    mass_per_cell=1,\n",
    "    copy_number=1,\n",
    ")\n",
    "\n",
    "Ions = BiomassComponent(\n",
    "    metabolite_label='ion',\n",
    "    metabolite_id='s_4206[c]',\n",
    "    pseudoreaction='r_4599',\n",
    "    molecular_mass=MW_ION*1e-3,\n",
    "    mass_per_cell=1,\n",
    "    copy_number=1,\n",
    ")"
   ]
  },
  {
   "cell_type": "markdown",
   "id": "63319fab",
   "metadata": {},
   "source": [
    "Copy model"
   ]
  },
  {
   "cell_type": "code",
   "execution_count": null,
   "id": "de0d2432",
   "metadata": {},
   "outputs": [],
   "source": [
    "genes_to_delete = ['ZWF1', 'ALD6', 'IDP2']\n",
    "for gene in genes_to_delete:\n",
    "    model.genes.get_by_id(gene_systematic[gene]).knock_out()"
   ]
  },
  {
   "cell_type": "code",
   "execution_count": null,
   "id": "4dd31c47",
   "metadata": {},
   "outputs": [],
   "source": [
    "model_saved = model.copy()"
   ]
  },
  {
   "cell_type": "markdown",
   "id": "43e25076",
   "metadata": {},
   "source": [
    "Simulate"
   ]
  },
  {
   "cell_type": "code",
   "execution_count": null,
   "id": "aac07401",
   "metadata": {
    "scrolled": false
   },
   "outputs": [],
   "source": [
    "from cobra.util.solver import linear_reaction_coefficients\n",
    "\n",
    "# Set up lists\n",
    "biomass_component_list = [Lipids, Proteins, Carbohydrates, DNA, RNA, Cofactors, Ions]\n",
    "\n",
    "all_metabolite_ids = [\n",
    "    biomass_component.metabolite_id\n",
    "    for biomass_component in biomass_component_list\n",
    "]\n",
    "\n",
    "all_pseudoreaction_ids = [\n",
    "    (biomass_component.metabolite_label, biomass_component.pseudoreaction)\n",
    "    for biomass_component in biomass_component_list\n",
    "]\n",
    "all_pseudoreaction_ids.append(('biomass', 'r_4041'))\n",
    "all_pseudoreaction_ids.append(('objective', 'r_2111'))\n",
    "    \n",
    "def barplot_fluxes(pfba_solution, all_pseudoreactions_ids, plot_title):\n",
    "    plt.subplots()\n",
    "    plt.bar(\n",
    "        [label for (label, _) in all_pseudoreaction_ids],\n",
    "        [pfba_solution.fluxes[pseudoreaction_id]\n",
    "         for (_, pseudoreaction_id) in all_pseudoreaction_ids],\n",
    "    )\n",
    "    plt.ylim((0,3))\n",
    "    plt.title(plot_title)\n",
    "    plt.xticks(rotation=45, ha=\"right\")\n",
    "    \n",
    "# ORIGINAL\n",
    "\n",
    "model = model_saved.copy()\n",
    "# Unrestrict glucose uptake\n",
    "model.reactions.get_by_id('r_1714').bounds = (-1000, 0)\n",
    "# Unrestrict objective function\n",
    "model.reactions.get_by_id('r_2111').bounds = (0, 1000)\n",
    "# Optimise using FBA\n",
    "fba_solution = model.optimize()\n",
    "\n",
    "# Outputs\n",
    "barplot_fluxes(fba_solution, all_pseudoreaction_ids, plot_title='original')\n",
    "wt_growth_flux = fba_solution.fluxes[\"r_2111\"]\n",
    "print(f'Flux: {wt_growth_flux} h-1')\n",
    "biomass_time = np.log(2)/(wt_growth_flux)\n",
    "print(f'Estimated time: {biomass_time:.4f} hours')\n",
    "print('\\n')\n",
    "\n",
    "list_component_times = []\n",
    "for biomass_component in biomass_component_list:\n",
    "    component_time = (biomass_component.molecular_mass/MW_BIOMASS_MMOL) * (np.log(2)/wt_growth_flux)\n",
    "    list_component_times.append(component_time)\n",
    "    print(f'Time for {biomass_component.metabolite_label}:\\t\\t {component_time:.4f} hours')\n",
    "print(f'Sum: {sum(list_component_times):.4f}')\n",
    "print('\\n')\n",
    "\n",
    "# ABLATED\n",
    "\n",
    "for biomass_component in biomass_component_list:\n",
    "    print(f'Prioritising {biomass_component.metabolite_label}')\n",
    "    model = model_saved.copy()\n",
    "    model.reactions.get_by_id('r_1714').bounds = (-1000, 0)\n",
    "    model.reactions.get_by_id('r_2111').bounds = (0, 1000)\n",
    "    \n",
    "    # boilerplate: lookup\n",
    "    to_ablate = all_metabolite_ids.copy()\n",
    "    to_ablate.remove(biomass_component.metabolite_id)\n",
    "    to_ablate_keys = [\n",
    "        model.metabolites.get_by_id(metabolite_id)\n",
    "        for metabolite_id in to_ablate\n",
    "    ]\n",
    "    to_ablate_dict = dict(zip(to_ablate_keys, [-1]*len(to_ablate_keys)))\n",
    "    \n",
    "    # ablate metabolites from biomass reaction\n",
    "    model.reactions.get_by_id('r_4041').subtract_metabolites(to_ablate_dict)\n",
    "    # re-scale stoichiometry of pseudometabolite of interest\n",
    "    scaling_factor = MW_BIOMASS_MMOL/biomass_component.molecular_mass\n",
    "    model.reactions.get_by_id('r_4041').add_metabolites({\n",
    "        model.metabolites.get_by_id(biomass_component.metabolite_id): -(scaling_factor - 1)\n",
    "    })\n",
    "    print(model.reactions.get_by_id('r_4041').reaction)\n",
    "    \n",
    "    # optimise model\n",
    "    fba_solution = model.optimize()\n",
    "    \n",
    "    # Outputs\n",
    "    biomass_component.ablated_flux = fba_solution.fluxes[\"r_2111\"]\n",
    "\n",
    "    barplot_fluxes(\n",
    "        fba_solution,\n",
    "        all_pseudoreaction_ids,\n",
    "        plot_title=f'Prioritising {biomass_component.metabolite_label}'\n",
    "    )\n",
    "    print(f'Flux: {fba_solution.fluxes[\"r_2111\"]} h-1')\n",
    "    biomass_component.get_est_time()\n",
    "    print(f'Estimated time: {biomass_component.est_time:.4f} hours')\n",
    "    print('\\n')\n",
    "    \n",
    "total_time = sum([biomass_component.est_time for biomass_component in biomass_component_list])\n",
    "print(f'sum of times: {total_time:.4f} hours')"
   ]
  }
 ],
 "metadata": {
  "kernelspec": {
   "display_name": "fba",
   "language": "python",
   "name": "fba"
  },
  "language_info": {
   "codemirror_mode": {
    "name": "ipython",
    "version": 3
   },
   "file_extension": ".py",
   "mimetype": "text/x-python",
   "name": "python",
   "nbconvert_exporter": "python",
   "pygments_lexer": "ipython3",
   "version": "3.8.14"
  }
 },
 "nbformat": 4,
 "nbformat_minor": 5
}

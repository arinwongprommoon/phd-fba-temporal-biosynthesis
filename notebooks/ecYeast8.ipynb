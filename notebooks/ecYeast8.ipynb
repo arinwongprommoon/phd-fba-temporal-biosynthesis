{
 "cells": [
  {
   "cell_type": "code",
   "execution_count": null,
   "id": "fb5adb96",
   "metadata": {},
   "outputs": [],
   "source": [
    "import os\n",
    "import sys\n",
    "module_path = os.path.abspath(os.path.join('..'))\n",
    "if module_path not in sys.path:\n",
    "    sys.path.append(module_path)\n",
    "    \n",
    "%reload_ext autoreload\n",
    "%autoreload 2\n",
    "%matplotlib inline"
   ]
  },
  {
   "cell_type": "markdown",
   "id": "5325c7bc",
   "metadata": {},
   "source": [
    "Import dependencies"
   ]
  },
  {
   "cell_type": "code",
   "execution_count": null,
   "id": "771dc48c",
   "metadata": {},
   "outputs": [],
   "source": [
    "import matplotlib.pyplot as plt\n",
    "import numpy as np\n",
    "import pandas as pd\n",
    "import cobra\n",
    "\n",
    "from src.gem.yeast8model import Yeast8Model\n",
    "from src.calc.ablation import get_ablation_ratio\n",
    "from src.calc.flux import compare_fluxes\n",
    "from src.calc.growth import get_exch_saturation\n",
    "from src.viz.bar import ablation_barplot, compare_ablation_times"
   ]
  },
  {
   "cell_type": "markdown",
   "id": "66958c67",
   "metadata": {},
   "source": [
    "# Construct models of cells of interest, optimise"
   ]
  },
  {
   "cell_type": "code",
   "execution_count": null,
   "id": "8360a02f",
   "metadata": {},
   "outputs": [],
   "source": [
    "glc_exch_rate = 16.89\n",
    "\n",
    "wt = Yeast8Model(\"../data/gemfiles/ecYeastGEM_batch_8-6-0.xml\")\n",
    "wt.model.reactions.get_by_id(\"r_1714\").bounds = (-glc_exch_rate, 0)\n",
    "wt.model.reactions.get_by_id(\"r_1714_REV\").bounds = (0, glc_exch_rate)\n",
    "wt.solution = wt.optimize()\n",
    "\n",
    "BY4741 = Yeast8Model(\"../data/gemfiles/ecYeastGEM_batch_8-6-0.xml\")\n",
    "BY4741.make_auxotroph(\"BY4741\")\n",
    "BY4741.model.reactions.get_by_id(\"r_1714\").bounds = (-glc_exch_rate, 0)\n",
    "BY4741.model.reactions.get_by_id(\"r_1714_REV\").bounds = (0, glc_exch_rate)\n",
    "BY4741.solution = BY4741.optimize()\n",
    "\n",
    "BY4742 = Yeast8Model(\"../data/gemfiles/ecYeastGEM_batch_8-6-0.xml\")\n",
    "BY4742.make_auxotroph(\"BY4742\")\n",
    "BY4742.model.reactions.get_by_id(\"r_1714\").bounds = (-glc_exch_rate, 0)\n",
    "BY4742.model.reactions.get_by_id(\"r_1714_REV\").bounds = (0, glc_exch_rate)\n",
    "BY4742.solution = BY4742.optimize()\n",
    "\n",
    "zwf1 = Yeast8Model(\"../data/gemfiles/ecYeastGEM_batch_8-6-0.xml\")\n",
    "zwf1.make_auxotroph(\"BY4741\")\n",
    "zwf1.knock_out_list([\"YNL241C\"])\n",
    "zwf1.model.reactions.get_by_id(\"r_1714\").bounds = (-glc_exch_rate, 0)\n",
    "zwf1.model.reactions.get_by_id(\"r_1714_REV\").bounds = (0, glc_exch_rate)\n",
    "zwf1.solution = zwf1.optimize()\n",
    "\n",
    "tsa2 = Yeast8Model(\"../data/gemfiles/ecYeastGEM_batch_8-6-0.xml\")\n",
    "tsa2.make_auxotroph(\"BY4742\")\n",
    "tsa2.knock_out_list([\"YDR453C\"])\n",
    "tsa2.model.reactions.get_by_id(\"r_1714\").bounds = (-glc_exch_rate, 0)\n",
    "tsa2.model.reactions.get_by_id(\"r_1714_REV\").bounds = (0, glc_exch_rate)\n",
    "tsa2.solution = tsa2.optimize()"
   ]
  },
  {
   "cell_type": "markdown",
   "id": "8bd5f1c2",
   "metadata": {},
   "source": [
    "# Ablate"
   ]
  },
  {
   "cell_type": "markdown",
   "id": "61a481df",
   "metadata": {},
   "source": [
    "TODO: For loop all this?  It's repetitive."
   ]
  },
  {
   "cell_type": "markdown",
   "id": "f5c5d828",
   "metadata": {},
   "source": [
    "## Wild type"
   ]
  },
  {
   "cell_type": "code",
   "execution_count": null,
   "id": "8ebcb3d5",
   "metadata": {},
   "outputs": [],
   "source": [
    "wt.ablation_result = wt.ablate()\n",
    "\n",
    "fig, ax = plt.subplots()\n",
    "ablation_barplot(wt.ablation_result, ax)\n",
    "ax.set_title('Wild type')\n",
    "plt.show()\n",
    "\n",
    "ratio = get_ablation_ratio(wt.ablation_result)\n",
    "print(ratio)"
   ]
  },
  {
   "cell_type": "markdown",
   "id": "3831bb3f",
   "metadata": {},
   "source": [
    "## BY4741"
   ]
  },
  {
   "cell_type": "code",
   "execution_count": null,
   "id": "943543ff",
   "metadata": {},
   "outputs": [],
   "source": [
    "BY4741.ablation_result = BY4741.ablate()\n",
    "\n",
    "fig, ax = plt.subplots()\n",
    "ablation_barplot(BY4741.ablation_result, ax)\n",
    "ax.set_title('BY4741 (in supplemented media)')\n",
    "plt.show()\n",
    "\n",
    "ratio = get_ablation_ratio(BY4741.ablation_result)\n",
    "print(ratio)"
   ]
  },
  {
   "cell_type": "code",
   "execution_count": null,
   "id": "685c5507",
   "metadata": {},
   "outputs": [],
   "source": [
    "fig_fc, ax_fc = plt.subplots()\n",
    "compare_ablation_times(wt.ablation_result, BY4741.ablation_result, ax_fc)"
   ]
  },
  {
   "cell_type": "markdown",
   "id": "5e905e5b",
   "metadata": {},
   "source": [
    "## BY4742"
   ]
  },
  {
   "cell_type": "code",
   "execution_count": null,
   "id": "a8104615",
   "metadata": {},
   "outputs": [],
   "source": [
    "BY4742.ablation_result = BY4742.ablate()\n",
    "\n",
    "fig, ax = plt.subplots()\n",
    "ablation_barplot(BY4742.ablation_result, ax)\n",
    "ax.set_title('BY4742 (in supplemented media)')\n",
    "plt.show()\n",
    "\n",
    "ratio = get_ablation_ratio(BY4742.ablation_result)\n",
    "print(ratio)"
   ]
  },
  {
   "cell_type": "code",
   "execution_count": null,
   "id": "a23b2f2c",
   "metadata": {},
   "outputs": [],
   "source": [
    "fig_fc, ax_fc = plt.subplots()\n",
    "compare_ablation_times(wt.ablation_result, BY4742.ablation_result, ax_fc)"
   ]
  },
  {
   "cell_type": "code",
   "execution_count": null,
   "id": "9aefa5d3",
   "metadata": {},
   "outputs": [],
   "source": [
    "zwf1.ablation_result = zwf1.ablate()\n",
    "fig, ax = plt.subplots()\n",
    "ablation_barplot(zwf1.ablation_result, ax)\n",
    "ax.set_title('zwf1$\\Delta$ BY4741 (in supplemented media)')\n",
    "plt.show()\n",
    "\n",
    "ratio = get_ablation_ratio(zwf1.ablation_result)\n",
    "print(ratio)"
   ]
  },
  {
   "cell_type": "code",
   "execution_count": null,
   "id": "ab31d420",
   "metadata": {},
   "outputs": [],
   "source": [
    "fig_fc, ax_fc = plt.subplots()\n",
    "compare_ablation_times(BY4741.ablation_result, zwf1.ablation_result, ax_fc)"
   ]
  },
  {
   "cell_type": "code",
   "execution_count": null,
   "id": "8ae7f7b5",
   "metadata": {},
   "outputs": [],
   "source": [
    "tsa2.ablation_result = tsa2.ablate()\n",
    "fig, ax = plt.subplots()\n",
    "ablation_barplot(tsa2.ablation_result, ax)\n",
    "ax.set_title('tsa2$\\Delta$ BY4742 (in supplemented media)')\n",
    "plt.show()\n",
    "\n",
    "ratio = get_ablation_ratio(tsa2.ablation_result)\n",
    "print(ratio)"
   ]
  },
  {
   "cell_type": "code",
   "execution_count": null,
   "id": "96719fdc",
   "metadata": {},
   "outputs": [],
   "source": [
    "fig_fc, ax_fc = plt.subplots()\n",
    "compare_ablation_times(BY4742.ablation_result, tsa2.ablation_result, ax_fc)"
   ]
  },
  {
   "cell_type": "code",
   "execution_count": null,
   "id": "bbef9b81",
   "metadata": {},
   "outputs": [],
   "source": [
    "wt.ablation_result"
   ]
  },
  {
   "cell_type": "code",
   "execution_count": null,
   "id": "3a3e83a5",
   "metadata": {},
   "outputs": [],
   "source": [
    "BY4741.ablation_result"
   ]
  },
  {
   "cell_type": "code",
   "execution_count": null,
   "id": "d3ba6926",
   "metadata": {},
   "outputs": [],
   "source": [
    "BY4742.ablation_result"
   ]
  },
  {
   "cell_type": "code",
   "execution_count": null,
   "id": "fcaa0d63",
   "metadata": {},
   "outputs": [],
   "source": [
    "zwf1.ablation_result"
   ]
  },
  {
   "cell_type": "code",
   "execution_count": null,
   "id": "b0bbd362",
   "metadata": {},
   "outputs": [],
   "source": [
    "tsa2.ablation_result"
   ]
  },
  {
   "cell_type": "code",
   "execution_count": null,
   "id": "2e9186ff",
   "metadata": {},
   "outputs": [],
   "source": [
    "wt_ablation_result_orig = wt.ablation_result.copy()"
   ]
  },
  {
   "cell_type": "markdown",
   "id": "3557a415",
   "metadata": {},
   "source": [
    "## Add amino acids to minimal media"
   ]
  },
  {
   "cell_type": "code",
   "execution_count": null,
   "id": "12aa63f7",
   "metadata": {},
   "outputs": [],
   "source": [
    "amino_exch_list = [\n",
    "    'r_1873', 'r_1879', 'r_1880', 'r_1881', 'r_1883',\n",
    "    'r_1889', 'r_1891', 'r_1810', 'r_1893', 'r_1897',\n",
    "    'r_1899', 'r_1900', 'r_1902', 'r_1903', 'r_1904',\n",
    "    'r_1906', 'r_1911', 'r_1912', 'r_1913', 'r_1914',\n",
    "]\n",
    "\n",
    "wt.reset_to_file()\n",
    "wt.unrestrict_growth()\n",
    "wt.add_media_components(amino_exch_list)\n",
    "wt.model.reactions.get_by_id(\"r_1714\").bounds = (-glc_exch_rate, 0)\n",
    "wt.model.reactions.get_by_id(\"r_1714_REV\").bounds = (0, glc_exch_rate)"
   ]
  },
  {
   "cell_type": "code",
   "execution_count": null,
   "id": "3a4e4871",
   "metadata": {},
   "outputs": [],
   "source": [
    "for reaction_id in wt.model.medium.keys():\n",
    "    print(wt.model.reactions.get_by_id(reaction_id).name)"
   ]
  },
  {
   "cell_type": "code",
   "execution_count": null,
   "id": "d0727807",
   "metadata": {
    "scrolled": true
   },
   "outputs": [],
   "source": [
    "wt.ablation_result = wt.ablate()\n",
    "\n",
    "fig, ax = plt.subplots()\n",
    "ablation_barplot(wt.ablation_result, ax)\n",
    "ax.set_title('Wild type, with all amino acids supplemented')\n",
    "plt.show()\n",
    "\n",
    "ratio = get_ablation_ratio(wt.ablation_result)\n",
    "print(ratio)"
   ]
  },
  {
   "cell_type": "code",
   "execution_count": null,
   "id": "5847bd1b",
   "metadata": {},
   "outputs": [],
   "source": [
    "fig_fc, ax_fc = plt.subplots()\n",
    "compare_ablation_times(wt_ablation_result_orig, wt.ablation_result, ax_fc)"
   ]
  },
  {
   "cell_type": "markdown",
   "id": "d4383ded",
   "metadata": {},
   "source": [
    "> You can see that it takes less time to make proteins."
   ]
  },
  {
   "cell_type": "markdown",
   "id": "18525405",
   "metadata": {},
   "source": [
    "## Add nucleotides to minimal media"
   ]
  },
  {
   "cell_type": "code",
   "execution_count": null,
   "id": "3dbf98de",
   "metadata": {},
   "outputs": [],
   "source": [
    "nucl_exch_list = [\n",
    "    'r_1639', 'r_1705', 'r_1818', 'r_2090'\n",
    "]\n",
    "\n",
    "wt.reset_to_file()\n",
    "wt.unrestrict_growth()\n",
    "wt.model.reactions.get_by_id(\"r_1714\").bounds = (-glc_exch_rate, 0)\n",
    "wt.model.reactions.get_by_id(\"r_1714_REV\").bounds = (0, glc_exch_rate)\n",
    "wt.add_media_components(nucl_exch_list)"
   ]
  },
  {
   "cell_type": "code",
   "execution_count": null,
   "id": "b745574c",
   "metadata": {},
   "outputs": [],
   "source": [
    "wt.ablation_result = wt.ablate()\n",
    "\n",
    "fig, ax = plt.subplots()\n",
    "ablation_barplot(wt.ablation_result, ax)\n",
    "ax.set_title('Wild type, with all NTPs supplemented')\n",
    "plt.show()\n",
    "\n",
    "ratio = get_ablation_ratio(wt.ablation_result)\n",
    "print(ratio)"
   ]
  },
  {
   "cell_type": "code",
   "execution_count": null,
   "id": "18935c41",
   "metadata": {},
   "outputs": [],
   "source": [
    "wt.ablation_result"
   ]
  },
  {
   "cell_type": "code",
   "execution_count": null,
   "id": "bc30a425",
   "metadata": {},
   "outputs": [],
   "source": [
    "fig_fc, ax_fc = plt.subplots()\n",
    "compare_ablation_times(wt_ablation_result_orig, wt.ablation_result, ax_fc)"
   ]
  },
  {
   "cell_type": "markdown",
   "id": "50e22c3e",
   "metadata": {},
   "source": [
    "## Add deoxyribonucleotides to media"
   ]
  },
  {
   "cell_type": "code",
   "execution_count": null,
   "id": "d6c2debc",
   "metadata": {},
   "outputs": [],
   "source": [
    "deoxnucl_exch_list = [\n",
    "    'r_1643', 'r_1702', 'r_1820', 'r_2073'\n",
    "]\n",
    "\n",
    "wt.reset_to_file()\n",
    "wt.unrestrict_growth()\n",
    "wt.model.reactions.get_by_id(\"r_1714\").bounds = (-glc_exch_rate, 0)\n",
    "wt.model.reactions.get_by_id(\"r_1714_REV\").bounds = (0, glc_exch_rate)\n",
    "wt.add_media_components(deoxnucl_exch_list)"
   ]
  },
  {
   "cell_type": "code",
   "execution_count": null,
   "id": "c6c6e1d5",
   "metadata": {},
   "outputs": [],
   "source": [
    "wt.ablation_result = wt.ablate()\n",
    "\n",
    "fig, ax = plt.subplots()\n",
    "ablation_barplot(wt.ablation_result, ax)\n",
    "ax.set_title('Wild type, with all dNTPs supplemented')\n",
    "plt.show()\n",
    "\n",
    "ratio = get_ablation_ratio(wt.ablation_result)\n",
    "print(ratio)"
   ]
  },
  {
   "cell_type": "code",
   "execution_count": null,
   "id": "71f8e5d3",
   "metadata": {},
   "outputs": [],
   "source": [
    "wt.ablation_result"
   ]
  },
  {
   "cell_type": "code",
   "execution_count": null,
   "id": "5d42fc73",
   "metadata": {},
   "outputs": [],
   "source": [
    "fig_fc, ax_fc = plt.subplots()\n",
    "compare_ablation_times(wt_ablation_result_orig, wt.ablation_result, ax_fc)"
   ]
  },
  {
   "cell_type": "markdown",
   "id": "6e216f14",
   "metadata": {},
   "source": [
    "## Carbon sources"
   ]
  },
  {
   "cell_type": "markdown",
   "id": "5ac90f26",
   "metadata": {},
   "source": [
    "Pyruvate"
   ]
  },
  {
   "cell_type": "code",
   "execution_count": null,
   "id": "7361e216",
   "metadata": {},
   "outputs": [],
   "source": [
    "wt.reset_to_file()\n",
    "wt.unrestrict_growth()\n",
    "wt.add_media_components(['r_2033'])\n",
    "# Set uptake rate (under saturation) to get a growth rate consistent with experiments.\n",
    "wt.model.reactions.get_by_id('r_2033').bounds = (-5.476, 0)\n",
    "wt.remove_media_components(['r_1714', 'r_1714_REV'])\n",
    "wt.ablation_result = wt.ablate()\n",
    "\n",
    "fig, ax = plt.subplots()\n",
    "ablation_barplot(wt.ablation_result, ax)\n",
    "ax.set_title('Wild type, with pyruvate as carbon source')\n",
    "plt.show()\n",
    "\n",
    "ratio = get_ablation_ratio(wt.ablation_result)\n",
    "print(ratio)"
   ]
  },
  {
   "cell_type": "code",
   "execution_count": null,
   "id": "947d39f2",
   "metadata": {},
   "outputs": [],
   "source": [
    "wt.ablation_result"
   ]
  },
  {
   "cell_type": "code",
   "execution_count": null,
   "id": "db92e8bf",
   "metadata": {},
   "outputs": [],
   "source": [
    "fig_fc, ax_fc = plt.subplots()\n",
    "compare_ablation_times(wt_ablation_result_orig, wt.ablation_result, ax_fc)"
   ]
  },
  {
   "cell_type": "markdown",
   "id": "7a603b23",
   "metadata": {},
   "source": [
    "Glucose limitation"
   ]
  },
  {
   "cell_type": "code",
   "execution_count": null,
   "id": "6057f2a8",
   "metadata": {},
   "outputs": [],
   "source": [
    "glc_exch_rate = 1.329\n",
    "# Simulates 10 mg/L by assuming a 3-hour doubling time\n",
    "# and using the saturation curve at the end of this notebook\n",
    "\n",
    "wt.reset_to_file()\n",
    "wt.unrestrict_growth()\n",
    "wt.model.reactions.get_by_id(\"r_1714\").bounds = (-glc_exch_rate, 0)\n",
    "wt.model.reactions.get_by_id(\"r_1714_REV\").bounds = (0, glc_exch_rate)\n",
    "wt.ablation_result = wt.ablate()\n",
    "\n",
    "fig, ax = plt.subplots()\n",
    "ablation_barplot(wt.ablation_result, ax)\n",
    "ax.set_title('Wild type, with glucose limitation')\n",
    "plt.show()\n",
    "\n",
    "ratio = get_ablation_ratio(wt.ablation_result)\n",
    "print(ratio)"
   ]
  },
  {
   "cell_type": "code",
   "execution_count": null,
   "id": "b4752357",
   "metadata": {},
   "outputs": [],
   "source": [
    "fig_fc, ax_fc = plt.subplots()\n",
    "compare_ablation_times(wt_ablation_result_orig, wt.ablation_result, ax_fc)"
   ]
  },
  {
   "cell_type": "markdown",
   "id": "be82f6e3",
   "metadata": {},
   "source": [
    "# Compare fluxes"
   ]
  },
  {
   "cell_type": "code",
   "execution_count": null,
   "id": "266314dd",
   "metadata": {},
   "outputs": [],
   "source": [
    "diff_fluxes_sorted = compare_fluxes(BY4741, zwf1)"
   ]
  },
  {
   "cell_type": "code",
   "execution_count": null,
   "id": "5c4f3b83",
   "metadata": {},
   "outputs": [],
   "source": [
    "for rxn_id, flux in diff_fluxes_sorted.items():\n",
    "    print(f'{rxn_id}, {wt.model.reactions.get_by_id(rxn_id).name}, {flux}')"
   ]
  },
  {
   "cell_type": "code",
   "execution_count": null,
   "id": "d5b4f69d",
   "metadata": {},
   "outputs": [],
   "source": [
    "diff_fluxes_sorted = compare_fluxes(BY4741, tsa2)"
   ]
  },
  {
   "cell_type": "code",
   "execution_count": null,
   "id": "84a8053b",
   "metadata": {},
   "outputs": [],
   "source": [
    "for rxn_id, flux in diff_fluxes_sorted.items():\n",
    "    print(f'{rxn_id}, {wt.model.reactions.get_by_id(rxn_id).name}, {flux}')"
   ]
  },
  {
   "cell_type": "code",
   "execution_count": null,
   "id": "1cd20303",
   "metadata": {},
   "outputs": [],
   "source": [
    "diff_fluxes_sorted = compare_fluxes(wt, BY4741)"
   ]
  },
  {
   "cell_type": "code",
   "execution_count": null,
   "id": "9e1a1717",
   "metadata": {},
   "outputs": [],
   "source": [
    "for rxn_id, flux in diff_fluxes_sorted.items():\n",
    "    print(f'{rxn_id}, {wt.model.reactions.get_by_id(rxn_id).name}, {flux}')"
   ]
  },
  {
   "cell_type": "code",
   "execution_count": null,
   "id": "e3850392",
   "metadata": {},
   "outputs": [],
   "source": [
    "for reaction_id in BY4741.model.medium.keys():\n",
    "    print(BY4741.model.reactions.get_by_id(reaction_id).name)"
   ]
  },
  {
   "cell_type": "code",
   "execution_count": null,
   "id": "560d4a90",
   "metadata": {},
   "outputs": [],
   "source": [
    "diff_fluxes_sorted = compare_fluxes(wt, BY4741)"
   ]
  },
  {
   "cell_type": "code",
   "execution_count": null,
   "id": "4761b278",
   "metadata": {},
   "outputs": [],
   "source": [
    "diff_fluxes_sorted = compare_fluxes(wt, wt)"
   ]
  },
  {
   "cell_type": "code",
   "execution_count": null,
   "id": "d7c5fda5",
   "metadata": {},
   "outputs": [],
   "source": [
    "diff_fluxes_sorted"
   ]
  },
  {
   "cell_type": "markdown",
   "id": "f233cd43",
   "metadata": {},
   "source": [
    "## Respiration and fermentation"
   ]
  },
  {
   "cell_type": "code",
   "execution_count": null,
   "id": "cc602c0f",
   "metadata": {},
   "outputs": [],
   "source": [
    "models = {\n",
    "    \"wild type\": wt,\n",
    "    \"BY4741\": BY4741,\n",
    "    \"zwf1\": zwf1,\n",
    "    \"tsa2\": tsa2,\n",
    "}\n",
    "biomass_components = [\"carbohydrate\", \"protein\"]\n",
    "exchanges = {\n",
    "    \"O2\": \"r_1992_REV\",\n",
    "    \"CO2\": \"r_1672\",\n",
    "    \"ethanol\": \"r_1761\",\n",
    "}\n",
    "\n",
    "for strain, model in models.items():\n",
    "    print(strain)\n",
    "    for biomass_component in biomass_components:\n",
    "        print(biomass_component)\n",
    "        for exchange_species, exchange_id in exchanges.items():\n",
    "            flux = model.ablation_reaction_fluxes[biomass_component][exchange_id]\n",
    "            print(f\"{exchange_species}: {flux}\")\n",
    "        print(\"\\n\")\n",
    "    print(\"----------\")"
   ]
  },
  {
   "cell_type": "code",
   "execution_count": null,
   "id": "217afc66",
   "metadata": {},
   "outputs": [],
   "source": []
  }
 ],
 "metadata": {
  "kernelspec": {
   "display_name": "fba",
   "language": "python",
   "name": "fba"
  },
  "language_info": {
   "codemirror_mode": {
    "name": "ipython",
    "version": 3
   },
   "file_extension": ".py",
   "mimetype": "text/x-python",
   "name": "python",
   "nbconvert_exporter": "python",
   "pygments_lexer": "ipython3",
   "version": "3.8.14"
  }
 },
 "nbformat": 4,
 "nbformat_minor": 5
}

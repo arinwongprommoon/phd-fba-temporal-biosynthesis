{
 "cells": [
  {
   "cell_type": "code",
   "execution_count": null,
   "id": "31323872",
   "metadata": {},
   "outputs": [],
   "source": [
    "import os\n",
    "import sys\n",
    "module_path = os.path.abspath(os.path.join('..'))\n",
    "if module_path not in sys.path:\n",
    "    sys.path.append(module_path)\n",
    "    \n",
    "%reload_ext autoreload\n",
    "%autoreload 2\n",
    "%matplotlib inline"
   ]
  },
  {
   "cell_type": "markdown",
   "id": "07b559a2",
   "metadata": {},
   "source": [
    "Import dependencies"
   ]
  },
  {
   "cell_type": "code",
   "execution_count": null,
   "id": "e830cc2c",
   "metadata": {},
   "outputs": [],
   "source": [
    "import matplotlib.pyplot as plt\n",
    "import numpy as np\n",
    "import pandas as pd\n",
    "import seaborn as sns\n",
    "import cobra\n",
    "import operator\n",
    "import re\n",
    "\n",
    "from scipy.cluster import hierarchy\n",
    "from scipy.spatial.distance import pdist, squareform\n",
    "from scipy.stats import zscore\n",
    "\n",
    "from sklearn.metrics.pairwise import pairwise_distances\n",
    "from sklearn.decomposition import PCA\n",
    "\n",
    "from src.gem.yeast8model import Yeast8Model"
   ]
  },
  {
   "cell_type": "markdown",
   "id": "3a1cdacc",
   "metadata": {},
   "source": [
    "Construct model object, optimise"
   ]
  },
  {
   "cell_type": "code",
   "execution_count": null,
   "id": "03ce3676",
   "metadata": {},
   "outputs": [],
   "source": [
    "glc_exch_rate = 16.89\n",
    "\n",
    "wt = Yeast8Model(\"../data/gemfiles/ecYeastGEM_batch_8-6-0.xml\")"
   ]
  },
  {
   "cell_type": "markdown",
   "id": "f2294de9",
   "metadata": {},
   "source": [
    "Nutrient options"
   ]
  },
  {
   "cell_type": "code",
   "execution_count": null,
   "id": "7c002ffd",
   "metadata": {},
   "outputs": [],
   "source": [
    "# OPTION 1: Default: lots of glucose\n",
    "wt.model.reactions.get_by_id(\"r_1714\").bounds = (-glc_exch_rate, 0)\n",
    "wt.model.reactions.get_by_id(\"r_1714_REV\").bounds = (0, glc_exch_rate)"
   ]
  },
  {
   "cell_type": "code",
   "execution_count": null,
   "id": "c5e61703",
   "metadata": {},
   "outputs": [],
   "source": [
    "# ALTERNATIVELY, OPTION 2: Custom glucose & ammonium exchange\n",
    "glc_exch_rate = 0.194 * 8.6869\n",
    "amm_exch_rate = 0.71 * 1.4848\n",
    "\n",
    "wt.model.reactions.get_by_id(\"r_1714\").bounds = (-glc_exch_rate, 0)\n",
    "wt.model.reactions.get_by_id(\"r_1714_REV\").bounds = (0, glc_exch_rate)\n",
    "wt.model.reactions.get_by_id(\"r_1654\").bounds = (-amm_exch_rate, 0)\n",
    "wt.model.reactions.get_by_id(\"r_1654_REV\").bounds = (0, amm_exch_rate)"
   ]
  },
  {
   "cell_type": "code",
   "execution_count": null,
   "id": "d8a8786c",
   "metadata": {},
   "outputs": [],
   "source": [
    "# ALTERNATIVELY, OPTION 3: Custom pyruvate & ammonium exchange\n",
    "pyr_exch_rate = 0.1\n",
    "amm_exch_rate = 0.1\n",
    "\n",
    "wt.model.reactions.get_by_id(\"r_1714\").bounds = (0, 0)\n",
    "wt.model.reactions.get_by_id(\"r_2033\").bounds = (-pyr_exch_rate, 0)\n",
    "wt.model.reactions.get_by_id(\"r_2033_REV\").bounds = (0, pyr_exch_rate)\n",
    "wt.model.reactions.get_by_id(\"r_1654\").bounds = (-amm_exch_rate, 0)\n",
    "wt.model.reactions.get_by_id(\"r_1654_REV\").bounds = (0, amm_exch_rate)"
   ]
  },
  {
   "cell_type": "markdown",
   "id": "b9910202",
   "metadata": {},
   "source": [
    "Optimise and ablate"
   ]
  },
  {
   "cell_type": "code",
   "execution_count": null,
   "id": "9b56a2a7",
   "metadata": {},
   "outputs": [],
   "source": [
    "wt.solution = wt.optimize()\n",
    "\n",
    "# Ablate and store fluxes in each round\n",
    "wt.ablation_result = wt.ablate()\n",
    "ablation_fluxes = wt.ablation_fluxes"
   ]
  },
  {
   "cell_type": "code",
   "execution_count": null,
   "id": "febe3d75",
   "metadata": {},
   "outputs": [],
   "source": [
    "ablation_fluxes"
   ]
  },
  {
   "cell_type": "markdown",
   "id": "108e3549",
   "metadata": {},
   "source": [
    "# Carbohydrates and proteins"
   ]
  },
  {
   "cell_type": "markdown",
   "id": "6391b556",
   "metadata": {},
   "source": [
    "## Research question: Does carbohydrate synthesis depend on protein synthesis?"
   ]
  },
  {
   "cell_type": "markdown",
   "id": "00006530",
   "metadata": {},
   "source": [
    "Test by: Tell the cell to specialise in carbohydrates and then see if there is flux through any of the reactions that produce each of the 20 amino acids."
   ]
  },
  {
   "cell_type": "code",
   "execution_count": null,
   "id": "a6fe18b0",
   "metadata": {},
   "outputs": [],
   "source": [
    "# Get the amino acid metabolites\n",
    "amino_acids = ['alanine', 'arginine', 'asparagine', 'aspartate', 'cysteine',\n",
    "              'glutamine', 'glutamate', 'glycine', 'histidine', 'isoleucine',\n",
    "              'leucine', 'lysine', 'methionine', 'phenylalanine', 'proline',\n",
    "              'serine', 'threonine', 'tryptophan', 'tyrosine', 'valine']\n",
    "amino_acids = np.array([f\"L-{amino_acid} [cytoplasm]\"\n",
    "                        for amino_acid in amino_acids])\n",
    "\n",
    "metabolite_names = np.array([metabolite.name\n",
    "                    for metabolite in wt.model.metabolites])\n",
    "metabolite_ids = np.array([metabolite.id\n",
    "                  for metabolite in wt.model.metabolites])\n",
    "\n",
    "amino_acid_index = np.nonzero(np.isin(metabolite_names, amino_acids))[0]\n",
    "amino_metabolite_ids = metabolite_ids[amino_acid_index]"
   ]
  },
  {
   "cell_type": "code",
   "execution_count": null,
   "id": "0271b34f",
   "metadata": {},
   "outputs": [],
   "source": [
    "# Create list of all reactions that involve the amino acids\n",
    "amino_reaction_list = []\n",
    "for amino_metabolite_id in amino_metabolite_ids:\n",
    "    reactions_for_amino = list(\n",
    "        wt.model.metabolites.get_by_id(amino_metabolite_id).reactions)\n",
    "    amino_reaction_list = list(set(amino_reaction_list).union(reactions_for_amino))"
   ]
  },
  {
   "cell_type": "code",
   "execution_count": null,
   "id": "80e14733",
   "metadata": {},
   "outputs": [],
   "source": [
    "# Inspect fluxes through reactions (parallel case)\n",
    "amino_reaction_ids = [reaction.id for reaction in amino_reaction_list]\n",
    "wt.solution.fluxes.loc[amino_reaction_ids]"
   ]
  },
  {
   "cell_type": "code",
   "execution_count": null,
   "id": "b9af5bb8",
   "metadata": {},
   "outputs": [],
   "source": [
    "# Get enzyme pseudoreactant for each reaction, if available\n",
    "amino_enzyme_list = []\n",
    "for reaction in amino_reaction_list:\n",
    "    reactant_list = [metabolite.id for metabolite in reaction.reactants]\n",
    "    new_enzyme_list = [enzyme for enzyme in reactant_list\n",
    "                       if enzyme.startswith(\"prot_\")]\n",
    "    if new_enzyme_list:\n",
    "        amino_enzyme_list.extend(new_enzyme_list)"
   ]
  },
  {
   "cell_type": "code",
   "execution_count": null,
   "id": "dc6596f1",
   "metadata": {},
   "outputs": [],
   "source": [
    "# Convert enzyme pseudoreactant IDs to enzyme usage flux IDs\n",
    "amino_usage_flux_ids = [re.sub(\"prot_(\\w+)\\[c\\]\",\n",
    "                         lambda x: f\"draw_prot_{x.group(1)}\", enzyme)\n",
    "                  for enzyme in amino_enzyme_list]"
   ]
  },
  {
   "cell_type": "code",
   "execution_count": null,
   "id": "4381e0c9",
   "metadata": {},
   "outputs": [],
   "source": [
    "# See enzyme usages when the cell prioritises carbohydrate\n",
    "ablation_fluxes[\"carbohydrate\"].loc[amino_usage_flux_ids]"
   ]
  },
  {
   "cell_type": "code",
   "execution_count": null,
   "id": "39f23f07",
   "metadata": {},
   "outputs": [],
   "source": [
    "# How many have a non-zero flux (within tolerance)?\n",
    "print(sum(abs(ablation_fluxes[\"carbohydrate\"].loc[amino_usage_flux_ids] > 1.11e-10)))\n",
    "print(sum(abs(ablation_fluxes[\"protein\"].loc[amino_usage_flux_ids] > 1.11e-10)))"
   ]
  },
  {
   "cell_type": "markdown",
   "id": "39f7486e",
   "metadata": {},
   "source": [
    "> In a high-glucose environment, when the cell specialises in carbohydrate production, the cell does not re-allocate its proteome towards amino acid production.\n",
    ">\n",
    "> However, when the cell specialises in protein production (which happens at a different time as carbohydrate synthesis in sequential synthesis), the cell re-allocates some of its proteome towards amino acid metabolism."
   ]
  },
  {
   "cell_type": "markdown",
   "id": "73d92d08",
   "metadata": {},
   "source": [
    "## Research question: Does protein synthesis depend on carbohydrate synthesis?"
   ]
  },
  {
   "cell_type": "markdown",
   "id": "1ab6a53c",
   "metadata": {},
   "source": [
    "Test by: Tell the cell to specialise in proteins and then see if there is flux through any of the reactions that produce each of the carbohydrates that contribute to biomass."
   ]
  },
  {
   "cell_type": "code",
   "execution_count": null,
   "id": "3265a851",
   "metadata": {},
   "outputs": [],
   "source": [
    "# Get the carbohydrate metabolites\n",
    "carbohydrates = [\n",
    "    '(1->3)-beta-D-glucan [cell envelope]',\n",
    "    '(1->6)-beta-D-glucan [cell envelope]',\n",
    "    'glycogen [cytoplasm]',\n",
    "    'mannan [cytoplasm]',\n",
    "    'trehalose [cytoplasm]',\n",
    "    'D-glucose [cytoplasm]',\n",
    "]\n",
    "\n",
    "carbohydrate_index = np.nonzero(np.isin(metabolite_names, carbohydrates))[0]\n",
    "carb_metabolite_ids = metabolite_ids[carbohydrate_index]"
   ]
  },
  {
   "cell_type": "code",
   "execution_count": null,
   "id": "7c999e67",
   "metadata": {},
   "outputs": [],
   "source": [
    "# Create list of all reactions that involve the carbohydrates\n",
    "carb_reaction_list = []\n",
    "for carb_metabolite_id in carb_metabolite_ids:\n",
    "    reactions_for_carb = list(\n",
    "        wt.model.metabolites.get_by_id(carb_metabolite_id).reactions)\n",
    "    carb_reaction_list = list(set(carb_reaction_list).union(reactions_for_carb))"
   ]
  },
  {
   "cell_type": "code",
   "execution_count": null,
   "id": "6b47c099",
   "metadata": {
    "scrolled": true
   },
   "outputs": [],
   "source": [
    "# Inspect fluxes through reactions (parallel case)\n",
    "carb_reaction_ids = [reaction.id for reaction in carb_reaction_list]\n",
    "wt.solution.fluxes.loc[carb_reaction_ids]"
   ]
  },
  {
   "cell_type": "code",
   "execution_count": null,
   "id": "522fd441",
   "metadata": {},
   "outputs": [],
   "source": [
    "# Get enzyme pseudoreactant for each reaction, if available\n",
    "carb_enzyme_list = []\n",
    "for reaction in carb_reaction_list:\n",
    "    reactant_list = [metabolite.id for metabolite in reaction.reactants]\n",
    "    new_enzyme_list = [enzyme for enzyme in reactant_list\n",
    "                       if enzyme.startswith(\"prot_\")]\n",
    "    if new_enzyme_list:\n",
    "        carb_enzyme_list.extend(new_enzyme_list)"
   ]
  },
  {
   "cell_type": "code",
   "execution_count": null,
   "id": "5bef14e8",
   "metadata": {},
   "outputs": [],
   "source": [
    "carb_enzyme_list"
   ]
  },
  {
   "cell_type": "code",
   "execution_count": null,
   "id": "8c258979",
   "metadata": {},
   "outputs": [],
   "source": [
    "# Convert enzyme pseudoreactant IDs to enzyme usage flux IDs\n",
    "carb_usage_flux_ids = [re.sub(\"prot_(\\w+)\\[c\\]\",\n",
    "                         lambda x: f\"draw_prot_{x.group(1)}\", enzyme)\n",
    "                  for enzyme in carb_enzyme_list]"
   ]
  },
  {
   "cell_type": "code",
   "execution_count": null,
   "id": "2b3245d6",
   "metadata": {
    "scrolled": true
   },
   "outputs": [],
   "source": [
    "# See enzyme usages when the cell prioritises protein\n",
    "ablation_fluxes[\"protein\"].loc[carb_usage_flux_ids]"
   ]
  },
  {
   "cell_type": "code",
   "execution_count": null,
   "id": "ce09dd76",
   "metadata": {},
   "outputs": [],
   "source": [
    "# How many have a non-zero flux (within tolerance)?\n",
    "print(sum(abs(ablation_fluxes[\"carbohydrate\"].loc[carb_usage_flux_ids] > 1.11e-10)))\n",
    "print(sum(abs(ablation_fluxes[\"protein\"].loc[carb_usage_flux_ids] > 1.11e-10)))"
   ]
  },
  {
   "cell_type": "markdown",
   "id": "97cedda4",
   "metadata": {},
   "source": [
    "> In a high-glucose environment, when the cell specialises in carbohydrate production, the cell re-allocates some of its proteome towards carbohydrate metabolism.\n",
    ">\n",
    "> However, when the cell specialises in protein production (which happens at a different time as carbohydrate synthesis in sequential synthesis), the cell does not re-allocate its proteome towards carbohydrate metabolism."
   ]
  },
  {
   "cell_type": "markdown",
   "id": "de6b45b0",
   "metadata": {},
   "source": [
    "## Shared enzyme usage between carbohydrate production and protein production"
   ]
  },
  {
   "cell_type": "code",
   "execution_count": null,
   "id": "87fd4f06",
   "metadata": {},
   "outputs": [],
   "source": [
    "# Store enzyme usage reactions that are non-zero\n",
    "# during pure carbohydrate synthesis\n",
    "nonzero_in_carbohydrate = ablation_fluxes[\"carbohydrate\"] > 1.11e-10\n",
    "print(np.sum(nonzero_in_carbohydrate))\n",
    "\n",
    "# Store enzyme usage reactions that are non-zero\n",
    "# during pure protein synthesis\n",
    "nonzero_in_protein = ablation_fluxes[\"protein\"] > 1.11e-10\n",
    "print(np.sum(nonzero_in_protein))"
   ]
  },
  {
   "cell_type": "code",
   "execution_count": null,
   "id": "93cef159",
   "metadata": {},
   "outputs": [],
   "source": [
    "# Find enzyme usage reactions that are non-zero\n",
    "# in both pure carbohydrate synthesis and pure protein synthesis\n",
    "nonzero_in_both = nonzero_in_carbohydrate & nonzero_in_protein\n",
    "np.sum(nonzero_in_both)"
   ]
  },
  {
   "cell_type": "code",
   "execution_count": null,
   "id": "188fb969",
   "metadata": {},
   "outputs": [],
   "source": [
    "# Convert enzyme usage reaction IDs to metabolite IDs of corresponding enzymes\n",
    "nonzero_in_both_list = nonzero_in_both[nonzero_in_both].index.to_list()\n",
    "enzyme_list = [re.sub(\"draw_prot_(\\w+)\",\n",
    "                     lambda x: f\"prot_{x.group(1)}[c]\", rxn)\n",
    "              for rxn in nonzero_in_both_list]"
   ]
  },
  {
   "cell_type": "code",
   "execution_count": null,
   "id": "dd696e6a",
   "metadata": {},
   "outputs": [],
   "source": [
    "enzyme_list"
   ]
  },
  {
   "cell_type": "markdown",
   "id": "1291d121",
   "metadata": {},
   "source": [
    "You can use UNIPROT to map these protein IDs to genes & protein names."
   ]
  },
  {
   "cell_type": "code",
   "execution_count": null,
   "id": "1a6065a3",
   "metadata": {},
   "outputs": [],
   "source": [
    "# Inspect flux of common reactions during protein synthesis\n",
    "protein_usgs = ablation_fluxes[\"protein\"]\n",
    "protein_usgs[protein_usgs.index.isin(nonzero_in_both_list)]"
   ]
  },
  {
   "cell_type": "code",
   "execution_count": null,
   "id": "57f83f00",
   "metadata": {},
   "outputs": [],
   "source": [
    "fluxes = protein_usgs[protein_usgs.index.isin(nonzero_in_both_list)]\n",
    "print(np.min(fluxes))\n",
    "print(np.max(fluxes))"
   ]
  },
  {
   "cell_type": "code",
   "execution_count": null,
   "id": "ba626075",
   "metadata": {},
   "outputs": [],
   "source": [
    "# Geometric mean\n",
    "from scipy.stats import gmean\n",
    "print(gmean(fluxes))"
   ]
  }
 ],
 "metadata": {
  "kernelspec": {
   "display_name": "fba",
   "language": "python",
   "name": "fba"
  },
  "language_info": {
   "codemirror_mode": {
    "name": "ipython",
    "version": 3
   },
   "file_extension": ".py",
   "mimetype": "text/x-python",
   "name": "python",
   "nbconvert_exporter": "python",
   "pygments_lexer": "ipython3",
   "version": "3.8.14"
  }
 },
 "nbformat": 4,
 "nbformat_minor": 5
}

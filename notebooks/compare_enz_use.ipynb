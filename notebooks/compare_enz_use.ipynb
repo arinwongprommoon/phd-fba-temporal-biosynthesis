{
 "cells": [
  {
   "cell_type": "code",
   "execution_count": null,
   "id": "31323872",
   "metadata": {},
   "outputs": [],
   "source": [
    "import os\n",
    "import sys\n",
    "module_path = os.path.abspath(os.path.join('..'))\n",
    "if module_path not in sys.path:\n",
    "    sys.path.append(module_path)\n",
    "    \n",
    "%reload_ext autoreload\n",
    "%autoreload 2\n",
    "%matplotlib inline"
   ]
  },
  {
   "cell_type": "markdown",
   "id": "07b559a2",
   "metadata": {},
   "source": [
    "Import dependencies"
   ]
  },
  {
   "cell_type": "code",
   "execution_count": null,
   "id": "e830cc2c",
   "metadata": {},
   "outputs": [],
   "source": [
    "import matplotlib.pyplot as plt\n",
    "import numpy as np\n",
    "import pandas as pd\n",
    "import seaborn as sns\n",
    "import cobra\n",
    "import operator\n",
    "import re\n",
    "\n",
    "from scipy.cluster import hierarchy\n",
    "from scipy.spatial.distance import pdist, squareform\n",
    "from scipy.stats import zscore\n",
    "\n",
    "from sklearn.metrics.pairwise import pairwise_distances\n",
    "from sklearn.decomposition import PCA\n",
    "\n",
    "from src.gem.yeast8model import Yeast8Model"
   ]
  },
  {
   "cell_type": "markdown",
   "id": "3a1cdacc",
   "metadata": {},
   "source": [
    "Construct model object, optimise"
   ]
  },
  {
   "cell_type": "code",
   "execution_count": null,
   "id": "03ce3676",
   "metadata": {},
   "outputs": [],
   "source": [
    "glc_exch_rate = 16.89\n",
    "\n",
    "wt = Yeast8Model(\"../data/gemfiles/ecYeastGEM_batch_8-6-0.xml\")"
   ]
  },
  {
   "cell_type": "markdown",
   "id": "f2294de9",
   "metadata": {},
   "source": [
    "Nutrient options"
   ]
  },
  {
   "cell_type": "code",
   "execution_count": null,
   "id": "7c002ffd",
   "metadata": {},
   "outputs": [],
   "source": [
    "# OPTION 1: Default: lots of glucose\n",
    "wt.model.reactions.get_by_id(\"r_1714\").bounds = (-glc_exch_rate, 0)\n",
    "wt.model.reactions.get_by_id(\"r_1714_REV\").bounds = (0, glc_exch_rate)"
   ]
  },
  {
   "cell_type": "code",
   "execution_count": null,
   "id": "c5e61703",
   "metadata": {},
   "outputs": [],
   "source": [
    "# ALTERNATIVELY, OPTION 2: Custom glucose & ammonium exchange\n",
    "glc_exch_rate = 0.194 * 8.6869\n",
    "amm_exch_rate = 0.71 * 1.4848\n",
    "\n",
    "wt.model.reactions.get_by_id(\"r_1714\").bounds = (-glc_exch_rate, 0)\n",
    "wt.model.reactions.get_by_id(\"r_1714_REV\").bounds = (0, glc_exch_rate)\n",
    "wt.model.reactions.get_by_id(\"r_1654\").bounds = (-amm_exch_rate, 0)\n",
    "wt.model.reactions.get_by_id(\"r_1654_REV\").bounds = (0, amm_exch_rate)"
   ]
  },
  {
   "cell_type": "code",
   "execution_count": null,
   "id": "d8a8786c",
   "metadata": {},
   "outputs": [],
   "source": [
    "# ALTERNATIVELY, OPTION 3: Custom pyruvate & ammonium exchange\n",
    "pyr_exch_rate = 0.1\n",
    "amm_exch_rate = 0.1\n",
    "\n",
    "wt.model.reactions.get_by_id(\"r_1714\").bounds = (0, 0)\n",
    "wt.model.reactions.get_by_id(\"r_2033\").bounds = (-pyr_exch_rate, 0)\n",
    "wt.model.reactions.get_by_id(\"r_2033_REV\").bounds = (0, pyr_exch_rate)\n",
    "wt.model.reactions.get_by_id(\"r_1654\").bounds = (-amm_exch_rate, 0)\n",
    "wt.model.reactions.get_by_id(\"r_1654_REV\").bounds = (0, amm_exch_rate)"
   ]
  },
  {
   "cell_type": "markdown",
   "id": "b9910202",
   "metadata": {},
   "source": [
    "Optimise and ablate"
   ]
  },
  {
   "cell_type": "code",
   "execution_count": null,
   "id": "9b56a2a7",
   "metadata": {},
   "outputs": [],
   "source": [
    "wt.solution = wt.optimize()\n",
    "\n",
    "# Ablate and store fluxes in each round\n",
    "wt.ablation_result = wt.ablate()\n",
    "ablation_fluxes = wt.ablation_fluxes"
   ]
  },
  {
   "cell_type": "code",
   "execution_count": null,
   "id": "febe3d75",
   "metadata": {},
   "outputs": [],
   "source": [
    "ablation_fluxes"
   ]
  },
  {
   "cell_type": "markdown",
   "id": "108e3549",
   "metadata": {},
   "source": [
    "# Carbohydrates"
   ]
  },
  {
   "cell_type": "markdown",
   "id": "00006530",
   "metadata": {},
   "source": [
    "Get the reactions that produce amino acids"
   ]
  },
  {
   "cell_type": "code",
   "execution_count": null,
   "id": "a6fe18b0",
   "metadata": {},
   "outputs": [],
   "source": [
    "# Get the amino acid metabolites\n",
    "amino_acids = ['alanine', 'arginine', 'asparagine', 'aspartate', 'cysteine',\n",
    "              'glutamine', 'glutamate', 'glycine', 'histidine', 'isoleucine',\n",
    "              'leucine', 'lysine', 'methionine', 'phenylalanine', 'proline',\n",
    "              'serine', 'threonine', 'tryptophan', 'tyrosine', 'valine']\n",
    "amino_acids = np.array([f\"L-{amino_acid} [cytoplasm]\"\n",
    "                        for amino_acid in amino_acids])\n",
    "\n",
    "metabolite_names = np.array([metabolite.name\n",
    "                    for metabolite in wt.model.metabolites])\n",
    "metabolite_ids = np.array([metabolite.id\n",
    "                  for metabolite in wt.model.metabolites])\n",
    "\n",
    "amino_acid_index = np.nonzero(np.isin(metabolite_names, amino_acids))[0]\n",
    "amino_metabolite_ids = metabolite_ids[amino_acid_index]"
   ]
  },
  {
   "cell_type": "code",
   "execution_count": null,
   "id": "0271b34f",
   "metadata": {},
   "outputs": [],
   "source": [
    "# Create list of all reactions that involve the amino acids\n",
    "reaction_list = []\n",
    "for amino_metabolite_id in amino_metabolite_ids:\n",
    "    reactions_for_amino = list(\n",
    "        wt.model.metabolites.get_by_id(amino_metabolite_id).reactions)\n",
    "    reaction_list = list(set(reaction_list).union(reactions_for_amino))"
   ]
  },
  {
   "cell_type": "code",
   "execution_count": null,
   "id": "80e14733",
   "metadata": {},
   "outputs": [],
   "source": [
    "# Inspect fluxes through reactions\n",
    "reaction_ids = [reaction.id for reaction in reaction_list]\n",
    "wt.solution.fluxes.loc[reaction_ids]"
   ]
  },
  {
   "cell_type": "code",
   "execution_count": null,
   "id": "b9af5bb8",
   "metadata": {},
   "outputs": [],
   "source": [
    "# Get enzyme pseudoreactant for each reaction, if available\n",
    "enzyme_list = []\n",
    "for reaction in reaction_list:\n",
    "    reactant_list = [metabolite.id for metabolite in reaction.reactants]\n",
    "    new_enzyme_list = [enzyme for enzyme in reactant_list\n",
    "                       if enzyme.startswith(\"prot_\")]\n",
    "    if new_enzyme_list:\n",
    "        enzyme_list.extend(new_enzyme_list)"
   ]
  },
  {
   "cell_type": "code",
   "execution_count": null,
   "id": "dc6596f1",
   "metadata": {},
   "outputs": [],
   "source": [
    "# Convert enzyme pseudoreactant IDs to enzyme usage flux IDs\n",
    "usage_flux_ids = [re.sub(\"prot_(\\w+)\\[c\\]\",\n",
    "                         lambda x: f\"draw_prot_{x.group(1)}\", enzyme)\n",
    "                  for enzyme in enzyme_list]"
   ]
  },
  {
   "cell_type": "code",
   "execution_count": null,
   "id": "4381e0c9",
   "metadata": {},
   "outputs": [],
   "source": [
    "# See enzyme usages when the cell prioritises carbohydrate\n",
    "ablation_fluxes[\"carbohydrate\"].loc[usage_flux_ids]"
   ]
  },
  {
   "cell_type": "code",
   "execution_count": null,
   "id": "39f23f07",
   "metadata": {},
   "outputs": [],
   "source": [
    "# How many have a non-zero flux (within tolerance)?\n",
    "sum(abs(ablation_fluxes[\"carbohydrate\"].loc[usage_flux_ids] > 1.11e-10))"
   ]
  },
  {
   "cell_type": "markdown",
   "id": "2226e36a",
   "metadata": {},
   "source": [
    "# Unused code below..."
   ]
  },
  {
   "cell_type": "markdown",
   "id": "ea7e766c",
   "metadata": {},
   "source": [
    "# Pairwise Euclidean distances"
   ]
  },
  {
   "cell_type": "code",
   "execution_count": null,
   "id": "cbc8363b",
   "metadata": {},
   "outputs": [],
   "source": [
    "# Convert dictionary of pandas dataframes to numpy array for scipy input\n",
    "enz_use_array = np.stack([df.to_numpy() for df in ablation_fluxes.values()])\n",
    "print(enz_use_array.shape)"
   ]
  },
  {
   "cell_type": "code",
   "execution_count": null,
   "id": "1c7a0bb8",
   "metadata": {},
   "outputs": [],
   "source": [
    "enz_use_array"
   ]
  },
  {
   "cell_type": "code",
   "execution_count": null,
   "id": "f8e833ee",
   "metadata": {},
   "outputs": [],
   "source": [
    "# Remove enzymes that have all-zeros across components\n",
    "# because (a) they're not informative,\n",
    "# (b) they cause problems in downstream functions\n",
    "enz_use_array = enz_use_array[:, np.any(enz_use_array, axis=0)]\n",
    "print(enz_use_array.shape)"
   ]
  },
  {
   "cell_type": "code",
   "execution_count": null,
   "id": "fbe3faea",
   "metadata": {},
   "outputs": [],
   "source": [
    "# OPTIONAL\n",
    "# Standardise vector -- compute z-scores\n",
    "# Accounts for different dynamic ranges of fluxes for each enzyme\n",
    "enz_use_array = zscore(enz_use_array, axis=1)"
   ]
  },
  {
   "cell_type": "code",
   "execution_count": null,
   "id": "f501a5da",
   "metadata": {},
   "outputs": [],
   "source": [
    "# Get list of components\n",
    "list_components = list(ablation_fluxes.keys())"
   ]
  },
  {
   "cell_type": "code",
   "execution_count": null,
   "id": "9ebda3be",
   "metadata": {},
   "outputs": [],
   "source": [
    "# Compute pairwise Euclidean distances\n",
    "distances = pdist(enz_use_array, metric=\"euclidean\")\n",
    "distance_matrix = squareform(distances)\n",
    "distance_triangle = np.tril(distance_matrix)\n",
    "distance_triangle[np.triu_indices(distance_triangle.shape[0])] = np.nan"
   ]
  },
  {
   "cell_type": "code",
   "execution_count": null,
   "id": "861c616c",
   "metadata": {},
   "outputs": [],
   "source": [
    "# Visualise\n",
    "fig, ax = plt.subplots()\n",
    "sns.heatmap(\n",
    "    distance_triangle,\n",
    "    xticklabels=list_components,\n",
    "    yticklabels=list_components,\n",
    "    cmap=\"cividis_r\",\n",
    "    cbar_kws = {\n",
    "        \"label\": \"Pairwise Euclidean distances of flux vectors\"\n",
    "    },\n",
    "    ax=ax,\n",
    ")"
   ]
  },
  {
   "cell_type": "markdown",
   "id": "d2e803bb",
   "metadata": {},
   "source": [
    "# Hierarchical clustering"
   ]
  },
  {
   "cell_type": "code",
   "execution_count": null,
   "id": "74c986c3",
   "metadata": {},
   "outputs": [],
   "source": [
    "# Prepare dataframe for input to seaborn.clustermap\n",
    "enz_use_df = pd.DataFrame(enz_use_array, index=list_components)"
   ]
  },
  {
   "cell_type": "code",
   "execution_count": null,
   "id": "577e6088",
   "metadata": {},
   "outputs": [],
   "source": [
    "sns.clustermap(\n",
    "    enz_use_df,\n",
    "    #z_score=1,\n",
    "    cbar_kws={\n",
    "        \"label\": \"Fluxes\"\n",
    "    },\n",
    "    col_cluster=False,\n",
    "    dendrogram_ratio=0.5,\n",
    ")"
   ]
  },
  {
   "cell_type": "markdown",
   "id": "35e0a68c",
   "metadata": {},
   "source": [
    "# PCA"
   ]
  },
  {
   "cell_type": "code",
   "execution_count": null,
   "id": "96901043",
   "metadata": {},
   "outputs": [],
   "source": [
    "pca = PCA()\n",
    "Xt = pca.fit_transform(enz_use_array)"
   ]
  },
  {
   "cell_type": "code",
   "execution_count": null,
   "id": "b6989eb8",
   "metadata": {},
   "outputs": [],
   "source": [
    "fig, ax = plt.subplots(figsize=(4.5,4.5))\n",
    "pca1 = Xt[:,0]\n",
    "pca2 = Xt[:,1]\n",
    "ax.scatter(pca1, pca2)\n",
    "ax.set_xlabel(\"PC1\")\n",
    "ax.set_ylabel(\"PC2\")\n",
    "for idx, label in enumerate(list_components):\n",
    "    ax.annotate(label, (pca1[idx], pca2[idx]))"
   ]
  },
  {
   "cell_type": "markdown",
   "id": "600cbec0",
   "metadata": {},
   "source": [
    "# Non-zero fluxes"
   ]
  },
  {
   "cell_type": "markdown",
   "id": "e8c08182",
   "metadata": {},
   "source": [
    "In other words: I make a list of enzymes that have non-zero fluxes for each component.  Going through each pair of components, how many enzymes do each pair have in common?\n",
    "\n",
    "This is similar to Jaccard distance, but not quite."
   ]
  },
  {
   "cell_type": "code",
   "execution_count": null,
   "id": "e58b644c",
   "metadata": {},
   "outputs": [],
   "source": [
    "enz_use_nonzero = (enz_use_array == 0)"
   ]
  },
  {
   "cell_type": "code",
   "execution_count": null,
   "id": "f731efb2",
   "metadata": {},
   "outputs": [],
   "source": [
    "def and_wrapper(a, b):\n",
    "    return np.sum(np.logical_and(a, b))"
   ]
  },
  {
   "cell_type": "code",
   "execution_count": null,
   "id": "e4e9ab35",
   "metadata": {},
   "outputs": [],
   "source": [
    "commons = pdist(enz_use_nonzero, and_wrapper)\n",
    "commons_matrix = squareform(commons)\n",
    "commons_triangle = np.tril(commons_matrix)\n",
    "commons_triangle[np.triu_indices(commons_triangle.shape[0])] = np.nan"
   ]
  },
  {
   "cell_type": "code",
   "execution_count": null,
   "id": "00ae96b5",
   "metadata": {},
   "outputs": [],
   "source": [
    "# Visualise\n",
    "fig, ax = plt.subplots()\n",
    "sns.heatmap(\n",
    "    commons_triangle,\n",
    "    annot=True,\n",
    "    fmt=\".0f\",\n",
    "    xticklabels=list_components,\n",
    "    yticklabels=list_components,\n",
    "    cmap=\"cividis\",\n",
    "    cbar_kws = {\n",
    "        \"label\": \"Number of enzymes in common with nonzero flux\"\n",
    "    },\n",
    "    ax=ax,\n",
    ")"
   ]
  },
  {
   "cell_type": "markdown",
   "id": "b85e1ebd",
   "metadata": {},
   "source": [
    "# How top flux-carrying reactions change"
   ]
  },
  {
   "cell_type": "code",
   "execution_count": null,
   "id": "232088c5",
   "metadata": {},
   "outputs": [],
   "source": [
    "# Convenience functions\n",
    "def get_topn_list(series, ntop):\n",
    "    \"\"\"Get top N flux-carrying reactions from a Series.\"\"\"\n",
    "    return series.sort_values(ascending=False)[:ntop].index.to_list()\n",
    "\n",
    "def rxns_to_hues(rxn_list, hue_lookup):\n",
    "    \"\"\"Convert reactions to hues\"\"\"\n",
    "    hues = []\n",
    "    for rxn_id in rxn_list:\n",
    "        try:\n",
    "            hue = hue_lookup[rxn_id]\n",
    "            hues.append(hue)\n",
    "        except KeyError:\n",
    "            hues.append(np.nan)\n",
    "    return hues"
   ]
  },
  {
   "cell_type": "code",
   "execution_count": null,
   "id": "bc08c6a9",
   "metadata": {},
   "outputs": [],
   "source": [
    "ntop = 200"
   ]
  },
  {
   "cell_type": "code",
   "execution_count": null,
   "id": "d834bacb",
   "metadata": {},
   "outputs": [],
   "source": [
    "# List of top N reactions, original (un-ablated)\n",
    "original_topn_list = get_topn_list(ablation_fluxes['original'], ntop)\n",
    "\n",
    "# Assign 'hues' and create lookup table\n",
    "hue_lookup = dict((zip(original_topn_list, range(ntop))))\n",
    "\n",
    "# Find hues for all components\n",
    "hues_array = []\n",
    "for series in ablation_fluxes.values():\n",
    "    topn_list = get_topn_list(series, ntop)\n",
    "    hues = rxns_to_hues(topn_list, hue_lookup)\n",
    "    hues_array.append(hues)\n",
    "    \n",
    "hues_array = np.array(hues_array).T"
   ]
  },
  {
   "cell_type": "code",
   "execution_count": null,
   "id": "afaea431",
   "metadata": {},
   "outputs": [],
   "source": [
    "# Visualise\n",
    "fig, ax = plt.subplots(figsize=(5,8))\n",
    "sns.heatmap(\n",
    "    hues_array,\n",
    "    xticklabels=list_components,\n",
    "    cmap=\"magma_r\",\n",
    "    cbar=False,\n",
    ")\n",
    "ax.set_xlabel(\"Biomass component\")\n",
    "ax.set_ylabel(\"Rank\")"
   ]
  }
 ],
 "metadata": {
  "kernelspec": {
   "display_name": "fba",
   "language": "python",
   "name": "fba"
  },
  "language_info": {
   "codemirror_mode": {
    "name": "ipython",
    "version": 3
   },
   "file_extension": ".py",
   "mimetype": "text/x-python",
   "name": "python",
   "nbconvert_exporter": "python",
   "pygments_lexer": "ipython3",
   "version": "3.8.14"
  }
 },
 "nbformat": 4,
 "nbformat_minor": 5
}

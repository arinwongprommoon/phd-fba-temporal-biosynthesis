{
 "cells": [
  {
   "cell_type": "code",
   "execution_count": null,
   "id": "89f1cdeb",
   "metadata": {},
   "outputs": [],
   "source": [
    "import os\n",
    "import sys\n",
    "module_path = os.path.abspath(os.path.join('..'))\n",
    "if module_path not in sys.path:\n",
    "    sys.path.append(module_path)\n",
    "    \n",
    "%reload_ext autoreload\n",
    "%autoreload 2\n",
    "%matplotlib inline"
   ]
  },
  {
   "cell_type": "markdown",
   "id": "538fef3a",
   "metadata": {},
   "source": [
    "Import dependencies"
   ]
  },
  {
   "cell_type": "code",
   "execution_count": null,
   "id": "16441452",
   "metadata": {},
   "outputs": [],
   "source": [
    "import matplotlib.pyplot as plt\n",
    "import numpy as np\n",
    "import pandas as pd\n",
    "import cobra\n",
    "\n",
    "from src.gem.yeast8model import Yeast8Model\n",
    "from src.calc.ablation import get_ablation_ratio\n",
    "from src.calc.flux import compare_fluxes\n",
    "from src.calc.growth import get_exch_saturation\n",
    "from src.viz.bar import ablation_barplot, compare_ablation_times"
   ]
  },
  {
   "cell_type": "markdown",
   "id": "702e2723",
   "metadata": {},
   "source": [
    "# Ablation"
   ]
  },
  {
   "cell_type": "code",
   "execution_count": null,
   "id": "2672937d",
   "metadata": {},
   "outputs": [],
   "source": [
    "glc_exch_rate = 16.89"
   ]
  },
  {
   "cell_type": "code",
   "execution_count": null,
   "id": "9e848cd4",
   "metadata": {},
   "outputs": [],
   "source": [
    "ymodel = Yeast8Model(\"../data/gemfiles/ecYeastGEM_batch_8-6-0.xml\")\n",
    "ymodel.model.reactions.get_by_id(\"r_1714\").bounds = (-glc_exch_rate, 0)\n",
    "ymodel.model.reactions.get_by_id(\"r_1714_REV\").bounds = (0, glc_exch_rate)\n",
    "ymodel.solution = ymodel.optimize()"
   ]
  },
  {
   "cell_type": "code",
   "execution_count": null,
   "id": "b839b284",
   "metadata": {},
   "outputs": [],
   "source": [
    "ymodel.solution"
   ]
  },
  {
   "cell_type": "code",
   "execution_count": null,
   "id": "047df1bd",
   "metadata": {},
   "outputs": [],
   "source": [
    "ymodel.ablation_result = ymodel.ablate()\n",
    "ablation_results = ymodel.ablation_result"
   ]
  },
  {
   "cell_type": "code",
   "execution_count": null,
   "id": "2a1319a8",
   "metadata": {},
   "outputs": [],
   "source": [
    "ablation_results"
   ]
  },
  {
   "cell_type": "markdown",
   "id": "aa393cf0",
   "metadata": {},
   "source": [
    "Deconstructing ablate()"
   ]
  },
  {
   "cell_type": "code",
   "execution_count": null,
   "id": "0b2a4303",
   "metadata": {},
   "outputs": [],
   "source": [
    "ymodel.growth_id"
   ]
  },
  {
   "cell_type": "code",
   "execution_count": null,
   "id": "6be53bf6",
   "metadata": {},
   "outputs": [],
   "source": [
    "model_working = ymodel\n",
    "fba_solution = ymodel.optimize(model_working)\n",
    "original_flux = fba_solution.fluxes[ymodel.growth_id]"
   ]
  },
  {
   "cell_type": "code",
   "execution_count": null,
   "id": "5d1a6e37",
   "metadata": {},
   "outputs": [],
   "source": [
    "fba_solution"
   ]
  },
  {
   "cell_type": "code",
   "execution_count": null,
   "id": "2049d16e",
   "metadata": {},
   "outputs": [],
   "source": [
    "original_flux"
   ]
  },
  {
   "cell_type": "code",
   "execution_count": null,
   "id": "7aff4f82",
   "metadata": {},
   "outputs": [],
   "source": [
    "original_est_time = np.log(2)/original_flux"
   ]
  },
  {
   "cell_type": "code",
   "execution_count": null,
   "id": "ab363b22",
   "metadata": {},
   "outputs": [],
   "source": [
    "original_est_time"
   ]
  },
  {
   "cell_type": "markdown",
   "id": "8486faaa",
   "metadata": {},
   "source": [
    "Deconstructing getting values for barplots"
   ]
  },
  {
   "cell_type": "code",
   "execution_count": null,
   "id": "7ea2545c",
   "metadata": {},
   "outputs": [],
   "source": [
    "component_list = ablation_results.priority_component.to_list()[1:]\n",
    "ymodel_keys = [\"wt\"]"
   ]
  },
  {
   "cell_type": "code",
   "execution_count": null,
   "id": "670de8f9",
   "metadata": {},
   "outputs": [],
   "source": [
    "component_list"
   ]
  },
  {
   "cell_type": "code",
   "execution_count": null,
   "id": "256626a0",
   "metadata": {},
   "outputs": [],
   "source": [
    "# Construct data structures for bar plots\n",
    "# Hard-coding positions because honestly, it is easier.\n",
    "est_times_dict = {}\n",
    "Tpar_dict = {}\n",
    "for key in ymodel_keys:\n",
    "    est_times_dict[key] = ablation_results.iloc[1:, 2].to_list()\n",
    "    Tpar_dict[key] = [ablation_results.iloc[2, 3]]\n",
    "\n",
    "est_times_df = pd.DataFrame(est_times_dict)\n",
    "est_times_df.index = component_list\n",
    "Tpar_df = pd.DataFrame(Tpar_dict)\n",
    "Tpar_df.index = [\"Tpar\"]"
   ]
  },
  {
   "cell_type": "code",
   "execution_count": null,
   "id": "28b1e0ca",
   "metadata": {},
   "outputs": [],
   "source": [
    "ablation_results"
   ]
  },
  {
   "cell_type": "code",
   "execution_count": null,
   "id": "5e7d24bd",
   "metadata": {},
   "outputs": [],
   "source": [
    "ablation_results.iloc[2,3]"
   ]
  }
 ],
 "metadata": {
  "kernelspec": {
   "display_name": "fba",
   "language": "python",
   "name": "fba"
  },
  "language_info": {
   "codemirror_mode": {
    "name": "ipython",
    "version": 3
   },
   "file_extension": ".py",
   "mimetype": "text/x-python",
   "name": "python",
   "nbconvert_exporter": "python",
   "pygments_lexer": "ipython3",
   "version": "3.8.14"
  }
 },
 "nbformat": 4,
 "nbformat_minor": 5
}

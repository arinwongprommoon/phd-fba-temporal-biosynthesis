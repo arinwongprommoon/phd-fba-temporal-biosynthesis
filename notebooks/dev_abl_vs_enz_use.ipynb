{
 "cells": [
  {
   "cell_type": "code",
   "execution_count": null,
   "id": "e49b2ed1",
   "metadata": {},
   "outputs": [],
   "source": [
    "%run \"../scripts/script_abl_vs_enz_use_heatmap.py\""
   ]
  },
  {
   "cell_type": "code",
   "execution_count": null,
   "id": "a2d6132f",
   "metadata": {},
   "outputs": [],
   "source": [
    "# Initialise model\n",
    "glc_exch_rate = 16.89\n",
    "wt_ec = Yeast8Model(\"../data/gemfiles/ecYeastGEM_batch_8-6-0.xml\")\n",
    "wt_ec.model.reactions.get_by_id(\"r_1714\").bounds = (-glc_exch_rate, 0)\n",
    "wt_ec.model.reactions.get_by_id(\"r_1714_REV\").bounds = (0, glc_exch_rate)\n",
    "\n",
    "# Ablate and store fluxes in each round\n",
    "wt_ec.ablation_result = wt_ec.ablate()\n",
    "ablation_fluxes = wt_ec.ablation_fluxes\n",
    "\n",
    "ablation_fluxes_diff = ablation_fluxes.copy()\n",
    "ablation_fluxes_diff.pop(\"original\")\n",
    "for biomass_component, fluxes in ablation_fluxes_diff.items():\n",
    "    ablation_fluxes_diff[biomass_component] = (\n",
    "        ablation_fluxes[biomass_component] - ablation_fluxes[\"original\"]\n",
    "    )"
   ]
  },
  {
   "cell_type": "code",
   "execution_count": null,
   "id": "5fb59a5e",
   "metadata": {},
   "outputs": [],
   "source": [
    "def flux_dict_to_df(flux_dict):\n",
    "    list_participating_rxn_df = []\n",
    "    # Make DF for each biomass component\n",
    "    for idx, (biomass_component, fluxes) in enumerate(flux_dict.items()):\n",
    "        # get fluxes\n",
    "        s = fluxes.copy()\n",
    "        # get data needed for DF\n",
    "        enz_metabolite_ids = extract_protein_ids(s)\n",
    "        participating_rxn_ids, enz_usage_fluxes = get_participating_rxn_ids(\n",
    "            enz_metabolite_ids, s, wt_ec\n",
    "        )\n",
    "        subsystem_list = get_subsystem_list(participating_rxn_ids, subsystem_dict)\n",
    "        # construct DF\n",
    "        enz_usage_flux_column = \"enz_usage_flux_\" + biomass_component\n",
    "        participating_rxn_df = pd.DataFrame(\n",
    "            {\n",
    "                \"participating_rxn_id\": participating_rxn_ids,\n",
    "                \"subsystem\": subsystem_list,\n",
    "                enz_usage_flux_column: enz_usage_fluxes,\n",
    "            }\n",
    "        )\n",
    "        list_participating_rxn_df.append(participating_rxn_df)\n",
    "    # construct master DF with info from all biomass components\n",
    "    left_columns = list_participating_rxn_df[0].iloc[:, 0:2]\n",
    "    enz_usage_columns = pd.concat(\n",
    "        [\n",
    "            list_participating_rxn_df[idx].iloc[:, -1]\n",
    "            for idx in range(len(list_participating_rxn_df))\n",
    "        ],\n",
    "        axis=1,\n",
    "    )\n",
    "    \n",
    "    all_fluxes_df = pd.concat([left_columns, enz_usage_columns], axis=1)\n",
    "    # Drop enzyme usage reactions\n",
    "    all_fluxes_df = all_fluxes_df[all_fluxes_df.subsystem != \"Enzyme usage\"]\n",
    "    # Deal with duplicate reaction IDs by summing the fluxes\n",
    "    all_fluxes_df = all_fluxes_df.groupby(\n",
    "        [\"participating_rxn_id\", \"subsystem\"], as_index=False\n",
    "    ).sum(numeric_only=True)\n",
    "    # Sort alphabetically by subsystem\n",
    "    all_fluxes_df = all_fluxes_df.sort_values(by=[\"subsystem\"])\n",
    "    \n",
    "    return all_fluxes_df"
   ]
  },
  {
   "cell_type": "code",
   "execution_count": null,
   "id": "c09cd62e",
   "metadata": {},
   "outputs": [],
   "source": [
    "d = flux_dict_to_df(ablation_fluxes_diff)"
   ]
  },
  {
   "cell_type": "code",
   "execution_count": null,
   "id": "8d9a7509",
   "metadata": {},
   "outputs": [],
   "source": [
    "d"
   ]
  },
  {
   "cell_type": "code",
   "execution_count": null,
   "id": "aad2ac10",
   "metadata": {},
   "outputs": [],
   "source": [
    "f = flux_dict_to_df(ablation_fluxes)"
   ]
  },
  {
   "cell_type": "code",
   "execution_count": null,
   "id": "db1e58e1",
   "metadata": {},
   "outputs": [],
   "source": [
    "f"
   ]
  },
  {
   "cell_type": "markdown",
   "id": "09f85e0d",
   "metadata": {},
   "source": [
    "# Zero original flux -- differences"
   ]
  },
  {
   "cell_type": "code",
   "execution_count": null,
   "id": "35f1a46e",
   "metadata": {},
   "outputs": [],
   "source": [
    "zero_orig_flux_df = f[f[\"enz_usage_flux_original\"] == 0]"
   ]
  },
  {
   "cell_type": "code",
   "execution_count": null,
   "id": "2a2bf45e",
   "metadata": {},
   "outputs": [],
   "source": [
    "zero_orig_flux_df"
   ]
  },
  {
   "cell_type": "code",
   "execution_count": null,
   "id": "6c175df8",
   "metadata": {},
   "outputs": [],
   "source": [
    "# Drop fluxes with magnitude below a certain tol value\n",
    "enz_usage_colnames = [\n",
    "    colname\n",
    "    for colname in zero_orig_flux_df.columns.to_list()\n",
    "    if colname.startswith(\"enz_usage_flux_\")\n",
    "]\n",
    "enz_usage_colnames.remove(\"enz_usage_flux_original\")\n",
    "tol = plot_options[\"subsystem_heatmap/tol\"]\n",
    "zero_orig_flux_df = f.loc[\n",
    "    (f[enz_usage_colnames].abs() >= tol).any(axis=1)\n",
    "]\n",
    "print(f\"heatmap has {len(zero_orig_flux_df)} rows\")"
   ]
  },
  {
   "cell_type": "code",
   "execution_count": null,
   "id": "a0e26338",
   "metadata": {},
   "outputs": [],
   "source": [
    "# Define y-labels for heatmap: subsystem names\n",
    "subsystem_list_sorted = zero_orig_flux_df.subsystem.to_list()\n",
    "# Replace duplicates with space so that the subsystem name is only\n",
    "# present the first time it occurs\n",
    "subsystem_labels = []\n",
    "compare_string = \"\"\n",
    "for subsystem_string in subsystem_list_sorted:\n",
    "    if subsystem_string == compare_string:\n",
    "        subsystem_string = \" \"\n",
    "    else:\n",
    "        compare_string = subsystem_string\n",
    "    subsystem_labels.append(subsystem_string)"
   ]
  },
  {
   "cell_type": "code",
   "execution_count": null,
   "id": "eb6caff5",
   "metadata": {},
   "outputs": [],
   "source": [
    "# Draw 2d heatmap\n",
    "fig, ax = plt.subplots(figsize=(10, 25))\n",
    "sns.heatmap(\n",
    "    zero_orig_flux_df.iloc[:, 3:] * 1e4,\n",
    "    xticklabels=list(ablation_fluxes_diff.keys()),\n",
    "    yticklabels=subsystem_labels,\n",
    "    center=0,\n",
    "    robust=True,\n",
    "    cmap=\"PiYG\",\n",
    "    cbar_kws={\n",
    "        \"label\": r\"Flux change [$\\times 10^{-4} \\mathrm{protein} mmol \\cdot g_{DW}^{-1}$]\"\n",
    "    },\n",
    "    ax=ax,\n",
    ")\n",
    "ax.tick_params(top=True, labeltop=True, bottom=False, labelbottom=False)\n",
    "ax.set_title(\n",
    "    f\"Enzyme usage changes as a result of ablation\\n(magnitudes smaller than {tol} excluded)\"\n",
    ")"
   ]
  },
  {
   "cell_type": "markdown",
   "id": "b5612748",
   "metadata": {},
   "source": [
    "# Non-zero original fluxes -- fold changes"
   ]
  },
  {
   "cell_type": "code",
   "execution_count": null,
   "id": "a9931a24",
   "metadata": {},
   "outputs": [],
   "source": [
    "nonzero_orig_flux_df = f[f[\"enz_usage_flux_original\"] != 0]"
   ]
  },
  {
   "cell_type": "code",
   "execution_count": null,
   "id": "e480fbdd",
   "metadata": {},
   "outputs": [],
   "source": [
    "nonzero_orig_flux_df"
   ]
  },
  {
   "cell_type": "code",
   "execution_count": null,
   "id": "029b9e7f",
   "metadata": {},
   "outputs": [],
   "source": [
    "enz_usage_colnames = [\n",
    "    colname\n",
    "    for colname in nonzero_orig_flux_df.columns.to_list()\n",
    "    if colname.startswith(\"enz_usage_flux_\")\n",
    "]\n",
    "enz_usage_colnames.remove(\"enz_usage_flux_original\")"
   ]
  },
  {
   "cell_type": "code",
   "execution_count": null,
   "id": "4bef53b9",
   "metadata": {},
   "outputs": [],
   "source": [
    "nonzero_foldchanges = nonzero_orig_flux_df.copy()"
   ]
  },
  {
   "cell_type": "code",
   "execution_count": null,
   "id": "8be9a815",
   "metadata": {},
   "outputs": [],
   "source": [
    "for colname in enz_usage_colnames:\n",
    "    nonzero_foldchanges[colname] /= nonzero_foldchanges[\"enz_usage_flux_original\"]\n",
    "    nonzero_foldchanges[colname] = np.log2(nonzero_foldchanges[colname])\n",
    "nonzero_foldchanges.drop(columns=[\"enz_usage_flux_original\"], inplace=True)\n",
    "# log(0) is undefined\n",
    "nonzero_foldchanges.replace([np.inf, -np.inf], np.nan, inplace=True)"
   ]
  },
  {
   "cell_type": "code",
   "execution_count": null,
   "id": "04e68b9b",
   "metadata": {},
   "outputs": [],
   "source": [
    "nonzero_foldchanges"
   ]
  },
  {
   "cell_type": "code",
   "execution_count": null,
   "id": "7f28f8da",
   "metadata": {},
   "outputs": [],
   "source": [
    "# Define y-labels for heatmap: subsystem names\n",
    "subsystem_list_sorted = nonzero_foldchanges.subsystem.to_list()\n",
    "# Replace duplicates with space so that the subsystem name is only\n",
    "# present the first time it occurs\n",
    "subsystem_labels = []\n",
    "compare_string = \"\"\n",
    "for subsystem_string in subsystem_list_sorted:\n",
    "    if subsystem_string == compare_string:\n",
    "        subsystem_string = \" \"\n",
    "    else:\n",
    "        compare_string = subsystem_string\n",
    "    subsystem_labels.append(subsystem_string)"
   ]
  },
  {
   "cell_type": "code",
   "execution_count": null,
   "id": "8809962d",
   "metadata": {},
   "outputs": [],
   "source": [
    "# Draw 2d heatmap\n",
    "fig, ax = plt.subplots(figsize=(10, 25))\n",
    "sns.heatmap(\n",
    "    nonzero_foldchanges.iloc[:, 2:],\n",
    "    xticklabels=list(ablation_fluxes_diff.keys()),\n",
    "    yticklabels=subsystem_labels,\n",
    "    center=0,\n",
    "    robust=True,\n",
    "    cmap=\"PiYG\",\n",
    "    cbar_kws={\n",
    "        \"label\": r\"log2(Fold change)\"\n",
    "    },\n",
    "    ax=ax,\n",
    ")\n",
    "ax.tick_params(top=True, labeltop=True, bottom=False, labelbottom=False)\n",
    "ax.set_title(\n",
    "    f\"Enzyme usage fold changes as a result of ablation\"\n",
    ")"
   ]
  },
  {
   "cell_type": "code",
   "execution_count": null,
   "id": "12e3aa57",
   "metadata": {},
   "outputs": [],
   "source": [
    "df_nrows = len(nonzero_foldchanges)\n",
    "third = int(np.floor(df_nrows/3))\n",
    "twothirds = int(np.floor(2*df_nrows/3))"
   ]
  },
  {
   "cell_type": "code",
   "execution_count": null,
   "id": "8cc18957",
   "metadata": {},
   "outputs": [],
   "source": [
    "# First third\n",
    "fig, ax = plt.subplots(figsize=(10, 25))\n",
    "sns.heatmap(\n",
    "    nonzero_foldchanges.iloc[0:third, 2:],\n",
    "    xticklabels=list(ablation_fluxes_diff.keys()),\n",
    "    yticklabels=subsystem_labels[0:third],\n",
    "    center=0,\n",
    "    robust=True,\n",
    "    cmap=\"PiYG\",\n",
    "    cbar_kws={\n",
    "        \"label\": r\"log2(Fold change)\"\n",
    "    },\n",
    "    ax=ax,\n",
    ")\n",
    "ax.tick_params(top=True, labeltop=True, bottom=False, labelbottom=False)\n",
    "ax.set_title(\n",
    "    f\"Enzyme usage fold changes as a result of ablation\"\n",
    ")"
   ]
  },
  {
   "cell_type": "code",
   "execution_count": null,
   "id": "410e7117",
   "metadata": {},
   "outputs": [],
   "source": [
    "# Second third\n",
    "fig, ax = plt.subplots(figsize=(10, 25))\n",
    "sns.heatmap(\n",
    "    nonzero_foldchanges.iloc[third+1:twothirds, 2:],\n",
    "    xticklabels=list(ablation_fluxes_diff.keys()),\n",
    "    yticklabels=subsystem_labels[third+1:twothirds],\n",
    "    center=0,\n",
    "    robust=True,\n",
    "    cmap=\"PiYG\",\n",
    "    cbar_kws={\n",
    "        \"label\": r\"log2(Fold change)\"\n",
    "    },\n",
    "    ax=ax,\n",
    ")\n",
    "ax.tick_params(top=True, labeltop=True, bottom=False, labelbottom=False)\n",
    "ax.set_title(\n",
    "    f\"Enzyme usage fold changes as a result of ablation\"\n",
    ")"
   ]
  },
  {
   "cell_type": "code",
   "execution_count": null,
   "id": "40a3c976",
   "metadata": {},
   "outputs": [],
   "source": [
    "# Last third\n",
    "fig, ax = plt.subplots(figsize=(10, 25))\n",
    "sns.heatmap(\n",
    "    nonzero_foldchanges.iloc[twothirds+1:, 2:],\n",
    "    xticklabels=list(ablation_fluxes_diff.keys()),\n",
    "    yticklabels=subsystem_labels[twothirds+1:],\n",
    "    center=0,\n",
    "    robust=True,\n",
    "    cmap=\"PiYG\",\n",
    "    cbar_kws={\n",
    "        \"label\": r\"log2(Fold change)\"\n",
    "    },\n",
    "    ax=ax,\n",
    ")\n",
    "ax.tick_params(top=True, labeltop=True, bottom=False, labelbottom=False)\n",
    "ax.set_title(\n",
    "    f\"Enzyme usage fold changes as a result of ablation\"\n",
    ")"
   ]
  }
 ],
 "metadata": {
  "kernelspec": {
   "display_name": "fba",
   "language": "python",
   "name": "fba"
  },
  "language_info": {
   "codemirror_mode": {
    "name": "ipython",
    "version": 3
   },
   "file_extension": ".py",
   "mimetype": "text/x-python",
   "name": "python",
   "nbconvert_exporter": "python",
   "pygments_lexer": "ipython3",
   "version": "3.8.14"
  }
 },
 "nbformat": 4,
 "nbformat_minor": 5
}

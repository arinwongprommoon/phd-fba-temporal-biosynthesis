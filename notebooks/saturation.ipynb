{
 "cells": [
  {
   "cell_type": "code",
   "execution_count": null,
   "id": "8fbd1cec",
   "metadata": {},
   "outputs": [],
   "source": [
    "import os\n",
    "import sys\n",
    "module_path = os.path.abspath(os.path.join('..'))\n",
    "if module_path not in sys.path:\n",
    "    sys.path.append(module_path)\n",
    "    \n",
    "%reload_ext autoreload\n",
    "%autoreload 2\n",
    "%matplotlib inline"
   ]
  },
  {
   "cell_type": "markdown",
   "id": "6a307089",
   "metadata": {},
   "source": [
    "Import dependencies"
   ]
  },
  {
   "cell_type": "code",
   "execution_count": null,
   "id": "76ff08fc",
   "metadata": {},
   "outputs": [],
   "source": [
    "import matplotlib.pyplot as plt\n",
    "import numpy as np\n",
    "import pandas as pd\n",
    "import cobra\n",
    "\n",
    "from src.gem.yeast8model import Yeast8Model\n",
    "from src.calc.ablation import get_ablation_ratio\n",
    "from src.calc.flux import compare_fluxes\n",
    "from src.calc.growth import get_exch_saturation\n",
    "from src.viz.bar import ablation_barplot, compare_ablation_times"
   ]
  },
  {
   "cell_type": "markdown",
   "id": "2d5bed0e",
   "metadata": {},
   "source": [
    "# Construct models of cells of interest, optimise"
   ]
  },
  {
   "cell_type": "code",
   "execution_count": null,
   "id": "9a08fe4a",
   "metadata": {},
   "outputs": [],
   "source": [
    "glc_exch_rate = 16.89\n",
    "\n",
    "wt = Yeast8Model(\"../data/gemfiles/ecYeastGEM_batch_8-6-0.xml\")\n",
    "wt.model.reactions.get_by_id(\"r_1714\").bounds = (-glc_exch_rate, 0)\n",
    "wt.model.reactions.get_by_id(\"r_1714_REV\").bounds = (0, glc_exch_rate)\n",
    "wt.solution = wt.optimize()"
   ]
  },
  {
   "cell_type": "markdown",
   "id": "8df82067",
   "metadata": {},
   "source": [
    "# Saturations"
   ]
  },
  {
   "cell_type": "code",
   "execution_count": null,
   "id": "2f1ce6c7",
   "metadata": {},
   "outputs": [],
   "source": [
    "def find_sat_point(exch_rates, growthrates, tol=1e-8):\n",
    "    tol_bool = np.abs(np.diff(growthrates)) < tol\n",
    "    sat_idx = np.argwhere(tol_bool)[0][0]\n",
    "    sat_point = exch_rates[sat_idx+1]\n",
    "    return sat_point"
   ]
  },
  {
   "cell_type": "markdown",
   "id": "4e98d59a",
   "metadata": {},
   "source": [
    "## Glucose"
   ]
  },
  {
   "cell_type": "markdown",
   "id": "8a011ca2",
   "metadata": {},
   "source": [
    "Optimise wt with glucose unconstrained"
   ]
  },
  {
   "cell_type": "code",
   "execution_count": null,
   "id": "25bd2251",
   "metadata": {},
   "outputs": [],
   "source": [
    "wt.reset_to_file()\n",
    "wt.unrestrict_growth()\n",
    "wt.solution = wt.optimize()"
   ]
  },
  {
   "cell_type": "markdown",
   "id": "ffb85c22",
   "metadata": {},
   "source": [
    "Get saturated glucose uptake:"
   ]
  },
  {
   "cell_type": "code",
   "execution_count": null,
   "id": "26ae8fc6",
   "metadata": {},
   "outputs": [],
   "source": [
    "wt.solution['r_1714_REV']"
   ]
  },
  {
   "cell_type": "markdown",
   "id": "200ae641",
   "metadata": {},
   "source": [
    "> You should get 16.9 mmol g<sub>DW</sub><sup>-1</sup> h<sup>-1</sup>.  This agrees with Elsemman et al. (2022): they predict saturation at 18.6 mmol g<sub>DW</sub><sup>-1</sup> h<sup>-1</sup> and report a range of 16 ~ 19 mmol g<sub>DW</sub><sup>-1</sup> h<sup>-1</sup> from the literature (Blank et al., 2004)."
   ]
  },
  {
   "cell_type": "markdown",
   "id": "5259446c",
   "metadata": {},
   "source": [
    "Sweep"
   ]
  },
  {
   "cell_type": "code",
   "execution_count": null,
   "id": "617b0b72",
   "metadata": {},
   "outputs": [],
   "source": [
    "exch_rates = np.linspace(0, 20.0, 100)\n",
    "growthrates = get_exch_saturation(wt, \"r_1714\", exch_rates)"
   ]
  },
  {
   "cell_type": "markdown",
   "id": "be489a61",
   "metadata": {},
   "source": [
    "Finding saturation point"
   ]
  },
  {
   "cell_type": "code",
   "execution_count": null,
   "id": "414214f3",
   "metadata": {},
   "outputs": [],
   "source": [
    "sat_point = find_sat_point(exch_rates, growthrates)"
   ]
  },
  {
   "cell_type": "code",
   "execution_count": null,
   "id": "02617409",
   "metadata": {},
   "outputs": [],
   "source": [
    "print(sat_point)"
   ]
  },
  {
   "cell_type": "code",
   "execution_count": null,
   "id": "1a1e2ddf",
   "metadata": {},
   "outputs": [],
   "source": [
    "glc_sat_point = sat_point"
   ]
  },
  {
   "cell_type": "markdown",
   "id": "6b4baff4",
   "metadata": {},
   "source": [
    "Growth saturation curve"
   ]
  },
  {
   "cell_type": "code",
   "execution_count": null,
   "id": "0f824438",
   "metadata": {},
   "outputs": [],
   "source": [
    "fig, ax = plt.subplots()\n",
    "ax.plot(exch_rates, growthrates)\n",
    "ax.axvline(x=sat_point, color='tab:blue', linestyle='--', label='Saturation point')\n",
    "ax.set_xlim((0,20))\n",
    "ax.legend(loc=\"lower right\")\n",
    "ax.set_xlabel('Glucose exchange rate ($mmol g_{DW}^{-1} h^{-1}$)')\n",
    "ax.set_ylabel('Growth rate ($h^{-1}$)')\n",
    "#ax.set_title('Effect of glucose exchange rate on growth rate')"
   ]
  },
  {
   "cell_type": "code",
   "execution_count": null,
   "id": "22f5dc3b",
   "metadata": {},
   "outputs": [],
   "source": [
    "# Plot of diff\n",
    "fig, ax = plt.subplots()\n",
    "ax.plot(exch_rates[1:], np.diff(growthrates))\n",
    "ax.axvline(x=sat_point, color='tab:blue', linestyle='--', label='Saturation point')\n",
    "ax.legend(loc=\"lower right\")\n",
    "ax.set_yscale('log')\n",
    "ax.set_xlabel('Glucose exchange rate ($mmol g_{DW}^{-1} h^{-1}$)')\n",
    "ax.set_ylabel('Difference in growth rate')"
   ]
  },
  {
   "cell_type": "markdown",
   "id": "1e834ccb",
   "metadata": {},
   "source": [
    "## Pyruvate"
   ]
  },
  {
   "cell_type": "code",
   "execution_count": null,
   "id": "e14b013d",
   "metadata": {},
   "outputs": [],
   "source": [
    "wt.reset_to_file()\n",
    "wt.unrestrict_growth()\n",
    "wt.add_media_components(['r_2033'])\n",
    "wt.remove_media_components(['r_1714', 'r_1714_REV'])\n",
    "wt.solution = wt.optimize()"
   ]
  },
  {
   "cell_type": "code",
   "execution_count": null,
   "id": "dd76a0b3",
   "metadata": {},
   "outputs": [],
   "source": [
    "wt.solution['r_2033']"
   ]
  },
  {
   "cell_type": "markdown",
   "id": "ff8f8d1f",
   "metadata": {},
   "source": [
    "> Should get: 8.46"
   ]
  },
  {
   "cell_type": "code",
   "execution_count": null,
   "id": "c039e541",
   "metadata": {},
   "outputs": [],
   "source": [
    "exch_rates = np.linspace(0, 20.0, 100)\n",
    "growthrates = get_exch_saturation(wt, \"r_2033\", exch_rates)"
   ]
  },
  {
   "cell_type": "code",
   "execution_count": null,
   "id": "a48d9eba",
   "metadata": {},
   "outputs": [],
   "source": [
    "sat_point = find_sat_point(exch_rates, growthrates)"
   ]
  },
  {
   "cell_type": "code",
   "execution_count": null,
   "id": "81d39728",
   "metadata": {},
   "outputs": [],
   "source": [
    "print(sat_point)"
   ]
  },
  {
   "cell_type": "code",
   "execution_count": null,
   "id": "7a7a676a",
   "metadata": {},
   "outputs": [],
   "source": [
    "pyr_sat_point = sat_point"
   ]
  },
  {
   "cell_type": "code",
   "execution_count": null,
   "id": "b70e2f76",
   "metadata": {},
   "outputs": [],
   "source": [
    "fig, ax = plt.subplots()\n",
    "ax.plot(exch_rates, growthrates)\n",
    "ax.axvline(x=sat_point, color='tab:blue', linestyle='--', label='Saturation point')\n",
    "ax.set_xlim((0,20))\n",
    "ax.legend(loc=\"lower right\")\n",
    "ax.set_xlabel('Pyruvate exchange rate ($mmol g_{DW}^{-1} h^{-1}$)')\n",
    "ax.set_ylabel('Growth rate ($h^{-1}$)')\n",
    "#ax.set_title('Effect of glucose exchange rate on growth rate')"
   ]
  },
  {
   "cell_type": "code",
   "execution_count": null,
   "id": "51fcdbce",
   "metadata": {},
   "outputs": [],
   "source": [
    "# Plot of diff\n",
    "fig, ax = plt.subplots()\n",
    "ax.plot(exch_rates[1:], np.diff(growthrates))\n",
    "ax.axvline(x=sat_point, color='tab:blue', linestyle='--', label='Saturation point')\n",
    "ax.legend(loc=\"lower right\")\n",
    "ax.set_yscale('log')\n",
    "ax.set_xlabel('Pyruvate exchange rate ($mmol g_{DW}^{-1} h^{-1}$)')\n",
    "ax.set_ylabel('Difference in growth rate')"
   ]
  },
  {
   "cell_type": "markdown",
   "id": "bc691e5d",
   "metadata": {},
   "source": [
    "## Ammonium"
   ]
  },
  {
   "cell_type": "markdown",
   "id": "85a9f7c0",
   "metadata": {},
   "source": [
    "Different saturation points if glucose or pyruvate is the carbon source."
   ]
  },
  {
   "cell_type": "markdown",
   "id": "63f518ae",
   "metadata": {},
   "source": [
    "Glucose as carbon source..."
   ]
  },
  {
   "cell_type": "code",
   "execution_count": null,
   "id": "b1d9b9f7",
   "metadata": {},
   "outputs": [],
   "source": [
    "glc_exch_rate = glc_sat_point # Saturation point, as found earlier\n",
    "\n",
    "wt = Yeast8Model(\"../data/gemfiles/ecYeastGEM_batch_8-6-0.xml\")\n",
    "wt.model.reactions.get_by_id(\"r_1714\").bounds = (-glc_exch_rate, 0)\n",
    "wt.model.reactions.get_by_id(\"r_1714_REV\").bounds = (0, glc_exch_rate)\n",
    "wt.add_media_components(['r_1654'])\n",
    "wt.solution = wt.optimize()"
   ]
  },
  {
   "cell_type": "code",
   "execution_count": null,
   "id": "01dc0252",
   "metadata": {},
   "outputs": [],
   "source": [
    "wt.solution['r_1654']"
   ]
  },
  {
   "cell_type": "markdown",
   "id": "ab32d881",
   "metadata": {},
   "source": [
    "Sweep.\n",
    "\n",
    "Note: not removing glucose or else growth doesn't happen at all.  Glucose exchange set to 16.89."
   ]
  },
  {
   "cell_type": "code",
   "execution_count": null,
   "id": "d8a4394d",
   "metadata": {},
   "outputs": [],
   "source": [
    "exch_rates = np.linspace(0, 3.0, 100)\n",
    "growthrates_glc = get_exch_saturation(wt, \"r_1654\", exch_rates, remove_glucose=False)"
   ]
  },
  {
   "cell_type": "code",
   "execution_count": null,
   "id": "188259ee",
   "metadata": {},
   "outputs": [],
   "source": [
    "sat_point_glc = find_sat_point(exch_rates, growthrates_glc)"
   ]
  },
  {
   "cell_type": "code",
   "execution_count": null,
   "id": "ed3633ff",
   "metadata": {},
   "outputs": [],
   "source": [
    "print(sat_point_glc)"
   ]
  },
  {
   "cell_type": "markdown",
   "id": "4923160a",
   "metadata": {},
   "source": [
    "Pyruvate as carbon source..."
   ]
  },
  {
   "cell_type": "code",
   "execution_count": null,
   "id": "0e05a805",
   "metadata": {},
   "outputs": [],
   "source": [
    "glc_exch_rate = 0\n",
    "pyr_exch_rate = pyr_sat_point\n",
    "\n",
    "wt = Yeast8Model(\"../data/gemfiles/ecYeastGEM_batch_8-6-0.xml\")\n",
    "wt.remove_media_components(['r_1714', 'r_1714_REV'])\n",
    "wt.add_media_components(['r_2033'])\n",
    "wt.add_media_components(['r_1654'])\n",
    "wt.model.reactions.get_by_id(\"r_2033\").bounds = (-pyr_exch_rate, 0)\n",
    "wt.model.reactions.get_by_id(\"r_2033_REV\").bounds = (0, pyr_exch_rate)\n",
    "wt.solution = wt.optimize()"
   ]
  },
  {
   "cell_type": "code",
   "execution_count": null,
   "id": "1a6a742a",
   "metadata": {},
   "outputs": [],
   "source": [
    "growthrates_pyr = get_exch_saturation(wt, \"r_1654\", exch_rates)"
   ]
  },
  {
   "cell_type": "code",
   "execution_count": null,
   "id": "ce8ebeb8",
   "metadata": {},
   "outputs": [],
   "source": [
    "sat_point_pyr = find_sat_point(exch_rates, growthrates_pyr)"
   ]
  },
  {
   "cell_type": "code",
   "execution_count": null,
   "id": "162c2c1f",
   "metadata": {},
   "outputs": [],
   "source": [
    "print(sat_point_pyr)"
   ]
  },
  {
   "cell_type": "code",
   "execution_count": null,
   "id": "fb01d82d",
   "metadata": {},
   "outputs": [],
   "source": [
    "fig, ax = plt.subplots()\n",
    "ax.plot(exch_rates, growthrates_glc, color='tab:blue', label=\"Growth rate, in glucose\")\n",
    "ax.axvline(x=sat_point_glc, color='tab:blue', linestyle='--', label='Saturation point, in glucose')\n",
    "ax.plot(exch_rates, growthrates_pyr, color='tab:red', label=\"Growth rate, in pyruvate\")\n",
    "ax.axvline(x=sat_point_pyr, color='tab:red', linestyle='--', label='Saturation point, in pyruvate')\n",
    "ax.set_xlim((0,3))\n",
    "ax.legend(loc=\"center right\")\n",
    "ax.set_xlabel('Ammonium exchange rate ($mmol g_{DW}^{-1} h^{-1}$)')\n",
    "ax.set_ylabel('Growth rate ($h^{-1}$)')\n",
    "#ax.set_title('Effect of glucose exchange rate on growth rate')"
   ]
  },
  {
   "cell_type": "code",
   "execution_count": null,
   "id": "3d2e3454",
   "metadata": {},
   "outputs": [],
   "source": [
    "# Plot of diff\n",
    "fig, ax = plt.subplots()\n",
    "ax.plot(exch_rates[1:], np.diff(growthrates_glc), color='tab:blue', label=\"Growth rate, in glucose\")\n",
    "ax.axvline(x=sat_point_glc, color='tab:blue', linestyle='--', label='Saturation point, in glucose')\n",
    "ax.plot(exch_rates[1:], np.diff(growthrates_pyr), color='tab:red', label=\"Growth rate, in pyruvate\")\n",
    "ax.axvline(x=sat_point_pyr, color='tab:red', linestyle='--', label='Saturation point, in pyruvate')\n",
    "ax.legend(loc=\"center right\")\n",
    "ax.set_yscale('log')\n",
    "ax.set_xlabel('Ammonium exchange rate ($mmol g_{DW}^{-1} h^{-1}$)')\n",
    "ax.set_ylabel('Difference in growth rate')"
   ]
  },
  {
   "cell_type": "markdown",
   "id": "03ee4b15",
   "metadata": {},
   "source": [
    "# Interpolate"
   ]
  },
  {
   "cell_type": "code",
   "execution_count": null,
   "id": "6215a876",
   "metadata": {},
   "outputs": [],
   "source": [
    "np.interp(0.1, growthrate, exch_rates)"
   ]
  }
 ],
 "metadata": {
  "kernelspec": {
   "display_name": "fba",
   "language": "python",
   "name": "fba"
  },
  "language_info": {
   "codemirror_mode": {
    "name": "ipython",
    "version": 3
   },
   "file_extension": ".py",
   "mimetype": "text/x-python",
   "name": "python",
   "nbconvert_exporter": "python",
   "pygments_lexer": "ipython3",
   "version": "3.8.14"
  }
 },
 "nbformat": 4,
 "nbformat_minor": 5
}

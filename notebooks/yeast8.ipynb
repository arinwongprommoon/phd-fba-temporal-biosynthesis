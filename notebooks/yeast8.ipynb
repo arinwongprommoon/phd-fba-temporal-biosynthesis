{
 "cells": [
  {
   "cell_type": "markdown",
   "id": "5325c7bc",
   "metadata": {},
   "source": [
    "Import dependencies"
   ]
  },
  {
   "cell_type": "code",
   "execution_count": null,
   "id": "771dc48c",
   "metadata": {},
   "outputs": [],
   "source": [
    "%reload_ext autoreload\n",
    "%autoreload 1\n",
    "%matplotlib inline\n",
    "\n",
    "import matplotlib.pyplot as plt\n",
    "import numpy as np\n",
    "import pandas as pd\n",
    "import cobra\n",
    "\n",
    "from src.gem.yeast8model import Yeast8Model\n",
    "from src.data.biomasscomponent import biomass_component_list_orig\n",
    "from src.calc.flux import compare_fluxes\n"
   ]
  },
  {
   "cell_type": "markdown",
   "id": "66958c67",
   "metadata": {},
   "source": [
    "# Construct models of cells of interest, optimise"
   ]
  },
  {
   "cell_type": "code",
   "execution_count": null,
   "id": "8360a02f",
   "metadata": {},
   "outputs": [],
   "source": [
    "#glucose_bounds = (-1, 0) # nearer the default\n",
    "glucose_bounds = (-4.75, 0) # gives a sensible growth rate for wt\n",
    "#glucose_bounds = (-18.5, 0) # for E. coli\n",
    "\n",
    "wt = Yeast8Model(\"../data/gemfiles/yeast-GEM_8-6-0.xml\", growth_id=\"r_2111\", biomass_id=\"r_4041\")\n",
    "wt.biomass_component_list = biomass_component_list_orig\n",
    "wt.add_media_components(['r_1992'])\n",
    "wt.model.reactions.r_1714.bounds = glucose_bounds\n",
    "wt.solution = wt.optimize()\n",
    "\n",
    "BY4741 = Yeast8Model(\"../data/gemfiles/yeast-GEM_8-6-0.xml\", growth_id=\"r_2111\", biomass_id=\"r_4041\")\n",
    "BY4741.biomass_component_list = biomass_component_list_orig\n",
    "BY4741.add_media_components(['r_1992'])\n",
    "BY4741.model.reactions.r_1714.bounds = glucose_bounds\n",
    "BY4741.make_auxotroph(\"BY4741\")\n",
    "BY4741.solution = BY4741.optimize()\n",
    "\n",
    "zwf1 = Yeast8Model(\"../data/gemfiles/yeast-GEM_8-6-0.xml\", growth_id=\"r_2111\", biomass_id=\"r_4041\")\n",
    "zwf1.biomass_component_list = biomass_component_list_orig\n",
    "zwf1.add_media_components(['r_1992'])\n",
    "zwf1.model.reactions.r_1714.bounds = glucose_bounds\n",
    "zwf1.make_auxotroph(\"BY4741\")\n",
    "zwf1.knock_out_list([\"YNL241C\"])\n",
    "zwf1.solution = zwf1.optimize()\n",
    "\n",
    "tsa2 = Yeast8Model(\"../data/gemfiles/yeast-GEM_8-6-0.xml\", growth_id=\"r_2111\", biomass_id=\"r_4041\")\n",
    "tsa2.biomass_component_list = biomass_component_list_orig\n",
    "tsa2.add_media_components(['r_1992'])\n",
    "tsa2.model.reactions.r_1714.bounds = glucose_bounds\n",
    "tsa2.make_auxotroph(\"BY4742\")\n",
    "tsa2.knock_out_list([\"YDR453C\"])\n",
    "tsa2.solution = tsa2.optimize()"
   ]
  },
  {
   "cell_type": "markdown",
   "id": "8bd5f1c2",
   "metadata": {},
   "source": [
    "# Ablate"
   ]
  },
  {
   "cell_type": "code",
   "execution_count": null,
   "id": "8ebcb3d5",
   "metadata": {},
   "outputs": [],
   "source": [
    "wt.ablation_result = wt.ablate()\n",
    "\n",
    "fig, ax = plt.subplots()\n",
    "wt.ablation_barplot(ax)\n",
    "plt.show()"
   ]
  },
  {
   "cell_type": "code",
   "execution_count": null,
   "id": "943543ff",
   "metadata": {},
   "outputs": [],
   "source": [
    "BY4741.ablation_result = BY4741.ablate()\n",
    "\n",
    "fig, ax = plt.subplots()\n",
    "BY4741.ablation_barplot(ax)\n",
    "plt.show()"
   ]
  },
  {
   "cell_type": "markdown",
   "id": "7f4f69e3",
   "metadata": {},
   "source": [
    "> ~~Predicts unrealistically rapid synthesis time for BY strains, but this may be because of infinity uptake of media supplements needed for these auxotrophs to grow~~"
   ]
  },
  {
   "cell_type": "code",
   "execution_count": null,
   "id": "9aefa5d3",
   "metadata": {},
   "outputs": [],
   "source": [
    "zwf1.ablation_result = zwf1.ablate()\n",
    "fig, ax = plt.subplots()\n",
    "zwf1.ablation_barplot(ax)\n",
    "plt.show()"
   ]
  },
  {
   "cell_type": "code",
   "execution_count": null,
   "id": "8ae7f7b5",
   "metadata": {},
   "outputs": [],
   "source": [
    "tsa2.ablation_result = tsa2.ablate()\n",
    "fig, ax = plt.subplots()\n",
    "tsa2.ablation_barplot(ax)\n",
    "plt.show()"
   ]
  },
  {
   "cell_type": "code",
   "execution_count": null,
   "id": "bbef9b81",
   "metadata": {},
   "outputs": [],
   "source": [
    "wt.ablation_result"
   ]
  },
  {
   "cell_type": "code",
   "execution_count": null,
   "id": "3a3e83a5",
   "metadata": {},
   "outputs": [],
   "source": [
    "BY4741.ablation_result"
   ]
  },
  {
   "cell_type": "code",
   "execution_count": null,
   "id": "fcaa0d63",
   "metadata": {},
   "outputs": [],
   "source": [
    "zwf1.ablation_result"
   ]
  },
  {
   "cell_type": "code",
   "execution_count": null,
   "id": "b0bbd362",
   "metadata": {},
   "outputs": [],
   "source": [
    "tsa2.ablation_result"
   ]
  },
  {
   "cell_type": "markdown",
   "id": "be82f6e3",
   "metadata": {},
   "source": [
    "# Compare fluxes"
   ]
  },
  {
   "cell_type": "code",
   "execution_count": null,
   "id": "266314dd",
   "metadata": {},
   "outputs": [],
   "source": [
    "diff_fluxes_sorted = compare_fluxes(BY4741, zwf1)"
   ]
  },
  {
   "cell_type": "code",
   "execution_count": null,
   "id": "5c4f3b83",
   "metadata": {},
   "outputs": [],
   "source": [
    "for rxn_id, flux in diff_fluxes_sorted.items():\n",
    "    print(f'{rxn_id}, {wt.model.reactions.get_by_id(rxn_id).name}, {flux}')"
   ]
  },
  {
   "cell_type": "code",
   "execution_count": null,
   "id": "d5b4f69d",
   "metadata": {},
   "outputs": [],
   "source": [
    "diff_fluxes_sorted = compare_fluxes(BY4741, tsa2)"
   ]
  },
  {
   "cell_type": "code",
   "execution_count": null,
   "id": "84a8053b",
   "metadata": {},
   "outputs": [],
   "source": [
    "for rxn_id, flux in diff_fluxes_sorted.items():\n",
    "    print(f'{rxn_id}, {wt.model.reactions.get_by_id(rxn_id).name}, {flux}')"
   ]
  },
  {
   "cell_type": "code",
   "execution_count": null,
   "id": "1cd20303",
   "metadata": {},
   "outputs": [],
   "source": [
    "diff_fluxes_sorted = compare_fluxes(wt, BY4741)"
   ]
  },
  {
   "cell_type": "code",
   "execution_count": null,
   "id": "9e1a1717",
   "metadata": {},
   "outputs": [],
   "source": [
    "for rxn_id, flux in diff_fluxes_sorted.items():\n",
    "    print(f'{rxn_id}, {wt.model.reactions.get_by_id(rxn_id).name}, {flux}')"
   ]
  },
  {
   "cell_type": "code",
   "execution_count": null,
   "id": "e3850392",
   "metadata": {},
   "outputs": [],
   "source": [
    "for reaction_id in BY4741.model.medium.keys():\n",
    "    print(BY4741.model.reactions.get_by_id(reaction_id).name)"
   ]
  },
  {
   "cell_type": "code",
   "execution_count": null,
   "id": "560d4a90",
   "metadata": {},
   "outputs": [],
   "source": [
    "diff_fluxes_sorted = compare_fluxes(wt, BY4741)"
   ]
  },
  {
   "cell_type": "code",
   "execution_count": null,
   "id": "4761b278",
   "metadata": {},
   "outputs": [],
   "source": [
    "diff_fluxes_sorted = compare_fluxes(wt, wt)"
   ]
  },
  {
   "cell_type": "code",
   "execution_count": null,
   "id": "d7c5fda5",
   "metadata": {},
   "outputs": [],
   "source": [
    "diff_fluxes_sorted"
   ]
  },
  {
   "cell_type": "markdown",
   "id": "c6dd663d",
   "metadata": {},
   "source": [
    "# Glucose uptake"
   ]
  },
  {
   "cell_type": "code",
   "execution_count": null,
   "id": "ceaa94f8",
   "metadata": {},
   "outputs": [],
   "source": [
    "from src.calc.growth import get_exch_saturation"
   ]
  },
  {
   "cell_type": "code",
   "execution_count": null,
   "id": "29ae18d1",
   "metadata": {},
   "outputs": [],
   "source": [
    "# positive values because i want it increasing in a plot\n",
    "glc_exch_rates = np.linspace(0, 1000, 100)\n",
    "wt_growthrates = get_exch_saturation(wt, \"r_1714\", glc_exch_rates)"
   ]
  },
  {
   "cell_type": "code",
   "execution_count": null,
   "id": "e61234d4",
   "metadata": {},
   "outputs": [],
   "source": [
    "fig, ax = plt.subplots()\n",
    "ax.plot(glc_exch_rates, wt_growthrates, label='prototroph (wild type)')\n",
    "ax.set_xlim((0,1000))\n",
    "ax.set_xlabel('Glucose exchange rate (mmol/gDW/h)')\n",
    "ax.set_ylabel('Growth rate (/h)')\n",
    "ax.set_title('Effect of glucose exchange rate on growth rate')\n",
    "ax.legend()"
   ]
  },
  {
   "cell_type": "code",
   "execution_count": null,
   "id": "536edebc",
   "metadata": {},
   "outputs": [],
   "source": [
    "# Get exchange rate\n",
    "np.interp(0.41, wt_growthrates, glc_exch_rates)"
   ]
  },
  {
   "cell_type": "markdown",
   "id": "1644ba18",
   "metadata": {},
   "source": [
    "# Pyruvate uptake"
   ]
  },
  {
   "cell_type": "code",
   "execution_count": null,
   "id": "6146f4f3",
   "metadata": {},
   "outputs": [],
   "source": [
    "# positive values because i want it increasing in a plot\n",
    "pyr_exch_rates = np.linspace(0, 1000, 100)\n",
    "wt_growthrates = get_exch_saturation(wt, \"r_2033\", pyr_exch_rates)"
   ]
  },
  {
   "cell_type": "code",
   "execution_count": null,
   "id": "131b2b21",
   "metadata": {},
   "outputs": [],
   "source": [
    "fig, ax = plt.subplots()\n",
    "ax.plot(pyr_exch_rates, wt_growthrates, label='prototroph (wild type)')\n",
    "ax.set_xlim((0,1000))\n",
    "ax.set_xlabel('Pyruvate exchange rate (mmol/gDW/h)')\n",
    "ax.set_ylabel('Growth rate (/h)')\n",
    "ax.set_title('Effect of pyruvate exchange rate on growth rate')\n",
    "ax.legend()"
   ]
  },
  {
   "cell_type": "code",
   "execution_count": null,
   "id": "afa91ddf",
   "metadata": {},
   "outputs": [],
   "source": [
    "# Get exchange rate\n",
    "np.interp(0.41, wt_growthrates, pyr_exch_rates)"
   ]
  },
  {
   "cell_type": "markdown",
   "id": "c5a253c2",
   "metadata": {},
   "source": [
    "# Ammonium uptake"
   ]
  },
  {
   "cell_type": "code",
   "execution_count": null,
   "id": "a5ef9958",
   "metadata": {},
   "outputs": [],
   "source": [
    "nh4_exch_rates = np.linspace(0, 5, 100)\n",
    "wt_growthrates = get_exch_saturation(wt, \"r_1654\", nh4_exch_rates, remove_glucose=False)"
   ]
  },
  {
   "cell_type": "code",
   "execution_count": null,
   "id": "333ee815",
   "metadata": {},
   "outputs": [],
   "source": [
    "fig, ax = plt.subplots()\n",
    "ax.plot(nh4_exch_rates, wt_growthrates, label='prototroph (wild type)')\n",
    "ax.set_xlim((0,5))\n",
    "ax.set_xlabel('Ammonium exchange rate (mmol/gDW/h)')\n",
    "ax.set_ylabel('Growth rate (/h)')\n",
    "ax.set_title('Effect of ammonium exchange rate on growth rate')\n",
    "ax.legend()"
   ]
  },
  {
   "cell_type": "code",
   "execution_count": null,
   "id": "4427142b",
   "metadata": {},
   "outputs": [],
   "source": [
    "# Get exchange rate\n",
    "np.interp(0.40, wt_growthrates, nh4_exch_rates)"
   ]
  }
 ],
 "metadata": {
  "kernelspec": {
   "display_name": "fba",
   "language": "python",
   "name": "fba"
  },
  "language_info": {
   "codemirror_mode": {
    "name": "ipython",
    "version": 3
   },
   "file_extension": ".py",
   "mimetype": "text/x-python",
   "name": "python",
   "nbconvert_exporter": "python",
   "pygments_lexer": "ipython3",
   "version": "3.8.14"
  }
 },
 "nbformat": 4,
 "nbformat_minor": 5
}

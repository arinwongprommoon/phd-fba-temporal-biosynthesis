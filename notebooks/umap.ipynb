{
 "cells": [
  {
   "cell_type": "code",
   "execution_count": null,
   "id": "57348147",
   "metadata": {},
   "outputs": [],
   "source": [
    "import os\n",
    "import sys\n",
    "module_path = os.path.abspath(os.path.join('..'))\n",
    "if module_path not in sys.path:\n",
    "    sys.path.append(module_path)\n",
    "    \n",
    "%reload_ext autoreload\n",
    "%autoreload 2\n",
    "%matplotlib inline"
   ]
  },
  {
   "cell_type": "markdown",
   "id": "adb8e486",
   "metadata": {},
   "source": [
    "Import dependencies"
   ]
  },
  {
   "cell_type": "code",
   "execution_count": null,
   "id": "299cceca",
   "metadata": {},
   "outputs": [],
   "source": [
    "import matplotlib.pyplot as plt\n",
    "import numpy as np\n",
    "import pandas as pd\n",
    "import pickle\n",
    "import seaborn as sns\n",
    "import cobra\n",
    "\n",
    "from sklearn.decomposition import PCA\n",
    "from sklearn.preprocessing import scale\n",
    "\n",
    "from src.gem.yeast8model import Yeast8Model\n",
    "from src.calc.matrix import ArrayCollection\n",
    "from src.calc.ablation import vget_ablation_ratio"
   ]
  },
  {
   "cell_type": "markdown",
   "id": "2484780d",
   "metadata": {},
   "source": [
    "# Convenience functions"
   ]
  },
  {
   "cell_type": "code",
   "execution_count": null,
   "id": "ddc06eee",
   "metadata": {},
   "outputs": [],
   "source": [
    "def get_random_coords(coords, num_samples):\n",
    "    return coords[np.random.choice(coords.shape[0], num_samples, replace=False), :]\n",
    "\n",
    "\n",
    "def coords_to_dict(coords, carbon_exch):\n",
    "    \"\"\"Convenience\"\"\"\n",
    "    return {\n",
    "        \"exch_ids\": [carbon_exch, \"r_1654\"],\n",
    "        \"exch_points\": coords,\n",
    "    }"
   ]
  },
  {
   "cell_type": "markdown",
   "id": "d30ccd94",
   "metadata": {},
   "source": [
    "# Initialise model"
   ]
  },
  {
   "cell_type": "code",
   "execution_count": null,
   "id": "4f03cc2c",
   "metadata": {},
   "outputs": [],
   "source": [
    "glc_exch_rate = 16.89\n",
    "wt = Yeast8Model(\"../data/gemfiles/ecYeastGEM_batch_8-6-0.xml\")\n",
    "# Default: lots of glucose\n",
    "wt.model.reactions.get_by_id(\"r_1714\").bounds = (-glc_exch_rate, 0)\n",
    "wt.model.reactions.get_by_id(\"r_1714_REV\").bounds = (0, glc_exch_rate)\n",
    "print(\"Model initialised\")"
   ]
  },
  {
   "cell_type": "markdown",
   "id": "a259a0f1",
   "metadata": {},
   "source": [
    "# Load PKL to compute ratios"
   ]
  },
  {
   "cell_type": "code",
   "execution_count": null,
   "id": "2de042a6",
   "metadata": {},
   "outputs": [],
   "source": [
    "grid_filename = \"ec_grid_\" + \"glc\" + \"_amm\"\n",
    "grid_filepath = \"../data/interim/\" + grid_filename + \".pkl\"\n",
    "with open(grid_filepath, \"rb\") as handle:\n",
    "    ablation_result_array = pickle.load(handle)"
   ]
  },
  {
   "cell_type": "markdown",
   "id": "0a2af049",
   "metadata": {},
   "source": [
    "# Picking, ablation, record fluxes"
   ]
  },
  {
   "cell_type": "code",
   "execution_count": null,
   "id": "2cf76ffa",
   "metadata": {},
   "outputs": [],
   "source": [
    "carbon_exch = \"r_1714\"\n",
    "saturation_glc = 8.6869\n",
    "saturation_amm = 1.4848\n",
    "x_axis = np.linspace(0, 2 * saturation_glc, 32)\n",
    "y_axis = np.linspace(0, 2 * saturation_amm, 32)"
   ]
  },
  {
   "cell_type": "code",
   "execution_count": null,
   "id": "5dbaf217",
   "metadata": {
    "scrolled": true
   },
   "outputs": [],
   "source": [
    "# Pick random points from a grid based on a mask,\n",
    "# i.e. whether the ratio is greater than ('big') or less than ('small') one\n",
    "ratio = ArrayCollection(vget_ablation_ratio(ablation_result_array), x_axis, y_axis)\n",
    "ratio_array_mask = ratio.array > 1\n",
    "\n",
    "x_coords, y_coords = np.meshgrid(x_axis, y_axis)\n",
    "big_ratio_coords = np.column_stack(\n",
    "    (x_coords[ratio_array_mask], y_coords[ratio_array_mask])\n",
    ")\n",
    "small_ratio_coords = np.column_stack(\n",
    "    (x_coords[~ratio_array_mask], y_coords[~ratio_array_mask])\n",
    ")\n",
    "\n",
    "num_samples = 3\n",
    "\n",
    "big_ratio_coords_random = get_random_coords(big_ratio_coords, num_samples)\n",
    "small_ratio_coords_random = get_random_coords(small_ratio_coords, num_samples)\n",
    "\n",
    "# Perform ablation and record fluxes\n",
    "big_ablation_result_list = wt.usgfluxes_list(\n",
    "    coords_to_dict(big_ratio_coords_random, carbon_exch)\n",
    ")\n",
    "small_ablation_result_list = wt.usgfluxes_list(\n",
    "    coords_to_dict(small_ratio_coords_random, carbon_exch)\n",
    ")\n",
    "all_ablation_result_list = np.concatenate(\n",
    "    (big_ablation_result_list, small_ablation_result_list)\n",
    ")\n",
    "print(f\"Ablation done for {num_samples} in each category.\")\n",
    "\n",
    "# Adjust data variable dimensions\n",
    "multicond_enz_use_array = np.concatenate(all_ablation_result_list)\n",
    "multicond_enz_use_array.shape"
   ]
  },
  {
   "cell_type": "markdown",
   "id": "4eee9256",
   "metadata": {},
   "source": [
    "# UMAP"
   ]
  },
  {
   "cell_type": "code",
   "execution_count": null,
   "id": "082f00db",
   "metadata": {},
   "outputs": [],
   "source": [
    "import umap"
   ]
  },
  {
   "cell_type": "code",
   "execution_count": null,
   "id": "7110ddcd",
   "metadata": {},
   "outputs": [],
   "source": [
    "reducer = umap.UMAP()"
   ]
  },
  {
   "cell_type": "code",
   "execution_count": null,
   "id": "04cd247b",
   "metadata": {},
   "outputs": [],
   "source": [
    "scaled_array = scale(multicond_enz_use_array)"
   ]
  },
  {
   "cell_type": "code",
   "execution_count": null,
   "id": "56c0eff8",
   "metadata": {},
   "outputs": [],
   "source": [
    "embedding = reducer.fit_transform(scaled_array)"
   ]
  },
  {
   "cell_type": "code",
   "execution_count": null,
   "id": "7a1ec82c",
   "metadata": {},
   "outputs": [],
   "source": [
    "plt.scatter(\n",
    "    embedding[:, 0],\n",
    "    embedding[:, 1],\n",
    ")"
   ]
  }
 ],
 "metadata": {
  "kernelspec": {
   "display_name": "fba",
   "language": "python",
   "name": "fba"
  },
  "language_info": {
   "codemirror_mode": {
    "name": "ipython",
    "version": 3
   },
   "file_extension": ".py",
   "mimetype": "text/x-python",
   "name": "python",
   "nbconvert_exporter": "python",
   "pygments_lexer": "ipython3",
   "version": "3.8.14"
  }
 },
 "nbformat": 4,
 "nbformat_minor": 5
}

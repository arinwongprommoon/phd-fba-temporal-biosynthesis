{
 "cells": [
  {
   "cell_type": "markdown",
   "id": "98316e56",
   "metadata": {},
   "source": [
    "Import dependencies"
   ]
  },
  {
   "cell_type": "code",
   "execution_count": null,
   "id": "03a24339",
   "metadata": {},
   "outputs": [],
   "source": [
    "%reload_ext autoreload\n",
    "%autoreload 1\n",
    "%matplotlib inline\n",
    "\n",
    "import matplotlib.pyplot as plt\n",
    "import numpy as np\n",
    "import cobra\n",
    "import escher\n",
    "\n",
    "import time\n",
    "from wrapt_timeout_decorator import *"
   ]
  },
  {
   "cell_type": "markdown",
   "id": "5bbc1424",
   "metadata": {},
   "source": [
    "# Load model"
   ]
  },
  {
   "cell_type": "markdown",
   "id": "1fd2afd1",
   "metadata": {},
   "source": [
    "Choose from alternatives"
   ]
  },
  {
   "cell_type": "code",
   "execution_count": null,
   "id": "4c9aa36d",
   "metadata": {},
   "outputs": [],
   "source": [
    "# Yeast 8\n",
    "model = cobra.io.read_sbml_model(\"../data/gemfiles/yeast-GEM-BiGG.xml\")"
   ]
  },
  {
   "cell_type": "code",
   "execution_count": null,
   "id": "3372fd9a",
   "metadata": {},
   "outputs": [],
   "source": [
    "# Enzyme-constrained Yeast 8, batch\n",
    "# https://github.com/SysBioChalmers/ecModels/tree/main/ecYeastGEM/model\n",
    "# This is supposed under CI, i.e.\n",
    "# automatically re-generated and updated when new models are available.\n",
    "# This model is based on Yeast8.3.4\n",
    "\n",
    "# Average enzyme saturation factor (sigma) = 0.5\n",
    "# Total protein content in the cell [g protein/gDw] (Ptot) = 0.5\n",
    "# Fraction of enzymes in the model [g enzyme/g protein] (f) = 0.5\n",
    "# https://github.com/SysBioChalmers/GECKO/blob/main/userData/ecYeastGEM/YeastGEMAdapter.m\n",
    "model = cobra.io.read_sbml_model(\"../data/gemfiles/ecYeastGEM_batch.xml\")"
   ]
  },
  {
   "cell_type": "markdown",
   "id": "5b4fcf41",
   "metadata": {},
   "source": [
    "Show model"
   ]
  },
  {
   "cell_type": "code",
   "execution_count": null,
   "id": "76a11d19",
   "metadata": {},
   "outputs": [],
   "source": [
    "model"
   ]
  },
  {
   "cell_type": "markdown",
   "id": "9b2aed99",
   "metadata": {},
   "source": [
    "# Objective function"
   ]
  },
  {
   "cell_type": "markdown",
   "id": "05ab72f6",
   "metadata": {},
   "source": [
    "In the ecYeast8 (batch) model, the objective function -- growth -- is reaction ID `r_2111`.\n",
    "\n",
    "This reaction is linked to the biomass reaction, ID `r_4041`.\n",
    "\n",
    "Here, we also see the stoichiometry.  There are five classes of macromolecules: lipids, proteins, carbohydrates, DNA, and RNA.  And there are two other bulk metabolites: cofactor and ion."
   ]
  },
  {
   "cell_type": "code",
   "execution_count": null,
   "id": "7fa4b7b5",
   "metadata": {},
   "outputs": [],
   "source": [
    "model.reactions.get_by_id('r_2111')"
   ]
  },
  {
   "cell_type": "code",
   "execution_count": null,
   "id": "462669cf",
   "metadata": {},
   "outputs": [],
   "source": [
    "model.reactions.get_by_id('r_4041')"
   ]
  },
  {
   "cell_type": "markdown",
   "id": "f681a17b",
   "metadata": {},
   "source": [
    "Medium"
   ]
  },
  {
   "cell_type": "code",
   "execution_count": null,
   "id": "c5836b2b",
   "metadata": {},
   "outputs": [],
   "source": [
    "model.medium"
   ]
  },
  {
   "cell_type": "code",
   "execution_count": null,
   "id": "b5a5a3ce",
   "metadata": {},
   "outputs": [],
   "source": [
    "for reaction_id in model.medium.keys():\n",
    "    print(model.reactions.get_by_id(reaction_id).name)"
   ]
  },
  {
   "cell_type": "markdown",
   "id": "23541b72",
   "metadata": {},
   "source": [
    "Remove bounds on glucose uptake and growth rate"
   ]
  },
  {
   "cell_type": "code",
   "execution_count": null,
   "id": "156e478b",
   "metadata": {},
   "outputs": [],
   "source": [
    "# (no need because bounds are already unrestricted)\n",
    "# Unrestrict glucose uptake\n",
    "model.reactions.get_by_id('r_1714').bounds = (-1000.0, 0)\n",
    "# Unrestrict oxygen uptake (aerobic)\n",
    "model.reactions.get_by_id('r_1992').bounds = (-1000.0, 0)\n",
    "# Unrestrict objective function\n",
    "model.reactions.get_by_id('r_4041').bounds = (0, 1000.0)"
   ]
  },
  {
   "cell_type": "markdown",
   "id": "764030fa",
   "metadata": {},
   "source": [
    "Optimise using (vanilla) FBA"
   ]
  },
  {
   "cell_type": "code",
   "execution_count": null,
   "id": "fb8fc7c2",
   "metadata": {},
   "outputs": [],
   "source": [
    "solution = model.optimize()"
   ]
  },
  {
   "cell_type": "code",
   "execution_count": null,
   "id": "0d090c5a",
   "metadata": {},
   "outputs": [],
   "source": [
    "model.summary()"
   ]
  },
  {
   "cell_type": "code",
   "execution_count": null,
   "id": "e03ed86e",
   "metadata": {},
   "outputs": [],
   "source": [
    "solution['r_0466No1']"
   ]
  },
  {
   "cell_type": "markdown",
   "id": "6d7dc9be",
   "metadata": {},
   "source": [
    "Linear reaction coefficients"
   ]
  },
  {
   "cell_type": "code",
   "execution_count": null,
   "id": "a9997f71",
   "metadata": {},
   "outputs": [],
   "source": [
    "cobra.util.solver.linear_reaction_coefficients(model)"
   ]
  },
  {
   "cell_type": "markdown",
   "id": "1044c8c3",
   "metadata": {},
   "source": [
    "Check usage pool reaction"
   ]
  },
  {
   "cell_type": "code",
   "execution_count": null,
   "id": "16c42c89",
   "metadata": {},
   "outputs": [],
   "source": [
    "model.metabolites.get_by_id('prot_pool[c]')"
   ]
  },
  {
   "cell_type": "code",
   "execution_count": null,
   "id": "f303c5c8",
   "metadata": {},
   "outputs": [],
   "source": [
    "model.reactions.get_by_id('prot_pool_exchange')"
   ]
  },
  {
   "cell_type": "markdown",
   "id": "eb26af3d",
   "metadata": {},
   "source": [
    "# Auxotrophs"
   ]
  },
  {
   "cell_type": "markdown",
   "id": "f5825692",
   "metadata": {},
   "source": [
    "BY4741: MATa his3Δ1 leu2Δ0 met15Δ0 ura3Δ0"
   ]
  },
  {
   "cell_type": "code",
   "execution_count": null,
   "id": "8402c3c1",
   "metadata": {},
   "outputs": [],
   "source": [
    "# Create auxotrophic strain by deleting genes\n",
    "genes_to_delete = ['YOR202W', 'YCL018W', 'YLR303W', 'YEL021W']\n",
    "for gene in genes_to_delete:\n",
    "    model.genes.get_by_id(gene).knock_out()\n",
    "    \n",
    "# Add amino acids and uracil to medium\n",
    "exch_list = ['r_1893', 'r_1899', 'r_1902', 'r_2090',\n",
    "             'r_1893_REV', 'r_1899_REV', 'r_1902_REV', 'r_2090_REV']\n",
    "\n",
    "for exch in exch_list:\n",
    "    model.reactions.get_by_id(exch).bounds = (-1000, 0)"
   ]
  },
  {
   "cell_type": "markdown",
   "id": "fd275932",
   "metadata": {},
   "source": [
    "Alternatively, BY4742: MATα his3Δ1 leu2Δ0 lys2Δ0 ura3Δ0"
   ]
  },
  {
   "cell_type": "code",
   "execution_count": null,
   "id": "69cd5104",
   "metadata": {},
   "outputs": [],
   "source": [
    "# Create auxotrophic strain by deleting genes\n",
    "genes_to_delete = ['YOR202W', 'YCL018W', 'YBR115C', 'YEL021W']\n",
    "for gene in genes_to_delete:\n",
    "    model.genes.get_by_id(gene).knock_out()\n",
    "    \n",
    "# Add amino acids and uracil to medium\n",
    "exch_list = ['r_1893', 'r_1899', 'r_1900', 'r_2090',\n",
    "             'r_1893_REV', 'r_1899_REV', 'r_1900_REV', 'r_2090_REV']\n",
    "\n",
    "for exch in exch_list:\n",
    "    model.reactions.get_by_id(exch).bounds = (-1000, 0)"
   ]
  },
  {
   "cell_type": "markdown",
   "id": "fc7535f7",
   "metadata": {},
   "source": [
    "Set carbon source to glucose"
   ]
  },
  {
   "cell_type": "code",
   "execution_count": null,
   "id": "54ba41b0",
   "metadata": {},
   "outputs": [],
   "source": [
    "# (no need because bounds are already unrestricted)\n",
    "# Unrestrict glucose uptake\n",
    "model.reactions.get_by_id('r_1714').bounds = (-1000.0, 0)\n",
    "# Unrestrict oxygen uptake (aerobic)\n",
    "model.reactions.get_by_id('r_1992').bounds = (-1000.0, 0)\n",
    "# Unrestrict objective function\n",
    "model.reactions.get_by_id('r_4041').bounds = (0, 1000.0)"
   ]
  },
  {
   "cell_type": "markdown",
   "id": "3a9b180f",
   "metadata": {},
   "source": [
    "Simulate"
   ]
  },
  {
   "cell_type": "code",
   "execution_count": null,
   "id": "640c63eb",
   "metadata": {},
   "outputs": [],
   "source": [
    "@timeout(60)\n",
    "def model_optimize(model):\n",
    "    return model.optimize()\n",
    "\n",
    "try:\n",
    "    model_optimize(model)\n",
    "    print('model optimised, no timeout')\n",
    "except TimeoutError():\n",
    "    print('model optimisation: timeout!')"
   ]
  },
  {
   "cell_type": "code",
   "execution_count": null,
   "id": "9c63bd0f",
   "metadata": {},
   "outputs": [],
   "source": [
    "model.summary()"
   ]
  },
  {
   "cell_type": "markdown",
   "id": "5beb17a4",
   "metadata": {},
   "source": [
    "> As hoped, auxotrophs with the appropriate supplements grows with a rate comparable to wild-type. BY4741: 0.41, BY4742: 0.44."
   ]
  },
  {
   "cell_type": "markdown",
   "id": "919e7c16",
   "metadata": {},
   "source": [
    "# Gene deletions"
   ]
  },
  {
   "cell_type": "markdown",
   "id": "bb44e1d3",
   "metadata": {},
   "source": [
    "## Example: NDI1"
   ]
  },
  {
   "cell_type": "markdown",
   "id": "4aaedc2d",
   "metadata": {},
   "source": [
    "This example aims to replicate knockout simulations in Sánchez et al. (2017), where they did this with ecYeast7.\n",
    "\n",
    "NDI1 is represented in the model by its systematic name YML120C.\n",
    "\n",
    "Genes are matched to reactions in the model via gene-protein reaction (GPR) map, which is present in the source XML model.  As we're using a GECKO-generated model, the reactions will also include `draw_prot_XXXX` reactions (protein pool) that are created due to the formalism.  In this case, it is `draw_prot_P32340`, matching the associated enzyme P32340.\n",
    "\n",
    "Note: Sánchez et al. (2017) used different parameters, namely: $P_{tot}$ = 0.448 g gDW<sup>-1</sup>, $f$ = 0.2154 g g<sup>-1</sup>, $\\sigma$ = 0.46."
   ]
  },
  {
   "cell_type": "code",
   "execution_count": null,
   "id": "c0e3fdac",
   "metadata": {},
   "outputs": [],
   "source": [
    "model.genes.get_by_id('YML120C')"
   ]
  },
  {
   "cell_type": "code",
   "execution_count": null,
   "id": "1e59fb33",
   "metadata": {},
   "outputs": [],
   "source": [
    "model.genes.get_by_id('YML120C').reactions"
   ]
  },
  {
   "cell_type": "markdown",
   "id": "ea29a403",
   "metadata": {},
   "source": [
    "Inspect these reactions.  These should have a `prot_XXXX` reactant because of the GECKO formalism and bounds of (0, inf)."
   ]
  },
  {
   "cell_type": "code",
   "execution_count": null,
   "id": "ca1ed7ac",
   "metadata": {},
   "outputs": [],
   "source": [
    "model.reactions.get_by_id('r_0773No1')"
   ]
  },
  {
   "cell_type": "code",
   "execution_count": null,
   "id": "d887b02b",
   "metadata": {},
   "outputs": [],
   "source": [
    "model.reactions.get_by_id('draw_prot_P32340')"
   ]
  },
  {
   "cell_type": "markdown",
   "id": "6c9f904b",
   "metadata": {},
   "source": [
    "Delete this gene."
   ]
  },
  {
   "cell_type": "code",
   "execution_count": null,
   "id": "220338cc",
   "metadata": {},
   "outputs": [],
   "source": [
    "model.genes.get_by_id('YML120C').knock_out()"
   ]
  },
  {
   "cell_type": "markdown",
   "id": "7fe87038",
   "metadata": {},
   "source": [
    "Effect: bounds of the reactions should be zero."
   ]
  },
  {
   "cell_type": "code",
   "execution_count": null,
   "id": "3e611ca0",
   "metadata": {},
   "outputs": [],
   "source": [
    "print(model.reactions.get_by_id('r_0773No1').bounds)\n",
    "print(model.reactions.get_by_id('draw_prot_P32340').bounds)"
   ]
  },
  {
   "cell_type": "markdown",
   "id": "870c50a6",
   "metadata": {},
   "source": [
    "Optimise."
   ]
  },
  {
   "cell_type": "code",
   "execution_count": null,
   "id": "a37652d8",
   "metadata": {},
   "outputs": [],
   "source": [
    "solution = model.optimize()\n",
    "model.summary()"
   ]
  },
  {
   "cell_type": "markdown",
   "id": "45067fba",
   "metadata": {},
   "source": [
    "Sánchez et al. (2017) also blocked NDE1 and NDE2 to simulated the limited capacity of the ethanol-acetaldehyde shuttle _in vivo_."
   ]
  },
  {
   "cell_type": "code",
   "execution_count": null,
   "id": "9fa7ceb4",
   "metadata": {},
   "outputs": [],
   "source": [
    "model.genes.get_by_id('YMR145C').knock_out()\n",
    "model.genes.get_by_id('YDL085W').knock_out()"
   ]
  },
  {
   "cell_type": "code",
   "execution_count": null,
   "id": "1b0e0ed3",
   "metadata": {},
   "outputs": [],
   "source": [
    "solution = model.optimize()\n",
    "model.summary()"
   ]
  },
  {
   "cell_type": "markdown",
   "id": "7c1e5343",
   "metadata": {},
   "source": [
    "## Genes of interest"
   ]
  },
  {
   "cell_type": "code",
   "execution_count": null,
   "id": "88dbcfce",
   "metadata": {},
   "outputs": [],
   "source": [
    "model_saved = model.copy()"
   ]
  },
  {
   "cell_type": "markdown",
   "id": "9764da58",
   "metadata": {},
   "source": [
    "Define lookup table.  It's better to download a data table and use it, but I study only a few genes, so I don't want to over-complicate it for now, and I'll probably deal with this in a refactor."
   ]
  },
  {
   "cell_type": "code",
   "execution_count": null,
   "id": "2e923921",
   "metadata": {},
   "outputs": [],
   "source": [
    "gene_systematic = {\n",
    "    'ALD6': 'YPL061W',\n",
    "    'GPH1': 'YPR160W',\n",
    "    'GSY2': 'YLR258W',\n",
    "    'IDP2': 'YLR174W',\n",
    "    'PGI1': 'YBR196C',\n",
    "    'RIM11': 'YMR139W',\n",
    "    'SWE1': 'YJL187C',\n",
    "    'TSA1': 'YML028W',\n",
    "    'TSA2': 'YDR453C',\n",
    "    'ZWF1': 'YNL241C',\n",
    "}"
   ]
  },
  {
   "cell_type": "markdown",
   "id": "bf91bf3a",
   "metadata": {},
   "source": [
    "Define deletion strains.  List of lists to allow for multiple deletions per strain.  Some genes will not be found as they are not metabolic genes.\n",
    "\n",
    "**Note: Probably worth encapsulating this in an object after I'm satisfied with this proof-of-concept.**"
   ]
  },
  {
   "cell_type": "code",
   "execution_count": null,
   "id": "b73d6465",
   "metadata": {},
   "outputs": [],
   "source": [
    "list_deletion_strains = [\n",
    "    #['RIM11'],\n",
    "    #['SWE1'],\n",
    "    ['TSA1', 'TSA2'],\n",
    "    ['ZWF1'],\n",
    "    ['ZWF1', 'ALD6'],\n",
    "    ['ZWF1', 'ALD6', 'IDP2'],    \n",
    "    ['GSY2'],\n",
    "    ['GPH1'],\n",
    "    #['PGI1']\n",
    "]"
   ]
  },
  {
   "cell_type": "code",
   "execution_count": null,
   "id": "cce44c87",
   "metadata": {},
   "outputs": [],
   "source": [
    "for deletion_strain in list_deletion_strains:\n",
    "    print(deletion_strain)\n",
    "    # Re-load model\n",
    "    m = model_saved.copy()\n",
    "    # Knock out genes in strain of interest\n",
    "    for gene in deletion_strain:\n",
    "        try:\n",
    "            print(f'{gene}-associated reactions:')\n",
    "            for reaction in m.genes.get_by_id(gene_systematic[gene]).reactions:\n",
    "                print(reaction.reaction)\n",
    "            m.genes.get_by_id(gene_systematic[gene]).knock_out()\n",
    "        except KeyError as inst:\n",
    "            print(f'{gene} not found, skipping')\n",
    "        \n",
    "    # Unrestrict glucose uptake\n",
    "    m.reactions.get_by_id('r_1714').bounds = (-1000, 0)\n",
    "    # Unrestrict objective function\n",
    "    m.reactions.get_by_id('r_2111').bounds = (0, 1000)\n",
    "    # Optimise using FBA\n",
    "    fba_solution = m.optimize()\n",
    "    # Get growth rate\n",
    "    growth_flux = fba_solution.fluxes[\"r_2111\"]\n",
    "    print(f'Growth: {growth_flux}')\n",
    "    print('\\n')"
   ]
  },
  {
   "cell_type": "markdown",
   "id": "2277a305",
   "metadata": {},
   "source": [
    "## Focus: ZWF1"
   ]
  },
  {
   "cell_type": "markdown",
   "id": "4d7bfbee",
   "metadata": {},
   "source": [
    "Optimise"
   ]
  },
  {
   "cell_type": "code",
   "execution_count": null,
   "id": "448e2041",
   "metadata": {},
   "outputs": [],
   "source": [
    "model = cobra.io.read_sbml_model(\"../data/gemfiles/ecYeastGEM_batch.xml\")\n",
    "\n",
    "# BY4741\n",
    "genes_to_delete = ['YOR202W', 'YCL018W', 'YLR303W', 'YEL021W']\n",
    "for gene in genes_to_delete:\n",
    "    model.genes.get_by_id(gene).knock_out()\n",
    "exch_list = ['r_1893', 'r_1899', 'r_1902', 'r_2090',\n",
    "             'r_1893_REV', 'r_1899_REV', 'r_1902_REV', 'r_2090_REV']\n",
    "for exch in exch_list:\n",
    "    model.reactions.get_by_id(exch).bounds = (-1000, 0)\n",
    "    \n",
    "# ZWF1\n",
    "model.genes.get_by_id('YNL241C').knock_out()\n",
    "\n",
    "# Optimise\n",
    "@timeout(60)\n",
    "def model_optimize(model):\n",
    "    return model.optimize()\n",
    "\n",
    "try:\n",
    "    zwf_solution = model_optimize(model)\n",
    "    print('model optimised, no timeout')\n",
    "except TimeoutError():\n",
    "    print('model optimisation: timeout!')"
   ]
  },
  {
   "cell_type": "code",
   "execution_count": null,
   "id": "dca881cf",
   "metadata": {},
   "outputs": [],
   "source": [
    "solution"
   ]
  },
  {
   "cell_type": "code",
   "execution_count": null,
   "id": "456a3155",
   "metadata": {},
   "outputs": [],
   "source": [
    "zwf_solution"
   ]
  },
  {
   "cell_type": "markdown",
   "id": "f299d8cb",
   "metadata": {},
   "source": [
    "Get difference between wild-type and strain fluxes"
   ]
  },
  {
   "cell_type": "code",
   "execution_count": null,
   "id": "f35e6f99",
   "metadata": {},
   "outputs": [],
   "source": [
    "diff_fluxes = zwf_solution.fluxes - solution.fluxes\n",
    "nonzero_idx = diff_fluxes.to_numpy().nonzero()[0]\n",
    "diff_fluxes_nonzero = diff_fluxes[nonzero_idx]"
   ]
  },
  {
   "cell_type": "code",
   "execution_count": null,
   "id": "201eda1d",
   "metadata": {},
   "outputs": [],
   "source": [
    "diff_fluxes_nonzero"
   ]
  },
  {
   "cell_type": "markdown",
   "id": "9236ff91",
   "metadata": {},
   "source": [
    "See which ones have the greatest changes (absolute)"
   ]
  },
  {
   "cell_type": "code",
   "execution_count": null,
   "id": "f21d5ebc",
   "metadata": {},
   "outputs": [],
   "source": [
    "diff_fluxes_sorted = diff_fluxes_nonzero[diff_fluxes_nonzero.abs().sort_values(ascending=False).index]\n",
    "for rxn_id, flux in diff_fluxes_sorted.items():\n",
    "    print(f'{rxn_id}, {model.reactions.get_by_id(rxn_id).name}, {flux}')"
   ]
  },
  {
   "cell_type": "code",
   "execution_count": null,
   "id": "81193e55",
   "metadata": {},
   "outputs": [],
   "source": [
    "model.reactions.get_by_id('r_0959No2')"
   ]
  },
  {
   "cell_type": "code",
   "execution_count": null,
   "id": "c6807e54",
   "metadata": {},
   "outputs": [],
   "source": [
    "sum(diff_fluxes_nonzero.index.str.contains('draw'))"
   ]
  },
  {
   "cell_type": "markdown",
   "id": "b7b5cc29",
   "metadata": {},
   "source": [
    "## Deletion collection"
   ]
  },
  {
   "cell_type": "code",
   "execution_count": null,
   "id": "43f58ff3",
   "metadata": {},
   "outputs": [],
   "source": [
    "from cobra.flux_analysis import single_gene_deletion\n",
    "\n",
    "deletion_results = single_gene_deletion(model)"
   ]
  },
  {
   "cell_type": "code",
   "execution_count": null,
   "id": "942e74b4",
   "metadata": {},
   "outputs": [],
   "source": [
    "deletion_results"
   ]
  },
  {
   "cell_type": "code",
   "execution_count": null,
   "id": "35fafdb8",
   "metadata": {},
   "outputs": [],
   "source": [
    "plt.hist(deletion_results.growth, bins=100)\n",
    "plt.show()"
   ]
  }
 ],
 "metadata": {
  "kernelspec": {
   "display_name": "fba",
   "language": "python",
   "name": "fba"
  },
  "language_info": {
   "codemirror_mode": {
    "name": "ipython",
    "version": 3
   },
   "file_extension": ".py",
   "mimetype": "text/x-python",
   "name": "python",
   "nbconvert_exporter": "python",
   "pygments_lexer": "ipython3",
   "version": "3.8.14"
  }
 },
 "nbformat": 4,
 "nbformat_minor": 5
}

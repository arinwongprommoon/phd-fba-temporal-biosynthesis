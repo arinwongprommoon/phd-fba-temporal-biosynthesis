{
 "cells": [
  {
   "cell_type": "code",
   "execution_count": null,
   "id": "cd88bcbe",
   "metadata": {},
   "outputs": [],
   "source": [
    "import os\n",
    "import sys\n",
    "module_path = os.path.abspath(os.path.join('..'))\n",
    "if module_path not in sys.path:\n",
    "    sys.path.append(module_path)\n",
    "\n",
    "%reload_ext autoreload\n",
    "%autoreload 2\n",
    "%matplotlib inline"
   ]
  },
  {
   "cell_type": "markdown",
   "id": "9400baeb",
   "metadata": {},
   "source": [
    "Import dependencies"
   ]
  },
  {
   "cell_type": "code",
   "execution_count": null,
   "id": "04142383",
   "metadata": {},
   "outputs": [],
   "source": [
    "import matplotlib.pyplot as plt\n",
    "import numpy as np\n",
    "import pandas as pd\n",
    "import pickle\n",
    "import cobra\n",
    "import seaborn as sns\n",
    "\n",
    "from src.gem.yeast8model import Yeast8Model\n",
    "from src.calc.ablation import vget_ablation_ratio\n",
    "from src.viz.grid import heatmap_ablation_grid"
   ]
  },
  {
   "cell_type": "markdown",
   "id": "4c2c7d8b",
   "metadata": {},
   "source": [
    "# Construct models of cells of interest"
   ]
  },
  {
   "cell_type": "code",
   "execution_count": null,
   "id": "10ec8c7e",
   "metadata": {},
   "outputs": [],
   "source": [
    "glc_exch_rate = 16.89\n",
    "wt_ec = Yeast8Model(\"../data/gemfiles/ecYeastGEM_batch_8-6-0.xml\")\n",
    "wt_ec.model.reactions.get_by_id(\"r_1714\").bounds = (-glc_exch_rate, 0)\n",
    "wt_ec.model.reactions.get_by_id(\"r_1714_REV\").bounds = (0, glc_exch_rate)"
   ]
  },
  {
   "cell_type": "markdown",
   "id": "ae3ec4ee",
   "metadata": {},
   "source": [
    "# Grid"
   ]
  },
  {
   "cell_type": "markdown",
   "id": "cbaf0102",
   "metadata": {},
   "source": [
    "Convenience functions"
   ]
  },
  {
   "cell_type": "code",
   "execution_count": null,
   "id": "2bca2a3f",
   "metadata": {},
   "outputs": [],
   "source": [
    "@np.vectorize\n",
    "def vget_growthrate(x):\n",
    "    return x.ablated_flux[0]\n",
    "\n",
    "@np.vectorize\n",
    "def vget_carb_to_prot_ratio(x):\n",
    "    carb_to_prot = x.ablated_est_time[3] / x.ablated_est_time[2]\n",
    "    return carb_to_prot"
   ]
  },
  {
   "cell_type": "markdown",
   "id": "31c03c30",
   "metadata": {},
   "source": [
    "# Generate data"
   ]
  },
  {
   "cell_type": "markdown",
   "id": "131372af",
   "metadata": {},
   "source": [
    "## Enzyme-constrained"
   ]
  },
  {
   "cell_type": "markdown",
   "id": "abf6a529",
   "metadata": {},
   "source": [
    "`linspace` values are based on saturation exchange rates from the saturation curves.  These values may be different from the optimal uptake values from optimising the unmodified wild-type model."
   ]
  },
  {
   "cell_type": "markdown",
   "id": "a44058f8",
   "metadata": {},
   "source": [
    "### Glucose × ammonium"
   ]
  },
  {
   "cell_type": "code",
   "execution_count": null,
   "id": "69e3a5ac",
   "metadata": {},
   "outputs": [],
   "source": [
    "exch_rate_dict = {\n",
    "    \"r_1714\": np.linspace(0, 2*8.6869, 32), # glucose\n",
    "    \"r_1654\": np.linspace(0, 2*1.4848, 32), # ammonium\n",
    "}"
   ]
  },
  {
   "cell_type": "code",
   "execution_count": null,
   "id": "e2f9323c",
   "metadata": {},
   "outputs": [],
   "source": [
    "ablation_result_array = wt_ec.euclidean_grid(exch_rate_dict)"
   ]
  },
  {
   "cell_type": "code",
   "execution_count": null,
   "id": "c76470ac",
   "metadata": {},
   "outputs": [],
   "source": [
    "# Alternatively, load if saved\n",
    "with open('../data/interim/ec_eucl_glc_amm.pkl', 'rb') as handle:\n",
    "    ablation_result_array = pickle.load(handle)"
   ]
  },
  {
   "cell_type": "code",
   "execution_count": null,
   "id": "7d33427d",
   "metadata": {},
   "outputs": [],
   "source": [
    "# Dump data\n",
    "with open('../data/interim/ec_eucl_glc_amm.pkl', 'wb') as handle:\n",
    "    pickle.dump(ablation_result_array, handle, protocol=pickle.HIGHEST_PROTOCOL)"
   ]
  },
  {
   "cell_type": "markdown",
   "id": "eae99b59",
   "metadata": {},
   "source": [
    "### Pyruvate × ammonium"
   ]
  },
  {
   "cell_type": "code",
   "execution_count": null,
   "id": "19ecb5c8",
   "metadata": {},
   "outputs": [],
   "source": [
    "exch_rate_dict = {\n",
    "    \"r_2033\": np.linspace(0, 2*4.4444, 32), # pyruvate\n",
    "    \"r_1654\": np.linspace(0, 2*1.0, 32), # ammonium\n",
    "}"
   ]
  },
  {
   "cell_type": "code",
   "execution_count": null,
   "id": "79285229",
   "metadata": {},
   "outputs": [],
   "source": [
    "ablation_result_array = wt_ec.euclidean_grid(exch_rate_dict)"
   ]
  },
  {
   "cell_type": "code",
   "execution_count": null,
   "id": "f5ccea92",
   "metadata": {},
   "outputs": [],
   "source": [
    "# Alternatively, load if saved\n",
    "with open('../data/interim/ec_eucl_pyr_amm.pkl', 'rb') as handle:\n",
    "    ablation_result_array = pickle.load(handle)"
   ]
  },
  {
   "cell_type": "code",
   "execution_count": null,
   "id": "48b15291",
   "metadata": {},
   "outputs": [],
   "source": [
    "# Dump data\n",
    "with open('../data/interim/ec_eucl_pyr_amm.pkl', 'wb') as handle:\n",
    "    pickle.dump(ablation_result_array, handle, protocol=pickle.HIGHEST_PROTOCOL)"
   ]
  },
  {
   "cell_type": "markdown",
   "id": "09a999f9",
   "metadata": {},
   "source": [
    "# Arin is lazy"
   ]
  },
  {
   "cell_type": "code",
   "execution_count": null,
   "id": "d5728e69",
   "metadata": {},
   "outputs": [],
   "source": [
    "exch_rate_dict = {\n",
    "    \"r_1714\": np.linspace(0, 2*8.6869, 32), # glucose\n",
    "    \"r_1654\": np.linspace(0, 2*1.4848, 32), # ammonium\n",
    "}\n",
    "ablation_result_array = wt_ec.euclidean_grid(exch_rate_dict)\n",
    "with open('../data/interim/ec_eucl_glc_amm.pkl', 'wb') as handle:\n",
    "    pickle.dump(ablation_result_array, handle, protocol=pickle.HIGHEST_PROTOCOL)\n",
    "    \n",
    "exch_rate_dict = {\n",
    "    \"r_2033\": np.linspace(0, 2*4.4444, 32), # pyruvate\n",
    "    \"r_1654\": np.linspace(0, 2*1.0, 32), # ammonium\n",
    "}\n",
    "ablation_result_array = wt_ec.euclidean_grid(exch_rate_dict)\n",
    "with open('../data/interim/ec_eucl_pyr_amm.pkl', 'wb') as handle:\n",
    "    pickle.dump(ablation_result_array, handle, protocol=pickle.HIGHEST_PROTOCOL)"
   ]
  }
 ],
 "metadata": {
  "kernelspec": {
   "display_name": "fba",
   "language": "python",
   "name": "fba"
  },
  "language_info": {
   "codemirror_mode": {
    "name": "ipython",
    "version": 3
   },
   "file_extension": ".py",
   "mimetype": "text/x-python",
   "name": "python",
   "nbconvert_exporter": "python",
   "pygments_lexer": "ipython3",
   "version": "3.8.14"
  }
 },
 "nbformat": 4,
 "nbformat_minor": 5
}

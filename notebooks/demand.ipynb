{
 "cells": [
  {
   "cell_type": "code",
   "execution_count": null,
   "id": "02388366",
   "metadata": {},
   "outputs": [],
   "source": [
    "%reload_ext autoreload\n",
    "%autoreload 1\n",
    "%matplotlib inline"
   ]
  },
  {
   "cell_type": "markdown",
   "id": "98316e56",
   "metadata": {},
   "source": [
    "Import dependencies"
   ]
  },
  {
   "cell_type": "code",
   "execution_count": null,
   "id": "03a24339",
   "metadata": {},
   "outputs": [],
   "source": [
    "import matplotlib.pyplot as plt\n",
    "import numpy as np\n",
    "import cobra\n",
    "import escher"
   ]
  },
  {
   "cell_type": "markdown",
   "id": "5bbc1424",
   "metadata": {},
   "source": [
    "# Load model"
   ]
  },
  {
   "cell_type": "markdown",
   "id": "1fd2afd1",
   "metadata": {},
   "source": [
    "Choose from alternatives"
   ]
  },
  {
   "cell_type": "code",
   "execution_count": null,
   "id": "4c9aa36d",
   "metadata": {},
   "outputs": [],
   "source": [
    "# Yeast 8\n",
    "model = cobra.io.read_sbml_model(\"../data/gemfiles/yeast-GEM-BiGG.xml\")"
   ]
  },
  {
   "cell_type": "code",
   "execution_count": null,
   "id": "3372fd9a",
   "metadata": {},
   "outputs": [],
   "source": [
    "# Enzyme-constrained Yeast 8, batch\n",
    "# https://github.com/SysBioChalmers/ecModels/tree/main/ecYeastGEM/model\n",
    "# This is supposed under CI, i.e.\n",
    "# automatically re-generated and updated when new models are available.\n",
    "# This model is based on Yeast8.3.4\n",
    "\n",
    "# Average enzyme saturation factor (sigma) = 0.5\n",
    "# Total protein content in the cell [g protein/gDw] (Ptot) = 0.5\n",
    "# Fraction of enzymes in the model [g enzyme/g protein] (f) = 0.5\n",
    "# https://github.com/SysBioChalmers/GECKO/blob/main/userData/ecYeastGEM/YeastGEMAdapter.m\n",
    "model = cobra.io.read_sbml_model(\"../data/gemfiles/ecYeastGEM_batch.xml\")"
   ]
  },
  {
   "cell_type": "markdown",
   "id": "5b4fcf41",
   "metadata": {},
   "source": [
    "Show model"
   ]
  },
  {
   "cell_type": "code",
   "execution_count": null,
   "id": "76a11d19",
   "metadata": {},
   "outputs": [],
   "source": [
    "model"
   ]
  },
  {
   "cell_type": "markdown",
   "id": "9b2aed99",
   "metadata": {},
   "source": [
    "# Objective function"
   ]
  },
  {
   "cell_type": "markdown",
   "id": "05ab72f6",
   "metadata": {},
   "source": [
    "In the ecYeast8 (batch) model, the objective function -- growth -- is reaction ID `r_2111`.\n",
    "\n",
    "This reaction is linked to the biomass reaction, ID `r_4041`.\n",
    "\n",
    "Here, we also see the stoichiometry.  There are five classes of macromolecules: lipids, proteins, carbohydrates, DNA, and RNA.  And there are two other bulk metabolites: cofactor and ion."
   ]
  },
  {
   "cell_type": "code",
   "execution_count": null,
   "id": "7fa4b7b5",
   "metadata": {},
   "outputs": [],
   "source": [
    "model.reactions.get_by_id('r_2111')"
   ]
  },
  {
   "cell_type": "code",
   "execution_count": null,
   "id": "462669cf",
   "metadata": {},
   "outputs": [],
   "source": [
    "model.reactions.get_by_id('r_4041')"
   ]
  },
  {
   "cell_type": "markdown",
   "id": "f681a17b",
   "metadata": {},
   "source": [
    "Medium"
   ]
  },
  {
   "cell_type": "code",
   "execution_count": null,
   "id": "c5836b2b",
   "metadata": {},
   "outputs": [],
   "source": [
    "model.medium"
   ]
  },
  {
   "cell_type": "code",
   "execution_count": null,
   "id": "b5a5a3ce",
   "metadata": {},
   "outputs": [],
   "source": [
    "for reaction_id in model.medium.keys():\n",
    "    print(model.reactions.get_by_id(reaction_id).name)"
   ]
  },
  {
   "cell_type": "markdown",
   "id": "23541b72",
   "metadata": {},
   "source": [
    "Remove bounds on glucose uptake and growth rate"
   ]
  },
  {
   "cell_type": "code",
   "execution_count": null,
   "id": "156e478b",
   "metadata": {},
   "outputs": [],
   "source": [
    "# (no need because bounds are already unrestricted)\n",
    "# Unrestrict glucose uptake\n",
    "model.reactions.get_by_id('r_1714').bounds = (-1000.0, 0)\n",
    "# Unrestrict oxygen uptake (aerobic)\n",
    "model.reactions.get_by_id('r_1992').bounds = (-1000.0, 0)\n",
    "# Unrestrict objective function\n",
    "model.reactions.get_by_id('r_4041').bounds = (0, 1000.0)"
   ]
  },
  {
   "cell_type": "markdown",
   "id": "764030fa",
   "metadata": {},
   "source": [
    "Optimise using (vanilla) FBA"
   ]
  },
  {
   "cell_type": "code",
   "execution_count": null,
   "id": "fb8fc7c2",
   "metadata": {},
   "outputs": [],
   "source": [
    "solution = model.optimize()"
   ]
  },
  {
   "cell_type": "code",
   "execution_count": null,
   "id": "0d090c5a",
   "metadata": {},
   "outputs": [],
   "source": [
    "model.summary()"
   ]
  },
  {
   "cell_type": "code",
   "execution_count": null,
   "id": "e03ed86e",
   "metadata": {},
   "outputs": [],
   "source": [
    "solution['r_0466No1']"
   ]
  },
  {
   "cell_type": "markdown",
   "id": "6d7dc9be",
   "metadata": {},
   "source": [
    "Linear reaction coefficients"
   ]
  },
  {
   "cell_type": "code",
   "execution_count": null,
   "id": "a9997f71",
   "metadata": {},
   "outputs": [],
   "source": [
    "cobra.util.solver.linear_reaction_coefficients(model)"
   ]
  },
  {
   "cell_type": "markdown",
   "id": "adfacf46",
   "metadata": {},
   "source": [
    "# Demand reactions"
   ]
  },
  {
   "cell_type": "code",
   "execution_count": null,
   "id": "781a39a7",
   "metadata": {},
   "outputs": [],
   "source": [
    "model = model_saved\n",
    "\n",
    "biomass_component_list = [Lipids, Proteins, Carbohydrates, DNA, RNA, Cofactors, Ions]\n",
    "\n",
    "all_metabolite_ids = [\n",
    "    biomass_component.metabolite_id\n",
    "    for biomass_component in biomass_component_list\n",
    "]\n",
    "\n",
    "# Create demand reactions for all bulk pseudometabolites\n",
    "for metabolite_id in all_metabolite_ids:\n",
    "    model.add_boundary(model.metabolites.get_by_id(metabolite_id), type='demand')\n",
    "    \n",
    "# Set exchange reaction bounds\n",
    "model.reactions.get_by_id('r_1714').bounds = (-1000, 0)\n",
    "model.reactions.get_by_id('r_2111').bounds = (0, 1000)"
   ]
  },
  {
   "cell_type": "code",
   "execution_count": null,
   "id": "7b837104",
   "metadata": {},
   "outputs": [],
   "source": [
    "model.reactions.get_by_id('DM_s_1096[c]')"
   ]
  },
  {
   "cell_type": "code",
   "execution_count": null,
   "id": "a48f312f",
   "metadata": {},
   "outputs": [],
   "source": [
    "for biomass_component in biomass_component_list:\n",
    "    demand_reaction_id = 'DM_' + biomass_component.metabolite_id\n",
    "    print(f'{demand_reaction_id} ({biomass_component.metabolite_label})')\n",
    "    model.objective = demand_reaction_id\n",
    "    pfba_solution = cobra.flux_analysis.pfba(model)\n",
    "    print(f'Demand rxn flux: {pfba_solution.fluxes[demand_reaction_id]} h-1')\n",
    "    print(f'Growth rate: {pfba_solution.fluxes[\"r_4041\"]} h-1')\n",
    "    time = 1/(pfba_solution.fluxes[demand_reaction_id])\n",
    "    print(f'Time: {time} h')"
   ]
  }
 ],
 "metadata": {
  "kernelspec": {
   "display_name": "fba",
   "language": "python",
   "name": "fba"
  },
  "language_info": {
   "codemirror_mode": {
    "name": "ipython",
    "version": 3
   },
   "file_extension": ".py",
   "mimetype": "text/x-python",
   "name": "python",
   "nbconvert_exporter": "python",
   "pygments_lexer": "ipython3",
   "version": "3.8.14"
  }
 },
 "nbformat": 4,
 "nbformat_minor": 5
}

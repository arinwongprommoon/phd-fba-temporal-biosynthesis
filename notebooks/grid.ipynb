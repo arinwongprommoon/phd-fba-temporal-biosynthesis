{
 "cells": [
  {
   "cell_type": "code",
   "execution_count": null,
   "id": "cd88bcbe",
   "metadata": {},
   "outputs": [],
   "source": [
    "import os\n",
    "import sys\n",
    "module_path = os.path.abspath(os.path.join('..'))\n",
    "if module_path not in sys.path:\n",
    "    sys.path.append(module_path)\n",
    "\n",
    "%reload_ext autoreload\n",
    "%autoreload 2\n",
    "%matplotlib inline"
   ]
  },
  {
   "cell_type": "markdown",
   "id": "9400baeb",
   "metadata": {},
   "source": [
    "Import dependencies"
   ]
  },
  {
   "cell_type": "code",
   "execution_count": null,
   "id": "04142383",
   "metadata": {},
   "outputs": [],
   "source": [
    "import matplotlib.pyplot as plt\n",
    "import numpy as np\n",
    "import pandas as pd\n",
    "import pickle\n",
    "import cobra\n",
    "import seaborn as sns\n",
    "\n",
    "from src.gem.yeast8model import Yeast8Model\n",
    "from src.calc.ablation import vget_ablation_ratio\n",
    "from src.viz.grid import heatmap_ablation_grid"
   ]
  },
  {
   "cell_type": "markdown",
   "id": "4c2c7d8b",
   "metadata": {},
   "source": [
    "# Construct models of cells of interest"
   ]
  },
  {
   "cell_type": "code",
   "execution_count": null,
   "id": "10ec8c7e",
   "metadata": {},
   "outputs": [],
   "source": [
    "glc_exch_rate = 16.89\n",
    "wt_ec = Yeast8Model(\"../data/gemfiles/ecYeastGEM_batch_8-6-0.xml\")\n",
    "wt_ec.model.reactions.get_by_id(\"r_1714\").bounds = (-glc_exch_rate, 0)\n",
    "wt_ec.model.reactions.get_by_id(\"r_1714_REV\").bounds = (0, glc_exch_rate)"
   ]
  },
  {
   "cell_type": "code",
   "execution_count": null,
   "id": "2dd91ec2",
   "metadata": {},
   "outputs": [],
   "source": [
    "from src.data.biomasscomponent import biomass_component_list_orig\n",
    "\n",
    "glucose_bounds = (-4.75, 0) # gives a sensible growth rate for wt\n",
    "wt_y8 = Yeast8Model(\"../data/gemfiles/yeast-GEM_8-6-0.xml\", growth_id=\"r_2111\", biomass_id=\"r_4041\")\n",
    "wt_y8.biomass_component_list = biomass_component_list_orig\n",
    "wt_y8.model.reactions.r_1714.bounds = glucose_bounds\n",
    "wt_y8.add_media_components(['r_1992'])"
   ]
  },
  {
   "cell_type": "markdown",
   "id": "ae3ec4ee",
   "metadata": {},
   "source": [
    "# Grid"
   ]
  },
  {
   "cell_type": "markdown",
   "id": "cbaf0102",
   "metadata": {},
   "source": [
    "Convenience functions"
   ]
  },
  {
   "cell_type": "code",
   "execution_count": null,
   "id": "2bca2a3f",
   "metadata": {},
   "outputs": [],
   "source": [
    "@np.vectorize\n",
    "def vget_growthrate(x):\n",
    "    return x.ablated_flux[0]\n",
    "\n",
    "@np.vectorize\n",
    "def vget_carb_to_prot_ratio(x):\n",
    "    carb_to_prot = x.ablated_est_time[3] / x.ablated_est_time[2]\n",
    "    return carb_to_prot"
   ]
  },
  {
   "cell_type": "markdown",
   "id": "31c03c30",
   "metadata": {},
   "source": [
    "# Generate data"
   ]
  },
  {
   "cell_type": "markdown",
   "id": "131372af",
   "metadata": {},
   "source": [
    "## Enzyme-constrained"
   ]
  },
  {
   "cell_type": "markdown",
   "id": "abf6a529",
   "metadata": {},
   "source": [
    "`linspace` values are based on saturation exchange rates from the saturation curves.  These values may be different from the optimal uptake values from optimising the unmodified wild-type model."
   ]
  },
  {
   "cell_type": "markdown",
   "id": "a44058f8",
   "metadata": {},
   "source": [
    "### Glucose × ammonium"
   ]
  },
  {
   "cell_type": "code",
   "execution_count": null,
   "id": "69e3a5ac",
   "metadata": {},
   "outputs": [],
   "source": [
    "exch_rate_dict = {\n",
    "    \"r_1714\": np.linspace(0, 2*8.6869, 32), # glucose\n",
    "    \"r_1654\": np.linspace(0, 2*1.4848, 32), # ammonium\n",
    "}"
   ]
  },
  {
   "cell_type": "code",
   "execution_count": null,
   "id": "e2f9323c",
   "metadata": {},
   "outputs": [],
   "source": [
    "ablation_result_array = wt_ec.ablation_grid(exch_rate_dict)"
   ]
  },
  {
   "cell_type": "code",
   "execution_count": null,
   "id": "c76470ac",
   "metadata": {},
   "outputs": [],
   "source": [
    "# Alternatively, load if saved\n",
    "with open('../data/interim/ec_grid_glc_amm.pkl', 'rb') as handle:\n",
    "    ablation_result_array = pickle.load(handle)"
   ]
  },
  {
   "cell_type": "code",
   "execution_count": null,
   "id": "7d33427d",
   "metadata": {},
   "outputs": [],
   "source": [
    "# Dump data\n",
    "with open('../data/interim/ec_grid_glc_amm.pkl', 'wb') as handle:\n",
    "    pickle.dump(ablation_result_array, handle, protocol=pickle.HIGHEST_PROTOCOL)"
   ]
  },
  {
   "cell_type": "code",
   "execution_count": null,
   "id": "c3d48a20",
   "metadata": {
    "scrolled": false
   },
   "outputs": [],
   "source": [
    "#grid_plots(ablation_result_array, exch_rate_dict)"
   ]
  },
  {
   "cell_type": "markdown",
   "id": "eae99b59",
   "metadata": {},
   "source": [
    "### Pyruvate × ammonium"
   ]
  },
  {
   "cell_type": "code",
   "execution_count": null,
   "id": "19ecb5c8",
   "metadata": {},
   "outputs": [],
   "source": [
    "exch_rate_dict = {\n",
    "    \"r_2033\": np.linspace(0, 2*4.4444, 32), # pyruvate\n",
    "    \"r_1654\": np.linspace(0, 2*1.0, 32), # ammonium\n",
    "}"
   ]
  },
  {
   "cell_type": "code",
   "execution_count": null,
   "id": "79285229",
   "metadata": {},
   "outputs": [],
   "source": [
    "ablation_result_array = wt_ec.ablation_grid(exch_rate_dict)"
   ]
  },
  {
   "cell_type": "code",
   "execution_count": null,
   "id": "f5ccea92",
   "metadata": {},
   "outputs": [],
   "source": [
    "# Alternatively, load if saved\n",
    "with open('../data/interim/ec_grid_pyr_amm.pkl', 'rb') as handle:\n",
    "    ablation_result_array = pickle.load(handle)"
   ]
  },
  {
   "cell_type": "code",
   "execution_count": null,
   "id": "48b15291",
   "metadata": {},
   "outputs": [],
   "source": [
    "# Dump data\n",
    "with open('../data/interim/ec_grid_pyr_amm.pkl', 'wb') as handle:\n",
    "    pickle.dump(ablation_result_array, handle, protocol=pickle.HIGHEST_PROTOCOL)"
   ]
  },
  {
   "cell_type": "code",
   "execution_count": null,
   "id": "e61cd47e",
   "metadata": {
    "scrolled": false
   },
   "outputs": [],
   "source": [
    "#grid_plots(ablation_result_array, exch_rate_dict, ratio_vmin=0.75, ratio_vmax=1.25, grid_xlabel_leader=\"Pyruvate exchange\")"
   ]
  },
  {
   "cell_type": "markdown",
   "id": "309d6212",
   "metadata": {},
   "source": [
    "## Original yeast-GEM (no enzyme constraints)"
   ]
  },
  {
   "cell_type": "markdown",
   "id": "03f0b17e",
   "metadata": {},
   "source": [
    "### Glucose × ammonium"
   ]
  },
  {
   "cell_type": "code",
   "execution_count": null,
   "id": "0500f82f",
   "metadata": {},
   "outputs": [],
   "source": [
    "exch_rate_dict = {\n",
    "    \"r_1714\": np.linspace(0, 2*4.75, 32), # glucose\n",
    "    \"r_1654\": np.linspace(0, 2*2.88, 32), # ammonium\n",
    "}"
   ]
  },
  {
   "cell_type": "code",
   "execution_count": null,
   "id": "6b4b442e",
   "metadata": {},
   "outputs": [],
   "source": [
    "ablation_result_array = wt_y8.ablation_grid(exch_rate_dict)"
   ]
  },
  {
   "cell_type": "code",
   "execution_count": null,
   "id": "69d2d9ab",
   "metadata": {},
   "outputs": [],
   "source": [
    "# Alternatively, load if saved\n",
    "with open('../data/interim/y8_grid_glc_amm.pkl', 'rb') as handle:\n",
    "    ablation_result_array = pickle.load(handle)"
   ]
  },
  {
   "cell_type": "code",
   "execution_count": null,
   "id": "661338d2",
   "metadata": {},
   "outputs": [],
   "source": [
    "# Dump data\n",
    "with open('../data/interim/y8_grid_glc_amm.pkl', 'wb') as handle:\n",
    "    pickle.dump(ablation_result_array, handle, protocol=pickle.HIGHEST_PROTOCOL)"
   ]
  },
  {
   "cell_type": "code",
   "execution_count": null,
   "id": "c5c5cdab",
   "metadata": {
    "scrolled": false
   },
   "outputs": [],
   "source": [
    "#grid_plots(ablation_result_array, exch_rate_dict, ratio_vmin=0.75, ratio_vmax=1.25)"
   ]
  },
  {
   "cell_type": "markdown",
   "id": "488b4424",
   "metadata": {},
   "source": [
    "### Pyruvate × ammonium"
   ]
  },
  {
   "cell_type": "code",
   "execution_count": null,
   "id": "9b7c1328",
   "metadata": {},
   "outputs": [],
   "source": [
    "exch_rate_dict = {\n",
    "    \"r_2033\": np.linspace(0, 2*13.32, 32), # pyruvate\n",
    "    \"r_1654\": np.linspace(0, 2*2.88, 32), # ammonium\n",
    "}"
   ]
  },
  {
   "cell_type": "code",
   "execution_count": null,
   "id": "350d7641",
   "metadata": {},
   "outputs": [],
   "source": [
    "ablation_result_array = wt_y8.ablation_grid(exch_rate_dict)"
   ]
  },
  {
   "cell_type": "code",
   "execution_count": null,
   "id": "98e4bea6",
   "metadata": {},
   "outputs": [],
   "source": [
    "# Alternatively, load if saved\n",
    "with open('../data/interim/y8_grid_pyr_amm.pkl', 'rb') as handle:\n",
    "    ablation_result_array = pickle.load(handle)"
   ]
  },
  {
   "cell_type": "code",
   "execution_count": null,
   "id": "22ce5312",
   "metadata": {},
   "outputs": [],
   "source": [
    "# Dump data\n",
    "with open('../data/interim/y8_grid_pyr_amm.pkl', 'wb') as handle:\n",
    "    pickle.dump(ablation_result_array, handle, protocol=pickle.HIGHEST_PROTOCOL)"
   ]
  },
  {
   "cell_type": "code",
   "execution_count": null,
   "id": "85f9b0a8",
   "metadata": {
    "scrolled": false
   },
   "outputs": [],
   "source": [
    "#grid_plots(ablation_result_array, exch_rate_dict, ratio_vmin=0.75, ratio_vmax=1.25, grid_xlabel_leader=\"Pyruvate exchange\")"
   ]
  },
  {
   "cell_type": "markdown",
   "id": "be6177e4",
   "metadata": {},
   "source": [
    "# Compute data"
   ]
  },
  {
   "cell_type": "code",
   "execution_count": null,
   "id": "660419b7",
   "metadata": {},
   "outputs": [],
   "source": [
    "# Generate numpy arrays from ablation_result_array\n",
    "ratio_array = vget_ablation_ratio(ablation_result_array)\n",
    "growthrate_array = vget_growthrate(ablation_result_array)\n",
    "growthrate_gradient = np.gradient(growthrate_array)\n",
    "growthrate_gradient_greater = np.abs(growthrate_gradient[0]) - np.abs(growthrate_gradient[1])\n",
    "ratio_array_mask = ratio_array > 1\n",
    "carb_to_prot_array = vget_carb_to_prot_ratio(ablation_result_array)\n",
    "\n",
    "# Prepare lists for ratio vs growthrate plot\n",
    "ratios = ratio_array[1:,1:].ravel()\n",
    "growthrates = growthrate_array[1:,1:].ravel()\n",
    "\n",
    "# Prepare data structures for carb:prot ratio vs abl ratio plots\n",
    "carb_to_prot_ratios = carb_to_prot_array[1:,1:].ravel()\n",
    "ratio_bools = ratio_array_mask[1:,1:].ravel()\n",
    "\n",
    "carb_to_prot_df = pd.DataFrame({\n",
    "    'carb_to_prot_ratio': carb_to_prot_ratios,\n",
    "    'ratio_bool': ratio_bools,\n",
    "})"
   ]
  },
  {
   "cell_type": "markdown",
   "id": "daeaab2e",
   "metadata": {},
   "source": [
    "# Plot"
   ]
  },
  {
   "cell_type": "code",
   "execution_count": null,
   "id": "23cc6f49",
   "metadata": {},
   "outputs": [],
   "source": [
    "axis_options = {\n",
    "    \"ratio_vmin\": 0.5,\n",
    "    \"ratio_vmax\": 1.5,\n",
    "    \"grid_xlabel_leader\": \"Glucose exchange\",\n",
    "    \"grid_ylabel_leader\": \"Ammonium exchange\",\n",
    "}\n",
    "\n",
    "plot_choices = {\n",
    "    \"heatmap_ratio\": True,\n",
    "    \"heatmap_growthrate\": True,\n",
    "    \"scatter_growthrate_ratio\": True,\n",
    "    \"heatmap_gradient_c\": True,\n",
    "    \"heatmap_gradient_n\": True,\n",
    "    \"heatmap_gradient_compare\": True,\n",
    "    \"heatmap_ratio_whereone\": True,\n",
    "    \"heatmap_carb_to_prot\": True,\n",
    "    \"histogram_carb_to_prot\": True,\n",
    "}"
   ]
  },
  {
   "cell_type": "code",
   "execution_count": null,
   "id": "7aeb9eea",
   "metadata": {},
   "outputs": [],
   "source": [
    "# Set up axes parameters\n",
    "xmax = np.max(list(exch_rate_dict.values())[0])\n",
    "ymax = np.max(list(exch_rate_dict.values())[0])\n",
    "grid_xlabel_leader = axis_options[\"grid_xlabel_leader\"]\n",
    "grid_ylabel_leader = axis_options[\"grid_ylabel_leader\"]\n",
    "grid_xlabel = f\"{grid_xlabel_leader} (% max = {xmax:.2f})\"\n",
    "grid_ylabel = f\"{grid_ylabel_leader} (% max = {ymax:.2f})\"\n",
    "\n",
    "# Construct dict that tells which ax to draw names plots in\n",
    "plot_axs_keys = list(plot_choices.keys())\n",
    "plot_axs_values = []\n",
    "idx = 0\n",
    "for plot_choice in list(plot_choices.values()):\n",
    "    if plot_choice:\n",
    "        plot_axs_values.append(idx)\n",
    "        idx += 1\n",
    "    else:\n",
    "        plot_axs_values.append(None)\n",
    "plot_axs = dict(zip(plot_axs_keys, plot_axs_values))"
   ]
  },
  {
   "cell_type": "code",
   "execution_count": null,
   "id": "96191657",
   "metadata": {},
   "outputs": [],
   "source": [
    "# Set up subplots\n",
    "numplots = sum(plot_choices.values())\n",
    "fig, ax = plt.subplots(nrows=numplots, ncols=1, figsize=(7,7*numplots))\n",
    "\n",
    "# Plot!\n",
    "\n",
    "if plot_choices[\"heatmap_ratio\"]:\n",
    "    heatmap_ablation_grid(\n",
    "        ax[plot_axs[\"heatmap_ratio\"]],\n",
    "        exch_rate_dict,\n",
    "        ratio_array,\n",
    "        percent_saturation=True,\n",
    "        vmin=ratio_vmin,\n",
    "        vmax=ratio_vmax,\n",
    "    )\n",
    "    ax[plot_axs[\"heatmap_ratio\"]].set_xlabel(grid_xlabel)\n",
    "    ax[plot_axs[\"heatmap_ratio\"]].set_ylabel(grid_ylabel)\n",
    "    ax[plot_axs[\"heatmap_ratio\"]].set_title(\"Ratio\")\n",
    "    \n",
    "if plot_choices[\"heatmap_growthrate\"]:\n",
    "    heatmap_ablation_grid(\n",
    "        ax[plot_axs[\"heatmap_growthrate\"]],\n",
    "        exch_rate_dict,\n",
    "        growthrate_array,\n",
    "        percent_saturation=True,\n",
    "        cbar_label=\"growth rate\",\n",
    "    )\n",
    "    ax[plot_axs[\"heatmap_growthrate\"]].set_xlabel(grid_xlabel)\n",
    "    ax[plot_axs[\"heatmap_growthrate\"]].set_ylabel(grid_ylabel)\n",
    "    ax[plot_axs[\"heatmap_growthrate\"]].set_title(\"Growth rate\")\n",
    "    \n",
    "if plot_choices[\"scatter_growthrate_ratio\"]:\n",
    "    ax[plot_axs[\"scatter_growthrate_ratio\"]].scatter(growthrates, ratios)\n",
    "    ax[plot_axs[\"scatter_growthrate_ratio\"]].set_xlabel(\"Growth rate (/h)\")\n",
    "    ax[plot_axs[\"scatter_growthrate_ratio\"]].set_ylabel(\"Ablation ratio\")\n",
    "    ax[plot_axs[\"scatter_growthrate_ratio\"]].set_title(\"Growth rate vs ablation ratio\")\n",
    "    \n",
    "if plot_choices[\"heatmap_gradient_c\"]:\n",
    "    heatmap_ablation_grid(\n",
    "        ax[plot_axs[\"heatmap_gradient_c\"]],\n",
    "        exch_rate_dict,\n",
    "        growthrate_gradient[0],\n",
    "        percent_saturation=True,\n",
    "        vmin=None,\n",
    "        vmax=None,\n",
    "        center=0,\n",
    "        cmap=\"PiYG\",\n",
    "    )\n",
    "    ax[plot_axs[\"heatmap_gradient_c\"]].set_xlabel(grid_xlabel)\n",
    "    ax[plot_axs[\"heatmap_gradient_c\"]].set_ylabel(grid_ylabel)\n",
    "    ax[plot_axs[\"heatmap_gradient_c\"]].set_title(f\"Gradient, {grid_xlabel_leader} axis\")\n",
    "    \n",
    "if plot_choices[\"heatmap_gradient_n\"]:\n",
    "    heatmap_ablation_grid(\n",
    "        ax[plot_axs[\"heatmap_gradient_n\"]],\n",
    "        exch_rate_dict,\n",
    "        growthrate_gradient[1],\n",
    "        percent_saturation=True,\n",
    "        vmin=None,\n",
    "        vmax=None,\n",
    "        center=0,\n",
    "        cmap=\"PiYG\",\n",
    "    )\n",
    "    ax[plot_axs[\"heatmap_gradient_n\"]].set_xlabel(grid_xlabel)\n",
    "    ax[plot_axs[\"heatmap_gradient_n\"]].set_ylabel(grid_ylabel)\n",
    "    ax[plot_axs[\"heatmap_gradient_n\"]].set_title(f\"Gradient, {grid_ylabel_leader} axis\")\n",
    "    \n",
    "if plot_choices[\"heatmap_gradient_compare\"]:\n",
    "    heatmap_ablation_grid(\n",
    "        ax[plot_axs[\"heatmap_gradient_compare\"]],\n",
    "        exch_rate_dict,\n",
    "        growthrate_gradient_greater,\n",
    "        percent_saturation=True,\n",
    "        vmin=None,\n",
    "        vmax=None,\n",
    "        center=0,\n",
    "        cmap=\"PuOr\",\n",
    "    )\n",
    "    ax[plot_axs[\"heatmap_gradient_compare\"]].set_xlabel(grid_xlabel)\n",
    "    ax[plot_axs[\"heatmap_gradient_compare\"]].set_ylabel(grid_ylabel)\n",
    "    ax[plot_axs[\"heatmap_gradient_compare\"]].set_title(\n",
    "        \"1 = change in glucose axis has greater magnitude\\n0 = change in ammonium axis has greater magnitude\"\n",
    "    )\n",
    "    \n",
    "if plot_choices[\"heatmap_ratio_whereone\"]:\n",
    "    heatmap_ablation_grid(\n",
    "        ax[plot_axs[\"heatmap_ratio_whereone\"]],\n",
    "        exch_rate_dict,\n",
    "        ratio_array_mask,\n",
    "        percent_saturation=True,\n",
    "        vmin=None,\n",
    "        vmax=None,\n",
    "        cmap=\"cividis\",\n",
    "    )\n",
    "    ax[plot_axs[\"heatmap_ratio_whereone\"]].set_xlabel(grid_xlabel)\n",
    "    ax[plot_axs[\"heatmap_ratio_whereone\"]].set_ylabel(grid_ylabel)\n",
    "    ax[plot_axs[\"heatmap_ratio_whereone\"]].set_title(\"0: ratio < 1; 1: ratio > 1\")\n",
    "    \n",
    "if plot_choices[\"heatmap_carb_to_prot\"]:\n",
    "    heatmap_ablation_grid(\n",
    "        ax[plot_axs[\"heatmap_carb_to_prot\"]],\n",
    "        exch_rate_dict,\n",
    "        carb_to_prot_array,\n",
    "        percent_saturation=True,\n",
    "        vmin=None,\n",
    "        vmax=None,\n",
    "        cmap=\"Reds\",\n",
    "    )\n",
    "    ax[plot_axs[\"heatmap_carb_to_prot\"]].contour(np.rot90(ratio_array_mask))\n",
    "    ax[plot_axs[\"heatmap_carb_to_prot\"]].set_xlabel(grid_xlabel)\n",
    "    ax[plot_axs[\"heatmap_carb_to_prot\"]].set_ylabel(grid_ylabel)\n",
    "    ax[plot_axs[\"heatmap_carb_to_prot\"]].set_title(\"Carbohydrate:Protein ratio (times)\")\n",
    "    \n",
    "if plot_choices[\"histogram_carb_to_prot\"]:\n",
    "    sns.histplot(\n",
    "        data=carb_to_prot_df,\n",
    "        x='carb_to_prot_ratio',\n",
    "        hue='ratio_bool', \n",
    "        element='step',\n",
    "        binwidth=0.02,\n",
    "        ax=ax[plot_axs[\"histogram_carb_to_prot\"]],\n",
    "    )\n",
    "    ax[plot_axs[\"histogram_carb_to_prot\"]].set_xlabel('Carbohydrate:Protein time ratio')\n",
    "    ax[plot_axs[\"histogram_carb_to_prot\"]].set_ylabel('Count')\n",
    "    ax[plot_axs[\"histogram_carb_to_prot\"]].get_legend().set_title('Ratio > 1')"
   ]
  }
 ],
 "metadata": {
  "kernelspec": {
   "display_name": "fba",
   "language": "python",
   "name": "fba"
  },
  "language_info": {
   "codemirror_mode": {
    "name": "ipython",
    "version": 3
   },
   "file_extension": ".py",
   "mimetype": "text/x-python",
   "name": "python",
   "nbconvert_exporter": "python",
   "pygments_lexer": "ipython3",
   "version": "3.8.14"
  }
 },
 "nbformat": 4,
 "nbformat_minor": 5
}

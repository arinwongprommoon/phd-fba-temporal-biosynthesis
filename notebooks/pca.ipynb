{
 "cells": [
  {
   "cell_type": "code",
   "execution_count": null,
   "id": "01a87c3d",
   "metadata": {},
   "outputs": [],
   "source": [
    "import os\n",
    "import sys\n",
    "module_path = os.path.abspath(os.path.join('..'))\n",
    "if module_path not in sys.path:\n",
    "    sys.path.append(module_path)\n",
    "    \n",
    "%reload_ext autoreload\n",
    "%autoreload 2\n",
    "%matplotlib inline"
   ]
  },
  {
   "cell_type": "markdown",
   "id": "c5749e58",
   "metadata": {},
   "source": [
    "Import dependencies"
   ]
  },
  {
   "cell_type": "code",
   "execution_count": null,
   "id": "5446fd0f",
   "metadata": {},
   "outputs": [],
   "source": [
    "import matplotlib.pyplot as plt\n",
    "import numpy as np\n",
    "import pandas as pd\n",
    "import seaborn as sns\n",
    "import cobra\n",
    "\n",
    "from sklearn.decomposition import PCA\n",
    "\n",
    "from src.gem.yeast8model import Yeast8Model"
   ]
  },
  {
   "cell_type": "markdown",
   "id": "9bc34ef1",
   "metadata": {},
   "source": [
    "Initialise model"
   ]
  },
  {
   "cell_type": "code",
   "execution_count": null,
   "id": "c579ae66",
   "metadata": {},
   "outputs": [],
   "source": [
    "glc_exch_rate = 16.89\n",
    "\n",
    "wt = Yeast8Model(\"../data/gemfiles/ecYeastGEM_batch_8-6-0.xml\")\n",
    "# Default: lots of glucose\n",
    "wt.model.reactions.get_by_id(\"r_1714\").bounds = (-glc_exch_rate, 0)\n",
    "wt.model.reactions.get_by_id(\"r_1714_REV\").bounds = (0, glc_exch_rate)"
   ]
  },
  {
   "cell_type": "markdown",
   "id": "4eafa302",
   "metadata": {},
   "source": [
    "Grid stuff"
   ]
  },
  {
   "cell_type": "code",
   "execution_count": null,
   "id": "64c6d634",
   "metadata": {},
   "outputs": [],
   "source": [
    "exch_rate_dict = {\n",
    "    \"r_1714\": np.linspace(0, 2*8.6869, 4), # glucose\n",
    "    \"r_1654\": np.linspace(0, 2*1.4848, 4), # ammonium\n",
    "}"
   ]
  },
  {
   "cell_type": "code",
   "execution_count": null,
   "id": "0e83d392",
   "metadata": {},
   "outputs": [],
   "source": [
    "ablation_result_array = wt.usgfluxes_grid(exch_rate_dict)\n",
    "\n",
    "# Dump data\n",
    "with open('../data/interim/ec_usg_glc_amm.pkl', 'wb') as handle:\n",
    "    pickle.dump(ablation_result_array, handle, protocol=pickle.HIGHEST_PROTOCOL)"
   ]
  }
 ],
 "metadata": {
  "kernelspec": {
   "display_name": "fba",
   "language": "python",
   "name": "fba"
  },
  "language_info": {
   "codemirror_mode": {
    "name": "ipython",
    "version": 3
   },
   "file_extension": ".py",
   "mimetype": "text/x-python",
   "name": "python",
   "nbconvert_exporter": "python",
   "pygments_lexer": "ipython3",
   "version": "3.8.14"
  }
 },
 "nbformat": 4,
 "nbformat_minor": 5
}

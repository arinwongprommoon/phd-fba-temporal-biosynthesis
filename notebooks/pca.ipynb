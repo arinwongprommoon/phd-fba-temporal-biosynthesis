{
 "cells": [
  {
   "cell_type": "code",
   "execution_count": null,
   "id": "01a87c3d",
   "metadata": {},
   "outputs": [],
   "source": [
    "import os\n",
    "import sys\n",
    "module_path = os.path.abspath(os.path.join('..'))\n",
    "if module_path not in sys.path:\n",
    "    sys.path.append(module_path)\n",
    "    \n",
    "%reload_ext autoreload\n",
    "%autoreload 2\n",
    "%matplotlib inline"
   ]
  },
  {
   "cell_type": "markdown",
   "id": "c5749e58",
   "metadata": {},
   "source": [
    "Import dependencies"
   ]
  },
  {
   "cell_type": "code",
   "execution_count": null,
   "id": "5446fd0f",
   "metadata": {},
   "outputs": [],
   "source": [
    "import matplotlib.pyplot as plt\n",
    "import numpy as np\n",
    "import pandas as pd\n",
    "import pickle\n",
    "import seaborn as sns\n",
    "import cobra\n",
    "\n",
    "from sklearn.decomposition import PCA\n",
    "\n",
    "from src.gem.yeast8model import Yeast8Model"
   ]
  },
  {
   "cell_type": "markdown",
   "id": "9bc34ef1",
   "metadata": {},
   "source": [
    "Initialise model"
   ]
  },
  {
   "cell_type": "code",
   "execution_count": null,
   "id": "c579ae66",
   "metadata": {},
   "outputs": [],
   "source": [
    "glc_exch_rate = 16.89\n",
    "\n",
    "wt = Yeast8Model(\"../data/gemfiles/ecYeastGEM_batch_8-6-0.xml\")\n",
    "# Default: lots of glucose\n",
    "wt.model.reactions.get_by_id(\"r_1714\").bounds = (-glc_exch_rate, 0)\n",
    "wt.model.reactions.get_by_id(\"r_1714_REV\").bounds = (0, glc_exch_rate)"
   ]
  },
  {
   "cell_type": "markdown",
   "id": "4eafa302",
   "metadata": {},
   "source": [
    "Generate & dump or load data"
   ]
  },
  {
   "cell_type": "code",
   "execution_count": null,
   "id": "64c6d634",
   "metadata": {},
   "outputs": [],
   "source": [
    "exch_rate_dict = {\n",
    "    \"r_1714\": np.linspace(0.5*8.6869, 2*8.6869, 4), # glucose\n",
    "    \"r_1654\": np.linspace(0.5*1.4848, 2*1.4848, 4), # ammonium\n",
    "}\n",
    "\n",
    "ablation_result_array = wt.usgfluxes_grid(exch_rate_dict)\n",
    "\n",
    "# Dump data\n",
    "with open('../data/interim/ec_usg_glc_amm.pkl', 'wb') as handle:\n",
    "    pickle.dump(ablation_result_array, handle, protocol=pickle.HIGHEST_PROTOCOL)"
   ]
  },
  {
   "cell_type": "code",
   "execution_count": null,
   "id": "abb6e645",
   "metadata": {},
   "outputs": [],
   "source": [
    "# Load if saved\n",
    "with open('../data/interim/ec_usg_glc_amm.pkl', 'rb') as handle:\n",
    "    ablation_result_array = pickle.load(handle)"
   ]
  },
  {
   "cell_type": "code",
   "execution_count": null,
   "id": "d4bf2c10",
   "metadata": {},
   "outputs": [],
   "source": [
    "exch_rate_dict = {\n",
    "    \"r_2033\": np.linspace(0.5*4.4444, 2*4.4444, 4), # pyruvate\n",
    "    \"r_1654\": np.linspace(0.5*1.0, 2*1.0, 4), # ammonium\n",
    "}\n",
    "\n",
    "ablation_result_array = wt.usgfluxes_grid(exch_rate_dict)\n",
    "\n",
    "# Dump data\n",
    "with open('../data/interim/ec_usg_pyr_amm.pkl', 'wb') as handle:\n",
    "    pickle.dump(ablation_result_array, handle, protocol=pickle.HIGHEST_PROTOCOL)"
   ]
  },
  {
   "cell_type": "code",
   "execution_count": null,
   "id": "f6d08df4",
   "metadata": {},
   "outputs": [],
   "source": [
    "# Load if saved\n",
    "with open('../data/interim/ec_usg_pyr_amm.pkl', 'rb') as handle:\n",
    "    ablation_result_array = pickle.load(handle)"
   ]
  },
  {
   "cell_type": "markdown",
   "id": "123c501e",
   "metadata": {},
   "source": [
    "Adjust data variable dimensions"
   ]
  },
  {
   "cell_type": "code",
   "execution_count": null,
   "id": "ab9021cd",
   "metadata": {},
   "outputs": [],
   "source": [
    "ablation_result_1d = ablation_result_array.ravel()\n",
    "multicond_enz_use_array = np.concatenate(ablation_result_1d)\n",
    "multicond_enz_use_array.shape"
   ]
  },
  {
   "cell_type": "markdown",
   "id": "032b2756",
   "metadata": {},
   "source": [
    "PCA"
   ]
  },
  {
   "cell_type": "code",
   "execution_count": null,
   "id": "6f64d7be",
   "metadata": {},
   "outputs": [],
   "source": [
    "pca = PCA()\n",
    "Xt = pca.fit_transform(multicond_enz_use_array)\n",
    "pca1 = Xt[:, 0]\n",
    "pca2 = Xt[:, 1]"
   ]
  },
  {
   "cell_type": "code",
   "execution_count": null,
   "id": "d6803c37",
   "metadata": {},
   "outputs": [],
   "source": [
    "print(np.cumsum(pca.explained_variance_ratio_))"
   ]
  },
  {
   "cell_type": "code",
   "execution_count": null,
   "id": "e04c781b",
   "metadata": {},
   "outputs": [],
   "source": [
    "# Color dots by biomass components, using the default cycle.\n",
    "# Original = C0, lipid = C1, etc.\n",
    "num_components = 8\n",
    "color_dict = dict(zip(\n",
    "    list(range(num_components)),\n",
    "    ['C' + str(num) for num in range(num_components)]\n",
    "))\n",
    "color_list = [color_dict[el] for el in (np.arange(len(pca1)) % num_components)]\n",
    "\n",
    "fig, ax = plt.subplots(figsize=(6, 6))\n",
    "ax.scatter(pca1, pca2, color=color_list)\n",
    "ax.set_xlabel(\"PC1\")\n",
    "ax.set_ylabel(\"PC2\")"
   ]
  },
  {
   "cell_type": "code",
   "execution_count": null,
   "id": "e8c8e72b",
   "metadata": {
    "scrolled": false
   },
   "outputs": [],
   "source": [
    "# Plot each condition\n",
    "num_conds = int(len(pca1) / num_components)\n",
    "axis_size = int(np.sqrt(num_conds))\n",
    "color_list = [color_dict[el] for el in range(num_components)]\n",
    "\n",
    "fig, ax = plt.subplots(ncols=axis_size, nrows=axis_size, figsize=(12,12))\n",
    "for cond in range(num_conds):\n",
    "    x_pos = cond // axis_size\n",
    "    y_pos = cond % axis_size\n",
    "    start_idx = cond * num_components\n",
    "    ax[x_pos, y_pos].scatter(\n",
    "        pca1[start_idx:start_idx+num_components],\n",
    "        pca2[start_idx:start_idx+num_components],\n",
    "        color=color_list,\n",
    "        marker='+',\n",
    "        s=40,\n",
    "    )\n",
    "    ax[x_pos, y_pos].set_xlim(np.min(pca1), np.max(pca1))\n",
    "    ax[x_pos, y_pos].set_ylim(np.min(pca2), np.max(pca2))\n",
    "    #ax[x_pos, y_pos].set_xlim(-8.10e-4, +4.96e-4)\n",
    "    #ax[x_pos, y_pos].set_ylim(-1.20e-5, +1.85e-5)\n",
    "    ax[x_pos, y_pos].tick_params(\n",
    "        axis='both', bottom=False, left=False, labelbottom=False, labelleft=False\n",
    "    )\n",
    "    #ax[x_pos, y_pos].set_xlabel(\"PC1\")\n",
    "    #ax[x_pos, y_pos].set_ylabel(\"PC2\")\n",
    "    c_exch = exch_rate_dict[\"r_1714\"][x_pos]\n",
    "    #c_exch = exch_rate_dict[\"r_2033\"][x_pos]\n",
    "    n_exch = exch_rate_dict[\"r_1654\"][y_pos]\n",
    "    ax[x_pos, y_pos].set_title(f\"C {c_exch:.2f}, N {n_exch:.2f}\")"
   ]
  },
  {
   "cell_type": "markdown",
   "id": "dd3cfe2e",
   "metadata": {},
   "source": [
    "Colour key for the above:\n",
    "- original: blue\n",
    "- lipid: orange\n",
    "- protein: green\n",
    "- carbohydrate: red\n",
    "- DNA: purple\n",
    "- RNA: brown\n",
    "- cofactor: pink\n",
    "- ion: grey"
   ]
  },
  {
   "cell_type": "markdown",
   "id": "dd4cc255",
   "metadata": {},
   "source": [
    "Feature importance"
   ]
  },
  {
   "cell_type": "markdown",
   "id": "a1278e85",
   "metadata": {},
   "source": [
    "See https://stackoverflow.com/questions/50796024/feature-variable-importance-after-a-pca-analysis"
   ]
  },
  {
   "cell_type": "code",
   "execution_count": null,
   "id": "d3a26e82",
   "metadata": {},
   "outputs": [],
   "source": [
    "imp = abs(pca.components_)\n",
    "imp0 = np.argsort(imp[0])[::-1]\n",
    "imp1 = np.argsort(imp[1])[::-1]\n",
    "list_enz_usg = wt.ablation_fluxes['original'].index.to_numpy()"
   ]
  },
  {
   "cell_type": "code",
   "execution_count": null,
   "id": "03e959df",
   "metadata": {},
   "outputs": [],
   "source": [
    "list_enz_usg[imp0[:30]]"
   ]
  },
  {
   "cell_type": "code",
   "execution_count": null,
   "id": "29f83021",
   "metadata": {},
   "outputs": [],
   "source": [
    "list_enz_usg[imp1[:10]]"
   ]
  }
 ],
 "metadata": {
  "kernelspec": {
   "display_name": "fba",
   "language": "python",
   "name": "fba"
  },
  "language_info": {
   "codemirror_mode": {
    "name": "ipython",
    "version": 3
   },
   "file_extension": ".py",
   "mimetype": "text/x-python",
   "name": "python",
   "nbconvert_exporter": "python",
   "pygments_lexer": "ipython3",
   "version": "3.8.14"
  }
 },
 "nbformat": 4,
 "nbformat_minor": 5
}

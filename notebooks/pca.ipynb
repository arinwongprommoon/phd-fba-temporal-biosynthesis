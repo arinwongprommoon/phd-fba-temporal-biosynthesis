{
 "cells": [
  {
   "cell_type": "code",
   "execution_count": null,
   "id": "01a87c3d",
   "metadata": {},
   "outputs": [],
   "source": [
    "import os\n",
    "import sys\n",
    "module_path = os.path.abspath(os.path.join('..'))\n",
    "if module_path not in sys.path:\n",
    "    sys.path.append(module_path)\n",
    "    \n",
    "%reload_ext autoreload\n",
    "%autoreload 2\n",
    "%matplotlib inline"
   ]
  },
  {
   "cell_type": "markdown",
   "id": "c5749e58",
   "metadata": {},
   "source": [
    "Import dependencies"
   ]
  },
  {
   "cell_type": "code",
   "execution_count": null,
   "id": "5446fd0f",
   "metadata": {},
   "outputs": [],
   "source": [
    "import matplotlib.pyplot as plt\n",
    "import numpy as np\n",
    "import pandas as pd\n",
    "import pickle\n",
    "import seaborn as sns\n",
    "import cobra\n",
    "\n",
    "from sklearn.decomposition import PCA\n",
    "\n",
    "from src.gem.yeast8model import Yeast8Model"
   ]
  },
  {
   "cell_type": "markdown",
   "id": "9bc34ef1",
   "metadata": {},
   "source": [
    "# Initialise model"
   ]
  },
  {
   "cell_type": "code",
   "execution_count": null,
   "id": "c579ae66",
   "metadata": {},
   "outputs": [],
   "source": [
    "glc_exch_rate = 16.89\n",
    "\n",
    "wt = Yeast8Model(\"../data/gemfiles/ecYeastGEM_batch_8-6-0.xml\")\n",
    "# Default: lots of glucose\n",
    "wt.model.reactions.get_by_id(\"r_1714\").bounds = (-glc_exch_rate, 0)\n",
    "wt.model.reactions.get_by_id(\"r_1714_REV\").bounds = (0, glc_exch_rate)"
   ]
  },
  {
   "cell_type": "markdown",
   "id": "4eafa302",
   "metadata": {},
   "source": [
    "# Generate & dump or load data"
   ]
  },
  {
   "cell_type": "markdown",
   "id": "7e4c785a",
   "metadata": {},
   "source": [
    "## Grid"
   ]
  },
  {
   "cell_type": "code",
   "execution_count": null,
   "id": "64c6d634",
   "metadata": {},
   "outputs": [],
   "source": [
    "exch_rate_dict = {\n",
    "    \"r_1714\": np.linspace(0.5*8.6869, 2*8.6869, 4), # glucose\n",
    "    \"r_1654\": np.linspace(0.5*1.4848, 2*1.4848, 4), # ammonium\n",
    "}\n",
    "\n",
    "ablation_result_array = wt.usgfluxes_grid(exch_rate_dict)\n",
    "\n",
    "# Dump data\n",
    "with open('../data/interim/ec_usg_glc_amm.pkl', 'wb') as handle:\n",
    "    pickle.dump(ablation_result_array, handle, protocol=pickle.HIGHEST_PROTOCOL)"
   ]
  },
  {
   "cell_type": "code",
   "execution_count": null,
   "id": "abb6e645",
   "metadata": {},
   "outputs": [],
   "source": [
    "# Load if saved\n",
    "with open('../data/interim/ec_usg_glc_amm.pkl', 'rb') as handle:\n",
    "    ablation_result_array = pickle.load(handle)"
   ]
  },
  {
   "cell_type": "code",
   "execution_count": null,
   "id": "d4bf2c10",
   "metadata": {},
   "outputs": [],
   "source": [
    "exch_rate_dict = {\n",
    "    \"r_2033\": np.linspace(0.5*4.4444, 2*4.4444, 4), # pyruvate\n",
    "    \"r_1654\": np.linspace(0.5*1.0, 2*1.0, 4), # ammonium\n",
    "}\n",
    "\n",
    "ablation_result_array = wt.usgfluxes_grid(exch_rate_dict)\n",
    "\n",
    "# Dump data\n",
    "with open('../data/interim/ec_usg_pyr_amm.pkl', 'wb') as handle:\n",
    "    pickle.dump(ablation_result_array, handle, protocol=pickle.HIGHEST_PROTOCOL)"
   ]
  },
  {
   "cell_type": "code",
   "execution_count": null,
   "id": "f6d08df4",
   "metadata": {},
   "outputs": [],
   "source": [
    "# Load if saved\n",
    "with open('../data/interim/ec_usg_pyr_amm.pkl', 'rb') as handle:\n",
    "    ablation_result_array = pickle.load(handle)"
   ]
  },
  {
   "cell_type": "markdown",
   "id": "d958096d",
   "metadata": {},
   "source": [
    "## Specific points"
   ]
  },
  {
   "cell_type": "markdown",
   "id": "a5d1e256",
   "metadata": {},
   "source": [
    "Sandbox: get enzyme usage fluxes on specific points, rather than a grid"
   ]
  },
  {
   "cell_type": "code",
   "execution_count": null,
   "id": "34c96c44",
   "metadata": {},
   "outputs": [],
   "source": [
    "exch_rate_points = {\n",
    "    \"exch_ids\": [\"r_1714\", \"r_1654\"],\n",
    "    \"exch_points\": np.array([[16.89, 2.96], [1.69, 1.05]])\n",
    "}"
   ]
  },
  {
   "cell_type": "code",
   "execution_count": null,
   "id": "21913635",
   "metadata": {},
   "outputs": [],
   "source": [
    "def usgfluxes_list(ymodel, exch_rate_points):\n",
    "    model_working = wt.model.copy()\n",
    "    ablation_result_list = np.zeros(shape=(len(exch_rate_points[\"exch_points\"])), dtype=\"object\")\n",
    "\n",
    "    for point_idx, point in enumerate(exch_rate_points[\"exch_points\"]):\n",
    "        # block glucose\n",
    "        model_working.reactions.get_by_id(\"r_1714\").bounds = (0, 0)\n",
    "        try:\n",
    "            model_working.reactions.get_by_id(\"r_1714_REV\").bounds = (0, 0)\n",
    "        except KeyError as e:\n",
    "            print(\"r_1714_REV not found, ignoring in glucose-blocking step\")\n",
    "        # set bounds\n",
    "        for exch_idx, exch_id in enumerate(exch_rate_points[\"exch_ids\"]):\n",
    "            model_working.reactions.get_by_id(exch_id).bounds = (-point[exch_idx], 0)\n",
    "            # deal with reversible exchange reactions\n",
    "            try:\n",
    "                exch_id_rev = exch_id + \"_REV\"\n",
    "                model_working.reactions.get_by_id(exch_id_rev).bounds = (0, point[exch_idx])\n",
    "            except KeyError as e:\n",
    "                print(\n",
    "                    f\"Error-- reversible exchange reaction {exch_id_rev} not found. Ignoring.\"\n",
    "                )\n",
    "        ablation_result = wt.ablate(input_model=model_working)\n",
    "        enz_use_array = np.stack(\n",
    "            [df.to_numpy() for df in wt.ablation_enzyme_fluxes.values()]\n",
    "        )\n",
    "        ablation_result_list[point_idx] = enz_use_array\n",
    "    \n",
    "    return ablation_result_list"
   ]
  },
  {
   "cell_type": "code",
   "execution_count": null,
   "id": "ed9d9f27",
   "metadata": {},
   "outputs": [],
   "source": [
    "ablation_result_list = usgfluxes_list(wt, exch_rate_points)"
   ]
  },
  {
   "cell_type": "code",
   "execution_count": null,
   "id": "2d375c9e",
   "metadata": {},
   "outputs": [],
   "source": [
    "ablation_result_list"
   ]
  },
  {
   "cell_type": "markdown",
   "id": "af67d2b2",
   "metadata": {},
   "source": [
    "Sandbox: Pick random points from a grid based on a mask"
   ]
  },
  {
   "cell_type": "code",
   "execution_count": null,
   "id": "85151b88",
   "metadata": {},
   "outputs": [],
   "source": [
    "grid_filename = \"ec_grid_\" + \"glc\" + \"_amm\"\n",
    "grid_filepath = \"../data/interim/\" + grid_filename + \".pkl\"\n",
    "with open(grid_filepath, \"rb\") as handle:\n",
    "    ablation_result_array = pickle.load(handle)"
   ]
  },
  {
   "cell_type": "code",
   "execution_count": null,
   "id": "68902e60",
   "metadata": {
    "scrolled": true
   },
   "outputs": [],
   "source": [
    "from src.calc.matrix import ArrayCollection\n",
    "from src.calc.ablation import vget_ablation_ratio, vget_custom_ablation_ratio\n",
    "\n",
    "saturation_glc = 8.6869\n",
    "saturation_amm = 1.4848\n",
    "x_axis = np.linspace(0, 2 * saturation_glc, 32)\n",
    "y_axis = np.linspace(0, 2 * saturation_amm, 32)\n",
    "\n",
    "ratio = ArrayCollection(vget_ablation_ratio(ablation_result_array), x_axis, y_axis)"
   ]
  },
  {
   "cell_type": "code",
   "execution_count": null,
   "id": "61de5d7c",
   "metadata": {},
   "outputs": [],
   "source": [
    "ratio_array_mask = ratio.array > 1"
   ]
  },
  {
   "cell_type": "code",
   "execution_count": null,
   "id": "e9083ccb",
   "metadata": {},
   "outputs": [],
   "source": [
    "x_coords, y_coords = np.meshgrid(x_axis, y_axis)\n",
    "\n",
    "big_ratio_coords = np.column_stack((x_coords[ratio_array_mask], y_coords[ratio_array_mask]))\n",
    "small_ratio_coords = np.column_stack((x_coords[~ratio_array_mask], y_coords[~ratio_array_mask]))"
   ]
  },
  {
   "cell_type": "code",
   "execution_count": null,
   "id": "8221602b",
   "metadata": {},
   "outputs": [],
   "source": [
    "def get_random_coords(coords, num_samples):\n",
    "    return coords[np.random.choice(coords.shape[0], num_samples, replace=False), :]"
   ]
  },
  {
   "cell_type": "code",
   "execution_count": null,
   "id": "4c042351",
   "metadata": {},
   "outputs": [],
   "source": [
    "num_samples = 100\n",
    "big_ratio_coords_random = get_random_coords(big_ratio_coords, num_samples)\n",
    "small_ratio_coords_random = get_random_coords(small_ratio_coords, num_samples)"
   ]
  },
  {
   "cell_type": "code",
   "execution_count": null,
   "id": "30bb2463",
   "metadata": {},
   "outputs": [],
   "source": [
    "print(big_ratio_coords_random)\n",
    "print(small_ratio_coords_random)"
   ]
  },
  {
   "cell_type": "markdown",
   "id": "de09b4c4",
   "metadata": {},
   "source": [
    "Sandbox: combine"
   ]
  },
  {
   "cell_type": "code",
   "execution_count": null,
   "id": "cf7ddac2",
   "metadata": {},
   "outputs": [],
   "source": [
    "def coords_to_dict(coords):\n",
    "    return {\n",
    "        \"exch_ids\": [\"r_1714\", \"r_1654\"],\n",
    "        \"exch_points\": coords,\n",
    "    }"
   ]
  },
  {
   "cell_type": "code",
   "execution_count": null,
   "id": "28682230",
   "metadata": {
    "scrolled": true
   },
   "outputs": [],
   "source": [
    "coords_to_dict(big_ratio_coords_random)"
   ]
  },
  {
   "cell_type": "code",
   "execution_count": null,
   "id": "11f4f5b1",
   "metadata": {},
   "outputs": [],
   "source": [
    "big_ablation_result_list = usgfluxes_list(wt, coords_to_dict(big_ratio_coords_random))\n",
    "small_ablation_result_list = usgfluxes_list(wt, coords_to_dict(small_ratio_coords_random))"
   ]
  },
  {
   "cell_type": "code",
   "execution_count": null,
   "id": "a0469248",
   "metadata": {},
   "outputs": [],
   "source": [
    "all_ablation_result_list = np.concatenate((big_ablation_result_list, small_ablation_result_list))"
   ]
  },
  {
   "cell_type": "code",
   "execution_count": null,
   "id": "78439d21",
   "metadata": {},
   "outputs": [],
   "source": [
    "all_ablation_result_list.shape"
   ]
  },
  {
   "cell_type": "markdown",
   "id": "123c501e",
   "metadata": {},
   "source": [
    "Adjust data variable dimensions"
   ]
  },
  {
   "cell_type": "code",
   "execution_count": null,
   "id": "7fb5e302",
   "metadata": {},
   "outputs": [],
   "source": [
    "multicond_enz_use_array = np.concatenate(all_ablation_result_list)\n",
    "multicond_enz_use_array.shape"
   ]
  },
  {
   "cell_type": "code",
   "execution_count": null,
   "id": "ab9021cd",
   "metadata": {},
   "outputs": [],
   "source": [
    "#ablation_result_1d = ablation_result_array.ravel()\n",
    "#multicond_enz_use_array = np.concatenate(ablation_result_1d)\n",
    "#multicond_enz_use_array.shape"
   ]
  },
  {
   "cell_type": "markdown",
   "id": "032b2756",
   "metadata": {},
   "source": [
    "PCA"
   ]
  },
  {
   "cell_type": "code",
   "execution_count": null,
   "id": "7fc7b04f",
   "metadata": {},
   "outputs": [],
   "source": [
    "from sklearn.preprocessing import scale\n",
    "\n",
    "scaled_array = scale(multicond_enz_use_array)"
   ]
  },
  {
   "cell_type": "code",
   "execution_count": null,
   "id": "6f64d7be",
   "metadata": {},
   "outputs": [],
   "source": [
    "pca = PCA()\n",
    "Xt = pca.fit_transform(scaled_array)\n",
    "pca1 = Xt[:, 0]\n",
    "pca2 = Xt[:, 1]"
   ]
  },
  {
   "cell_type": "code",
   "execution_count": null,
   "id": "d6803c37",
   "metadata": {},
   "outputs": [],
   "source": [
    "print(np.cumsum(pca.explained_variance_ratio_))"
   ]
  },
  {
   "cell_type": "code",
   "execution_count": null,
   "id": "0bb0a911",
   "metadata": {},
   "outputs": [],
   "source": [
    "plt.plot(np.cumsum(pca.explained_variance_ratio_)[:20])"
   ]
  },
  {
   "cell_type": "code",
   "execution_count": null,
   "id": "e04c781b",
   "metadata": {},
   "outputs": [],
   "source": [
    "# Color dots by biomass components, using the default cycle.\n",
    "# Original = C0, lipid = C1, etc.\n",
    "num_components = 8\n",
    "color_dict = dict(zip(\n",
    "    list(range(num_components)),\n",
    "    ['C' + str(num) for num in range(num_components)]\n",
    "))\n",
    "color_list = [color_dict[el] for el in (np.arange(len(pca1)) % num_components)]\n",
    "\n",
    "fig, ax = plt.subplots(figsize=(6, 6))\n",
    "ax.scatter(pca1, pca2, color=color_list)\n",
    "ax.set_xlabel(\"PC1\")\n",
    "ax.set_ylabel(\"PC2\")"
   ]
  },
  {
   "cell_type": "code",
   "execution_count": null,
   "id": "e8c8e72b",
   "metadata": {
    "scrolled": false
   },
   "outputs": [],
   "source": [
    "# Plot each condition\n",
    "num_conds = int(len(pca1) / num_components)\n",
    "#color_list = [color_dict[el % 8] for el in range(len(pca1) // 2)]\n",
    "\n",
    "title_dict = {\n",
    "    0: \"ratio > 1\",\n",
    "    1: \"ratio < 1\",\n",
    "}\n",
    "\n",
    "fig, ax = plt.subplots(ncols=2, nrows=1, figsize=(10,5))\n",
    "for cond in range(2):\n",
    "    start_idx = cond * (len(pca1) // 2)\n",
    "    region_range = list(range(start_idx, start_idx+(len(pca1) //2 )))\n",
    "    # all\n",
    "    #to_plot = region_range\n",
    "    # original, protein, carbohydrate\n",
    "    # FIXME: lots of hard-cording, confusing, un-Pythonic\n",
    "    to_plot = [el for el in region_range if el % 8 in [0, 2, 3]]\n",
    "    color_list = [color_dict[el % 3] for el in range(len(to_plot))]\n",
    "    ax[cond].scatter(\n",
    "        pca1[to_plot],\n",
    "        pca2[to_plot],\n",
    "        color=color_list,\n",
    "        #marker='+',\n",
    "        s=30,\n",
    "        alpha=0.2,\n",
    "    )\n",
    "    ax[cond].set_xlim(np.min(pca1), np.max(pca1))\n",
    "    ax[cond].set_ylim(np.min(pca2), np.max(pca2))\n",
    "    ax[cond].tick_params(\n",
    "        axis='both', bottom=False, left=False, labelbottom=False, labelleft=False\n",
    "    )\n",
    "    ax[cond].set_xlabel(\"PC1\")\n",
    "    ax[cond].set_ylabel(\"PC2\")\n",
    "\n",
    "    ax[cond].set_title(f\"{title_dict[cond]}\")"
   ]
  },
  {
   "cell_type": "markdown",
   "id": "dd3cfe2e",
   "metadata": {},
   "source": [
    "Colour key\n",
    "\n",
    "If all 8:\n",
    "- original: blue\n",
    "- lipid: orange\n",
    "- protein: green\n",
    "- carbohydrate: red\n",
    "- DNA: purple\n",
    "- RNA: brown\n",
    "- cofactor: pink\n",
    "- ion: grey\n",
    "\n",
    "If just 3:\n",
    "- original: blue\n",
    "- protein: orange\n",
    "- carbohydrate: green"
   ]
  },
  {
   "cell_type": "markdown",
   "id": "dd4cc255",
   "metadata": {},
   "source": [
    "Feature importance"
   ]
  },
  {
   "cell_type": "markdown",
   "id": "a1278e85",
   "metadata": {},
   "source": [
    "See https://stackoverflow.com/questions/50796024/feature-variable-importance-after-a-pca-analysis"
   ]
  },
  {
   "cell_type": "code",
   "execution_count": null,
   "id": "d3a26e82",
   "metadata": {},
   "outputs": [],
   "source": [
    "imp = abs(pca.components_)\n",
    "imp0 = np.argsort(imp[0])[::-1]\n",
    "imp1 = np.argsort(imp[1])[::-1]\n",
    "list_enz_usg = wt.ablation_enzyme_fluxes['original'].index.to_numpy()"
   ]
  },
  {
   "cell_type": "code",
   "execution_count": null,
   "id": "03e959df",
   "metadata": {},
   "outputs": [],
   "source": [
    "list_enz_usg[imp0[:30]]"
   ]
  },
  {
   "cell_type": "code",
   "execution_count": null,
   "id": "29f83021",
   "metadata": {},
   "outputs": [],
   "source": [
    "list_enz_usg[imp1[:10]]"
   ]
  }
 ],
 "metadata": {
  "kernelspec": {
   "display_name": "fba",
   "language": "python",
   "name": "fba"
  },
  "language_info": {
   "codemirror_mode": {
    "name": "ipython",
    "version": 3
   },
   "file_extension": ".py",
   "mimetype": "text/x-python",
   "name": "python",
   "nbconvert_exporter": "python",
   "pygments_lexer": "ipython3",
   "version": "3.8.14"
  }
 },
 "nbformat": 4,
 "nbformat_minor": 5
}

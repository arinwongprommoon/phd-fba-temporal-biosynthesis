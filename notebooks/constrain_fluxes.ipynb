{
 "cells": [
  {
   "cell_type": "code",
   "execution_count": null,
   "id": "e5eb0665",
   "metadata": {},
   "outputs": [],
   "source": [
    "import os\n",
    "import sys\n",
    "module_path = os.path.abspath(os.path.join('..'))\n",
    "if module_path not in sys.path:\n",
    "    sys.path.append(module_path)\n",
    "    \n",
    "%reload_ext autoreload\n",
    "%autoreload 2\n",
    "%matplotlib inline"
   ]
  },
  {
   "cell_type": "markdown",
   "id": "7bdf4897",
   "metadata": {},
   "source": [
    "Import dependencies"
   ]
  },
  {
   "cell_type": "code",
   "execution_count": null,
   "id": "1ae365d7",
   "metadata": {},
   "outputs": [],
   "source": [
    "import matplotlib.pyplot as plt\n",
    "import numpy as np\n",
    "import pandas as pd\n",
    "import pickle\n",
    "import cobra\n",
    "\n",
    "from src.calc.ablation import get_ablation_ratio\n",
    "from src.gem.yeast8model import Yeast8Model"
   ]
  },
  {
   "cell_type": "markdown",
   "id": "0f912b14",
   "metadata": {},
   "source": [
    "# Construct models of cells of interest"
   ]
  },
  {
   "cell_type": "code",
   "execution_count": null,
   "id": "8f4c766c",
   "metadata": {},
   "outputs": [],
   "source": [
    "glc_exch_rate = 16.89\n",
    "wt_ec = Yeast8Model(\"../data/gemfiles/ecYeastGEM_batch_8-6-0.xml\")\n",
    "wt_ec.model.reactions.get_by_id(\"r_1714\").bounds = (-glc_exch_rate, 0)\n",
    "wt_ec.model.reactions.get_by_id(\"r_1714_REV\").bounds = (0, glc_exch_rate)"
   ]
  },
  {
   "cell_type": "code",
   "execution_count": null,
   "id": "a4903d89",
   "metadata": {},
   "outputs": [],
   "source": [
    "from src.data.biomasscomponent import biomass_component_list_orig\n",
    "\n",
    "glucose_bounds = (-4.75, 0) # gives a sensible growth rate for wt\n",
    "wt_y8 = Yeast8Model(\"../data/gemfiles/yeast-GEM_8-6-0.xml\", growth_id=\"r_2111\", biomass_id=\"r_4041\")\n",
    "wt_y8.biomass_component_list = biomass_component_list_orig\n",
    "wt_y8.model.reactions.r_1714.bounds = glucose_bounds\n",
    "wt_y8.add_media_components(['r_1992'])"
   ]
  },
  {
   "cell_type": "markdown",
   "id": "e1104974",
   "metadata": {},
   "source": [
    "# Effect of flux constraints"
   ]
  },
  {
   "cell_type": "markdown",
   "id": "9d887557",
   "metadata": {},
   "source": [
    "Convenience functions"
   ]
  },
  {
   "cell_type": "code",
   "execution_count": null,
   "id": "d59b5774",
   "metadata": {},
   "outputs": [],
   "source": [
    "def cf_vs_ablation(ymodel, fractions):\n",
    "    # get original flux sum\n",
    "    sol = ymodel.optimize()\n",
    "    orig_flux_sum = sol.fluxes.abs().sum()\n",
    "    \n",
    "    abl_res_list = []\n",
    "    for fraction in fractions:\n",
    "        # impose flux constraint\n",
    "        ub = fraction*orig_flux_sum\n",
    "        ymodel.set_flux_constraint(upper_bound=ub)\n",
    "        sol = ymodel.optimize()\n",
    "        # ablate & ratio\n",
    "        abl_res = ymodel.ablate()\n",
    "        # append list\n",
    "        abl_res_list.append(abl_res)\n",
    "        \n",
    "    return abl_res_list"
   ]
  },
  {
   "cell_type": "markdown",
   "id": "f2dd2f32",
   "metadata": {},
   "source": [
    "## Parameters"
   ]
  },
  {
   "cell_type": "code",
   "execution_count": null,
   "id": "c7b3790f",
   "metadata": {},
   "outputs": [],
   "source": [
    "# Step down, because 'phantom' values or copying issues (that I don't want to fix)\n",
    "fractions = np.linspace(1, 0, num=51)"
   ]
  },
  {
   "cell_type": "markdown",
   "id": "88a0f7ac",
   "metadata": {},
   "source": [
    "## Enzyme-constrained"
   ]
  },
  {
   "cell_type": "markdown",
   "id": "443b9432",
   "metadata": {},
   "source": [
    "Get sum of absolute values in 'vanilla' FBA.\n",
    "\n",
    "Then, sweep constraint value, see if it affects ablation.\n",
    "\n",
    "Note: re-initialise the model before (re-)running these."
   ]
  },
  {
   "cell_type": "code",
   "execution_count": null,
   "id": "94ea298b",
   "metadata": {
    "scrolled": true
   },
   "outputs": [],
   "source": [
    "# Generate results\n",
    "abl_list = cf_vs_ablation(wt_ec, fractions)"
   ]
  },
  {
   "cell_type": "code",
   "execution_count": null,
   "id": "7727dbee",
   "metadata": {},
   "outputs": [],
   "source": [
    "# Alternatively, load if saved\n",
    "with open('../data/interim/ec_cf_vs_ablation.pkl', 'rb') as handle:\n",
    "    abl_list = pickle.load(handle)"
   ]
  },
  {
   "cell_type": "code",
   "execution_count": null,
   "id": "b24bd0ce",
   "metadata": {},
   "outputs": [],
   "source": [
    "# Dump data\n",
    "with open('../data/interim/ec_cf_vs_ablation.pkl', 'wb') as handle:\n",
    "    pickle.dump(abl_list, handle, protocol=pickle.HIGHEST_PROTOCOL)"
   ]
  },
  {
   "cell_type": "markdown",
   "id": "44433685",
   "metadata": {},
   "source": [
    "## Non-ec"
   ]
  },
  {
   "cell_type": "code",
   "execution_count": null,
   "id": "96dfbea6",
   "metadata": {},
   "outputs": [],
   "source": [
    "# Generate results\n",
    "abl_list = cf_vs_ablation(wt_y8, fractions)"
   ]
  },
  {
   "cell_type": "code",
   "execution_count": null,
   "id": "95053bcc",
   "metadata": {},
   "outputs": [],
   "source": [
    "# Alternatively, load if saved\n",
    "with open('../data/interim/y8_cf_vs_ablation.pkl', 'rb') as handle:\n",
    "    abl_list = pickle.load(handle)"
   ]
  },
  {
   "cell_type": "code",
   "execution_count": null,
   "id": "2f132389",
   "metadata": {},
   "outputs": [],
   "source": [
    "# Dump data\n",
    "with open('../data/interim/y8_cf_vs_ablation.pkl', 'wb') as handle:\n",
    "    pickle.dump(abl_list, handle, protocol=pickle.HIGHEST_PROTOCOL)"
   ]
  },
  {
   "cell_type": "markdown",
   "id": "ac189005",
   "metadata": {},
   "source": [
    "# Plots"
   ]
  },
  {
   "cell_type": "code",
   "execution_count": null,
   "id": "c583ea49",
   "metadata": {},
   "outputs": [],
   "source": [
    "# Define lists for plotting\n",
    "gr_list = [abl_res.ablated_flux.iloc[0] for abl_res in abl_list]\n",
    "ratio_list = [get_ablation_ratio(abl_res) for abl_res in abl_list]\n",
    "abl_flux_list = [abl_res.ablated_flux.iloc[1:].to_list() for abl_res in abl_list]\n",
    "abl_flux_array = np.array(abl_flux_list)\n",
    "biomass_components_list = abl_list[0].priority_component.iloc[1:].to_list()"
   ]
  },
  {
   "cell_type": "code",
   "execution_count": null,
   "id": "d78b5a83",
   "metadata": {},
   "outputs": [],
   "source": [
    "fig, ax = plt.subplots()\n",
    "ax.plot(fractions, gr_list, 'o-')\n",
    "ax.set_xlabel('Fraction of original sum of absolute values of fluxes')\n",
    "ax.set_ylabel('Growth rate')\n",
    "ax.set_xlim((0,1))\n",
    "ax.set_ylim((0,0.5))"
   ]
  },
  {
   "cell_type": "code",
   "execution_count": null,
   "id": "b7f71001",
   "metadata": {},
   "outputs": [],
   "source": [
    "fig, ax = plt.subplots()\n",
    "ax.plot(fractions, abl_flux_array, 'o-')\n",
    "ax.set_xlabel('Fraction of original sum of absolute values of fluxes')\n",
    "ax.set_ylabel('Ablated flux')\n",
    "ax.set_xlim((0,1))\n",
    "ax.set_ylim((0,1.5))\n",
    "ax.legend(biomass_components_list)"
   ]
  },
  {
   "cell_type": "code",
   "execution_count": null,
   "id": "9058098b",
   "metadata": {},
   "outputs": [],
   "source": [
    "fig, ax = plt.subplots()\n",
    "ax.plot(fractions, ratio_list, 'o-')\n",
    "ax.set_xlabel('Fraction of original sum of absolute values of fluxes')\n",
    "ax.set_ylabel('Ratio')\n",
    "ax.set_xlim((0,1))\n",
    "ax.set_ylim((0,1.4))"
   ]
  }
 ],
 "metadata": {
  "kernelspec": {
   "display_name": "fba",
   "language": "python",
   "name": "fba"
  },
  "language_info": {
   "codemirror_mode": {
    "name": "ipython",
    "version": 3
   },
   "file_extension": ".py",
   "mimetype": "text/x-python",
   "name": "python",
   "nbconvert_exporter": "python",
   "pygments_lexer": "ipython3",
   "version": "3.8.14"
  }
 },
 "nbformat": 4,
 "nbformat_minor": 5
}

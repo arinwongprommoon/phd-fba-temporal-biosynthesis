{
 "cells": [
  {
   "cell_type": "code",
   "execution_count": null,
   "id": "af40d1ec",
   "metadata": {},
   "outputs": [],
   "source": [
    "import os\n",
    "import sys\n",
    "module_path = os.path.abspath(os.path.join('..'))\n",
    "if module_path not in sys.path:\n",
    "    sys.path.append(module_path)\n",
    "    \n",
    "%reload_ext autoreload\n",
    "%autoreload 2\n",
    "%matplotlib inline"
   ]
  },
  {
   "cell_type": "markdown",
   "id": "0e148649",
   "metadata": {},
   "source": [
    "Imports"
   ]
  },
  {
   "cell_type": "code",
   "execution_count": null,
   "id": "a45ca7f2",
   "metadata": {},
   "outputs": [],
   "source": [
    "import matplotlib.pyplot as plt\n",
    "import numpy as np\n",
    "import pandas as pd\n",
    "import cobra\n",
    "\n",
    "from src.gem.yeast8model import Yeast8Model\n",
    "from src.calc.ablation import get_ablation_ratio\n",
    "from src.viz.bar import ablation_barplot"
   ]
  },
  {
   "cell_type": "markdown",
   "id": "e3d110ed",
   "metadata": {},
   "source": [
    "Instantiate model object"
   ]
  },
  {
   "cell_type": "code",
   "execution_count": null,
   "id": "00145849",
   "metadata": {},
   "outputs": [],
   "source": [
    "glc_exch_rate = 16.89\n",
    "\n",
    "wt = Yeast8Model(\"../data/gemfiles/ecYeastGEM_batch_8-6-0.xml\")\n",
    "wt.model.reactions.get_by_id(\"r_1714\").bounds = (-glc_exch_rate, 0)\n",
    "wt.model.reactions.get_by_id(\"r_1714_REV\").bounds = (0, glc_exch_rate)\n",
    "wt.solution = wt.optimize()"
   ]
  },
  {
   "cell_type": "markdown",
   "id": "875756e3",
   "metadata": {},
   "source": [
    "Ablation"
   ]
  },
  {
   "cell_type": "code",
   "execution_count": null,
   "id": "ac443665",
   "metadata": {},
   "outputs": [],
   "source": [
    "ablation_result = wt.ablate()"
   ]
  },
  {
   "cell_type": "code",
   "execution_count": null,
   "id": "e4d6d8cd",
   "metadata": {},
   "outputs": [],
   "source": [
    "ablation_result"
   ]
  },
  {
   "cell_type": "markdown",
   "id": "bd3d3d40",
   "metadata": {},
   "source": [
    "Fluxes"
   ]
  },
  {
   "cell_type": "code",
   "execution_count": null,
   "id": "2491ad7a",
   "metadata": {},
   "outputs": [],
   "source": [
    "values_ablated = ablation_result.ablated_flux.to_list()\n",
    "\n",
    "barwidth = 0.4\n",
    "bar_labels = ablation_result.priority_component.to_list()\n",
    "#bar_labels[0] = \"all biomass\"\n",
    "\n",
    "x_ablated = np.arange(len(bar_labels))\n",
    "\n",
    "fig, ax = plt.subplots()\n",
    "ax.bar(\n",
    "    x=x_ablated,\n",
    "    height=values_ablated,\n",
    "    width=barwidth,\n",
    "    color=\"#3714b0\",\n",
    ")\n",
    "ax.set_xticks(\n",
    "    ticks=[x + barwidth / 2 for x in range(len(x_ablated))],\n",
    "    labels=bar_labels,\n",
    "    rotation=45,\n",
    ")\n",
    "ax.set_xlabel(\"Biomass component\")\n",
    "ax.set_ylabel(\"Growth rate (flux) [$h^{-1}$]\")"
   ]
  },
  {
   "cell_type": "markdown",
   "id": "c25ef590",
   "metadata": {},
   "source": [
    "Times"
   ]
  },
  {
   "cell_type": "code",
   "execution_count": null,
   "id": "c54564fc",
   "metadata": {},
   "outputs": [],
   "source": [
    "fig, ax = plt.subplots()\n",
    "ablation_barplot(ablation_result, ax)\n",
    "plt.show()"
   ]
  },
  {
   "cell_type": "markdown",
   "id": "05c0ca45",
   "metadata": {},
   "source": [
    "Ratio"
   ]
  },
  {
   "cell_type": "code",
   "execution_count": null,
   "id": "aa8f6b24",
   "metadata": {},
   "outputs": [],
   "source": [
    "ratio = get_ablation_ratio(ablation_result)\n",
    "print(ratio)"
   ]
  }
 ],
 "metadata": {
  "kernelspec": {
   "display_name": "fba",
   "language": "python",
   "name": "fba"
  },
  "language_info": {
   "codemirror_mode": {
    "name": "ipython",
    "version": 3
   },
   "file_extension": ".py",
   "mimetype": "text/x-python",
   "name": "python",
   "nbconvert_exporter": "python",
   "pygments_lexer": "ipython3",
   "version": "3.8.14"
  }
 },
 "nbformat": 4,
 "nbformat_minor": 5
}

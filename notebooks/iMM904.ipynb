{
 "cells": [
  {
   "cell_type": "markdown",
   "id": "e0e04d9b",
   "metadata": {},
   "source": [
    "Import dependencies"
   ]
  },
  {
   "cell_type": "code",
   "execution_count": null,
   "id": "fefa4eea",
   "metadata": {},
   "outputs": [],
   "source": [
    "%reload_ext autoreload\n",
    "%autoreload 1\n",
    "%matplotlib inline\n",
    "\n",
    "import matplotlib.pyplot as plt\n",
    "import numpy as np\n",
    "import pandas as pd\n",
    "import cobra\n",
    "import escher"
   ]
  },
  {
   "cell_type": "markdown",
   "id": "780905e2",
   "metadata": {},
   "source": [
    "# Load model"
   ]
  },
  {
   "cell_type": "code",
   "execution_count": null,
   "id": "f1887f8a",
   "metadata": {},
   "outputs": [],
   "source": [
    "model = cobra.io.load_json_model(\"./models/iMM904.json\")"
   ]
  },
  {
   "cell_type": "markdown",
   "id": "bf1c89f5",
   "metadata": {},
   "source": [
    "# Utilities"
   ]
  },
  {
   "cell_type": "code",
   "execution_count": null,
   "id": "432892d6",
   "metadata": {},
   "outputs": [],
   "source": [
    "def print_formulas(reaction):\n",
    "    \"\"\"Print formulas of reactants and products of a reaction.\"\"\"\n",
    "    print('reactants')\n",
    "    for reactant in reaction.reactants:\n",
    "        print(f'{reactant.id} ({reactant.name}): F {reactant.formula}')\n",
    "    print('products')\n",
    "    for product in reaction.products:\n",
    "        print(f'{product.id} ({product.name}): F {product.formula}')\n",
    "\n",
    "def print_formula_weights(reaction):\n",
    "    \"\"\"Print formula weights of reactants and products of a reaction.\"\"\"\n",
    "    print('reactants')\n",
    "    for reactant in reaction.reactants:\n",
    "        print(f'{reactant.id} ({reactant.name}): MW {reactant.formula_weight}')\n",
    "    print('products')\n",
    "    for product in reaction.products:\n",
    "        print(f'{product.id} ({product.name}): MW {product.formula_weight}')\n",
    "        \n",
    "def print_stoichiometry(reaction):\n",
    "    \"\"\"Pretty-print stoichiometry of reaction.\"\"\"\n",
    "    for metabolite, coeff in reaction.metabolites.items():\n",
    "        print(f'{coeff}, {metabolite.name}')"
   ]
  },
  {
   "cell_type": "markdown",
   "id": "78b3cd2e",
   "metadata": {},
   "source": [
    "# Objective function"
   ]
  },
  {
   "cell_type": "markdown",
   "id": "6ba0f8e3",
   "metadata": {},
   "source": [
    "Get objective function (biomass/growth)"
   ]
  },
  {
   "cell_type": "code",
   "execution_count": null,
   "id": "ed34643b",
   "metadata": {},
   "outputs": [],
   "source": [
    "biomass = model.reactions.BIOMASS_SC5_notrace\n",
    "biomass"
   ]
  },
  {
   "cell_type": "code",
   "execution_count": null,
   "id": "fd49c024",
   "metadata": {},
   "outputs": [],
   "source": [
    "print_stoichiometry(biomass)"
   ]
  },
  {
   "cell_type": "markdown",
   "id": "c942df97",
   "metadata": {},
   "source": [
    "> These stoichiometric constants were determined by the relative compositions (i.e. mass fractions) of these compounds in exponentially growing yeast, as determined from experiments (Mo et al., 2009).\n",
    ">\n",
    "> If the protocol described in Thiele & Palsson (2010) is followed, particularly figure 11, then the stoichiometric constants are expressed in terms of mmol substrate per g<sub>DW</sub>.  For example, there is 0.4588 mmol alanine in 1 gram (dry weight) of cell."
   ]
  },
  {
   "cell_type": "markdown",
   "id": "fcc1c13e",
   "metadata": {},
   "source": [
    "Medium"
   ]
  },
  {
   "cell_type": "code",
   "execution_count": null,
   "id": "29eaba75",
   "metadata": {},
   "outputs": [],
   "source": [
    "model.medium"
   ]
  },
  {
   "cell_type": "markdown",
   "id": "2acb73d6",
   "metadata": {},
   "source": [
    "Unrestrict bounds"
   ]
  },
  {
   "cell_type": "code",
   "execution_count": null,
   "id": "cdcd1364",
   "metadata": {},
   "outputs": [],
   "source": [
    "model.reactions.get_by_id('EX_glc__D_e').bounds = (-10, 0)\n",
    "model.reactions.get_by_id('EX_o2_e').bounds = (-999999.0, 0)"
   ]
  },
  {
   "cell_type": "markdown",
   "id": "d0a00401",
   "metadata": {},
   "source": [
    "> Problem: If I set the bounds of glucose exchange to be (-99999, 0), the objective function reaches a huge value, so I left it at the default value."
   ]
  },
  {
   "cell_type": "markdown",
   "id": "8dc0fba1",
   "metadata": {},
   "source": [
    "Linear reaction coefficients"
   ]
  },
  {
   "cell_type": "code",
   "execution_count": null,
   "id": "2c36ab9f",
   "metadata": {},
   "outputs": [],
   "source": [
    "cobra.util.solver.linear_reaction_coefficients(model)"
   ]
  },
  {
   "cell_type": "markdown",
   "id": "c920823e",
   "metadata": {},
   "source": [
    "> The objective function is the biomass reaction and the biomass reaction only, not a linear combination of anything."
   ]
  },
  {
   "cell_type": "markdown",
   "id": "a1cf8271",
   "metadata": {},
   "source": [
    "Optimise using (vanilla) FBA"
   ]
  },
  {
   "cell_type": "code",
   "execution_count": null,
   "id": "10b64bee",
   "metadata": {},
   "outputs": [],
   "source": [
    "solution = model.optimize()"
   ]
  },
  {
   "cell_type": "code",
   "execution_count": null,
   "id": "025a2af4",
   "metadata": {},
   "outputs": [],
   "source": [
    "model.summary()"
   ]
  },
  {
   "cell_type": "code",
   "execution_count": null,
   "id": "058d02dd",
   "metadata": {},
   "outputs": [],
   "source": [
    "solution"
   ]
  },
  {
   "cell_type": "markdown",
   "id": "98bc8680",
   "metadata": {},
   "source": [
    "# Non-growth ATP maintenance"
   ]
  },
  {
   "cell_type": "code",
   "execution_count": null,
   "id": "43449e3c",
   "metadata": {},
   "outputs": [],
   "source": [
    "model.reactions.get_by_id('ATPM')"
   ]
  },
  {
   "cell_type": "markdown",
   "id": "348dfea8",
   "metadata": {},
   "source": [
    "# Fluxes"
   ]
  },
  {
   "cell_type": "markdown",
   "id": "129fcb32",
   "metadata": {},
   "source": [
    "Import list of metabolites represented in biomass reaction.  `biomass_type` is manually labelled."
   ]
  },
  {
   "cell_type": "code",
   "execution_count": null,
   "id": "0718fc3d",
   "metadata": {},
   "outputs": [],
   "source": [
    "biomass_metabolites_df = pd.read_csv('iMM904-biomass-categories.csv', delimiter=',')"
   ]
  },
  {
   "cell_type": "code",
   "execution_count": null,
   "id": "1299c09d",
   "metadata": {},
   "outputs": [],
   "source": [
    "biomass_metabolites_df"
   ]
  },
  {
   "cell_type": "markdown",
   "id": "3eb6f2d2",
   "metadata": {},
   "source": [
    "Get fluxes of each metabolite in the (optimised) biomass reaction, append to the dataframe."
   ]
  },
  {
   "cell_type": "code",
   "execution_count": null,
   "id": "ee890ea0",
   "metadata": {},
   "outputs": [],
   "source": [
    "model.metabolites.get_by_id('13BDglcn_c').summary()"
   ]
  },
  {
   "cell_type": "markdown",
   "id": "fdcf6cfe",
   "metadata": {},
   "source": [
    "> Each metabolite has at least one producing reaction and at least one consuming reaction.  Among the consuming reactions, one of them is the biomass reaction `BIOMASS_SC5_notrace` because I'm specifically looking at metabolites that are represented in this biomass reaction.\n",
    ">\n",
    "> Because FBA assumes steady-state, the sum of producing reaction fluxes must be equal to the sum of consuming reaction fluxes.  In other words, if the metabolite is $s_i$, $\\frac{ds_i}{dt} = \\sum (\\mathrm{flux}_{\\mathrm{producing}}) = -\\sum (\\mathrm{flux}_{\\mathrm{consuming}}) = 0$.  Therefore, using $\\frac{ds_i}{dt}$ for time approximations does not make sense as it will be zero for all metabolites.\n",
    ">\n",
    "> In the time approximation, I estimate how much time it takes to produce each metabolite to the amount that is sufficient to produce a new cell.  Some metabolites have more than one consuming reaction, so it means that some of the metabolite is used to produce something that is not biomass.  Because of these metabolites, using the magnitude of the sum of all producting reactions' fluxes (which is equal to the magnitude of the sum of all consuming reactions' fluxes) for my calculations does not make sense.  Therefore, I use the flux of the biomass reaction for each metabolite.\n",
    ">\n",
    "> The flux of the biomass reaction for each metabolite is computed by taking the overall flux of the biomass reaction and multiply it by the stoichiometric coefficient of said metabolite in the biomass reaction, i.e. $\\mathrm{flux}_{\\mathrm{biomass},s_i} = \\mathrm{flux}_{\\mathrm{biomass}} \\cdot \\mathrm{coeff}_{s_i}$"
   ]
  },
  {
   "cell_type": "markdown",
   "id": "15100d44",
   "metadata": {},
   "source": [
    "> **PROBLEM: How do I account for the fact that for some metabolites, not all of it is used for biomass?**"
   ]
  },
  {
   "cell_type": "code",
   "execution_count": null,
   "id": "b590a162",
   "metadata": {},
   "outputs": [],
   "source": [
    "biomass_metabolites_df['flux'] = [np.nan] * len(biomass_metabolites_df)"
   ]
  },
  {
   "cell_type": "code",
   "execution_count": null,
   "id": "6ea3cff8",
   "metadata": {},
   "outputs": [],
   "source": [
    "# flux from biomass reaction -- USE THIS ONE\n",
    "for df_idx, metabolite_id in enumerate(biomass_metabolites_df.id):\n",
    "    metabolite = model.metabolites.get_by_id(metabolite_id)\n",
    "    # Inspect reactants, ignore products, based on stoichiometric constants\n",
    "    if biomass.metabolites[metabolite] < 0:\n",
    "        flux_in_biomass = metabolite.summary().consuming_flux.loc['BIOMASS_SC5_notrace'].flux\n",
    "        biomass_metabolites_df['flux'].iloc[df_idx] = flux_in_biomass"
   ]
  },
  {
   "cell_type": "code",
   "execution_count": null,
   "id": "831fcffc",
   "metadata": {},
   "outputs": [],
   "source": [
    "# sum of producing reaction fluxes\n",
    "for df_idx, metabolite_id in enumerate(biomass_metabolites_df.id):\n",
    "    metabolite = model.metabolites.get_by_id(metabolite_id)\n",
    "    # Inspect reactants, ignore products, based on stoichiometric constants\n",
    "    if biomass.metabolites[metabolite] < 0:\n",
    "        flux_producing = sum(metabolite.summary().producing_flux.flux)\n",
    "        #print(f'{metabolite.name}: {-1/flux_in_biomass}')\n",
    "        biomass_metabolites_df['flux'].iloc[df_idx] = flux_producing"
   ]
  },
  {
   "cell_type": "code",
   "execution_count": null,
   "id": "ca4f5b7b",
   "metadata": {},
   "outputs": [],
   "source": [
    "biomass_metabolites_df"
   ]
  },
  {
   "cell_type": "markdown",
   "id": "f7d4c054",
   "metadata": {},
   "source": [
    "# Timescale"
   ]
  },
  {
   "cell_type": "markdown",
   "id": "06048385",
   "metadata": {},
   "source": [
    "## From objective function"
   ]
  },
  {
   "cell_type": "markdown",
   "id": "788cde82",
   "metadata": {},
   "source": [
    "The objective function is expressed in units of h<sup>-1</sup>.\n",
    "\n",
    "The biomass reaction of FBA models are commonly scaled so that the flux through it is equal to the exponential growth rate (Orth et al., 2010).  This scaling is performed through adjusting the stoichiometric coefficients in the biomass reaction (to be discussed again later)."
   ]
  },
  {
   "cell_type": "code",
   "execution_count": null,
   "id": "3f7316dd",
   "metadata": {},
   "outputs": [],
   "source": [
    "solution.objective_value"
   ]
  },
  {
   "cell_type": "markdown",
   "id": "2f2e6057",
   "metadata": {},
   "source": [
    "Converting this into estimated time:"
   ]
  },
  {
   "cell_type": "code",
   "execution_count": null,
   "id": "0d6b203a",
   "metadata": {},
   "outputs": [],
   "source": [
    "CELL_DRY_MASS = 15e-12\n",
    "\n",
    "#time = CELL_DRY_MASS/solution.objective_value\n",
    "time = 1/solution.objective_value"
   ]
  },
  {
   "cell_type": "code",
   "execution_count": null,
   "id": "54931b1f",
   "metadata": {},
   "outputs": [],
   "source": [
    "time"
   ]
  },
  {
   "cell_type": "markdown",
   "id": "e6db96bb",
   "metadata": {},
   "source": [
    "## From fluxes"
   ]
  },
  {
   "cell_type": "markdown",
   "id": "14847ae1",
   "metadata": {},
   "source": [
    "Compute sum of reactant coefficients.\n",
    "\n",
    "This is needed to calculate the mole fraction of each metabolite.  This calculation is based on the assumption that the relative values of the reactant coefficients reflect the mole fraction of each metabolite, as documented by Mo et al. (2009)."
   ]
  },
  {
   "cell_type": "code",
   "execution_count": null,
   "id": "4f370462",
   "metadata": {},
   "outputs": [],
   "source": [
    "sum_reactant_coeffs = -sum([coeff for (_, coeff) in biomass.metabolites.items() if coeff < 0])\n",
    "sum_reactant_coeffs"
   ]
  },
  {
   "cell_type": "markdown",
   "id": "4f5c201c",
   "metadata": {},
   "source": [
    "Remove the coeffs from NGAM as these ones were considered separately when constructing the biomass reaction of the model.\n",
    "\n",
    "NGAM simulates energy demands that are not associated with growth, and the stoichiometric constants for ATP, ADP, H<sub>2</sub>O, and H<sup>+</sup> do not reflect the biomass components of the cell.  In addition, H<sub>2</sub>O must be excluded because we consider dry weight.  In an FBA model, the biomass reaction includes components that form a new cell (e.g. building blocks like lipids and amino acids) and components that are needed for the building machinery (e.g. ATP)."
   ]
  },
  {
   "cell_type": "code",
   "execution_count": null,
   "id": "97339537",
   "metadata": {},
   "outputs": [],
   "source": [
    "sum_reactant_coeffs -= -biomass.metabolites[model.metabolites.get_by_id('atp_c')]\n",
    "sum_reactant_coeffs -= -biomass.metabolites[model.metabolites.get_by_id('h2o_c')]\n",
    "sum_reactant_coeffs"
   ]
  },
  {
   "cell_type": "markdown",
   "id": "6e5be707",
   "metadata": {},
   "source": [
    "> The sum of reactant coefficients, apart from NGAM (ATP + H<sub>2</sub>O --> ADP + H<sup>+</sup> + P<sub>i</sub>) should be 6.40.\n",
    ">\n",
    "> The biomass reaction is scaled so that the flux through it is equal to the exponential growth rate ($\\mu$) of the model organism.  The sum of these coefficients is not 1.  Recalling the stoichiometric coefficients at the beginning of the notebook: if the growth rate, i.e. the flux of the biomass reaction, is X h<sup>-1</sup>, then the consuming flux of alanine is (0.4588 mmol Alanine g<sub>DW</sub><sup>-1</sup>)(X h<sup>-1</sup>) = 0.4588 $\\cdot$ X mmol g<sub>DW</sub><sup>-1</sup> h<sup>-1</sup>, with units consistent with the rest of the FBA model.\n",
    ">\n",
    "> Furthermore, the stoichiometric coefficients for the NGAM components were derived from polymerisation cost per gram dry weight and the biomass yield (Förster et al., 2003)."
   ]
  },
  {
   "cell_type": "markdown",
   "id": "8fa53810",
   "metadata": {},
   "source": [
    "Construct new columns in `biomass_metabolites_df`."
   ]
  },
  {
   "cell_type": "code",
   "execution_count": null,
   "id": "c15fc5d4",
   "metadata": {},
   "outputs": [],
   "source": [
    "biomass_metabolites_df['stoich'] = [np.nan] * len(biomass_metabolites_df)\n",
    "biomass_metabolites_df['mole_fraction'] = [np.nan] * len(biomass_metabolites_df)\n",
    "biomass_metabolites_df['formula_weight'] = [np.nan] * len(biomass_metabolites_df)\n",
    "\n",
    "for df_idx, metabolite_id in enumerate(biomass_metabolites_df.id):\n",
    "    metabolite = model.metabolites.get_by_id(metabolite_id)\n",
    "    biomass_metabolites_df['stoich'].iloc[df_idx] = biomass.metabolites[metabolite]\n",
    "    # Inspect reactants, ignore products, based on stoichiometric constants\n",
    "    if biomass.metabolites[metabolite] < 0:\n",
    "        if metabolite_id in ['atp_c', 'h2o_c']:\n",
    "            biomass_metabolites_df['mole_fraction'].iloc[df_idx] = np.nan\n",
    "        else:\n",
    "            biomass_metabolites_df['mole_fraction'].iloc[df_idx] = -biomass.metabolites[metabolite]/sum_reactant_coeffs\n",
    "        biomass_metabolites_df['formula_weight'].iloc[df_idx] = metabolite.formula_weight"
   ]
  },
  {
   "cell_type": "markdown",
   "id": "bce784b4",
   "metadata": {},
   "source": [
    "Compute mass fractions"
   ]
  },
  {
   "cell_type": "code",
   "execution_count": null,
   "id": "3919a3a2",
   "metadata": {},
   "outputs": [],
   "source": [
    "m = biomass_metabolites_df['mole_fraction'] * biomass_metabolites_df['formula_weight']\n",
    "m /= m.sum()\n",
    "biomass_metabolites_df['mass_fraction'] = m"
   ]
  },
  {
   "cell_type": "code",
   "execution_count": null,
   "id": "1024bb08",
   "metadata": {},
   "outputs": [],
   "source": [
    "# Sanity check\n",
    "p = pd.pivot_table(\n",
    "    biomass_metabolites_df,\n",
    "    values='mass_fraction',\n",
    "    index='biomass_type',\n",
    "    aggfunc=sum,\n",
    ")\n",
    "p.sort_values(by='mass_fraction', ascending=False)"
   ]
  },
  {
   "cell_type": "markdown",
   "id": "ce7ea63b",
   "metadata": {},
   "source": [
    "Estimate time.\n",
    "\n",
    "Logic:\n",
    "- Take (1-3)β-D-glucan as an example.\n",
    "- The mass fraction is 0.19, i.e. 19% of cell mass is (1-3)β-D-glucan.  This is (0.19)(15e-12 g).\n",
    "- Given that the molecular weight of (1-3)β-D-glucan is 162.14 g/mol, this translates to (0.19)(15e-12)/(162.14) mol.\n",
    "- If the flux is 6.0 mmol gDW-1 h-1, 1 gDW of cell makes 6.0 mmol (1-3)β-D-glucan in an hour.\n",
    "- i.e. 1 cell makes (6.0)(15e-12) mmol = (6.0)(15e-12)(1e-3) mol (1-3)β-D-glucan in an hour.\n",
    "- i.e. 1 cell makes the required (1-3)β-D-glucan in $\\frac{(0.19)(15 \\times 10^{-12})}{162.14} \\times \\frac{1}{(6.0)(15 \\times 10^{-12})} \\mathrm{hours} = \\frac{1000 \\times 0.19}{(162.14)(6.0)(1 \\times 10^{-3})} \\mathrm{hours}$.\n",
    "- In general terms: $\\frac{1000 \\cdot \\mathrm{mol fraction}}{\\mathrm{MW} \\times \\mathrm{flux}}$"
   ]
  },
  {
   "cell_type": "code",
   "execution_count": null,
   "id": "55898174",
   "metadata": {},
   "outputs": [],
   "source": [
    "biomass_metabolites_df['time'] = -1000 * biomass_metabolites_df['mole_fraction'] / (biomass_metabolites_df['formula_weight'] * biomass_metabolites_df['flux'])"
   ]
  },
  {
   "cell_type": "code",
   "execution_count": null,
   "id": "103dac2f",
   "metadata": {},
   "outputs": [],
   "source": [
    "biomass_metabolites_df"
   ]
  },
  {
   "cell_type": "code",
   "execution_count": null,
   "id": "4f654f68",
   "metadata": {},
   "outputs": [],
   "source": [
    "biomass_metabolites_df['time'].sum()"
   ]
  },
  {
   "cell_type": "markdown",
   "id": "bfa62968",
   "metadata": {},
   "source": [
    "# Demand reactions"
   ]
  },
  {
   "cell_type": "markdown",
   "id": "59d72448",
   "metadata": {},
   "source": [
    "Orth et al. (2010) describe a method to calculate the maximum yield of each biosynthetic precursor.\n",
    "\n",
    "For each precursor, add a demand reaction: a reaction that consumes the precursor and doesn't produce anything.  Then, optimise the model, using the demand reaction as the objective function."
   ]
  },
  {
   "cell_type": "markdown",
   "id": "9a1ac211",
   "metadata": {},
   "source": [
    "## Example: trehalose"
   ]
  },
  {
   "cell_type": "markdown",
   "id": "a8057f06",
   "metadata": {},
   "source": [
    "As an example, I'm going to start with trehalose (`tre_c`)."
   ]
  },
  {
   "cell_type": "markdown",
   "id": "4cec1491",
   "metadata": {},
   "source": [
    "Create demand reaction and add to model."
   ]
  },
  {
   "cell_type": "code",
   "execution_count": null,
   "id": "51912108",
   "metadata": {},
   "outputs": [],
   "source": [
    "model.add_boundary(model.metabolites.get_by_id('tre_c'), type='demand')"
   ]
  },
  {
   "cell_type": "markdown",
   "id": "68a0bdb6",
   "metadata": {},
   "source": [
    "Set objective of model to this demand reaction, and optimise."
   ]
  },
  {
   "cell_type": "code",
   "execution_count": null,
   "id": "b45a92a5",
   "metadata": {},
   "outputs": [],
   "source": [
    "model.objective = 'DM_tre_c'\n",
    "solution = model.optimize()\n",
    "model.summary()"
   ]
  },
  {
   "cell_type": "markdown",
   "id": "cc88005d",
   "metadata": {},
   "source": [
    "Estimate time"
   ]
  },
  {
   "cell_type": "code",
   "execution_count": null,
   "id": "dd9089b9",
   "metadata": {},
   "outputs": [],
   "source": [
    "1/solution.objective_value"
   ]
  },
  {
   "cell_type": "markdown",
   "id": "36738cb5",
   "metadata": {},
   "source": [
    "## Repeat for all metabolites"
   ]
  },
  {
   "cell_type": "markdown",
   "id": "8d80811d",
   "metadata": {},
   "source": [
    "Reload model, create demand reactions, set exchange reaction bounds (aerobic with glucose limitation)."
   ]
  },
  {
   "cell_type": "code",
   "execution_count": null,
   "id": "01bd087e",
   "metadata": {},
   "outputs": [],
   "source": [
    "model = cobra.io.load_json_model(\"./models/iMM904.json\")\n",
    "\n",
    "for metabolite_id in biomass_metabolites_df.id:\n",
    "    model.add_boundary(model.metabolites.get_by_id(metabolite_id), type='demand')\n",
    "    \n",
    "model.reactions.get_by_id('EX_glc__D_e').bounds = (-10, 0)\n",
    "model.reactions.get_by_id('EX_o2_e').bounds = (-999999.0, 0)"
   ]
  },
  {
   "cell_type": "markdown",
   "id": "ebe9097c",
   "metadata": {},
   "source": [
    "Iterate through list of reactions, optimise, and then store solutions in dataframe"
   ]
  },
  {
   "cell_type": "code",
   "execution_count": null,
   "id": "1229b0be",
   "metadata": {},
   "outputs": [],
   "source": [
    "biomass_metabolites_df['demand_flux'] = [np.nan] * len(biomass_metabolites_df)\n",
    "\n",
    "for df_idx, metabolite_id in enumerate(biomass_metabolites_df.id):\n",
    "    demand_reaction_id = 'DM_' + metabolite_id\n",
    "    model.objective = demand_reaction_id\n",
    "    solution = model.optimize()\n",
    "    biomass_metabolites_df['demand_flux'].iloc[df_idx] = solution.objective_value"
   ]
  },
  {
   "cell_type": "code",
   "execution_count": null,
   "id": "7d7ab415",
   "metadata": {},
   "outputs": [],
   "source": [
    "biomass_metabolites_df['demand_time'] = 1000 * biomass_metabolites_df['mole_fraction'] / (biomass_metabolites_df['formula_weight'] * biomass_metabolites_df['demand_flux'])"
   ]
  },
  {
   "cell_type": "code",
   "execution_count": null,
   "id": "b6522db2",
   "metadata": {},
   "outputs": [],
   "source": [
    "biomass_metabolites_df"
   ]
  },
  {
   "cell_type": "code",
   "execution_count": null,
   "id": "4f36df9b",
   "metadata": {},
   "outputs": [],
   "source": [
    "biomass_metabolites_df['demand_time'].sum()"
   ]
  },
  {
   "cell_type": "code",
   "execution_count": null,
   "id": "5eabaac9",
   "metadata": {},
   "outputs": [],
   "source": [
    "# alternatives\n",
    "# - resource balance analysis"
   ]
  }
 ],
 "metadata": {
  "kernelspec": {
   "display_name": "fba",
   "language": "python",
   "name": "fba"
  },
  "language_info": {
   "codemirror_mode": {
    "name": "ipython",
    "version": 3
   },
   "file_extension": ".py",
   "mimetype": "text/x-python",
   "name": "python",
   "nbconvert_exporter": "python",
   "pygments_lexer": "ipython3",
   "version": "3.7.9"
  }
 },
 "nbformat": 4,
 "nbformat_minor": 5
}

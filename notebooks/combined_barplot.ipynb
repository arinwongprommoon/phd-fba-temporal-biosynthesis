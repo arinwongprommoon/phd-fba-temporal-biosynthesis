{
 "cells": [
  {
   "cell_type": "code",
   "execution_count": null,
   "id": "223f81f5",
   "metadata": {},
   "outputs": [],
   "source": [
    "import os\n",
    "import sys\n",
    "module_path = os.path.abspath(os.path.join('..'))\n",
    "if module_path not in sys.path:\n",
    "    sys.path.append(module_path)\n",
    "    \n",
    "%reload_ext autoreload\n",
    "%autoreload 2\n",
    "%matplotlib inline"
   ]
  },
  {
   "cell_type": "markdown",
   "id": "f85a207a",
   "metadata": {},
   "source": [
    "Import dependencies"
   ]
  },
  {
   "cell_type": "code",
   "execution_count": null,
   "id": "c6c1cd9c",
   "metadata": {},
   "outputs": [],
   "source": [
    "import matplotlib.pyplot as plt\n",
    "import numpy as np\n",
    "import pandas as pd\n",
    "import cobra\n",
    "\n",
    "from src.gem.yeast8model import Yeast8Model\n",
    "from src.calc.ablation import get_ablation_ratio\n",
    "from src.calc.flux import compare_fluxes\n",
    "from src.calc.growth import get_exch_saturation\n",
    "from src.viz.bar import ablation_barplot, compare_ablation_times"
   ]
  },
  {
   "cell_type": "markdown",
   "id": "299beb67",
   "metadata": {},
   "source": [
    "Construct models of strains"
   ]
  },
  {
   "cell_type": "code",
   "execution_count": null,
   "id": "4f16b61f",
   "metadata": {},
   "outputs": [],
   "source": [
    "glc_exch_rate = 16.89\n",
    "\n",
    "ymodels = {\n",
    "    \"wt\": None,\n",
    "    \"BY4741\": None,\n",
    "    \"zwf1\": None,\n",
    "    \"tsa2\": None,\n",
    "}\n",
    "\n",
    "ymodels[\"wt\"] = Yeast8Model(\"../data/gemfiles/ecYeastGEM_batch_8-6-0.xml\")\n",
    "ymodels[\"wt\"].model.reactions.get_by_id(\"r_1714\").bounds = (-glc_exch_rate, 0)\n",
    "ymodels[\"wt\"].model.reactions.get_by_id(\"r_1714_REV\").bounds = (0, glc_exch_rate)\n",
    "ymodels[\"wt\"].solution = ymodels[\"wt\"].optimize()\n",
    "\n",
    "ymodels[\"BY4741\"] = Yeast8Model(\"../data/gemfiles/ecYeastGEM_batch_8-6-0.xml\")\n",
    "ymodels[\"BY4741\"].make_auxotroph(\"BY4741\")\n",
    "ymodels[\"BY4741\"].model.reactions.get_by_id(\"r_1714\").bounds = (-glc_exch_rate, 0)\n",
    "ymodels[\"BY4741\"].model.reactions.get_by_id(\"r_1714_REV\").bounds = (0, glc_exch_rate)\n",
    "ymodels[\"BY4741\"].solution = ymodels[\"BY4741\"].optimize()\n",
    "\n",
    "ymodels[\"zwf1\"] = Yeast8Model(\"../data/gemfiles/ecYeastGEM_batch_8-6-0.xml\")\n",
    "ymodels[\"zwf1\"].make_auxotroph(\"BY4741\")\n",
    "ymodels[\"zwf1\"].knock_out_list([\"YNL241C\"])\n",
    "ymodels[\"zwf1\"].model.reactions.get_by_id(\"r_1714\").bounds = (-glc_exch_rate, 0)\n",
    "ymodels[\"zwf1\"].model.reactions.get_by_id(\"r_1714_REV\").bounds = (0, glc_exch_rate)\n",
    "ymodels[\"zwf1\"].solution = ymodels[\"zwf1\"].optimize()\n",
    "\n",
    "ymodels[\"tsa2\"] = Yeast8Model(\"../data/gemfiles/ecYeastGEM_batch_8-6-0.xml\")\n",
    "ymodels[\"tsa2\"].make_auxotroph(\"BY4742\")\n",
    "ymodels[\"tsa2\"].knock_out_list([\"YDR453C\"])\n",
    "ymodels[\"tsa2\"].model.reactions.get_by_id(\"r_1714\").bounds = (-glc_exch_rate, 0)\n",
    "ymodels[\"tsa2\"].model.reactions.get_by_id(\"r_1714_REV\").bounds = (0, glc_exch_rate)\n",
    "ymodels[\"tsa2\"].solution = ymodels[\"tsa2\"].optimize()"
   ]
  },
  {
   "cell_type": "markdown",
   "id": "ff57aa09",
   "metadata": {},
   "source": [
    "Ablate and save"
   ]
  },
  {
   "cell_type": "code",
   "execution_count": null,
   "id": "4cd76e3d",
   "metadata": {},
   "outputs": [],
   "source": [
    "ablation_results = {\n",
    "    \"wt\": None,\n",
    "    \"BY4741\": None,\n",
    "    \"zwf1\": None,\n",
    "    \"tsa2\": None,\n",
    "}\n",
    "\n",
    "for model_key, _ in ablation_results.items():\n",
    "    ymodels[model_key].ablation_result = ymodels[model_key].ablate()\n",
    "    ablation_results[model_key] = ymodels[model_key].ablation_result"
   ]
  },
  {
   "cell_type": "markdown",
   "id": "08da7c24",
   "metadata": {},
   "source": [
    "Work"
   ]
  },
  {
   "cell_type": "code",
   "execution_count": null,
   "id": "e4dbb51f",
   "metadata": {},
   "outputs": [],
   "source": [
    "component_list = ablation_results[\"wt\"].priority_component.to_list()[1:]\n",
    "ymodel_keys = ablation_results.keys()"
   ]
  },
  {
   "cell_type": "code",
   "execution_count": null,
   "id": "a3b4b4c9",
   "metadata": {},
   "outputs": [],
   "source": [
    "# Construct data structures for bar plots\n",
    "# Hard-coding positions because honestly, it is easier.\n",
    "est_times_dict = {}\n",
    "Tpar_dict = {}\n",
    "for key in ymodel_keys:\n",
    "    est_times_dict[key] = ablation_results[key].iloc[1:,2].to_list()\n",
    "    Tpar_dict[key] = [ablation_results[key].iloc[2,3]]\n",
    "\n",
    "est_times_df = pd.DataFrame(est_times_dict)\n",
    "est_times_df.index = component_list\n",
    "Tpar_df = pd.DataFrame(Tpar_dict)\n",
    "Tpar_df.index = [\"Tpar\"]"
   ]
  },
  {
   "cell_type": "code",
   "execution_count": null,
   "id": "a3ee50f5",
   "metadata": {},
   "outputs": [],
   "source": [
    "est_times_df"
   ]
  },
  {
   "cell_type": "code",
   "execution_count": null,
   "id": "1eed7ec2",
   "metadata": {},
   "outputs": [],
   "source": [
    "Tpar_df"
   ]
  },
  {
   "cell_type": "code",
   "execution_count": null,
   "id": "3c9dda37",
   "metadata": {},
   "outputs": [],
   "source": [
    "import matplotlib.patches as mpatches\n",
    "\n",
    "prop_cycle = plt.rcParams[\"axes.prop_cycle\"]\n",
    "default_mpl_colors = prop_cycle.by_key()[\"color\"]"
   ]
  },
  {
   "cell_type": "code",
   "execution_count": null,
   "id": "c71697e4",
   "metadata": {},
   "outputs": [],
   "source": [
    "# https://stackoverflow.com/a/69130629\n",
    "fig, ax = plt.subplots()\n",
    "\n",
    "est_times_array = est_times_df.T.to_numpy()\n",
    "Tpar_array = Tpar_df.T.to_numpy()\n",
    "x_pos = np.arange(len(ymodel_keys))\n",
    "\n",
    "for i in range(est_times_array.shape[1]):\n",
    "    bottom = np.sum(est_times_array[:, 0:i], axis=1)\n",
    "    est_times_bars = ax.bar(\n",
    "        x_pos - 0.2,\n",
    "        est_times_array[:,i],\n",
    "        bottom=bottom,\n",
    "        width=0.3,\n",
    "    )\n",
    "\n",
    "for i in range(Tpar_array.shape[1]):\n",
    "    bottom = np.sum(Tpar_array[:, 0:i], axis=1)\n",
    "    est_times_bars = ax.bar(\n",
    "        x_pos + 0.2,\n",
    "        Tpar_array[:,i],\n",
    "        bottom=bottom,\n",
    "        width=0.3\n",
    "    )\n",
    "    \n",
    "ax.set_xticks(x_pos)\n",
    "ax.set_xticklabels([\"Wild type\", \"BY4741\", \"zwf1Δ\", \"tsa2Δ\"])\n",
    "ax.set_xlabel(\"Strain\")\n",
    "ax.set_ylabel(\"Estimated time (h)\")\n",
    "\n",
    "# Legend: colour = biomass component\n",
    "handles = []\n",
    "# assumes that default_mpl_colors (usually 10 elements) is longer than\n",
    "# component_list (usually 7 elements)\n",
    "# Using colour patches ref:\n",
    "# https://matplotlib.org/stable/tutorials/intermediate/legend_guide.html#creating-artists-specifically-for-adding-to-the-legend-aka-proxy-artists\n",
    "for color, component in zip(\n",
    "    default_mpl_colors[: len(component_list)], component_list\n",
    "):\n",
    "    color_patch = mpatches.Patch(color=color, label=component)\n",
    "    handles.append(color_patch)\n",
    "grey_patch = mpatches.Patch(color=default_mpl_colors[7], label=\"Tpar\")\n",
    "handles.append(grey_patch)\n",
    "fig.legend(handles, component_list + [r\"$T_{par}$\"], loc=\"center right\")\n",
    "fig.subplots_adjust(right=0.75)"
   ]
  }
 ],
 "metadata": {
  "kernelspec": {
   "display_name": "fba",
   "language": "python",
   "name": "fba"
  },
  "language_info": {
   "codemirror_mode": {
    "name": "ipython",
    "version": 3
   },
   "file_extension": ".py",
   "mimetype": "text/x-python",
   "name": "python",
   "nbconvert_exporter": "python",
   "pygments_lexer": "ipython3",
   "version": "3.8.14"
  }
 },
 "nbformat": 4,
 "nbformat_minor": 5
}

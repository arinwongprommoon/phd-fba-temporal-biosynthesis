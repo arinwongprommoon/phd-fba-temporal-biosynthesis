{
 "cells": [
  {
   "cell_type": "markdown",
   "id": "5325c7bc",
   "metadata": {},
   "source": [
    "Import dependencies"
   ]
  },
  {
   "cell_type": "code",
   "execution_count": null,
   "id": "771dc48c",
   "metadata": {},
   "outputs": [],
   "source": [
    "%reload_ext autoreload\n",
    "%autoreload 1\n",
    "%matplotlib inline\n",
    "\n",
    "import matplotlib.pyplot as plt\n",
    "import numpy as np\n",
    "import pandas as pd\n",
    "import cobra\n",
    "\n",
    "from yeast8model import Yeast8Model, ablation_barplot, compare_fluxes"
   ]
  },
  {
   "cell_type": "markdown",
   "id": "66958c67",
   "metadata": {},
   "source": [
    "# Construct models of cells of interest, optimise"
   ]
  },
  {
   "cell_type": "code",
   "execution_count": null,
   "id": "8360a02f",
   "metadata": {},
   "outputs": [],
   "source": [
    "BY4741 = Yeast8Model(\"./models/ecYeastGEM_batch.xml\")\n",
    "BY4741.make_auxotroph(\"BY4741\")\n",
    "BY4741.optimize()\n",
    "\n",
    "zwf1 = Yeast8Model(\"./models/ecYeastGEM_batch.xml\")\n",
    "zwf1.make_auxotroph(\"BY4741\")\n",
    "zwf1.knock_out_list([\"YNL241C\"])\n",
    "zwf1.optimize()"
   ]
  },
  {
   "cell_type": "markdown",
   "id": "8bd5f1c2",
   "metadata": {},
   "source": [
    "# Ablate"
   ]
  },
  {
   "cell_type": "code",
   "execution_count": null,
   "id": "943543ff",
   "metadata": {},
   "outputs": [],
   "source": [
    "BY4741.ablation_result = BY4741.ablate()\n",
    "\n",
    "fig, ax = plt.subplots()\n",
    "ablation_barplot(BY4741.ablation_result, ax)\n",
    "plt.show()"
   ]
  },
  {
   "cell_type": "code",
   "execution_count": null,
   "id": "9aefa5d3",
   "metadata": {},
   "outputs": [],
   "source": [
    "zwf1.ablation_result = zwf1.ablate()\n",
    "fig, ax = plt.subplots()\n",
    "ablation_barplot(zwf1.ablation_result, ax)\n",
    "plt.show()"
   ]
  },
  {
   "cell_type": "code",
   "execution_count": null,
   "id": "3a3e83a5",
   "metadata": {},
   "outputs": [],
   "source": [
    "BY4741.ablation_result"
   ]
  },
  {
   "cell_type": "code",
   "execution_count": null,
   "id": "fcaa0d63",
   "metadata": {},
   "outputs": [],
   "source": [
    "zwf1.ablation_result"
   ]
  },
  {
   "cell_type": "markdown",
   "id": "be82f6e3",
   "metadata": {},
   "source": [
    "# Compare fluxes"
   ]
  },
  {
   "cell_type": "code",
   "execution_count": null,
   "id": "266314dd",
   "metadata": {},
   "outputs": [],
   "source": [
    "diff_fluxes_sorted = compare_fluxes(BY4741, zwf1)"
   ]
  },
  {
   "cell_type": "code",
   "execution_count": null,
   "id": "5c4f3b83",
   "metadata": {},
   "outputs": [],
   "source": [
    "for rxn_id, flux in diff_fluxes_sorted.items():\n",
    "    print(f'{rxn_id}, {BY4741.model.reactions.get_by_id(rxn_id).name}, {flux}')"
   ]
  }
 ],
 "metadata": {
  "kernelspec": {
   "display_name": "fba",
   "language": "python",
   "name": "fba"
  },
  "language_info": {
   "codemirror_mode": {
    "name": "ipython",
    "version": 3
   },
   "file_extension": ".py",
   "mimetype": "text/x-python",
   "name": "python",
   "nbconvert_exporter": "python",
   "pygments_lexer": "ipython3",
   "version": "3.7.9"
  }
 },
 "nbformat": 4,
 "nbformat_minor": 5
}

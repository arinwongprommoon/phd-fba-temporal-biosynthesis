{
 "cells": [
  {
   "cell_type": "markdown",
   "id": "5325c7bc",
   "metadata": {},
   "source": [
    "Import dependencies"
   ]
  },
  {
   "cell_type": "code",
   "execution_count": null,
   "id": "771dc48c",
   "metadata": {},
   "outputs": [],
   "source": [
    "%reload_ext autoreload\n",
    "%autoreload 1\n",
    "%matplotlib inline\n",
    "\n",
    "import matplotlib.pyplot as plt\n",
    "import numpy as np\n",
    "import pandas as pd\n",
    "import cobra\n",
    "\n",
    "from yeast8model import Yeast8Model, compare_fluxes, compare_ablation_times, heatmap_ablation_grid"
   ]
  },
  {
   "cell_type": "markdown",
   "id": "66958c67",
   "metadata": {},
   "source": [
    "# Construct models of cells of interest, optimise"
   ]
  },
  {
   "cell_type": "code",
   "execution_count": null,
   "id": "8360a02f",
   "metadata": {},
   "outputs": [],
   "source": [
    "glc_exch_rate = 16.89\n",
    "\n",
    "wt = Yeast8Model(\"./models/ecYeastGEM_batch_8-6-0.xml\")\n",
    "wt.model.reactions.get_by_id(\"r_1714\").bounds = (-glc_exch_rate, 0)\n",
    "wt.model.reactions.get_by_id(\"r_1714_REV\").bounds = (0, glc_exch_rate)\n",
    "wt.solution = wt.optimize()\n",
    "\n",
    "BY4741 = Yeast8Model(\"./models/ecYeastGEM_batch_8-6-0.xml\")\n",
    "BY4741.make_auxotroph(\"BY4741\")\n",
    "BY4741.model.reactions.get_by_id(\"r_1714\").bounds = (-glc_exch_rate, 0)\n",
    "BY4741.model.reactions.get_by_id(\"r_1714_REV\").bounds = (0, glc_exch_rate)\n",
    "BY4741.solution = BY4741.optimize()\n",
    "\n",
    "BY4742 = Yeast8Model(\"./models/ecYeastGEM_batch_8-6-0.xml\")\n",
    "BY4742.make_auxotroph(\"BY4742\")\n",
    "BY4742.model.reactions.get_by_id(\"r_1714\").bounds = (-glc_exch_rate, 0)\n",
    "BY4742.model.reactions.get_by_id(\"r_1714_REV\").bounds = (0, glc_exch_rate)\n",
    "BY4742.solution = BY4742.optimize()\n",
    "\n",
    "zwf1 = Yeast8Model(\"./models/ecYeastGEM_batch_8-6-0.xml\")\n",
    "zwf1.make_auxotroph(\"BY4741\")\n",
    "zwf1.knock_out_list([\"YNL241C\"])\n",
    "zwf1.model.reactions.get_by_id(\"r_1714\").bounds = (-glc_exch_rate, 0)\n",
    "zwf1.model.reactions.get_by_id(\"r_1714_REV\").bounds = (0, glc_exch_rate)\n",
    "zwf1.solution = zwf1.optimize()\n",
    "\n",
    "tsa2 = Yeast8Model(\"./models/ecYeastGEM_batch_8-6-0.xml\")\n",
    "tsa2.make_auxotroph(\"BY4742\")\n",
    "tsa2.knock_out_list([\"YDR453C\"])\n",
    "tsa2.model.reactions.get_by_id(\"r_1714\").bounds = (-glc_exch_rate, 0)\n",
    "tsa2.model.reactions.get_by_id(\"r_1714_REV\").bounds = (0, glc_exch_rate)\n",
    "tsa2.solution = tsa2.optimize()"
   ]
  },
  {
   "cell_type": "markdown",
   "id": "8bd5f1c2",
   "metadata": {},
   "source": [
    "# Ablate"
   ]
  },
  {
   "cell_type": "markdown",
   "id": "61a481df",
   "metadata": {},
   "source": [
    "TODO: For loop all this?  It's repetitive."
   ]
  },
  {
   "cell_type": "markdown",
   "id": "f5c5d828",
   "metadata": {},
   "source": [
    "## Wild type"
   ]
  },
  {
   "cell_type": "code",
   "execution_count": null,
   "id": "8ebcb3d5",
   "metadata": {},
   "outputs": [],
   "source": [
    "wt.ablation_result = wt.ablate()\n",
    "\n",
    "fig, ax = plt.subplots()\n",
    "wt.ablation_barplot(ax)\n",
    "ax.set_title('Wild type')\n",
    "plt.show()"
   ]
  },
  {
   "cell_type": "markdown",
   "id": "3831bb3f",
   "metadata": {},
   "source": [
    "## BY4741"
   ]
  },
  {
   "cell_type": "code",
   "execution_count": null,
   "id": "943543ff",
   "metadata": {},
   "outputs": [],
   "source": [
    "BY4741.ablation_result = BY4741.ablate()\n",
    "\n",
    "fig, ax = plt.subplots()\n",
    "BY4741.ablation_barplot(ax)\n",
    "ax.set_title('BY4741 (in supplemented media)')\n",
    "plt.show()"
   ]
  },
  {
   "cell_type": "code",
   "execution_count": null,
   "id": "685c5507",
   "metadata": {},
   "outputs": [],
   "source": [
    "fig_fc, ax_fc = plt.subplots()\n",
    "compare_ablation_times(wt.ablation_result, BY4741.ablation_result, ax_fc)"
   ]
  },
  {
   "cell_type": "markdown",
   "id": "5e905e5b",
   "metadata": {},
   "source": [
    "## BY4742"
   ]
  },
  {
   "cell_type": "code",
   "execution_count": null,
   "id": "a8104615",
   "metadata": {},
   "outputs": [],
   "source": [
    "BY4742.ablation_result = BY4742.ablate()\n",
    "\n",
    "fig, ax = plt.subplots()\n",
    "BY4742.ablation_barplot(ax)\n",
    "ax.set_title('BY4742 (in supplemented media)')\n",
    "plt.show()"
   ]
  },
  {
   "cell_type": "code",
   "execution_count": null,
   "id": "a23b2f2c",
   "metadata": {},
   "outputs": [],
   "source": [
    "fig_fc, ax_fc = plt.subplots()\n",
    "compare_ablation_times(wt.ablation_result, BY4742.ablation_result, ax_fc)"
   ]
  },
  {
   "cell_type": "code",
   "execution_count": null,
   "id": "9aefa5d3",
   "metadata": {},
   "outputs": [],
   "source": [
    "zwf1.ablation_result = zwf1.ablate()\n",
    "fig, ax = plt.subplots()\n",
    "zwf1.ablation_barplot(ax)\n",
    "ax.set_title('zwf1$\\Delta$ BY4741 (in supplemented media)')\n",
    "plt.show()"
   ]
  },
  {
   "cell_type": "code",
   "execution_count": null,
   "id": "ab31d420",
   "metadata": {},
   "outputs": [],
   "source": [
    "fig_fc, ax_fc = plt.subplots()\n",
    "compare_ablation_times(BY4741.ablation_result, zwf1.ablation_result, ax_fc)"
   ]
  },
  {
   "cell_type": "code",
   "execution_count": null,
   "id": "8ae7f7b5",
   "metadata": {},
   "outputs": [],
   "source": [
    "tsa2.ablation_result = tsa2.ablate()\n",
    "fig, ax = plt.subplots()\n",
    "tsa2.ablation_barplot(ax)\n",
    "ax.set_title('tsa2$\\Delta$ BY4742 (in supplemented media)')\n",
    "plt.show()"
   ]
  },
  {
   "cell_type": "code",
   "execution_count": null,
   "id": "96719fdc",
   "metadata": {},
   "outputs": [],
   "source": [
    "fig_fc, ax_fc = plt.subplots()\n",
    "compare_ablation_times(BY4742.ablation_result, tsa2.ablation_result, ax_fc)"
   ]
  },
  {
   "cell_type": "code",
   "execution_count": null,
   "id": "bbef9b81",
   "metadata": {},
   "outputs": [],
   "source": [
    "wt.ablation_result"
   ]
  },
  {
   "cell_type": "code",
   "execution_count": null,
   "id": "3a3e83a5",
   "metadata": {},
   "outputs": [],
   "source": [
    "BY4741.ablation_result"
   ]
  },
  {
   "cell_type": "code",
   "execution_count": null,
   "id": "d3ba6926",
   "metadata": {},
   "outputs": [],
   "source": [
    "BY4742.ablation_result"
   ]
  },
  {
   "cell_type": "code",
   "execution_count": null,
   "id": "fcaa0d63",
   "metadata": {},
   "outputs": [],
   "source": [
    "zwf1.ablation_result"
   ]
  },
  {
   "cell_type": "code",
   "execution_count": null,
   "id": "b0bbd362",
   "metadata": {},
   "outputs": [],
   "source": [
    "tsa2.ablation_result"
   ]
  },
  {
   "cell_type": "code",
   "execution_count": null,
   "id": "2e9186ff",
   "metadata": {},
   "outputs": [],
   "source": [
    "wt_ablation_result_orig = wt.ablation_result.copy()"
   ]
  },
  {
   "cell_type": "markdown",
   "id": "3557a415",
   "metadata": {},
   "source": [
    "## Add amino acids to minimal media"
   ]
  },
  {
   "cell_type": "code",
   "execution_count": null,
   "id": "12aa63f7",
   "metadata": {},
   "outputs": [],
   "source": [
    "amino_exch_list = [\n",
    "    'r_1873', 'r_1879', 'r_1880', 'r_1881', 'r_1883',\n",
    "    'r_1889', 'r_1891', 'r_1810', 'r_1893', 'r_1897',\n",
    "    'r_1899', 'r_1900', 'r_1902', 'r_1903', 'r_1904',\n",
    "    'r_1906', 'r_1911', 'r_1912', 'r_1913', 'r_1914',\n",
    "]\n",
    "\n",
    "wt.reset_to_file()\n",
    "wt.unrestrict_growth()\n",
    "wt.add_media_components(amino_exch_list)\n",
    "wt.model.reactions.get_by_id(\"r_1714\").bounds = (-glc_exch_rate, 0)\n",
    "wt.model.reactions.get_by_id(\"r_1714_REV\").bounds = (0, glc_exch_rate)"
   ]
  },
  {
   "cell_type": "code",
   "execution_count": null,
   "id": "3a4e4871",
   "metadata": {},
   "outputs": [],
   "source": [
    "for reaction_id in wt.model.medium.keys():\n",
    "    print(wt.model.reactions.get_by_id(reaction_id).name)"
   ]
  },
  {
   "cell_type": "code",
   "execution_count": null,
   "id": "d0727807",
   "metadata": {
    "scrolled": true
   },
   "outputs": [],
   "source": [
    "wt.ablation_result = wt.ablate()\n",
    "\n",
    "fig, ax = plt.subplots()\n",
    "wt.ablation_barplot(ax)\n",
    "ax.set_title('Wild type, with all amino acids supplemented')\n",
    "plt.show()"
   ]
  },
  {
   "cell_type": "code",
   "execution_count": null,
   "id": "5847bd1b",
   "metadata": {},
   "outputs": [],
   "source": [
    "fig_fc, ax_fc = plt.subplots()\n",
    "compare_ablation_times(wt_ablation_result_orig, wt.ablation_result, ax_fc)"
   ]
  },
  {
   "cell_type": "markdown",
   "id": "d4383ded",
   "metadata": {},
   "source": [
    "> You can see that it takes less time to make proteins."
   ]
  },
  {
   "cell_type": "markdown",
   "id": "18525405",
   "metadata": {},
   "source": [
    "## Add nucleotides to minimal media"
   ]
  },
  {
   "cell_type": "code",
   "execution_count": null,
   "id": "3dbf98de",
   "metadata": {},
   "outputs": [],
   "source": [
    "nucl_exch_list = [\n",
    "    'r_1639', 'r_1705', 'r_1818', 'r_2090'\n",
    "]\n",
    "\n",
    "wt.reset_to_file()\n",
    "wt.unrestrict_growth()\n",
    "wt.model.reactions.get_by_id(\"r_1714\").bounds = (-glc_exch_rate, 0)\n",
    "wt.model.reactions.get_by_id(\"r_1714_REV\").bounds = (0, glc_exch_rate)\n",
    "wt.add_media_components(nucl_exch_list)"
   ]
  },
  {
   "cell_type": "code",
   "execution_count": null,
   "id": "b745574c",
   "metadata": {},
   "outputs": [],
   "source": [
    "wt.ablation_result = wt.ablate()\n",
    "\n",
    "fig, ax = plt.subplots()\n",
    "wt.ablation_barplot(ax)\n",
    "ax.set_title('Wild type, with all NTPs supplemented')\n",
    "plt.show()"
   ]
  },
  {
   "cell_type": "code",
   "execution_count": null,
   "id": "18935c41",
   "metadata": {},
   "outputs": [],
   "source": [
    "wt.ablation_result"
   ]
  },
  {
   "cell_type": "code",
   "execution_count": null,
   "id": "bc30a425",
   "metadata": {},
   "outputs": [],
   "source": [
    "fig_fc, ax_fc = plt.subplots()\n",
    "compare_ablation_times(wt_ablation_result_orig, wt.ablation_result, ax_fc)"
   ]
  },
  {
   "cell_type": "markdown",
   "id": "50e22c3e",
   "metadata": {},
   "source": [
    "## Add deoxyribonucleotides to media"
   ]
  },
  {
   "cell_type": "code",
   "execution_count": null,
   "id": "d6c2debc",
   "metadata": {},
   "outputs": [],
   "source": [
    "deoxnucl_exch_list = [\n",
    "    'r_1643', 'r_1702', 'r_1820', 'r_2073'\n",
    "]\n",
    "\n",
    "wt.reset_to_file()\n",
    "wt.unrestrict_growth()\n",
    "wt.model.reactions.get_by_id(\"r_1714\").bounds = (-glc_exch_rate, 0)\n",
    "wt.model.reactions.get_by_id(\"r_1714_REV\").bounds = (0, glc_exch_rate)\n",
    "wt.add_media_components(deoxnucl_exch_list)"
   ]
  },
  {
   "cell_type": "code",
   "execution_count": null,
   "id": "c6c6e1d5",
   "metadata": {},
   "outputs": [],
   "source": [
    "wt.ablation_result = wt.ablate()\n",
    "\n",
    "fig, ax = plt.subplots()\n",
    "wt.ablation_barplot(ax)\n",
    "ax.set_title('Wild type, with all dNTPs supplemented')\n",
    "plt.show()"
   ]
  },
  {
   "cell_type": "code",
   "execution_count": null,
   "id": "71f8e5d3",
   "metadata": {},
   "outputs": [],
   "source": [
    "wt.ablation_result"
   ]
  },
  {
   "cell_type": "code",
   "execution_count": null,
   "id": "5d42fc73",
   "metadata": {},
   "outputs": [],
   "source": [
    "fig_fc, ax_fc = plt.subplots()\n",
    "compare_ablation_times(wt_ablation_result_orig, wt.ablation_result, ax_fc)"
   ]
  },
  {
   "cell_type": "markdown",
   "id": "6e216f14",
   "metadata": {},
   "source": [
    "## Carbon sources"
   ]
  },
  {
   "cell_type": "markdown",
   "id": "5ac90f26",
   "metadata": {},
   "source": [
    "Pyruvate"
   ]
  },
  {
   "cell_type": "code",
   "execution_count": null,
   "id": "7361e216",
   "metadata": {},
   "outputs": [],
   "source": [
    "wt.reset_to_file()\n",
    "wt.unrestrict_growth()\n",
    "wt.add_media_components(['r_2033'])\n",
    "# Set uptake rate (under saturation) to get a growth rate consistent with experiments.\n",
    "wt.model.reactions.get_by_id('r_2033').bounds = (-5.476, 0)\n",
    "wt.remove_media_components(['r_1714', 'r_1714_REV'])\n",
    "wt.ablation_result = wt.ablate()\n",
    "\n",
    "fig, ax = plt.subplots()\n",
    "wt.ablation_barplot(ax)\n",
    "ax.set_title('Wild type, with pyruvate as carbon source')\n",
    "plt.show()"
   ]
  },
  {
   "cell_type": "code",
   "execution_count": null,
   "id": "947d39f2",
   "metadata": {},
   "outputs": [],
   "source": [
    "wt.ablation_result"
   ]
  },
  {
   "cell_type": "code",
   "execution_count": null,
   "id": "db92e8bf",
   "metadata": {},
   "outputs": [],
   "source": [
    "fig_fc, ax_fc = plt.subplots()\n",
    "compare_ablation_times(wt_ablation_result_orig, wt.ablation_result, ax_fc)"
   ]
  },
  {
   "cell_type": "markdown",
   "id": "7a603b23",
   "metadata": {},
   "source": [
    "Glucose limitation"
   ]
  },
  {
   "cell_type": "code",
   "execution_count": null,
   "id": "6057f2a8",
   "metadata": {},
   "outputs": [],
   "source": [
    "glc_exch_rate = 1.329\n",
    "# Simulates 10 mg/L by assuming a 3-hour doubling time\n",
    "# and using the saturation curve at the end of this notebook\n",
    "\n",
    "wt.reset_to_file()\n",
    "wt.unrestrict_growth()\n",
    "wt.model.reactions.get_by_id(\"r_1714\").bounds = (-glc_exch_rate, 0)\n",
    "wt.model.reactions.get_by_id(\"r_1714_REV\").bounds = (0, glc_exch_rate)\n",
    "wt.ablation_result = wt.ablate()\n",
    "\n",
    "fig, ax = plt.subplots()\n",
    "wt.ablation_barplot(ax)\n",
    "ax.set_title('Wild type, with glucose limitation')\n",
    "plt.show()"
   ]
  },
  {
   "cell_type": "code",
   "execution_count": null,
   "id": "b4752357",
   "metadata": {},
   "outputs": [],
   "source": [
    "fig_fc, ax_fc = plt.subplots()\n",
    "compare_ablation_times(wt_ablation_result_orig, wt.ablation_result, ax_fc)"
   ]
  },
  {
   "cell_type": "markdown",
   "id": "be82f6e3",
   "metadata": {},
   "source": [
    "# Compare fluxes"
   ]
  },
  {
   "cell_type": "code",
   "execution_count": null,
   "id": "266314dd",
   "metadata": {},
   "outputs": [],
   "source": [
    "diff_fluxes_sorted = compare_fluxes(BY4741, zwf1)"
   ]
  },
  {
   "cell_type": "code",
   "execution_count": null,
   "id": "5c4f3b83",
   "metadata": {},
   "outputs": [],
   "source": [
    "for rxn_id, flux in diff_fluxes_sorted.items():\n",
    "    print(f'{rxn_id}, {wt.model.reactions.get_by_id(rxn_id).name}, {flux}')"
   ]
  },
  {
   "cell_type": "code",
   "execution_count": null,
   "id": "d5b4f69d",
   "metadata": {},
   "outputs": [],
   "source": [
    "diff_fluxes_sorted = compare_fluxes(BY4741, tsa2)"
   ]
  },
  {
   "cell_type": "code",
   "execution_count": null,
   "id": "84a8053b",
   "metadata": {},
   "outputs": [],
   "source": [
    "for rxn_id, flux in diff_fluxes_sorted.items():\n",
    "    print(f'{rxn_id}, {wt.model.reactions.get_by_id(rxn_id).name}, {flux}')"
   ]
  },
  {
   "cell_type": "code",
   "execution_count": null,
   "id": "1cd20303",
   "metadata": {},
   "outputs": [],
   "source": [
    "diff_fluxes_sorted = compare_fluxes(wt, BY4741)"
   ]
  },
  {
   "cell_type": "code",
   "execution_count": null,
   "id": "9e1a1717",
   "metadata": {},
   "outputs": [],
   "source": [
    "for rxn_id, flux in diff_fluxes_sorted.items():\n",
    "    print(f'{rxn_id}, {wt.model.reactions.get_by_id(rxn_id).name}, {flux}')"
   ]
  },
  {
   "cell_type": "code",
   "execution_count": null,
   "id": "e3850392",
   "metadata": {},
   "outputs": [],
   "source": [
    "for reaction_id in BY4741.model.medium.keys():\n",
    "    print(BY4741.model.reactions.get_by_id(reaction_id).name)"
   ]
  },
  {
   "cell_type": "code",
   "execution_count": null,
   "id": "560d4a90",
   "metadata": {},
   "outputs": [],
   "source": [
    "diff_fluxes_sorted = compare_fluxes(wt, BY4741)"
   ]
  },
  {
   "cell_type": "code",
   "execution_count": null,
   "id": "4761b278",
   "metadata": {},
   "outputs": [],
   "source": [
    "diff_fluxes_sorted = compare_fluxes(wt, wt)"
   ]
  },
  {
   "cell_type": "code",
   "execution_count": null,
   "id": "d7c5fda5",
   "metadata": {},
   "outputs": [],
   "source": [
    "diff_fluxes_sorted"
   ]
  },
  {
   "cell_type": "markdown",
   "id": "8d919a4c",
   "metadata": {},
   "source": [
    "# Effect of carbon source uptake on growth rate"
   ]
  },
  {
   "cell_type": "markdown",
   "id": "8ecf66c5",
   "metadata": {},
   "source": [
    "## Glucose"
   ]
  },
  {
   "cell_type": "markdown",
   "id": "62dcb140",
   "metadata": {},
   "source": [
    "Optimise wt with glucose unconstrained."
   ]
  },
  {
   "cell_type": "code",
   "execution_count": null,
   "id": "4f611c3c",
   "metadata": {},
   "outputs": [],
   "source": [
    "wt.reset_to_file()\n",
    "wt.unrestrict_growth()\n",
    "wt.solution = wt.optimize()"
   ]
  },
  {
   "cell_type": "markdown",
   "id": "67430533",
   "metadata": {},
   "source": [
    "Get saturated glucose uptake:"
   ]
  },
  {
   "cell_type": "code",
   "execution_count": null,
   "id": "71912ca4",
   "metadata": {},
   "outputs": [],
   "source": [
    "wt.solution['r_1714_REV']"
   ]
  },
  {
   "cell_type": "markdown",
   "id": "07ad00cc",
   "metadata": {},
   "source": [
    "> You should get 16.9 mmol g<sub>DW</sub><sup>-1</sup> h<sup>-1</sup>.  This agrees with Elsemman et al. (2022): they predict saturation at 18.6 mmol g<sub>DW</sub><sup>-1</sup> h<sup>-1</sup> and report a range of 16 ~ 19 mmol g<sub>DW</sub><sup>-1</sup> h<sup>-1</sup> from the literature (Blank et al., 2004)."
   ]
  },
  {
   "cell_type": "markdown",
   "id": "f364569a",
   "metadata": {},
   "source": [
    "Sweep, across all strains."
   ]
  },
  {
   "cell_type": "code",
   "execution_count": null,
   "id": "9061f960",
   "metadata": {},
   "outputs": [],
   "source": [
    "wt_suppl = Yeast8Model(\"./models/ecYeastGEM_batch_8-6-0.xml\")\n",
    "wt_suppl.add_media_components([\n",
    "    \"r_1893\",\n",
    "    \"r_1899\",\n",
    "    \"r_1902\",\n",
    "    \"r_2090\",\n",
    "    \"r_1893_REV\",\n",
    "    \"r_1899_REV\",\n",
    "    \"r_1902_REV\",\n",
    "    \"r_2090_REV\",\n",
    "])"
   ]
  },
  {
   "cell_type": "code",
   "execution_count": null,
   "id": "11096116",
   "metadata": {},
   "outputs": [],
   "source": [
    "# positive values because i want it increasing in a plot\n",
    "glc_exch_rates = np.linspace(0, 18.6, 100)\n",
    "\n",
    "wt_growthrate = []\n",
    "wt_suppl_growthrate = []\n",
    "BY4741_growthrate = []\n",
    "zwf1_growthrate = []\n",
    "tsa2_growthrate = []\n",
    "\n",
    "def get_gr_from_glc_rate(ymodel, glc_exch_rate, growthratelist):\n",
    "    # negative due to FBA conventions re exchange reactions\n",
    "    ymodel.model.reactions.get_by_id(\"r_1714\").bounds = (-glc_exch_rate, 0)\n",
    "    # positive due to FBA conventions re reversible reaction\n",
    "    ymodel.model.reactions.get_by_id(\"r_1714_REV\").bounds = (0, glc_exch_rate)\n",
    "    ymodel.solution = ymodel.optimize()\n",
    "    growthratelist.append(ymodel.solution.fluxes[\"r_2111\"])\n",
    "\n",
    "for glc_exch_rate in glc_exch_rates:\n",
    "    get_gr_from_glc_rate(wt, glc_exch_rate, wt_growthrate)\n",
    "    get_gr_from_glc_rate(wt_suppl, glc_exch_rate, wt_suppl_growthrate)\n",
    "    get_gr_from_glc_rate(BY4741, glc_exch_rate, BY4741_growthrate)\n",
    "    get_gr_from_glc_rate(zwf1, glc_exch_rate, zwf1_growthrate)\n",
    "    get_gr_from_glc_rate(tsa2, glc_exch_rate, tsa2_growthrate)\n",
    "\n",
    "print('optimisations done')"
   ]
  },
  {
   "cell_type": "code",
   "execution_count": null,
   "id": "a44283e7",
   "metadata": {},
   "outputs": [],
   "source": [
    "fig, ax = plt.subplots()\n",
    "ax.plot(glc_exch_rates, wt_growthrate, label='prototroph (wild type)')\n",
    "#ax.plot(glc_exch_rates, wt_suppl_growthrate, label='prototroph, in BY4741 supplemented media')\n",
    "ax.plot(glc_exch_rates, BY4741_growthrate, label='BY4741, in supplemented media')\n",
    "ax.plot(glc_exch_rates, zwf1_growthrate, label='BY4741 zwf1, in supplemented media')\n",
    "ax.plot(glc_exch_rates, tsa2_growthrate, label='BY4742 tsa2, in supplemented media')\n",
    "ax.set_xlim((0,20))\n",
    "ax.set_xlabel('Glucose exchange rate (mmol/gDW/h)')\n",
    "ax.set_ylabel('Growth rate (/h)')\n",
    "ax.set_title('Effect of glucose exchange rate on growth rate')\n",
    "ax.legend()"
   ]
  },
  {
   "cell_type": "markdown",
   "id": "5ef2c6d2",
   "metadata": {},
   "source": [
    "> Results from wild-type are similar to with Elsemman et al. (2022), figure 2B. Saturation (or near it) seems to be reached at about 8 mmol/gDW/h."
   ]
  },
  {
   "cell_type": "markdown",
   "id": "89ca0e3f",
   "metadata": {},
   "source": [
    "Alternatively, fix growth rate and optimise to get glucose uptake rate. (doesn't work)"
   ]
  },
  {
   "cell_type": "code",
   "execution_count": null,
   "id": "0fc92d88",
   "metadata": {},
   "outputs": [],
   "source": [
    "#wt.model.objective = {wt.model.reactions.get_by_id(\"r_1714\"): +1}\n",
    "\n",
    "growthrates = np.linspace(0, 2, 500)\n",
    "\n",
    "wt_glc_rates = []\n",
    "\n",
    "for growthrate in growthrates:\n",
    "    wt.model.reactions.get_by_id(wt.growth_id).bounds = (growthrate, growthrate)\n",
    "    wt.model.reactions.get_by_id(\"r_1714\").bounds = (-1000, 0)\n",
    "    wt.model.reactions.get_by_id(\"r_1714_REV\").bounds = (0, 1000)\n",
    "    wt.solution = wt.model.optimize()\n",
    "    wt_glc_rates.append(wt.solution.fluxes[\"r_1714_REV\"])\n",
    "    \n",
    "print('optimisations done')"
   ]
  },
  {
   "cell_type": "code",
   "execution_count": null,
   "id": "b004439b",
   "metadata": {},
   "outputs": [],
   "source": [
    "plt.plot(growthrates, wt_glc_rates)"
   ]
  },
  {
   "cell_type": "code",
   "execution_count": null,
   "id": "f41a522b",
   "metadata": {},
   "outputs": [],
   "source": [
    "doubling_times = np.log(2) / np.array(wt_growthrate)\n",
    "\n",
    "fig, ax = plt.subplots()\n",
    "ax.plot(glc_exch_rates, doubling_times)\n",
    "ax.set_xlim((1,8))\n",
    "ax.set_ylim((0,5))\n",
    "ax.set_xlabel('Glucose exchange rate (mmol/gDW/h)')\n",
    "ax.set_ylabel('Doubling time (h)')\n",
    "ax.set_title('Effect of glucose exchange rate on doubling time')"
   ]
  },
  {
   "cell_type": "markdown",
   "id": "4fb5e4d4",
   "metadata": {},
   "source": [
    "Get glucose exchange rate that results in a certain growth rate...\n",
    "\n",
    "This is based on linear interpolation.  The implied function takes growth rate as the independent value and glucose exchange rate as the dependent value (i.e. the inverse function of the saturation curve)."
   ]
  },
  {
   "cell_type": "markdown",
   "id": "ca526071",
   "metadata": {},
   "source": [
    "If necessary, get growth rate from doubling time.  Based on: $T = \\frac{\\log 2}{r}$, where $T$ is the doubling time and $r$ is the growth rate."
   ]
  },
  {
   "cell_type": "code",
   "execution_count": null,
   "id": "35a55b62",
   "metadata": {},
   "outputs": [],
   "source": [
    "# Get growth rate from doubling time\n",
    "dt = 3\n",
    "np.log(2)/dt"
   ]
  },
  {
   "cell_type": "code",
   "execution_count": null,
   "id": "f7e7ff93",
   "metadata": {},
   "outputs": [],
   "source": [
    "# Get exchange rate\n",
    "np.interp(0.231, wt_growthrate, glc_exch_rates)"
   ]
  },
  {
   "cell_type": "markdown",
   "id": "7050103b",
   "metadata": {},
   "source": [
    "## Pyruvate"
   ]
  },
  {
   "cell_type": "code",
   "execution_count": null,
   "id": "dce91156",
   "metadata": {},
   "outputs": [],
   "source": [
    "wt.reset_to_file()\n",
    "wt.unrestrict_growth()\n",
    "wt.add_media_components(['r_2033'])\n",
    "wt.remove_media_components(['r_1714', 'r_1714_REV'])\n",
    "wt.solution = wt.optimize()"
   ]
  },
  {
   "cell_type": "markdown",
   "id": "4df63b45",
   "metadata": {},
   "source": [
    "Saturated uptake"
   ]
  },
  {
   "cell_type": "code",
   "execution_count": null,
   "id": "19a5c811",
   "metadata": {},
   "outputs": [],
   "source": [
    "wt.solution['r_2033']"
   ]
  },
  {
   "cell_type": "markdown",
   "id": "0c97954c",
   "metadata": {},
   "source": [
    "Sweep"
   ]
  },
  {
   "cell_type": "code",
   "execution_count": null,
   "id": "05688451",
   "metadata": {},
   "outputs": [],
   "source": [
    "# positive values because i want it increasing in a plot\n",
    "pyr_exch_rates = np.linspace(0, 19.2, 100)\n",
    "\n",
    "wt_growthrate = []\n",
    "BY4741_growthrate = []\n",
    "zwf1_growthrate = []\n",
    "tsa2_growthrate = []\n",
    "\n",
    "def get_gr_from_pyr_rate(ymodel, growthratelist):\n",
    "    # negative due to FBA conventions re exchange reactions\n",
    "    ymodel.model.reactions.get_by_id(\"r_2033\").bounds = (-pyr_exch_rate, 0)\n",
    "    # no glucose\n",
    "    ymodel.remove_media_components(['r_1714', 'r_1714_REV'])\n",
    "    ymodel.solution = ymodel.optimize()\n",
    "    growthratelist.append(ymodel.solution.fluxes[\"r_2111\"])\n",
    "\n",
    "for pyr_exch_rate in pyr_exch_rates:\n",
    "    get_gr_from_pyr_rate(wt, wt_growthrate)\n",
    "    get_gr_from_pyr_rate(BY4741, BY4741_growthrate)\n",
    "    get_gr_from_pyr_rate(zwf1, zwf1_growthrate)\n",
    "    get_gr_from_pyr_rate(tsa2, tsa2_growthrate)\n",
    "\n",
    "print('optimisations done')"
   ]
  },
  {
   "cell_type": "code",
   "execution_count": null,
   "id": "f5b622c2",
   "metadata": {},
   "outputs": [],
   "source": [
    "fig, ax = plt.subplots()\n",
    "ax.plot(pyr_exch_rates, wt_growthrate, label='prototroph (wild type)')\n",
    "ax.plot(pyr_exch_rates, BY4741_growthrate, label='BY4741, in supplemented media')\n",
    "ax.plot(pyr_exch_rates, zwf1_growthrate, label='BY4741 zwf1, in supplemented media')\n",
    "ax.plot(pyr_exch_rates, tsa2_growthrate, label='BY4742 tsa2, in supplemented media')\n",
    "ax.set_xlim((0,20))\n",
    "ax.set_xlabel('Pyruvate exchange rate (mmol/gDW/h)')\n",
    "ax.set_ylabel('Growth rate (/h)')\n",
    "ax.set_title('Effect of pyruvate exchange rate on growth rate')\n",
    "ax.legend()"
   ]
  },
  {
   "cell_type": "code",
   "execution_count": null,
   "id": "83d76f68",
   "metadata": {},
   "outputs": [],
   "source": [
    "# Get exchange rate\n",
    "wt_growthrate = ymodel_growthrates[0]\n",
    "np.interp(0.173, wt_growthrate, pyr_exch_rates)"
   ]
  },
  {
   "cell_type": "markdown",
   "id": "ba8f9480",
   "metadata": {},
   "source": [
    "# Grid"
   ]
  },
  {
   "cell_type": "markdown",
   "id": "d8382ff7",
   "metadata": {},
   "source": [
    "TODO: Move this to another notebook."
   ]
  },
  {
   "cell_type": "markdown",
   "id": "d1ba56a4",
   "metadata": {},
   "source": [
    "TODO: Make sure that it isn't actually repeating the same thing 25 times, as the ratio is the same everywhere."
   ]
  },
  {
   "cell_type": "code",
   "execution_count": null,
   "id": "cfd19410",
   "metadata": {},
   "outputs": [],
   "source": [
    "exch_rate_dict = {\n",
    "    \"r_1714\": np.linspace(0, 18, 5), # glucose\n",
    "    \"r_1654\": np.linspace(0, 18, 5), # ammonium\n",
    "}\n",
    "ra, la = wt.ablation_grid(exch_rate_dict)"
   ]
  },
  {
   "cell_type": "code",
   "execution_count": null,
   "id": "e956be0a",
   "metadata": {},
   "outputs": [],
   "source": [
    "fig, ax = plt.subplots()\n",
    "heatmap_ablation_grid(ra, exch_rate_dict, ax)\n",
    "plt.show()"
   ]
  },
  {
   "cell_type": "code",
   "execution_count": null,
   "id": "40ca8fbc",
   "metadata": {},
   "outputs": [],
   "source": [
    "ra"
   ]
  }
 ],
 "metadata": {
  "kernelspec": {
   "display_name": "fba",
   "language": "python",
   "name": "fba"
  },
  "language_info": {
   "codemirror_mode": {
    "name": "ipython",
    "version": 3
   },
   "file_extension": ".py",
   "mimetype": "text/x-python",
   "name": "python",
   "nbconvert_exporter": "python",
   "pygments_lexer": "ipython3",
   "version": "3.8.14"
  }
 },
 "nbformat": 4,
 "nbformat_minor": 5
}

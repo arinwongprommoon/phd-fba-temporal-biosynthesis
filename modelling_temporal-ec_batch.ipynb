{
 "cells": [
  {
   "cell_type": "markdown",
   "id": "5325c7bc",
   "metadata": {},
   "source": [
    "Import dependencies"
   ]
  },
  {
   "cell_type": "code",
   "execution_count": null,
   "id": "771dc48c",
   "metadata": {},
   "outputs": [],
   "source": [
    "%reload_ext autoreload\n",
    "%autoreload 1\n",
    "%matplotlib inline\n",
    "\n",
    "import matplotlib.pyplot as plt\n",
    "import numpy as np\n",
    "import pandas as pd\n",
    "import cobra\n",
    "\n",
    "from yeast8model import Yeast8Model, compare_fluxes"
   ]
  },
  {
   "cell_type": "markdown",
   "id": "66958c67",
   "metadata": {},
   "source": [
    "# Construct models of cells of interest, optimise"
   ]
  },
  {
   "cell_type": "code",
   "execution_count": null,
   "id": "8360a02f",
   "metadata": {},
   "outputs": [],
   "source": [
    "wt = Yeast8Model(\"./models/ecYeastGEM_batch.xml\")\n",
    "wt.solution = wt.optimize()\n",
    "\n",
    "BY4741 = Yeast8Model(\"./models/ecYeastGEM_batch.xml\")\n",
    "BY4741.make_auxotroph(\"BY4741\")\n",
    "BY4741.solution = BY4741.optimize()\n",
    "\n",
    "zwf1 = Yeast8Model(\"./models/ecYeastGEM_batch.xml\")\n",
    "zwf1.make_auxotroph(\"BY4741\")\n",
    "zwf1.knock_out_list([\"YNL241C\"])\n",
    "zwf1.solution = zwf1.optimize()\n",
    "\n",
    "tsa2 = Yeast8Model(\"./models/ecYeastGEM_batch.xml\")\n",
    "tsa2.make_auxotroph(\"BY4742\")\n",
    "tsa2.knock_out_list([\"YDR453C\"])\n",
    "tsa2.solution = tsa2.optimize()"
   ]
  },
  {
   "cell_type": "markdown",
   "id": "8bd5f1c2",
   "metadata": {},
   "source": [
    "# Ablate"
   ]
  },
  {
   "cell_type": "code",
   "execution_count": null,
   "id": "8ebcb3d5",
   "metadata": {},
   "outputs": [],
   "source": [
    "wt.ablation_result = wt.ablate()\n",
    "\n",
    "fig, ax = plt.subplots()\n",
    "wt.ablation_barplot(ax)\n",
    "plt.show()"
   ]
  },
  {
   "cell_type": "code",
   "execution_count": null,
   "id": "943543ff",
   "metadata": {},
   "outputs": [],
   "source": [
    "BY4741.ablation_result = BY4741.ablate()\n",
    "\n",
    "fig, ax = plt.subplots()\n",
    "BY4741.ablation_barplot(ax)\n",
    "plt.show()"
   ]
  },
  {
   "cell_type": "code",
   "execution_count": null,
   "id": "9aefa5d3",
   "metadata": {},
   "outputs": [],
   "source": [
    "zwf1.ablation_result = zwf1.ablate()\n",
    "fig, ax = plt.subplots()\n",
    "zwf1.ablation_barplot(ax)\n",
    "plt.show()"
   ]
  },
  {
   "cell_type": "code",
   "execution_count": null,
   "id": "8ae7f7b5",
   "metadata": {},
   "outputs": [],
   "source": [
    "tsa2.ablation_result = tsa2.ablate()\n",
    "fig, ax = plt.subplots()\n",
    "tsa2.ablation_barplot(ax)\n",
    "plt.show()"
   ]
  },
  {
   "cell_type": "code",
   "execution_count": null,
   "id": "bbef9b81",
   "metadata": {},
   "outputs": [],
   "source": [
    "wt.ablation_result"
   ]
  },
  {
   "cell_type": "code",
   "execution_count": null,
   "id": "3a3e83a5",
   "metadata": {},
   "outputs": [],
   "source": [
    "BY4741.ablation_result"
   ]
  },
  {
   "cell_type": "code",
   "execution_count": null,
   "id": "fcaa0d63",
   "metadata": {},
   "outputs": [],
   "source": [
    "zwf1.ablation_result"
   ]
  },
  {
   "cell_type": "code",
   "execution_count": null,
   "id": "b0bbd362",
   "metadata": {},
   "outputs": [],
   "source": [
    "tsa2.ablation_result"
   ]
  },
  {
   "cell_type": "markdown",
   "id": "3557a415",
   "metadata": {},
   "source": [
    "## Add amino acids to minimal media"
   ]
  },
  {
   "cell_type": "code",
   "execution_count": null,
   "id": "12aa63f7",
   "metadata": {},
   "outputs": [],
   "source": [
    "amino_exch_list = [\n",
    "    'r_1873', 'r_1879', 'r_1880', 'r_1881', 'r_1883',\n",
    "    'r_1889', 'r_1891', 'r_1810', 'r_1893', 'r_1897',\n",
    "    'r_1899', 'r_1900', 'r_1902', 'r_1903', 'r_1904',\n",
    "    'r_1906', 'r_1911', 'r_1912', 'r_1913', 'r_1914',\n",
    "]\n",
    "\n",
    "wt.reset()\n",
    "wt.add_media_components(amino_exch_list)"
   ]
  },
  {
   "cell_type": "code",
   "execution_count": null,
   "id": "3a4e4871",
   "metadata": {},
   "outputs": [],
   "source": [
    "for reaction_id in wt.model.medium.keys():\n",
    "    print(wt.model.reactions.get_by_id(reaction_id).name)"
   ]
  },
  {
   "cell_type": "code",
   "execution_count": null,
   "id": "d0727807",
   "metadata": {
    "scrolled": true
   },
   "outputs": [],
   "source": [
    "wt.ablation_result = wt.ablate()\n",
    "\n",
    "fig, ax = plt.subplots()\n",
    "wt.ablation_barplot(ax)\n",
    "plt.show()"
   ]
  },
  {
   "cell_type": "markdown",
   "id": "d4383ded",
   "metadata": {},
   "source": [
    "> You can see that it takes less time to make proteins."
   ]
  },
  {
   "cell_type": "markdown",
   "id": "18525405",
   "metadata": {},
   "source": [
    "## Add nucleotides to minimal media"
   ]
  },
  {
   "cell_type": "code",
   "execution_count": null,
   "id": "3dbf98de",
   "metadata": {},
   "outputs": [],
   "source": [
    "nucl_exch_list = [\n",
    "    'r_1639', 'r_1705', 'r_1818', 'r_2090'\n",
    "]\n",
    "\n",
    "wt.reset()\n",
    "wt.add_media_components(nucl_exch_list)"
   ]
  },
  {
   "cell_type": "code",
   "execution_count": null,
   "id": "b745574c",
   "metadata": {},
   "outputs": [],
   "source": [
    "wt.ablation_result = wt.ablate()\n",
    "\n",
    "fig, ax = plt.subplots()\n",
    "wt.ablation_barplot(ax)\n",
    "plt.show()"
   ]
  },
  {
   "cell_type": "code",
   "execution_count": null,
   "id": "18935c41",
   "metadata": {},
   "outputs": [],
   "source": [
    "wt.ablation_result"
   ]
  },
  {
   "cell_type": "markdown",
   "id": "29b8e2dd",
   "metadata": {},
   "source": [
    "> It's difficult to see, but the original RNA flux was 1.789725 and with nucleotides added, it is now 2.348641.  Other fluxes are largely unchanged, though DNA is slightly faster."
   ]
  },
  {
   "cell_type": "markdown",
   "id": "50e22c3e",
   "metadata": {},
   "source": [
    "## Add deoxyribonucleotides to media"
   ]
  },
  {
   "cell_type": "code",
   "execution_count": null,
   "id": "d6c2debc",
   "metadata": {},
   "outputs": [],
   "source": [
    "deoxnucl_exch_list = [\n",
    "    'r_1643', 'r_1702', 'r_1820', 'r_2073'\n",
    "]\n",
    "\n",
    "wt.reset()\n",
    "wt.add_media_components(deoxnucl_exch_list)"
   ]
  },
  {
   "cell_type": "code",
   "execution_count": null,
   "id": "c6c6e1d5",
   "metadata": {},
   "outputs": [],
   "source": [
    "wt.ablation_result = wt.ablate()\n",
    "\n",
    "fig, ax = plt.subplots()\n",
    "wt.ablation_barplot(ax)\n",
    "plt.show()"
   ]
  },
  {
   "cell_type": "code",
   "execution_count": null,
   "id": "71f8e5d3",
   "metadata": {},
   "outputs": [],
   "source": [
    "wt.ablation_result"
   ]
  },
  {
   "cell_type": "markdown",
   "id": "69b74cc5",
   "metadata": {},
   "source": [
    "> DNA: 2.364069 --> 2.416639.  Curiously, RNA: --> 2.387195"
   ]
  },
  {
   "cell_type": "markdown",
   "id": "6e216f14",
   "metadata": {},
   "source": [
    "## Different carbon sources"
   ]
  },
  {
   "cell_type": "markdown",
   "id": "5ac90f26",
   "metadata": {},
   "source": [
    "Pyruvate"
   ]
  },
  {
   "cell_type": "code",
   "execution_count": null,
   "id": "7361e216",
   "metadata": {},
   "outputs": [],
   "source": [
    "wt.reset()\n",
    "wt.add_media_components(['r_2033'])\n",
    "wt.remove_media_components(['r_1714', 'r_1714_REV'])\n",
    "wt.ablation_result = wt.ablate()\n",
    "\n",
    "fig, ax = plt.subplots()\n",
    "wt.ablation_barplot(ax)\n",
    "plt.show()"
   ]
  },
  {
   "cell_type": "code",
   "execution_count": null,
   "id": "947d39f2",
   "metadata": {},
   "outputs": [],
   "source": [
    "wt.ablation_result"
   ]
  },
  {
   "cell_type": "markdown",
   "id": "be82f6e3",
   "metadata": {},
   "source": [
    "# Compare fluxes"
   ]
  },
  {
   "cell_type": "code",
   "execution_count": null,
   "id": "266314dd",
   "metadata": {},
   "outputs": [],
   "source": [
    "diff_fluxes_sorted = compare_fluxes(BY4741, zwf1)"
   ]
  },
  {
   "cell_type": "code",
   "execution_count": null,
   "id": "5c4f3b83",
   "metadata": {},
   "outputs": [],
   "source": [
    "for rxn_id, flux in diff_fluxes_sorted.items():\n",
    "    print(f'{rxn_id}, {wt.model.reactions.get_by_id(rxn_id).name}, {flux}')"
   ]
  },
  {
   "cell_type": "code",
   "execution_count": null,
   "id": "d5b4f69d",
   "metadata": {},
   "outputs": [],
   "source": [
    "diff_fluxes_sorted = compare_fluxes(BY4741, tsa2)"
   ]
  },
  {
   "cell_type": "code",
   "execution_count": null,
   "id": "84a8053b",
   "metadata": {},
   "outputs": [],
   "source": [
    "for rxn_id, flux in diff_fluxes_sorted.items():\n",
    "    print(f'{rxn_id}, {wt.model.reactions.get_by_id(rxn_id).name}, {flux}')"
   ]
  },
  {
   "cell_type": "code",
   "execution_count": null,
   "id": "1cd20303",
   "metadata": {},
   "outputs": [],
   "source": [
    "diff_fluxes_sorted = compare_fluxes(wt, BY4741)"
   ]
  },
  {
   "cell_type": "code",
   "execution_count": null,
   "id": "9e1a1717",
   "metadata": {},
   "outputs": [],
   "source": [
    "for rxn_id, flux in diff_fluxes_sorted.items():\n",
    "    print(f'{rxn_id}, {wt.model.reactions.get_by_id(rxn_id).name}, {flux}')"
   ]
  },
  {
   "cell_type": "code",
   "execution_count": null,
   "id": "e3850392",
   "metadata": {},
   "outputs": [],
   "source": [
    "for reaction_id in BY4741.model.medium.keys():\n",
    "    print(BY4741.model.reactions.get_by_id(reaction_id).name)"
   ]
  },
  {
   "cell_type": "code",
   "execution_count": null,
   "id": "560d4a90",
   "metadata": {},
   "outputs": [],
   "source": [
    "diff_fluxes_sorted = compare_fluxes(wt, BY4741)"
   ]
  },
  {
   "cell_type": "code",
   "execution_count": null,
   "id": "4761b278",
   "metadata": {},
   "outputs": [],
   "source": [
    "diff_fluxes_sorted = compare_fluxes(wt, wt)"
   ]
  },
  {
   "cell_type": "code",
   "execution_count": null,
   "id": "d7c5fda5",
   "metadata": {},
   "outputs": [],
   "source": [
    "diff_fluxes_sorted"
   ]
  }
 ],
 "metadata": {
  "kernelspec": {
   "display_name": "fba",
   "language": "python",
   "name": "fba"
  },
  "language_info": {
   "codemirror_mode": {
    "name": "ipython",
    "version": 3
   },
   "file_extension": ".py",
   "mimetype": "text/x-python",
   "name": "python",
   "nbconvert_exporter": "python",
   "pygments_lexer": "ipython3",
   "version": "3.7.9"
  }
 },
 "nbformat": 4,
 "nbformat_minor": 5
}

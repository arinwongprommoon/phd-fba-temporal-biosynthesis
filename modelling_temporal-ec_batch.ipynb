{
 "cells": [
  {
   "cell_type": "markdown",
   "id": "98316e56",
   "metadata": {},
   "source": [
    "Import dependencies"
   ]
  },
  {
   "cell_type": "code",
   "execution_count": null,
   "id": "03a24339",
   "metadata": {},
   "outputs": [],
   "source": [
    "%reload_ext autoreload\n",
    "%autoreload 1\n",
    "%matplotlib inline\n",
    "\n",
    "import matplotlib.pyplot as plt\n",
    "import numpy as np\n",
    "import cobra\n",
    "import escher"
   ]
  },
  {
   "cell_type": "markdown",
   "id": "5bbc1424",
   "metadata": {},
   "source": [
    "# Load model"
   ]
  },
  {
   "cell_type": "markdown",
   "id": "1fd2afd1",
   "metadata": {},
   "source": [
    "Choose from alternatives"
   ]
  },
  {
   "cell_type": "code",
   "execution_count": null,
   "id": "4c9aa36d",
   "metadata": {},
   "outputs": [],
   "source": [
    "# Yeast 8\n",
    "model = cobra.io.read_sbml_model(\"./models/yeast-GEM-BiGG.xml\")"
   ]
  },
  {
   "cell_type": "code",
   "execution_count": null,
   "id": "3372fd9a",
   "metadata": {},
   "outputs": [],
   "source": [
    "# Enzyme-constrained Yeast 8, batch\n",
    "# https://github.com/SysBioChalmers/ecModels/tree/main/ecYeastGEM/model\n",
    "model = cobra.io.read_sbml_model(\"./models/ecYeastGEM_batch.xml\")"
   ]
  },
  {
   "cell_type": "markdown",
   "id": "5b4fcf41",
   "metadata": {},
   "source": [
    "Show model"
   ]
  },
  {
   "cell_type": "code",
   "execution_count": null,
   "id": "76a11d19",
   "metadata": {},
   "outputs": [],
   "source": [
    "model"
   ]
  },
  {
   "cell_type": "markdown",
   "id": "dde1d25d",
   "metadata": {},
   "source": [
    "# Utilities"
   ]
  },
  {
   "cell_type": "code",
   "execution_count": null,
   "id": "4cb3b0fb",
   "metadata": {},
   "outputs": [],
   "source": [
    "def print_formulas(reaction):\n",
    "    \"\"\"Print formulas of reactants and products of a reaction.\"\"\"\n",
    "    print('reactants')\n",
    "    for reactant in reaction.reactants:\n",
    "        print(f'{reactant.id} ({reactant.name}): F {reactant.formula}')\n",
    "    print('products')\n",
    "    for product in reaction.products:\n",
    "        print(f'{product.id} ({product.name}): F {product.formula}')\n",
    "\n",
    "def print_formula_weights(reaction):\n",
    "    \"\"\"Print formula weights of reactants and products of a reaction.\"\"\"\n",
    "    print('reactants')\n",
    "    for reactant in reaction.reactants:\n",
    "        print(f'{reactant.id} ({reactant.name}): MW {reactant.formula_weight}')\n",
    "    print('products')\n",
    "    for product in reaction.products:\n",
    "        print(f'{product.id} ({product.name}): MW {product.formula_weight}')"
   ]
  },
  {
   "cell_type": "markdown",
   "id": "9b2aed99",
   "metadata": {},
   "source": [
    "# Objective function"
   ]
  },
  {
   "cell_type": "markdown",
   "id": "05ab72f6",
   "metadata": {},
   "source": [
    "In the ecYeast8 (batch) model, the objective function -- growth -- is reaction ID `r_2111`.\n",
    "\n",
    "This reaction is linked to the biomass reaction, ID `r_4041`.\n",
    "\n",
    "Here, we also see the stoichiometry.  There are five classes of macromolecules: lipids, proteins, carbohydrates, DNA, and RNA.  And there are two other bulk metabolites: cofactor and ion."
   ]
  },
  {
   "cell_type": "code",
   "execution_count": null,
   "id": "7fa4b7b5",
   "metadata": {},
   "outputs": [],
   "source": [
    "model.reactions.get_by_id('r_2111')"
   ]
  },
  {
   "cell_type": "code",
   "execution_count": null,
   "id": "462669cf",
   "metadata": {},
   "outputs": [],
   "source": [
    "model.reactions.get_by_id('r_4041')"
   ]
  },
  {
   "cell_type": "markdown",
   "id": "f681a17b",
   "metadata": {},
   "source": [
    "Medium"
   ]
  },
  {
   "cell_type": "code",
   "execution_count": null,
   "id": "c5836b2b",
   "metadata": {},
   "outputs": [],
   "source": [
    "model.medium"
   ]
  },
  {
   "cell_type": "code",
   "execution_count": null,
   "id": "b5a5a3ce",
   "metadata": {},
   "outputs": [],
   "source": [
    "for reaction_id in model.medium.keys():\n",
    "    print(model.reactions.get_by_id(reaction_id).name)"
   ]
  },
  {
   "cell_type": "markdown",
   "id": "23541b72",
   "metadata": {},
   "source": [
    "Remove bounds on glucose uptake and growth rate"
   ]
  },
  {
   "cell_type": "code",
   "execution_count": null,
   "id": "156e478b",
   "metadata": {},
   "outputs": [],
   "source": [
    "# (no need because bounds are already unrestricted)\n",
    "# Unrestrict glucose uptake\n",
    "model.reactions.get_by_id('r_1714').bounds = (-1000.0, 0)\n",
    "# Unrestrict oxygen uptake (aerobic)\n",
    "model.reactions.get_by_id('r_1992').bounds = (-1000.0, 0)\n",
    "# Unrestrict objective function\n",
    "model.reactions.get_by_id('r_4041').bounds = (0, 1000.0)"
   ]
  },
  {
   "cell_type": "markdown",
   "id": "764030fa",
   "metadata": {},
   "source": [
    "Optimise using (vanilla) FBA"
   ]
  },
  {
   "cell_type": "code",
   "execution_count": null,
   "id": "fb8fc7c2",
   "metadata": {},
   "outputs": [],
   "source": [
    "solution = model.optimize()"
   ]
  },
  {
   "cell_type": "code",
   "execution_count": null,
   "id": "0d090c5a",
   "metadata": {},
   "outputs": [],
   "source": [
    "model.summary()"
   ]
  },
  {
   "cell_type": "markdown",
   "id": "6d7dc9be",
   "metadata": {},
   "source": [
    "Linear reaction coefficients"
   ]
  },
  {
   "cell_type": "code",
   "execution_count": null,
   "id": "a9997f71",
   "metadata": {},
   "outputs": [],
   "source": [
    "cobra.util.solver.linear_reaction_coefficients(model)"
   ]
  },
  {
   "cell_type": "markdown",
   "id": "941d0155",
   "metadata": {},
   "source": [
    "# Computing molecular weights of bulk metabolites"
   ]
  },
  {
   "cell_type": "markdown",
   "id": "a32f4521",
   "metadata": {},
   "source": [
    "The ecYeast8 model does not specify the molecular weights of these bulk metabolites.\n",
    "\n",
    "To compute these, I assumed conservation of mass, i.e.\n",
    "\n",
    "\\begin{equation}\n",
    "    \\sum_{s}(\\text{molar mass}_{s})(\\text{stoichiometric coefficient}_{s}) - \\sum_{p}(\\text{molar mass}_{p})(\\text{stoichiometric coefficient}_{p})\n",
    "\\end{equation}\n",
    "\n",
    "where $s = 1, ... (\\text{number of substrates})$ represents substrates and $p = 1, ... (\\text{number of products})$ represents products of the reaction in question.\n",
    "\n",
    "This procedure must be applied because the ecYeast8 model does not necessarily imply that\n",
    "each molecule of macromolecule corresponds to a single molecule in a real cell."
   ]
  },
  {
   "cell_type": "markdown",
   "id": "b1a2d80c",
   "metadata": {},
   "source": [
    "## Carbohydrates"
   ]
  },
  {
   "cell_type": "markdown",
   "id": "314dd2d2",
   "metadata": {},
   "source": [
    "To compute the molecular weight of the carbohydrate metabolite, I inspected reaction r_4048.  This reaction accounts for structural (e.g. cell wall) and storage carbohydrates."
   ]
  },
  {
   "cell_type": "code",
   "execution_count": null,
   "id": "b1405d55",
   "metadata": {},
   "outputs": [],
   "source": [
    "model.reactions.get_by_id('r_4048')"
   ]
  },
  {
   "cell_type": "markdown",
   "id": "fb6821a4",
   "metadata": {},
   "source": [
    "Here, the molecular weights of all species except for carbohydrate, the bulk metabolite, are\n",
    "represented in the model."
   ]
  },
  {
   "cell_type": "code",
   "execution_count": null,
   "id": "d1bffbc7",
   "metadata": {},
   "outputs": [],
   "source": [
    "print_formula_weights(model.reactions.get_by_id('r_4048'))"
   ]
  },
  {
   "cell_type": "markdown",
   "id": "d8d80496",
   "metadata": {},
   "source": [
    "Thus, the conservation of mass can be applied directly."
   ]
  },
  {
   "cell_type": "code",
   "execution_count": null,
   "id": "598d775e",
   "metadata": {},
   "outputs": [],
   "source": [
    "MW_CARB = -sum(\n",
    "    [metabolite.formula_weight * coeff\n",
    "     for metabolite, coeff in model.reactions.get_by_id('r_4048').metabolites.items()]\n",
    ")\n",
    "print(MW_CARB)"
   ]
  },
  {
   "cell_type": "markdown",
   "id": "3a1cefc7",
   "metadata": {},
   "source": [
    "We will re-use this code a lot, so I will write a convenience function:"
   ]
  },
  {
   "cell_type": "code",
   "execution_count": null,
   "id": "918a631d",
   "metadata": {},
   "outputs": [],
   "source": [
    "# I admit that this function is not generalisable, but this notebook is\n",
    "# a quick-and-dirty idea sandbox... for now.\n",
    "def mw_from_reaction(reaction):\n",
    "    \"\"\"\n",
    "    Computes molecular weight of a species of unknown weight.\n",
    "    \n",
    "    Only works if there is just one species with unknown weight.\n",
    "    Assumes that the stoichiometric coefficient of the species is 1.\n",
    "    \"\"\"\n",
    "    return -sum(\n",
    "        [metabolite.formula_weight * coeff\n",
    "         for metabolite, coeff in reaction.metabolites.items()]\n",
    "    )"
   ]
  },
  {
   "cell_type": "markdown",
   "id": "83444cce",
   "metadata": {},
   "source": [
    "## DNA, RNA, cofactor, ion"
   ]
  },
  {
   "cell_type": "markdown",
   "id": "665db5b7",
   "metadata": {},
   "source": [
    "The same process can be applied to compute the molecular weights of the DNA, RNA,\n",
    "cofactor, and ion metabolites.  This is because the equations are similar.  They have reactants with molecular weights represented in the model.  And only the bulk metabolite, the sole product, as the metabolite with an unspecified molecular weight. "
   ]
  },
  {
   "cell_type": "code",
   "execution_count": null,
   "id": "6d5380d8",
   "metadata": {},
   "outputs": [],
   "source": [
    "# DNA\n",
    "print_formula_weights(model.reactions.get_by_id('r_4050'))"
   ]
  },
  {
   "cell_type": "code",
   "execution_count": null,
   "id": "c7d67e90",
   "metadata": {},
   "outputs": [],
   "source": [
    "# RNA\n",
    "print_formula_weights(model.reactions.get_by_id('r_4049'))"
   ]
  },
  {
   "cell_type": "code",
   "execution_count": null,
   "id": "5cafa711",
   "metadata": {},
   "outputs": [],
   "source": [
    "# cofactor\n",
    "print_formula_weights(model.reactions.get_by_id('r_4598'))"
   ]
  },
  {
   "cell_type": "code",
   "execution_count": null,
   "id": "ffbeac75",
   "metadata": {},
   "outputs": [],
   "source": [
    "# ion\n",
    "print_formula_weights(model.reactions.get_by_id('r_4599'))"
   ]
  },
  {
   "cell_type": "code",
   "execution_count": null,
   "id": "68605a6f",
   "metadata": {},
   "outputs": [],
   "source": [
    "# The bulk metabolite has a stoichiometric coefficient of 1,\n",
    "# so mw_from_reaction can be used directly.\n",
    "MW_DNA = mw_from_reaction(model.reactions.get_by_id('r_4050'))\n",
    "MW_RNA = mw_from_reaction(model.reactions.get_by_id('r_4049'))\n",
    "MW_COFACTOR = mw_from_reaction(model.reactions.get_by_id('r_4598'))\n",
    "MW_ION = mw_from_reaction(model.reactions.get_by_id('r_4599'))\n",
    "\n",
    "print(MW_DNA)\n",
    "print(MW_RNA)\n",
    "print(MW_COFACTOR)\n",
    "print(MW_ION)"
   ]
  },
  {
   "cell_type": "markdown",
   "id": "2cbc64c6",
   "metadata": {},
   "source": [
    "Note: I don't know why DNA and RNA molecular weights differ by an order of magnitude.  The stochiometric constants for the RNA pseudoreaction are an order of magnitude greater than that of DNA, and I don't know why.\n",
    "\n",
    "**Answer: They reflect relative abundances**"
   ]
  },
  {
   "cell_type": "markdown",
   "id": "24a4f7a6",
   "metadata": {},
   "source": [
    "## Protein"
   ]
  },
  {
   "cell_type": "markdown",
   "id": "e3144ee7",
   "metadata": {},
   "source": [
    "This is slightly less straightforward because the aminoacyl-tRNA reactants are represented in the form of the atoms that make up the aminoacyl residues plus R to represent the tRNA, and the tRNA products are represented as RH."
   ]
  },
  {
   "cell_type": "code",
   "execution_count": null,
   "id": "0ed0ccab",
   "metadata": {},
   "outputs": [],
   "source": [
    "print_formulas(model.reactions.get_by_id('r_4047'))"
   ]
  },
  {
   "cell_type": "markdown",
   "id": "fdb86178",
   "metadata": {},
   "source": [
    "The problem is: R is not listed as an element in `cobrapy`, so I can't use built-in functions (i.e. `print_formula_weights` breaks).  Therefore, I reverse-engineered `cobra.core.formula` and `cobra.core.metabolite` so it can deal with an 'R' element."
   ]
  },
  {
   "cell_type": "code",
   "execution_count": null,
   "id": "a72312fe",
   "metadata": {},
   "outputs": [],
   "source": [
    "# hack: reverse-engineering cobra.core.formula and cobra.core.metabolite\n",
    "# so it can deal with an 'R' element\n",
    "import re\n",
    "from typing import TYPE_CHECKING, Dict, Optional, Union\n",
    "from cobra.core.formula import elements_and_molecular_weights\n",
    "\n",
    "element_re = re.compile(\"([A-Z][a-z]?)([0-9.]+[0-9.]?|(?=[A-Z])?)\")\n",
    "elements_and_molecular_weights['R'] = 0\n",
    "\n",
    "def elements(formula) -> Optional[Dict[str, Union[int, float]]]:\n",
    "    \"\"\"Get dicitonary of elements and counts.\n",
    "\n",
    "    Dictionary of elements as keys and their count in the metabolite\n",
    "    as integer. When set, the `formula` property is updated accordingly.\n",
    "\n",
    "    Returns\n",
    "    -------\n",
    "    composition: None or Dict\n",
    "        A dictionary of elements and counts, where count is int unless it is needed\n",
    "        to be a float.\n",
    "        Returns None in case of error.\n",
    "\n",
    "    \"\"\"\n",
    "    tmp_formula = formula\n",
    "    if tmp_formula is None:\n",
    "        return {}\n",
    "    # necessary for some old pickles which use the deprecated\n",
    "    # Formula class\n",
    "    tmp_formula = str(formula)\n",
    "    # commonly occurring characters in incorrectly constructed formulas\n",
    "    if \"*\" in tmp_formula:\n",
    "        warn(f\"invalid character '*' found in formula '{formula}'\")\n",
    "        tmp_formula = tmp_formula.replace(\"*\", \"\")\n",
    "    if \"(\" in tmp_formula or \")\" in tmp_formula:\n",
    "        warn(f\"invalid formula (has parenthesis) in '{formula}'\")\n",
    "        return None\n",
    "    composition = {}\n",
    "    parsed = element_re.findall(tmp_formula)\n",
    "    for element, count in parsed:\n",
    "        if count == \"\":\n",
    "            count = 1\n",
    "        else:\n",
    "            try:\n",
    "                count = float(count)\n",
    "                int_count = int(count)\n",
    "                if count == int_count:\n",
    "                    count = int_count\n",
    "                else:\n",
    "                    warn(f\"{count} is not an integer (in formula {formula})\")\n",
    "            except ValueError:\n",
    "                warn(f\"failed to parse {count} (in formula {formula})\")\n",
    "                return None\n",
    "        if element in composition:\n",
    "            composition[element] += count\n",
    "        else:\n",
    "            composition[element] = count\n",
    "    return composition\n",
    "\n",
    "def formula_weight(elements) -> Union[int, float]:\n",
    "    \"\"\"Calculate the formula weight.\n",
    "\n",
    "    Returns\n",
    "    ------\n",
    "    float, int\n",
    "        Weight of formula, based on the weight and count of elements. Can be int if\n",
    "        the formula weight is a whole number, but unlikely.\n",
    "    \"\"\"\n",
    "    try:\n",
    "        return sum(\n",
    "            [\n",
    "                count * elements_and_molecular_weights[element]\n",
    "                for element, count in elements.items()\n",
    "            ]\n",
    "        )\n",
    "    except KeyError as e:\n",
    "        warn(f\"The element {e} does not appear in the periodic table\")"
   ]
  },
  {
   "cell_type": "markdown",
   "id": "ad98d5dc",
   "metadata": {},
   "source": [
    "Fortunately, the protein bulk metabolite is the only product with an unknown molecular weight, so I can use the same approach as before to compute the molecular weight."
   ]
  },
  {
   "cell_type": "code",
   "execution_count": null,
   "id": "f6eb0562",
   "metadata": {},
   "outputs": [],
   "source": [
    "protein_pseudoreaction = model.reactions.get_by_id('r_4047')\n",
    "    \n",
    "MW_PROTEIN = -sum(\n",
    "    [formula_weight(elements(metabolite.formula)) * coeff\n",
    "     for metabolite, coeff in protein_pseudoreaction.metabolites.items()]\n",
    ")\n",
    "print(MW_PROTEIN)"
   ]
  },
  {
   "cell_type": "markdown",
   "id": "486036d8",
   "metadata": {},
   "source": [
    "## Lipids"
   ]
  },
  {
   "cell_type": "markdown",
   "id": "82164088",
   "metadata": {},
   "source": [
    "Finally, the lipid metabolite is the least straightforward because some of the reactants do not\n",
    "have molecular weights specified. The lipid pseudoreaction is represented in reaction r_2108:"
   ]
  },
  {
   "cell_type": "code",
   "execution_count": null,
   "id": "869a254f",
   "metadata": {},
   "outputs": [],
   "source": [
    "model.reactions.get_by_id('r_2108')"
   ]
  },
  {
   "cell_type": "markdown",
   "id": "d5c5b061",
   "metadata": {},
   "source": [
    "Both `lipid backbone` and `lipid chain` have no molecular weight specified."
   ]
  },
  {
   "cell_type": "code",
   "execution_count": null,
   "id": "0aca04ef",
   "metadata": {},
   "outputs": [],
   "source": [
    "print_formula_weights(model.reactions.get_by_id('r_2108'))"
   ]
  },
  {
   "cell_type": "markdown",
   "id": "698227a5",
   "metadata": {},
   "source": [
    "### Lipid chain"
   ]
  },
  {
   "cell_type": "markdown",
   "id": "7b2b61f3",
   "metadata": {},
   "source": [
    "Reaction r_4065 specifies a lipid chain pseudoreaction, in which lipid chain is generated:"
   ]
  },
  {
   "cell_type": "code",
   "execution_count": null,
   "id": "209eb255",
   "metadata": {},
   "outputs": [],
   "source": [
    "print_formula_weights(model.reactions.get_by_id('r_4065'))"
   ]
  },
  {
   "cell_type": "markdown",
   "id": "404ca381",
   "metadata": {},
   "source": [
    "As all reactants have molecular weights defined in the model, the molecular weight of lipid\n",
    "chain can be computed from the mass balance of this reaction."
   ]
  },
  {
   "cell_type": "code",
   "execution_count": null,
   "id": "61a2ab16",
   "metadata": {},
   "outputs": [],
   "source": [
    "MW_LIPID_CHAIN = mw_from_reaction(model.reactions.get_by_id('r_4065'))\n",
    "print(MW_LIPID_CHAIN)"
   ]
  },
  {
   "cell_type": "markdown",
   "id": "43629ab1",
   "metadata": {},
   "source": [
    "### Lipid backbone"
   ]
  },
  {
   "cell_type": "markdown",
   "id": "ad41a6f9",
   "metadata": {},
   "source": [
    "Reaction r_4063 specifies a lipid backbone pseudoreaction, in which lipid backbone is\n",
    "generated:"
   ]
  },
  {
   "cell_type": "code",
   "execution_count": null,
   "id": "b62700cb",
   "metadata": {},
   "outputs": [],
   "source": [
    "print_formula_weights(model.reactions.get_by_id('r_4063'))"
   ]
  },
  {
   "cell_type": "markdown",
   "id": "e9ad18d5",
   "metadata": {},
   "source": [
    "Within this reaction, all reactants have defined molecular weights except for `fatty acid\n",
    "backbone`. Four reactions in the model produce `fatty acid backbone`."
   ]
  },
  {
   "cell_type": "code",
   "execution_count": null,
   "id": "7245122d",
   "metadata": {},
   "outputs": [],
   "source": [
    "fab_reaction_list = ['r_3975', 'r_3976', 'r_3977', 'r_3978']\n",
    "mw_fab_list = []\n",
    "\n",
    "for fab_reaction_id in fab_reaction_list:\n",
    "    print(f'ID: {fab_reaction_id}')\n",
    "    fab_reaction = model.reactions.get_by_id(fab_reaction_id)\n",
    "    print(f'Reaction: {fab_reaction.reaction}')\n",
    "    mw = mw_from_reaction(fab_reaction)\n",
    "    # Stoichiometric coefficient of fatty acid backbone is not 1\n",
    "    # in these reactions\n",
    "    mw /= fab_reaction.metabolites[model.metabolites.get_by_id('s_0694[c]')]\n",
    "    print(f'Computed molecular weight: {mw}')\n",
    "    mw_fab_list.append(mw)\n",
    "    print('\\n')"
   ]
  },
  {
   "cell_type": "markdown",
   "id": "e2f82803",
   "metadata": {},
   "source": [
    "Note: the molecular weights computed from each equation\n",
    "are different, as shown above. Since the differences are slight, and ultimately I\n",
    "am making a back-of-the-envelope calculation, I took the average of the four weights."
   ]
  },
  {
   "cell_type": "code",
   "execution_count": null,
   "id": "fc736d27",
   "metadata": {},
   "outputs": [],
   "source": [
    "MW_FATTY_ACID_BACKBONE = np.mean(mw_fab_list)\n",
    "print(MW_FATTY_ACID_BACKBONE)"
   ]
  },
  {
   "cell_type": "markdown",
   "id": "1cbf8ad4",
   "metadata": {},
   "source": [
    "Now, I feed this number back into the lipid backbone pseudoreaction."
   ]
  },
  {
   "cell_type": "code",
   "execution_count": null,
   "id": "f42dae95",
   "metadata": {},
   "outputs": [],
   "source": [
    "# I can do this because the stoichiometric constant of\n",
    "# the lipid backbone bulk metabolite is 1.\n",
    "MW_LIPID_BACKBONE = 0\n",
    "for metabolite, coeff in model.reactions.get_by_id('r_4063').metabolites.items():\n",
    "    if metabolite.id == 's_0694':\n",
    "        MW_LIPID_BACKBONE += coeff * MW_FATTY_ACID_BACKBONE\n",
    "    else:\n",
    "        MW_LIPID_BACKBONE += coeff * metabolite.formula_weight\n",
    "MW_LIPID_BACKBONE = -MW_LIPID_BACKBONE\n",
    "print(MW_LIPID_BACKBONE)"
   ]
  },
  {
   "cell_type": "markdown",
   "id": "11c540b7",
   "metadata": {},
   "source": [
    "### Altogether"
   ]
  },
  {
   "cell_type": "code",
   "execution_count": null,
   "id": "356d1467",
   "metadata": {},
   "outputs": [],
   "source": [
    "MW_LIPID = MW_LIPID_BACKBONE + MW_LIPID_CHAIN\n",
    "print(MW_LIPID)"
   ]
  },
  {
   "cell_type": "markdown",
   "id": "75e84bbc",
   "metadata": {},
   "source": [
    "## Biomass"
   ]
  },
  {
   "cell_type": "markdown",
   "id": "7dad2081",
   "metadata": {},
   "source": [
    "The molecular weight of biomass is simply the molecular weights of each bulk metabolite added together.\n",
    "\n",
    "Note that H2O, ATP, ADP, and Pi are involved in the reaction too.  But, as they are already mass-balanced, they can be ignored in this calculation."
   ]
  },
  {
   "cell_type": "code",
   "execution_count": null,
   "id": "de38e486",
   "metadata": {},
   "outputs": [],
   "source": [
    "MW_BIOMASS = MW_PROTEIN + MW_CARB + MW_RNA + MW_LIPID + MW_COFACTOR + MW_DNA + MW_ION\n",
    "print(MW_BIOMASS)"
   ]
  },
  {
   "cell_type": "markdown",
   "id": "db373254",
   "metadata": {},
   "source": [
    "# Modify biomass reaction by ablating each type of macromolecule"
   ]
  },
  {
   "cell_type": "code",
   "execution_count": null,
   "id": "d0efd7e0",
   "metadata": {},
   "outputs": [],
   "source": [
    "model = cobra.io.read_sbml_model(\"./models/ecYeastGEM_batch.xml\")"
   ]
  },
  {
   "cell_type": "markdown",
   "id": "ada34a4c",
   "metadata": {},
   "source": [
    "## Some convenience classes"
   ]
  },
  {
   "cell_type": "code",
   "execution_count": null,
   "id": "c0ecde3d",
   "metadata": {},
   "outputs": [],
   "source": [
    "CELL_DRY_MASS = 15e-12 # g\n",
    "\n",
    "class BiomassComponent():\n",
    "    def __init__(\n",
    "        self,\n",
    "        metabolite_label,\n",
    "        metabolite_id,\n",
    "        pseudoreaction,\n",
    "        molecular_mass,\n",
    "        mass_per_cell,\n",
    "        copy_number,\n",
    "    ):\n",
    "        self.metabolite_label = metabolite_label\n",
    "        self.metabolite_id = metabolite_id\n",
    "        self.pseudoreaction = pseudoreaction\n",
    "        self.molecular_mass = molecular_mass # g/mmol\n",
    "        self.mass_per_cell = mass_per_cell # g\n",
    "        self.copy_number = copy_number\n",
    "        \n",
    "        self.ablated_flux = None # h-1\n",
    "        self.est_time = None # h\n",
    "        \n",
    "    def get_est_time(self):\n",
    "        self.est_time = 1/self.ablated_flux        "
   ]
  },
  {
   "cell_type": "markdown",
   "id": "6980b425",
   "metadata": {},
   "source": [
    "We use molecular weights calculated earlier and other attributes from the cell economics project."
   ]
  },
  {
   "cell_type": "code",
   "execution_count": null,
   "id": "7aeb39d1",
   "metadata": {},
   "outputs": [],
   "source": [
    "MW_CARB = 368.03795704972003\n",
    "MW_DNA = 3.9060196439999997\n",
    "MW_RNA = 64.04235752722991\n",
    "MW_PROTEIN = 504.3744234012359\n",
    "MW_COFACTOR = 4.832782477018401\n",
    "MW_ION = 2.4815607543700002\n",
    "MW_LIPID = 31.5659867112958\n",
    "MW_BIOMASS = 979.24108756487"
   ]
  },
  {
   "cell_type": "code",
   "execution_count": null,
   "id": "de2b91cb",
   "metadata": {},
   "outputs": [],
   "source": [
    "# TODO:\n",
    "# - Create CSV table containing these\n",
    "# - Create a class builder that builds these classes based on the CSV table\n",
    "# - FURTHER: make it able to deal with ranges of values (lower limit, upper limit)\n",
    "\n",
    "Lipids = BiomassComponent(\n",
    "    metabolite_label='lipid',\n",
    "    metabolite_id='s_1096[c]',\n",
    "    pseudoreaction='r_2108',\n",
    "    molecular_mass=MW_LIPID*1e-3,\n",
    "    mass_per_cell=900e-15,\n",
    "    copy_number=1e9,\n",
    ")\n",
    "\n",
    "Proteins = BiomassComponent(\n",
    "    metabolite_label='protein',\n",
    "    metabolite_id='s_3717[c]',\n",
    "    pseudoreaction='r_4047',\n",
    "    molecular_mass=MW_PROTEIN*1e-3,\n",
    "    mass_per_cell=7650e-15,\n",
    "    copy_number=1e8,\n",
    ")\n",
    "\n",
    "Carbohydrates = BiomassComponent(\n",
    "    metabolite_label='carbohydrate',\n",
    "    metabolite_id='s_3718[c]',\n",
    "    pseudoreaction='r_4048',\n",
    "    molecular_mass=MW_CARB*1e-3,\n",
    "    mass_per_cell=(75+3450)*1e-15, # 'storage carbohydrates' + 'structural polymers'\n",
    "    copy_number=2122804981, # estimated from above & avogadro's const\n",
    ")\n",
    "\n",
    "DNA = BiomassComponent(\n",
    "    metabolite_label='DNA',\n",
    "    metabolite_id='s_3720[c]',\n",
    "    pseudoreaction='r_4050',\n",
    "    molecular_mass=MW_DNA*1e-3,\n",
    "    mass_per_cell=75e-15,\n",
    "    copy_number=16,\n",
    ")\n",
    "\n",
    "RNA = BiomassComponent(\n",
    "    metabolite_label='RNA',\n",
    "    metabolite_id='s_3719[c]',\n",
    "    pseudoreaction='r_4049',\n",
    "    molecular_mass=MW_RNA*1e-3,\n",
    "    mass_per_cell=1650e-15,\n",
    "    copy_number=4e6,\n",
    ")\n",
    "\n",
    "Cofactors = BiomassComponent(\n",
    "    metabolite_label='cofactor',\n",
    "    metabolite_id='s_4205[c]',\n",
    "    pseudoreaction='r_4598',\n",
    "    molecular_mass=MW_COFACTOR*1e-3,\n",
    "    mass_per_cell=1,\n",
    "    copy_number=1,\n",
    ")\n",
    "\n",
    "Ions = BiomassComponent(\n",
    "    metabolite_label='ion',\n",
    "    metabolite_id='s_4206[c]',\n",
    "    pseudoreaction='r_4599',\n",
    "    molecular_mass=MW_ION*1e-3,\n",
    "    mass_per_cell=1,\n",
    "    copy_number=1,\n",
    ")"
   ]
  },
  {
   "cell_type": "markdown",
   "id": "63319fab",
   "metadata": {},
   "source": [
    "Copy model"
   ]
  },
  {
   "cell_type": "code",
   "execution_count": null,
   "id": "4dd31c47",
   "metadata": {},
   "outputs": [],
   "source": [
    "model_saved = model.copy()"
   ]
  },
  {
   "cell_type": "markdown",
   "id": "43e25076",
   "metadata": {},
   "source": [
    "Simulate"
   ]
  },
  {
   "cell_type": "code",
   "execution_count": null,
   "id": "aac07401",
   "metadata": {
    "scrolled": false
   },
   "outputs": [],
   "source": [
    "from cobra.util.solver import linear_reaction_coefficients\n",
    "\n",
    "# Set up lists\n",
    "biomass_component_list = [Lipids, Proteins, Carbohydrates, DNA, RNA, Cofactors, Ions]\n",
    "\n",
    "all_metabolite_ids = [\n",
    "    biomass_component.metabolite_id\n",
    "    for biomass_component in biomass_component_list\n",
    "]\n",
    "\n",
    "all_pseudoreaction_ids = [\n",
    "    (biomass_component.metabolite_label, biomass_component.pseudoreaction)\n",
    "    for biomass_component in biomass_component_list\n",
    "]\n",
    "all_pseudoreaction_ids.append(('biomass', 'r_4041'))\n",
    "all_pseudoreaction_ids.append(('objective', 'r_2111'))\n",
    "    \n",
    "def barplot_fluxes(pfba_solution, all_pseudoreactions_ids, plot_title):\n",
    "    plt.subplots()\n",
    "    plt.bar(\n",
    "        [label for (label, _) in all_pseudoreaction_ids],\n",
    "        [pfba_solution.fluxes[pseudoreaction_id]\n",
    "         for (_, pseudoreaction_id) in all_pseudoreaction_ids],\n",
    "    )\n",
    "    plt.ylim((0,3))\n",
    "    plt.title(plot_title)\n",
    "    plt.xticks(rotation=45, ha=\"right\")\n",
    "    \n",
    "# ORIGINAL\n",
    "\n",
    "model = model_saved.copy()\n",
    "# Unrestrict glucose uptake\n",
    "model.reactions.get_by_id('r_1714').bounds = (-1000, 0)\n",
    "# Unrestrict objective function\n",
    "model.reactions.get_by_id('r_2111').bounds = (0, 1000)\n",
    "# Optimise using parsimonious FBA\n",
    "pfba_solution = cobra.flux_analysis.pfba(model)\n",
    "\n",
    "# Outputs\n",
    "barplot_fluxes(pfba_solution, all_pseudoreaction_ids, plot_title='original')\n",
    "print(f'Flux: {pfba_solution.fluxes[\"r_2111\"]} h-1')\n",
    "biomass_time = 1/(pfba_solution.fluxes['r_2111'])\n",
    "print(f'Estimated time: {biomass_time:.4f} hours')\n",
    "print('\\n')\n",
    "\n",
    "# ABLATED\n",
    "\n",
    "for biomass_component in biomass_component_list:\n",
    "    print(f'Prioritising {biomass_component.metabolite_label}')\n",
    "    model = model_saved.copy()\n",
    "    model.reactions.get_by_id('r_1714').bounds = (-1000, 0)\n",
    "    model.reactions.get_by_id('r_2111').bounds = (0, 1000)\n",
    "    \n",
    "    # boilerplate: lookup\n",
    "    to_ablate = all_metabolite_ids.copy()\n",
    "    to_ablate.remove(biomass_component.metabolite_id)\n",
    "    to_ablate_keys = [\n",
    "        model.metabolites.get_by_id(metabolite_id)\n",
    "        for metabolite_id in to_ablate\n",
    "    ]\n",
    "    to_ablate_dict = dict(zip(to_ablate_keys, [-1]*len(to_ablate_keys)))\n",
    "    \n",
    "    # ablate metabolites from biomass reaction\n",
    "    model.reactions.get_by_id('r_4041').subtract_metabolites(to_ablate_dict)\n",
    "    \n",
    "    # change objective\n",
    "#    model.objective = biomass_component.pseudoreaction\n",
    "#    print(linear_reaction_coefficients(model))\n",
    "    \n",
    "    # optimise model\n",
    "    #pfba_solution = cobra.flux_analysis.pfba(model)\n",
    "    fba_solution = model.optimize()\n",
    "    \n",
    "    # Outputs\n",
    "    biomass_component.ablated_flux = fba_solution.fluxes[\"r_2111\"]\n",
    "\n",
    "    barplot_fluxes(\n",
    "        fba_solution,\n",
    "        all_pseudoreaction_ids,\n",
    "        plot_title=f'Prioritising {biomass_component.metabolite_label}'\n",
    "    )\n",
    "    print(f'Flux: {fba_solution.fluxes[\"r_2111\"]} h-1')\n",
    "    biomass_component.get_est_time()\n",
    "    print(f'Estimated time: {biomass_component.est_time:.4f} hours')\n",
    "    print('\\n')\n",
    "    \n",
    "total_time = sum([biomass_component.est_time for biomass_component in biomass_component_list])\n",
    "print(f'sum of times: {total_time:.4f} hours')"
   ]
  },
  {
   "cell_type": "markdown",
   "id": "adfacf46",
   "metadata": {},
   "source": [
    "# Demand reactions"
   ]
  },
  {
   "cell_type": "code",
   "execution_count": null,
   "id": "781a39a7",
   "metadata": {},
   "outputs": [],
   "source": [
    "model = model_saved\n",
    "\n",
    "biomass_component_list = [Lipids, Proteins, Carbohydrates, DNA, RNA, Cofactors, Ions]\n",
    "\n",
    "all_metabolite_ids = [\n",
    "    biomass_component.metabolite_id\n",
    "    for biomass_component in biomass_component_list\n",
    "]\n",
    "\n",
    "# Create demand reactions for all bulk pseudometabolites\n",
    "for metabolite_id in all_metabolite_ids:\n",
    "    model.add_boundary(model.metabolites.get_by_id(metabolite_id), type='demand')\n",
    "    \n",
    "# Set exchange reaction bounds\n",
    "model.reactions.get_by_id('r_1714').bounds = (-1000, 0)\n",
    "model.reactions.get_by_id('r_2111').bounds = (0, 1000)"
   ]
  },
  {
   "cell_type": "code",
   "execution_count": null,
   "id": "7b837104",
   "metadata": {},
   "outputs": [],
   "source": [
    "model.reactions.get_by_id('DM_s_1096[c]')"
   ]
  },
  {
   "cell_type": "code",
   "execution_count": null,
   "id": "a48f312f",
   "metadata": {},
   "outputs": [],
   "source": [
    "for biomass_component in biomass_component_list:\n",
    "    demand_reaction_id = 'DM_' + biomass_component.metabolite_id\n",
    "    print(f'{demand_reaction_id} ({biomass_component.metabolite_label})')\n",
    "    model.objective = demand_reaction_id\n",
    "    pfba_solution = cobra.flux_analysis.pfba(model)\n",
    "    print(f'Demand rxn flux: {pfba_solution.fluxes[demand_reaction_id]} h-1')\n",
    "    print(f'Growth rate: {pfba_solution.fluxes[\"r_4041\"]} h-1')\n",
    "    time = 1/(pfba_solution.fluxes[demand_reaction_id])\n",
    "    print(f'Time: {time} h')"
   ]
  }
 ],
 "metadata": {
  "kernelspec": {
   "display_name": "fba",
   "language": "python",
   "name": "fba"
  },
  "language_info": {
   "codemirror_mode": {
    "name": "ipython",
    "version": 3
   },
   "file_extension": ".py",
   "mimetype": "text/x-python",
   "name": "python",
   "nbconvert_exporter": "python",
   "pygments_lexer": "ipython3",
   "version": "3.7.9"
  }
 },
 "nbformat": 4,
 "nbformat_minor": 5
}

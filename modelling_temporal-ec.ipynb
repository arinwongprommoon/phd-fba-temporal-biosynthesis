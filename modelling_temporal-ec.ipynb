{
 "cells": [
  {
   "cell_type": "markdown",
   "id": "98316e56",
   "metadata": {},
   "source": [
    "Import dependencies"
   ]
  },
  {
   "cell_type": "code",
   "execution_count": null,
   "id": "03a24339",
   "metadata": {},
   "outputs": [],
   "source": [
    "%reload_ext autoreload\n",
    "%autoreload 1\n",
    "%matplotlib inline\n",
    "\n",
    "import matplotlib.pyplot as plt\n",
    "import numpy as np\n",
    "import cobra\n",
    "import escher"
   ]
  },
  {
   "cell_type": "markdown",
   "id": "5bbc1424",
   "metadata": {},
   "source": [
    "# Load model"
   ]
  },
  {
   "cell_type": "code",
   "execution_count": null,
   "id": "071b1ef0",
   "metadata": {},
   "outputs": [],
   "source": [
    "# Enzyme-constrained Yeast 8\n",
    "model = cobra.io.load_yaml_model(\"./models/ecYeastGEMfull.yml\")\n",
    "model"
   ]
  },
  {
   "cell_type": "markdown",
   "id": "167bcafb",
   "metadata": {},
   "source": [
    "# Inspect functions, metabolites, and reactions"
   ]
  },
  {
   "cell_type": "markdown",
   "id": "4f1b703f",
   "metadata": {},
   "source": [
    "Objective function is `GROWTH` in the yeast-GEM model, inspecting it and related reactions:"
   ]
  },
  {
   "cell_type": "code",
   "execution_count": null,
   "id": "f00fa83a",
   "metadata": {},
   "outputs": [],
   "source": [
    "model.reactions.get_by_id('r_4041')"
   ]
  },
  {
   "cell_type": "code",
   "execution_count": null,
   "id": "53774998",
   "metadata": {},
   "outputs": [],
   "source": [
    "model.metabolites.get_by_id('s_0450')"
   ]
  },
  {
   "cell_type": "code",
   "execution_count": null,
   "id": "e38d56f5",
   "metadata": {},
   "outputs": [],
   "source": [
    "# This is the biomass pseudoreaction -- we're interested in the stoichiometry of this.\n",
    "biomass = model.reactions.get_by_id('r_4041')\n",
    "biomass\n",
    "# Conveniently, it has one 'metabolite' for all lipids, one for all proteins,\n",
    "# one for RNA, etc.  We want to remove each in turn, so if it's written in this way,\n",
    "# it's super easy to do so."
   ]
  },
  {
   "cell_type": "code",
   "execution_count": null,
   "id": "a17bc7fe",
   "metadata": {},
   "outputs": [],
   "source": [
    "def print_formula_weights(reaction):\n",
    "    print('reactants')\n",
    "    for reactant in reaction.reactants:\n",
    "        print(f'{reactant.id}: MW {reactant.formula_weight}')\n",
    "    print('products')\n",
    "    for product in reaction.products:\n",
    "        print(f'{product.id}: MW {product.formula_weight}')\n",
    "        \n",
    "print_formula_weights(biomass)"
   ]
  },
  {
   "cell_type": "markdown",
   "id": "15922521",
   "metadata": {},
   "source": [
    "Inspecting each type of macromolecule..."
   ]
  },
  {
   "cell_type": "markdown",
   "id": "192393d8",
   "metadata": {},
   "source": [
    "## Lipid"
   ]
  },
  {
   "cell_type": "code",
   "execution_count": null,
   "id": "41c0f7cb",
   "metadata": {},
   "outputs": [],
   "source": [
    "model.metabolites.get_by_id('s_1096')"
   ]
  },
  {
   "cell_type": "code",
   "execution_count": null,
   "id": "cc3e810b",
   "metadata": {},
   "outputs": [],
   "source": [
    "# Lipid pseudoreaction is combining 'bulk' lipid backbone and 'bulk' lipid chain substrates\n",
    "lipid_reaction = model.reactions.get_by_id('r_2108')\n",
    "lipid_reaction"
   ]
  },
  {
   "cell_type": "code",
   "execution_count": null,
   "id": "6a0ef992",
   "metadata": {},
   "outputs": [],
   "source": [
    "print_formula_weights(lipid_reaction)"
   ]
  },
  {
   "cell_type": "code",
   "execution_count": null,
   "id": "3c6df71b",
   "metadata": {},
   "outputs": [],
   "source": [
    "model.metabolites.get_by_id('s_3746')"
   ]
  },
  {
   "cell_type": "code",
   "execution_count": null,
   "id": "df261049",
   "metadata": {},
   "outputs": [],
   "source": [
    "lipid_backbone_reaction = model.reactions.get_by_id('r_4063')\n",
    "lipid_backbone_reaction"
   ]
  },
  {
   "cell_type": "code",
   "execution_count": null,
   "id": "850c9f6b",
   "metadata": {},
   "outputs": [],
   "source": [
    "print_formula_weights(lipid_backbone_reaction)"
   ]
  },
  {
   "cell_type": "code",
   "execution_count": null,
   "id": "574bcdcd",
   "metadata": {},
   "outputs": [],
   "source": [
    "model.metabolites.get_by_id('s_0694')"
   ]
  },
  {
   "cell_type": "code",
   "execution_count": null,
   "id": "dd424fce",
   "metadata": {},
   "outputs": [],
   "source": [
    "fatty_acid_backbone_reaction = model.reactions.get_by_id('r_3978')\n",
    "fatty_acid_backbone_reaction"
   ]
  },
  {
   "cell_type": "markdown",
   "id": "1c33c550",
   "metadata": {},
   "source": [
    "Protein"
   ]
  },
  {
   "cell_type": "code",
   "execution_count": null,
   "id": "bde91d3a",
   "metadata": {},
   "outputs": [],
   "source": [
    "model.metabolites.get_by_id('s_3717')"
   ]
  },
  {
   "cell_type": "code",
   "execution_count": null,
   "id": "bce7b91f",
   "metadata": {},
   "outputs": [],
   "source": [
    "# Protein pseudoreaction is combining aminoacyl-tRNAs\n",
    "model.reactions.get_by_id('r_4047')"
   ]
  },
  {
   "cell_type": "markdown",
   "id": "e3be50a4",
   "metadata": {},
   "source": [
    "Carbohydrates"
   ]
  },
  {
   "cell_type": "code",
   "execution_count": null,
   "id": "972e9760",
   "metadata": {},
   "outputs": [],
   "source": [
    "model.metabolites.get_by_id('s_3718')"
   ]
  },
  {
   "cell_type": "code",
   "execution_count": null,
   "id": "34e9019f",
   "metadata": {},
   "outputs": [],
   "source": [
    "# Carbohydrate pseudoreaction is all the storage and structural (cell wall) ones together\n",
    "model.reactions.get_by_id('r_4048')"
   ]
  },
  {
   "cell_type": "markdown",
   "id": "c5cca786",
   "metadata": {},
   "source": [
    "DNA"
   ]
  },
  {
   "cell_type": "code",
   "execution_count": null,
   "id": "ad673cf1",
   "metadata": {},
   "outputs": [],
   "source": [
    "model.metabolites.get_by_id('s_3720')"
   ]
  },
  {
   "cell_type": "code",
   "execution_count": null,
   "id": "769ad969",
   "metadata": {},
   "outputs": [],
   "source": [
    "# DNA pseudoreaction is combining dNTPs\n",
    "model.reactions.get_by_id('r_4050')"
   ]
  },
  {
   "cell_type": "markdown",
   "id": "7d0b3c97",
   "metadata": {},
   "source": [
    "RNA"
   ]
  },
  {
   "cell_type": "code",
   "execution_count": null,
   "id": "0144bdf7",
   "metadata": {},
   "outputs": [],
   "source": [
    "model.metabolites.get_by_id('s_3719')"
   ]
  },
  {
   "cell_type": "code",
   "execution_count": null,
   "id": "9a8b4bca",
   "metadata": {},
   "outputs": [],
   "source": [
    "# RNA pseudoreaction is combining NTPs\n",
    "model.reactions.get_by_id('r_4049')"
   ]
  },
  {
   "cell_type": "markdown",
   "id": "888cd23b",
   "metadata": {},
   "source": [
    "# Unmodified model"
   ]
  },
  {
   "cell_type": "markdown",
   "id": "3f5a7716",
   "metadata": {},
   "source": [
    "Limit glucose uptake (minimal media)"
   ]
  },
  {
   "cell_type": "code",
   "execution_count": null,
   "id": "372853f5",
   "metadata": {},
   "outputs": [],
   "source": [
    "# TODO, find a sensible number.\n",
    "# Sánchez et al. (2017) keep the uptake for the carbon substrate (glucose, sucrose, etc.) unrestricted.\n",
    "# Alternatively, I can use the same logic as for the citramalate project.\n",
    "model.reactions.EX_glc__D_e.bounds = (-18.5, 1)"
   ]
  },
  {
   "cell_type": "markdown",
   "id": "7b8681a1",
   "metadata": {},
   "source": [
    "Simulate model and draw fluxes through central carbon metabolism"
   ]
  },
  {
   "cell_type": "code",
   "execution_count": null,
   "id": "ebd2bc00",
   "metadata": {},
   "outputs": [],
   "source": [
    "solution = model.optimize()\n",
    "b = escher.Builder(\n",
    "    map_name='iMM904.Central carbon metabolism',\n",
    "    reaction_data=solution.fluxes.to_dict()\n",
    ")\n",
    "b"
   ]
  },
  {
   "cell_type": "markdown",
   "id": "f150db24",
   "metadata": {},
   "source": [
    "Get flux through biomass reaction"
   ]
  },
  {
   "cell_type": "code",
   "execution_count": null,
   "id": "22014b87",
   "metadata": {},
   "outputs": [],
   "source": [
    "biomass = model.reactions.get_by_id('r_4041')\n",
    "print(f'Flux through biomass reaction is {biomass.flux:.4f} mmol/(gDW h)')"
   ]
  },
  {
   "cell_type": "markdown",
   "id": "e0aa138c",
   "metadata": {},
   "source": [
    "Estimate timescale for biomass synthesis"
   ]
  },
  {
   "cell_type": "code",
   "execution_count": null,
   "id": "e8f22086",
   "metadata": {},
   "outputs": [],
   "source": [
    "# Define constants\n",
    "CELL_DRY_MASS = 15e-12 # g\n",
    "# Using C:H(1.613):O(0.557):N(0.158) from https://bionumbers.hms.harvard.edu/bionumber.aspx?id=101801\n",
    "# MOLWEIGHT_BIOMASS = 12.011 + 1.613*1.00784 + 0.557*15.999 + 0.158*14.0067\n",
    "# MOLWEIGHT_BIOMASS = 0.966 # g/mmol, Takhaveev et al. (2023)"
   ]
  },
  {
   "cell_type": "code",
   "execution_count": null,
   "id": "47e2ec1b",
   "metadata": {},
   "outputs": [],
   "source": [
    "MOLWEIGHT_BIOMASS"
   ]
  },
  {
   "cell_type": "code",
   "execution_count": null,
   "id": "ba41bf26",
   "metadata": {},
   "outputs": [],
   "source": [
    "biomass_time = 1/(biomass.flux * MOLWEIGHT_BIOMASS)\n",
    "print(f'Estimated time: {biomass_time:.4f} hours')"
   ]
  },
  {
   "cell_type": "markdown",
   "id": "db373254",
   "metadata": {},
   "source": [
    "## Modify biomass reaction by ablating each type of macromolecule"
   ]
  },
  {
   "cell_type": "code",
   "execution_count": null,
   "id": "c0ecde3d",
   "metadata": {},
   "outputs": [],
   "source": [
    "CELL_DRY_MASS = 15e-12 # g\n",
    "\n",
    "class BiomassComponent():\n",
    "    def __init__(\n",
    "        self,\n",
    "        metabolite_label,\n",
    "        metabolite_id,\n",
    "        pseudoreaction,\n",
    "        molecular_mass,\n",
    "        mass_per_cell,\n",
    "        copy_number,\n",
    "    ):\n",
    "        self.metabolite_label = metabolite_label\n",
    "        self.metabolite_id = metabolite_id\n",
    "        self.pseudoreaction = pseudoreaction\n",
    "        self.molecular_mass = molecular_mass # g/mmol\n",
    "        self.mass_per_cell = mass_per_cell # g\n",
    "        self.copy_number = copy_number\n",
    "        \n",
    "        self.ablated_flux = None # mmol/(g DW . h)\n",
    "        self.est_time = None # h\n",
    "        \n",
    "    def get_est_time(self):\n",
    "        #self.est_time = self.mass_per_cell/(CELL_DRY_MASS * self.ablated_flux * self.copy_number * self.molecular_mass)\n",
    "        self.est_time = self.mass_per_cell/(CELL_DRY_MASS * self.ablated_flux * self.molecular_mass)\n",
    "        "
   ]
  },
  {
   "cell_type": "code",
   "execution_count": null,
   "id": "ba69bf03",
   "metadata": {},
   "outputs": [],
   "source": [
    "model_saved = cobra.io.load_yaml_model(\"./models/ecYeastGEMfull.yml\")"
   ]
  },
  {
   "cell_type": "code",
   "execution_count": null,
   "id": "de2b91cb",
   "metadata": {},
   "outputs": [],
   "source": [
    "# TODO:\n",
    "# - Create CSV table containing these\n",
    "# - Create a class builder that builds these classes based on the CSV table\n",
    "# - FURTHER: make it able to deal with ranges of values (lower limit, upper limit)\n",
    "\n",
    "Lipids = BiomassComponent(\n",
    "    metabolite_label='lipid',\n",
    "    metabolite_id='s_1096',\n",
    "    pseudoreaction='r_2108',\n",
    "    molecular_mass=0.800,\n",
    "    mass_per_cell=900e-15,\n",
    "    copy_number=1e9,\n",
    ")\n",
    "\n",
    "Proteins = BiomassComponent(\n",
    "    metabolite_label='protein',\n",
    "    metabolite_id='s_3717',\n",
    "    pseudoreaction='r_4047',\n",
    "    molecular_mass=55,\n",
    "    mass_per_cell=7650e-15,\n",
    "    copy_number=1e8,\n",
    ")\n",
    "\n",
    "Carbohydrates = BiomassComponent(\n",
    "    metabolite_label='carbohydrate',\n",
    "    metabolite_id='s_3718',\n",
    "    pseudoreaction='r_4048',\n",
    "    molecular_mass=1000, # 'variable', so taking the E. coli one\n",
    "    mass_per_cell=(75+3450)*1e-15, # 'storage carbohydrates' + 'structural polymers'\n",
    "    copy_number=2122804981, # estimated from above & avogadro's const\n",
    ")\n",
    "\n",
    "DNA = BiomassComponent(\n",
    "    metabolite_label='DNA',\n",
    "    metabolite_id='s_3720',\n",
    "    pseudoreaction='r_4050',\n",
    "    molecular_mass=2.5e5,\n",
    "    mass_per_cell=75e-15,\n",
    "    copy_number=16,\n",
    ")\n",
    "\n",
    "RNA = BiomassComponent(\n",
    "    metabolite_label='RNA',\n",
    "    metabolite_id='s_3719',\n",
    "    pseudoreaction='r_4049',\n",
    "    molecular_mass=1e2, # 1e4 -- 1e6 Da\n",
    "    mass_per_cell=1650e-15,\n",
    "    copy_number=4e6,\n",
    ")"
   ]
  },
  {
   "cell_type": "code",
   "execution_count": null,
   "id": "aac07401",
   "metadata": {},
   "outputs": [],
   "source": [
    "biomass_component_list = [Lipids, Proteins, Carbohydrates, DNA, RNA]\n",
    "\n",
    "all_metabolite_ids = [\n",
    "    biomass_component.metabolite_id\n",
    "    for biomass_component in biomass_component_list\n",
    "]\n",
    "\n",
    "all_pseudoreaction_ids = [\n",
    "    (biomass_component.metabolite_label, biomass_component.pseudoreaction)\n",
    "    for biomass_component in biomass_component_list\n",
    "]\n",
    "all_pseudoreaction_ids.append(('objective','r_4041'))\n",
    "\n",
    "# original\n",
    "model = model_saved.copy()\n",
    "biomass_reaction = model.reactions.get_by_id('r_4041')\n",
    "biomass_reaction.bounds = (0, 1000)\n",
    "solution = model.optimize()\n",
    "print('original')\n",
    "print(biomass_reaction)\n",
    "print(f'flux of objective function: {biomass_reaction.flux:.4f} mmol/(gDW h)')\n",
    "for metabolite_label, pseudoreaction_id in all_pseudoreaction_ids:\n",
    "    print(f'{metabolite_label} pseudoreaction ({pseudoreaction_id}) flux = {model.reactions.get_by_id(pseudoreaction_id).flux}')\n",
    "plt.subplots()\n",
    "plt.bar(\n",
    "    [label for (label, _) in all_pseudoreaction_ids],\n",
    "    [model.reactions.get_by_id(pseudoreaction_id).flux for (_, pseudoreaction_id) in all_pseudoreaction_ids],\n",
    ")\n",
    "plt.ylim((0,0.15))\n",
    "plt.title('original')\n",
    "#print(f'estimated time: {biomass_component.est_time:.4f} hours')\n",
    "print('\\n')\n",
    "\n",
    "# ablated\n",
    "for biomass_component in biomass_component_list:\n",
    "    # get model\n",
    "    model = model_saved.copy()\n",
    "    # model.reactions.EX_glc__D_e.bounds = (-18.5, 1) # Limit glucose uptake.  TODO, find a sensible number\n",
    "    biomass_reaction = model.reactions.get_by_id('r_4041')\n",
    "    biomass_reaction.bounds = (0, 1000)\n",
    "    \n",
    "    # boilerplate: lookup\n",
    "    to_ablate = all_metabolite_ids.copy()\n",
    "    to_ablate.remove(biomass_component.metabolite_id)\n",
    "    to_ablate_keys = [\n",
    "        model.metabolites.get_by_id(metabolite_id)\n",
    "        for metabolite_id in to_ablate\n",
    "    ]\n",
    "    to_ablate_dict = dict(zip(to_ablate_keys, [-1]*len(to_ablate_keys)))\n",
    "    \n",
    "    # ablate metabolites from biomass reaction\n",
    "    biomass_reaction.subtract_metabolites(to_ablate_dict)\n",
    "    \n",
    "    # optimise model\n",
    "    solution = model.optimize()\n",
    "    biomass_component.ablated_flux = biomass_reaction.flux\n",
    "    biomass_component.get_est_time()\n",
    "    print(f'prioritising {biomass_component.metabolite_label}')\n",
    "    print(biomass_reaction)\n",
    "    print(f'flux of ablated objective function: {biomass_component.ablated_flux:.4f} mmol/(gDW h)')\n",
    "    for metabolite_label, pseudoreaction_id in all_pseudoreaction_ids:\n",
    "        print(f'{metabolite_label} pseudoreaction ({pseudoreaction_id}) flux = {model.reactions.get_by_id(pseudoreaction_id).flux}')\n",
    "    plt.subplots()\n",
    "    plt.bar(\n",
    "        [label for (label, _) in all_pseudoreaction_ids],\n",
    "        [model.reactions.get_by_id(pseudoreaction_id).flux for (_, pseudoreaction_id) in all_pseudoreaction_ids],\n",
    "    )\n",
    "    plt.ylim((0,0.15))\n",
    "    plt.title(f'prioritising {biomass_component.metabolite_label}')\n",
    "    #print(f'estimated time: {biomass_component.est_time:.4f} hours')\n",
    "    print('\\n')\n",
    "    \n",
    "total_time = sum([biomass_component.est_time for biomass_component in biomass_component_list])\n",
    "#print(f'sum of times: {total_time:.4f} hours')"
   ]
  },
  {
   "cell_type": "markdown",
   "id": "4622b835",
   "metadata": {},
   "source": [
    "Draw fluxes through central carbon metabolism"
   ]
  },
  {
   "cell_type": "code",
   "execution_count": null,
   "id": "487e4c31",
   "metadata": {},
   "outputs": [],
   "source": [
    "b = escher.Builder(\n",
    "    map_name='iMM904.Central carbon metabolism',\n",
    "    reaction_data=solution.fluxes.to_dict()\n",
    ")\n",
    "b"
   ]
  },
  {
   "cell_type": "markdown",
   "id": "d79fb95e",
   "metadata": {},
   "source": [
    "Misc"
   ]
  },
  {
   "cell_type": "code",
   "execution_count": null,
   "id": "291d793a",
   "metadata": {},
   "outputs": [],
   "source": [
    "solution.to_frame()[solution.fluxes > 0]"
   ]
  }
 ],
 "metadata": {
  "kernelspec": {
   "display_name": "fba",
   "language": "python",
   "name": "fba"
  },
  "language_info": {
   "codemirror_mode": {
    "name": "ipython",
    "version": 3
   },
   "file_extension": ".py",
   "mimetype": "text/x-python",
   "name": "python",
   "nbconvert_exporter": "python",
   "pygments_lexer": "ipython3",
   "version": "3.7.9"
  }
 },
 "nbformat": 4,
 "nbformat_minor": 5
}

{
 "cells": [
  {
   "cell_type": "markdown",
   "id": "98316e56",
   "metadata": {},
   "source": [
    "Import dependencies"
   ]
  },
  {
   "cell_type": "code",
   "execution_count": null,
   "id": "03a24339",
   "metadata": {},
   "outputs": [],
   "source": [
    "%reload_ext autoreload\n",
    "%autoreload 1\n",
    "%matplotlib inline\n",
    "\n",
    "import matplotlib.pyplot as plt\n",
    "import numpy as np\n",
    "import cobra\n",
    "import escher"
   ]
  },
  {
   "cell_type": "markdown",
   "id": "5bbc1424",
   "metadata": {},
   "source": [
    "# Load model"
   ]
  },
  {
   "cell_type": "code",
   "execution_count": null,
   "id": "071b1ef0",
   "metadata": {},
   "outputs": [],
   "source": [
    "# Enzyme-constrained Yeast 8\n",
    "\n",
    "# https://github.com/SysBioChalmers/GECKO/blob/main/userData/ecYeastGEM/models/ecYeastGEMfull.yml\n",
    "#model = cobra.io.load_yaml_model(\"./models/ecYeastGEMfull.yml\")\n",
    "\n",
    "# https://github.com/SysBioChalmers/ecModels/tree/main/ecYeastGEM/model\n",
    "model = cobra.io.read_sbml_model(\"./models/ecYeastGEM_batch.xml\")\n",
    "\n",
    "model"
   ]
  },
  {
   "cell_type": "markdown",
   "id": "167bcafb",
   "metadata": {},
   "source": [
    "# Inspect functions, metabolites, and reactions"
   ]
  },
  {
   "cell_type": "markdown",
   "id": "4f1b703f",
   "metadata": {},
   "source": [
    "Objective function is `GROWTH` in the yeast-GEM model, inspecting it and related reactions:"
   ]
  },
  {
   "cell_type": "code",
   "execution_count": null,
   "id": "f00fa83a",
   "metadata": {},
   "outputs": [],
   "source": [
    "model.reactions.get_by_id('r_4041')"
   ]
  },
  {
   "cell_type": "code",
   "execution_count": null,
   "id": "53774998",
   "metadata": {},
   "outputs": [],
   "source": [
    "model.metabolites.get_by_id('s_0450')"
   ]
  },
  {
   "cell_type": "code",
   "execution_count": null,
   "id": "e38d56f5",
   "metadata": {},
   "outputs": [],
   "source": [
    "# This is the biomass pseudoreaction -- we're interested in the stoichiometry of this.\n",
    "biomass = model.reactions.get_by_id('r_4041')\n",
    "biomass\n",
    "# Conveniently, it has one 'metabolite' for all lipids, one for all proteins,\n",
    "# one for RNA, etc.  We want to remove each in turn, so if it's written in this way,\n",
    "# it's super easy to do so."
   ]
  },
  {
   "cell_type": "code",
   "execution_count": null,
   "id": "a17bc7fe",
   "metadata": {},
   "outputs": [],
   "source": [
    "def print_formula_weights(reaction):\n",
    "    print('reactants')\n",
    "    for reactant in reaction.reactants:\n",
    "        print(f'{reactant.id} ({reactant.name}): MW {reactant.formula_weight}')\n",
    "    print('products')\n",
    "    for product in reaction.products:\n",
    "        print(f'{product.id} ({product.name}): MW {product.formula_weight}')\n",
    "        \n",
    "print_formula_weights(biomass)"
   ]
  },
  {
   "cell_type": "code",
   "execution_count": null,
   "id": "c5a34138",
   "metadata": {},
   "outputs": [],
   "source": [
    "def print_formulas(reaction):\n",
    "    print('reactants')\n",
    "    for reactant in reaction.reactants:\n",
    "        print(f'{reactant.id} ({reactant.name}): F {reactant.formula}')\n",
    "    print('products')\n",
    "    for product in reaction.products:\n",
    "        print(f'{product.id} ({product.name}): F {product.formula}')\n",
    "        \n",
    "print_formulas(biomass)"
   ]
  },
  {
   "cell_type": "markdown",
   "id": "15922521",
   "metadata": {},
   "source": [
    "Inspecting each type of macromolecule..."
   ]
  },
  {
   "cell_type": "markdown",
   "id": "192393d8",
   "metadata": {},
   "source": [
    "## Lipid"
   ]
  },
  {
   "cell_type": "code",
   "execution_count": null,
   "id": "41c0f7cb",
   "metadata": {},
   "outputs": [],
   "source": [
    "model.metabolites.get_by_id('s_1096')"
   ]
  },
  {
   "cell_type": "code",
   "execution_count": null,
   "id": "cc3e810b",
   "metadata": {},
   "outputs": [],
   "source": [
    "# Lipid pseudoreaction is combining 'bulk' lipid backbone and 'bulk' lipid chain substrates\n",
    "lipid_reaction = model.reactions.get_by_id('r_2108')\n",
    "lipid_reaction"
   ]
  },
  {
   "cell_type": "code",
   "execution_count": null,
   "id": "6a0ef992",
   "metadata": {},
   "outputs": [],
   "source": [
    "print_formula_weights(lipid_reaction)"
   ]
  },
  {
   "cell_type": "code",
   "execution_count": null,
   "id": "3c6df71b",
   "metadata": {},
   "outputs": [],
   "source": [
    "model.metabolites.get_by_id('s_3747')"
   ]
  },
  {
   "cell_type": "code",
   "execution_count": null,
   "id": "df261049",
   "metadata": {},
   "outputs": [],
   "source": [
    "lipid_backbone_reaction = model.reactions.get_by_id('r_4063')\n",
    "lipid_backbone_reaction"
   ]
  },
  {
   "cell_type": "code",
   "execution_count": null,
   "id": "850c9f6b",
   "metadata": {},
   "outputs": [],
   "source": [
    "print_formula_weights(lipid_backbone_reaction)\n",
    "print('')\n",
    "\n",
    "for metabolite, coeff in lipid_backbone_reaction.metabolites.items():\n",
    "    print(f'{metabolite.id}, {coeff}')\n",
    "print('')\n",
    "    \n",
    "est_mw = 0\n",
    "for metabolite, coeff in lipid_backbone_reaction.metabolites.items():\n",
    "    if metabolite.id == 's_0694':\n",
    "        est_mw += coeff * 736.0359\n",
    "    else:\n",
    "        est_mw += coeff * metabolite.formula_weight\n",
    "est_mw = -est_mw\n",
    "\n",
    "print(est_mw)"
   ]
  },
  {
   "cell_type": "code",
   "execution_count": null,
   "id": "574bcdcd",
   "metadata": {},
   "outputs": [],
   "source": [
    "model.metabolites.get_by_id('s_0694')"
   ]
  },
  {
   "cell_type": "code",
   "execution_count": null,
   "id": "dd424fce",
   "metadata": {},
   "outputs": [],
   "source": [
    "fatty_acid_backbone_reaction = model.reactions.get_by_id('r_3978')\n",
    "fatty_acid_backbone_reaction\n",
    "#print_formula_weights(fatty_acid_backbone_reaction)"
   ]
  },
  {
   "cell_type": "code",
   "execution_count": null,
   "id": "a3360616",
   "metadata": {},
   "outputs": [],
   "source": [
    "rxn = model.reactions.get_by_id('r_3978')\n",
    "print_formula_weights(rxn)\n",
    "print(' ')\n",
    "for metabolite, coeff in rxn.metabolites.items():\n",
    "    print(f'{metabolite.id}, {coeff}')\n",
    "fatty_acid_bb_mw = -sum([metabolite.formula_weight * coeff\n",
    "              for metabolite, coeff in rxn.metabolites.items()])\n",
    "fatty_acid_bb_mw /= rxn.metabolites[model.metabolites.get_by_id('s_0694')]\n",
    "print(' ')\n",
    "print(fatty_acid_bb_mw)"
   ]
  },
  {
   "cell_type": "code",
   "execution_count": null,
   "id": "fa50beaa",
   "metadata": {},
   "outputs": [],
   "source": [
    "rxn = model.reactions.get_by_id('r_4065')\n",
    "print_formula_weights(rxn)\n",
    "print(' ')\n",
    "for metabolite, coeff in rxn.metabolites.items():\n",
    "    print(f'{metabolite.id}, {coeff}')\n",
    "lipid_chain_mw = -sum([metabolite.formula_weight * coeff\n",
    "              for metabolite, coeff in rxn.metabolites.items()])\n",
    "print(' ')\n",
    "print(lipid_chain_mw)"
   ]
  },
  {
   "cell_type": "markdown",
   "id": "1c33c550",
   "metadata": {},
   "source": [
    "Protein"
   ]
  },
  {
   "cell_type": "code",
   "execution_count": null,
   "id": "bde91d3a",
   "metadata": {},
   "outputs": [],
   "source": [
    "model.metabolites.get_by_id('s_3717')"
   ]
  },
  {
   "cell_type": "code",
   "execution_count": null,
   "id": "bce7b91f",
   "metadata": {},
   "outputs": [],
   "source": [
    "# Protein pseudoreaction is combining aminoacyl-tRNAs\n",
    "model.reactions.get_by_id('r_4047')"
   ]
  },
  {
   "cell_type": "code",
   "execution_count": null,
   "id": "5940bee5",
   "metadata": {},
   "outputs": [],
   "source": [
    "protein_pseudoreaction = model.reactions.get_by_id('r_4047')\n",
    "print_formulas(protein_pseudoreaction)"
   ]
  },
  {
   "cell_type": "code",
   "execution_count": null,
   "id": "b5f48689",
   "metadata": {},
   "outputs": [],
   "source": [
    "# hack: reverse-engineering cobra.core.formula and cobra.core.metabolite\n",
    "# so it can deal with an 'R' element\n",
    "import re\n",
    "from typing import TYPE_CHECKING, Dict, Optional, Union\n",
    "from cobra.core.formula import elements_and_molecular_weights\n",
    "\n",
    "element_re = re.compile(\"([A-Z][a-z]?)([0-9.]+[0-9.]?|(?=[A-Z])?)\")\n",
    "elements_and_molecular_weights['R'] = 0\n",
    "\n",
    "def elements(formula) -> Optional[Dict[str, Union[int, float]]]:\n",
    "    \"\"\"Get dicitonary of elements and counts.\n",
    "\n",
    "    Dictionary of elements as keys and their count in the metabolite\n",
    "    as integer. When set, the `formula` property is updated accordingly.\n",
    "\n",
    "    Returns\n",
    "    -------\n",
    "    composition: None or Dict\n",
    "        A dictionary of elements and counts, where count is int unless it is needed\n",
    "        to be a float.\n",
    "        Returns None in case of error.\n",
    "\n",
    "    \"\"\"\n",
    "    tmp_formula = formula\n",
    "    if tmp_formula is None:\n",
    "        return {}\n",
    "    # necessary for some old pickles which use the deprecated\n",
    "    # Formula class\n",
    "    tmp_formula = str(formula)\n",
    "    # commonly occurring characters in incorrectly constructed formulas\n",
    "    if \"*\" in tmp_formula:\n",
    "        warn(f\"invalid character '*' found in formula '{formula}'\")\n",
    "        tmp_formula = tmp_formula.replace(\"*\", \"\")\n",
    "    if \"(\" in tmp_formula or \")\" in tmp_formula:\n",
    "        warn(f\"invalid formula (has parenthesis) in '{formula}'\")\n",
    "        return None\n",
    "    composition = {}\n",
    "    parsed = element_re.findall(tmp_formula)\n",
    "    for element, count in parsed:\n",
    "        if count == \"\":\n",
    "            count = 1\n",
    "        else:\n",
    "            try:\n",
    "                count = float(count)\n",
    "                int_count = int(count)\n",
    "                if count == int_count:\n",
    "                    count = int_count\n",
    "                else:\n",
    "                    warn(f\"{count} is not an integer (in formula {formula})\")\n",
    "            except ValueError:\n",
    "                warn(f\"failed to parse {count} (in formula {formula})\")\n",
    "                return None\n",
    "        if element in composition:\n",
    "            composition[element] += count\n",
    "        else:\n",
    "            composition[element] = count\n",
    "    return composition\n",
    "\n",
    "def formula_weight(elements) -> Union[int, float]:\n",
    "    \"\"\"Calculate the formula weight.\n",
    "\n",
    "    Returns\n",
    "    ------\n",
    "    float, int\n",
    "        Weight of formula, based on the weight and count of elements. Can be int if\n",
    "        the formula weight is a whole number, but unlikely.\n",
    "    \"\"\"\n",
    "    try:\n",
    "        return sum(\n",
    "            [\n",
    "                count * elements_and_molecular_weights[element]\n",
    "                for element, count in elements.items()\n",
    "            ]\n",
    "        )\n",
    "    except KeyError as e:\n",
    "        warn(f\"The element {e} does not appear in the periodic table\")"
   ]
  },
  {
   "cell_type": "code",
   "execution_count": null,
   "id": "840990b7",
   "metadata": {},
   "outputs": [],
   "source": [
    "for metabolite, coeff in protein_pseudoreaction.metabolites.items():\n",
    "    print(f'{metabolite.formula}, {formula_weight(elements(metabolite.formula))}, {coeff}')\n",
    "    \n",
    "protein_mw = -sum([formula_weight(elements(metabolite.formula)) * coeff\n",
    "              for metabolite, coeff in protein_pseudoreaction.metabolites.items()])\n",
    "protein_mw"
   ]
  },
  {
   "cell_type": "code",
   "execution_count": null,
   "id": "4a66aab8",
   "metadata": {},
   "outputs": [],
   "source": [
    "model.metabolites.get_by_id('s_1582')"
   ]
  },
  {
   "cell_type": "markdown",
   "id": "e3be50a4",
   "metadata": {},
   "source": [
    "Carbohydrates"
   ]
  },
  {
   "cell_type": "code",
   "execution_count": null,
   "id": "972e9760",
   "metadata": {},
   "outputs": [],
   "source": [
    "model.metabolites.get_by_id('s_3718')"
   ]
  },
  {
   "cell_type": "code",
   "execution_count": null,
   "id": "34e9019f",
   "metadata": {},
   "outputs": [],
   "source": [
    "# Carbohydrate pseudoreaction is all the storage and structural (cell wall) ones together\n",
    "model.reactions.get_by_id('r_4048')"
   ]
  },
  {
   "cell_type": "code",
   "execution_count": null,
   "id": "6cda0ed1",
   "metadata": {},
   "outputs": [],
   "source": [
    "carbohydrate_pseudoreaction = model.reactions.get_by_id('r_4048')\n",
    "print_formula_weights(carbohydrate_pseudoreaction)"
   ]
  },
  {
   "cell_type": "code",
   "execution_count": null,
   "id": "4b4284aa",
   "metadata": {},
   "outputs": [],
   "source": [
    "carb_mw = -sum([metabolite.formula_weight * coeff\n",
    "              for metabolite, coeff in carbohydrate_pseudoreaction.metabolites.items()])\n",
    "carb_mw"
   ]
  },
  {
   "cell_type": "markdown",
   "id": "c5cca786",
   "metadata": {},
   "source": [
    "DNA"
   ]
  },
  {
   "cell_type": "code",
   "execution_count": null,
   "id": "ad673cf1",
   "metadata": {},
   "outputs": [],
   "source": [
    "model.metabolites.get_by_id('s_3720')"
   ]
  },
  {
   "cell_type": "code",
   "execution_count": null,
   "id": "769ad969",
   "metadata": {},
   "outputs": [],
   "source": [
    "# DNA pseudoreaction is combining dNTPs\n",
    "dna_pseudoreaction = model.reactions.get_by_id('r_4050')"
   ]
  },
  {
   "cell_type": "code",
   "execution_count": null,
   "id": "b16eb458",
   "metadata": {},
   "outputs": [],
   "source": [
    "dna_mw = -sum([metabolite.formula_weight * coeff\n",
    "              for metabolite, coeff in dna_pseudoreaction.metabolites.items()])\n",
    "dna_mw"
   ]
  },
  {
   "cell_type": "markdown",
   "id": "7d0b3c97",
   "metadata": {},
   "source": [
    "RNA"
   ]
  },
  {
   "cell_type": "code",
   "execution_count": null,
   "id": "0144bdf7",
   "metadata": {},
   "outputs": [],
   "source": [
    "model.metabolites.get_by_id('s_3719')"
   ]
  },
  {
   "cell_type": "code",
   "execution_count": null,
   "id": "9a8b4bca",
   "metadata": {},
   "outputs": [],
   "source": [
    "# RNA pseudoreaction is combining NTPs\n",
    "model.reactions.get_by_id('r_4049')"
   ]
  },
  {
   "cell_type": "code",
   "execution_count": null,
   "id": "0019e2f3",
   "metadata": {},
   "outputs": [],
   "source": [
    "rna_pseudoreaction = model.reactions.get_by_id('r_4049')\n",
    "print_formula_weights(rna_pseudoreaction)"
   ]
  },
  {
   "cell_type": "code",
   "execution_count": null,
   "id": "509a7ac0",
   "metadata": {},
   "outputs": [],
   "source": [
    "rna_mw = -sum([metabolite.formula_weight * coeff\n",
    "              for metabolite, coeff in rna_pseudoreaction.metabolites.items()])\n",
    "rna_mw"
   ]
  },
  {
   "cell_type": "markdown",
   "id": "d3fbdfa4",
   "metadata": {},
   "source": [
    "Others"
   ]
  },
  {
   "cell_type": "code",
   "execution_count": null,
   "id": "872548a3",
   "metadata": {},
   "outputs": [],
   "source": [
    "# cofactor\n",
    "model.metabolites.get_by_id('s_4205')"
   ]
  },
  {
   "cell_type": "code",
   "execution_count": null,
   "id": "a90c0459",
   "metadata": {},
   "outputs": [],
   "source": [
    "cofactor_pseudoreaction = model.reactions.get_by_id('r_4598')\n",
    "cofactor_pseudoreaction\n",
    "print_formula_weights(cofactor_pseudoreaction)"
   ]
  },
  {
   "cell_type": "code",
   "execution_count": null,
   "id": "0613576a",
   "metadata": {},
   "outputs": [],
   "source": [
    "cofactor_pseudoreaction.metabolites"
   ]
  },
  {
   "cell_type": "code",
   "execution_count": null,
   "id": "69f0a1da",
   "metadata": {},
   "outputs": [],
   "source": [
    "cofactor_mw = -sum([metabolite.formula_weight * coeff\n",
    "              for metabolite, coeff in cofactor_pseudoreaction.metabolites.items()])\n",
    "cofactor_mw"
   ]
  },
  {
   "cell_type": "code",
   "execution_count": null,
   "id": "4c76b197",
   "metadata": {},
   "outputs": [],
   "source": [
    "# ion\n",
    "model.metabolites.get_by_id('s_4206')"
   ]
  },
  {
   "cell_type": "code",
   "execution_count": null,
   "id": "2b726cbb",
   "metadata": {},
   "outputs": [],
   "source": [
    "ion_pseudoreaction = model.reactions.get_by_id('r_4599')\n",
    "ion_pseudoreaction\n",
    "print_formula_weights(ion_pseudoreaction)"
   ]
  },
  {
   "cell_type": "code",
   "execution_count": null,
   "id": "0f186b25",
   "metadata": {},
   "outputs": [],
   "source": [
    "ion_mw = -sum([metabolite.formula_weight * coeff\n",
    "              for metabolite, coeff in ion_pseudoreaction.metabolites.items()])\n",
    "ion_mw"
   ]
  },
  {
   "cell_type": "code",
   "execution_count": null,
   "id": "467d9c53",
   "metadata": {},
   "outputs": [],
   "source": [
    "ion_pseudoreaction.metabolites"
   ]
  },
  {
   "cell_type": "markdown",
   "id": "888cd23b",
   "metadata": {},
   "source": [
    "# Unmodified model"
   ]
  },
  {
   "cell_type": "markdown",
   "id": "3f5a7716",
   "metadata": {},
   "source": [
    "Get glucose uptake"
   ]
  },
  {
   "cell_type": "code",
   "execution_count": null,
   "id": "18a183bb",
   "metadata": {},
   "outputs": [],
   "source": [
    "model.reactions.get_by_id('r_1714')"
   ]
  },
  {
   "cell_type": "markdown",
   "id": "cd89c0d0",
   "metadata": {},
   "source": [
    "Make glucose uptake unrestricted (same logic as Sánchez et al., 2017, and the usual logic for FBA)"
   ]
  },
  {
   "cell_type": "code",
   "execution_count": null,
   "id": "8a906647",
   "metadata": {},
   "outputs": [],
   "source": [
    "model.reactions.get_by_id('r_1714').bounds = (-1000, 0)"
   ]
  },
  {
   "cell_type": "markdown",
   "id": "7b8681a1",
   "metadata": {},
   "source": [
    "Simulate model and draw fluxes through central carbon metabolism"
   ]
  },
  {
   "cell_type": "code",
   "execution_count": null,
   "id": "ebd2bc00",
   "metadata": {},
   "outputs": [],
   "source": [
    "solution = model.optimize()\n",
    "b = escher.Builder(\n",
    "    map_name='iMM904.Central carbon metabolism',\n",
    "    reaction_data=solution.fluxes.to_dict()\n",
    ")\n",
    "b"
   ]
  },
  {
   "cell_type": "markdown",
   "id": "f150db24",
   "metadata": {},
   "source": [
    "Get flux through biomass reaction"
   ]
  },
  {
   "cell_type": "code",
   "execution_count": null,
   "id": "22014b87",
   "metadata": {},
   "outputs": [],
   "source": [
    "biomass = model.reactions.get_by_id('r_4041')\n",
    "print(f'Flux through biomass reaction is {biomass.flux:.4f} h-1')"
   ]
  },
  {
   "cell_type": "markdown",
   "id": "e0aa138c",
   "metadata": {},
   "source": [
    "Estimate timescale for biomass synthesis"
   ]
  },
  {
   "cell_type": "code",
   "execution_count": null,
   "id": "e8f22086",
   "metadata": {},
   "outputs": [],
   "source": [
    "# Define constants\n",
    "CELL_DRY_MASS = 15e-12 # g\n",
    "# Using C:H(1.613):O(0.557):N(0.158) from https://bionumbers.hms.harvard.edu/bionumber.aspx?id=101801\n",
    "# MOLWEIGHT_BIOMASS = 12.011 + 1.613*1.00784 + 0.557*15.999 + 0.158*14.0067\n",
    "# MOLWEIGHT_BIOMASS = 0.966 # g/mmol, Takhaveev et al. (2023)\n",
    "MOLWEIGHT_BIOMASS = 0.97148015 # g/mmol, from this model"
   ]
  },
  {
   "cell_type": "code",
   "execution_count": null,
   "id": "47e2ec1b",
   "metadata": {},
   "outputs": [],
   "source": [
    "MOLWEIGHT_BIOMASS"
   ]
  },
  {
   "cell_type": "code",
   "execution_count": null,
   "id": "ba41bf26",
   "metadata": {},
   "outputs": [],
   "source": [
    "biomass_time = 1/(biomass.flux)\n",
    "print(f'Estimated time: {biomass_time:.4f} hours')"
   ]
  },
  {
   "cell_type": "markdown",
   "id": "db373254",
   "metadata": {},
   "source": [
    "## Modify biomass reaction by ablating each type of macromolecule"
   ]
  },
  {
   "cell_type": "code",
   "execution_count": null,
   "id": "c0ecde3d",
   "metadata": {},
   "outputs": [],
   "source": [
    "CELL_DRY_MASS = 15e-12 # g\n",
    "\n",
    "class BiomassComponent():\n",
    "    def __init__(\n",
    "        self,\n",
    "        metabolite_label,\n",
    "        metabolite_id,\n",
    "        pseudoreaction,\n",
    "        molecular_mass,\n",
    "        mass_per_cell,\n",
    "        copy_number,\n",
    "    ):\n",
    "        self.metabolite_label = metabolite_label\n",
    "        self.metabolite_id = metabolite_id\n",
    "        self.pseudoreaction = pseudoreaction\n",
    "        self.molecular_mass = molecular_mass # g/mmol\n",
    "        self.mass_per_cell = mass_per_cell # g\n",
    "        self.copy_number = copy_number\n",
    "        \n",
    "        self.ablated_flux = None # mmol/(g DW . h)\n",
    "        self.est_time = None # h\n",
    "        \n",
    "    def get_est_time(self):\n",
    "        #self.est_time = self.mass_per_cell/(CELL_DRY_MASS * self.ablated_flux * self.molecular_mass)\n",
    "        self.est_time = 1/self.ablated_flux\n",
    "        "
   ]
  },
  {
   "cell_type": "code",
   "execution_count": null,
   "id": "ba69bf03",
   "metadata": {},
   "outputs": [],
   "source": [
    "#model_saved = cobra.io.load_yaml_model(\"./models/ecYeastGEMfull.yml\")\n",
    "model_saved = cobra.io.read_sbml_model(\"./models/ecYeastGEM_batch.xml\")"
   ]
  },
  {
   "cell_type": "code",
   "execution_count": null,
   "id": "de2b91cb",
   "metadata": {},
   "outputs": [],
   "source": [
    "# TODO:\n",
    "# - Create CSV table containing these\n",
    "# - Create a class builder that builds these classes based on the CSV table\n",
    "# - FURTHER: make it able to deal with ranges of values (lower limit, upper limit)\n",
    "\n",
    "# molecular mass applies to bulk metabolites in ecYeast8 model,\n",
    "# calculated using same logic as Takhaveev et al. (2023)\n",
    "Lipids = BiomassComponent(\n",
    "    metabolite_label='lipid',\n",
    "    metabolite_id='s_1096[c]',\n",
    "    pseudoreaction='r_2108',\n",
    "    molecular_mass=48.782232e-3,\n",
    "    mass_per_cell=900e-15,\n",
    "    copy_number=1e9,\n",
    ")\n",
    "\n",
    "Proteins = BiomassComponent(\n",
    "    metabolite_label='protein',\n",
    "    metabolite_id='s_3717[c]',\n",
    "    pseudoreaction='r_4047',\n",
    "    molecular_mass=464.0244378083234e-3,\n",
    "    mass_per_cell=7650e-15,\n",
    "    copy_number=1e8,\n",
    ")\n",
    "\n",
    "Carbohydrates = BiomassComponent(\n",
    "    metabolite_label='carbohydrate',\n",
    "    metabolite_id='s_3718[c]',\n",
    "    pseudoreaction='r_4048',\n",
    "    molecular_mass=383.11811162812177e-3,\n",
    "    mass_per_cell=(75+3450)*1e-15, # 'storage carbohydrates' + 'structural polymers'\n",
    "    copy_number=2122804981, # estimated from above & avogadro's const\n",
    ")\n",
    "\n",
    "DNA = BiomassComponent(\n",
    "    metabolite_label='DNA',\n",
    "    metabolite_id='s_3720[c]',\n",
    "    pseudoreaction='r_4050',\n",
    "    molecular_mass=3.898762509981403e-3,\n",
    "    mass_per_cell=75e-15,\n",
    "    copy_number=16,\n",
    ")\n",
    "\n",
    "RNA = BiomassComponent(\n",
    "    metabolite_label='RNA',\n",
    "    metabolite_id='s_3719[c]',\n",
    "    pseudoreaction='r_4049',\n",
    "    molecular_mass=64.04239166780803e-3,\n",
    "    mass_per_cell=1650e-15,\n",
    "    copy_number=4e6,\n",
    ")"
   ]
  },
  {
   "cell_type": "code",
   "execution_count": null,
   "id": "aac07401",
   "metadata": {},
   "outputs": [],
   "source": [
    "from cobra.flux_analysis import flux_variability_analysis\n",
    "\n",
    "\n",
    "biomass_component_list = [Lipids, Proteins, Carbohydrates, DNA, RNA]\n",
    "\n",
    "all_metabolite_ids = [\n",
    "    biomass_component.metabolite_id\n",
    "    for biomass_component in biomass_component_list\n",
    "]\n",
    "\n",
    "all_pseudoreaction_ids = [\n",
    "    (biomass_component.metabolite_label, biomass_component.pseudoreaction)\n",
    "    for biomass_component in biomass_component_list\n",
    "]\n",
    "all_pseudoreaction_ids.append(('objective','r_4041'))\n",
    "\n",
    "# original\n",
    "model = model_saved.copy()\n",
    "model.reactions.get_by_id('r_1714').bounds = (-1000, 0) # glucose uptake\n",
    "biomass_reaction = model.reactions.get_by_id('r_4041')\n",
    "biomass_reaction.bounds = (0, 1000)\n",
    "fba_solution = model.optimize()\n",
    "pfba_solution = cobra.flux_analysis.pfba(model) # parsimonious\n",
    "print('original')\n",
    "print(biomass_reaction)\n",
    "biomass_flux = pfba_solution.fluxes[\"r_4041\"]\n",
    "print(f'flux of objective function: {biomass_flux:.4f} (h-1))')\n",
    "for metabolite_label, pseudoreaction_id in all_pseudoreaction_ids:\n",
    "    print(f'{metabolite_label} pseudoreaction ({pseudoreaction_id}) flux = {pfba_solution.fluxes[pseudoreaction_id]}')\n",
    "plt.subplots()\n",
    "plt.bar(\n",
    "    [label for (label, _) in all_pseudoreaction_ids],\n",
    "    [pfba_solution.fluxes[pseudoreaction_id] for (_, pseudoreaction_id) in all_pseudoreaction_ids],\n",
    ")\n",
    "plt.ylim((0,0.15))\n",
    "plt.title('original')\n",
    "biomass_time = 1/(biomass_flux * MOLWEIGHT_BIOMASS)\n",
    "print(f'Estimated time: {biomass_time:.4f} hours')\n",
    "print('\\n')\n",
    "\n",
    "# ablated\n",
    "for biomass_component in biomass_component_list:\n",
    "    # get model\n",
    "    model = model_saved.copy()\n",
    "    model.reactions.get_by_id('r_1714').bounds = (-1000, 0)\n",
    "    biomass_reaction = model.reactions.get_by_id('r_4041')\n",
    "    biomass_reaction.bounds = (0, 1000)\n",
    "    \n",
    "    # boilerplate: lookup\n",
    "    to_ablate = all_metabolite_ids.copy()\n",
    "    to_ablate.remove(biomass_component.metabolite_id)\n",
    "    to_ablate_keys = [\n",
    "        model.metabolites.get_by_id(metabolite_id)\n",
    "        for metabolite_id in to_ablate\n",
    "    ]\n",
    "    to_ablate_dict = dict(zip(to_ablate_keys, [-1]*len(to_ablate_keys)))\n",
    "    \n",
    "    # ablate metabolites from biomass reaction\n",
    "    biomass_reaction.subtract_metabolites(to_ablate_dict)\n",
    "    \n",
    "    # optimise model\n",
    "    #solution = model.optimize()\n",
    "    pfba_solution = cobra.flux_analysis.pfba(model) # parsimonious\n",
    "    biomass_flux = pfba_solution.fluxes[\"r_4041\"]\n",
    "    biomass_component.ablated_flux = biomass_flux\n",
    "    biomass_component.get_est_time()\n",
    "    print(f'prioritising {biomass_component.metabolite_label}')\n",
    "    print(biomass_reaction)\n",
    "    print(f'flux of ablated objective function: {biomass_flux:.4f} (h-1))')\n",
    "    for metabolite_label, pseudoreaction_id in all_pseudoreaction_ids:\n",
    "        print(f'{metabolite_label} pseudoreaction ({pseudoreaction_id}) flux = {pfba_solution.fluxes[pseudoreaction_id]}')\n",
    "    plt.subplots()\n",
    "    plt.bar(\n",
    "        [label for (label, _) in all_pseudoreaction_ids],\n",
    "        [pfba_solution.fluxes[pseudoreaction_id] for (_, pseudoreaction_id) in all_pseudoreaction_ids],\n",
    "    )\n",
    "    plt.ylim((0,0.15))\n",
    "    plt.title(f'prioritising {biomass_component.metabolite_label}')\n",
    "    print(f'estimated time: {biomass_component.est_time:.4f} hours')\n",
    "    print('\\n')\n",
    "    \n",
    "    print(flux_variability_analysis(\n",
    "        model,\n",
    "        [pseudoreaction_id for (_, pseudoreaction_id) in all_pseudoreaction_ids],\n",
    "        fraction_of_optimum=0.9)\n",
    "    )\n",
    "    \n",
    "total_time = sum([biomass_component.est_time for biomass_component in biomass_component_list])\n",
    "print(f'sum of times: {total_time:.4f} hours')"
   ]
  },
  {
   "cell_type": "markdown",
   "id": "4622b835",
   "metadata": {},
   "source": [
    "Draw fluxes through central carbon metabolism"
   ]
  },
  {
   "cell_type": "code",
   "execution_count": null,
   "id": "487e4c31",
   "metadata": {},
   "outputs": [],
   "source": [
    "b = escher.Builder(\n",
    "    map_name='iMM904.Central carbon metabolism',\n",
    "    reaction_data=solution.fluxes.to_dict()\n",
    ")\n",
    "b"
   ]
  },
  {
   "cell_type": "markdown",
   "id": "d79fb95e",
   "metadata": {},
   "source": [
    "Misc"
   ]
  },
  {
   "cell_type": "code",
   "execution_count": null,
   "id": "291d793a",
   "metadata": {},
   "outputs": [],
   "source": [
    "from cobra.flux_analysis import flux_variability_analysis\n",
    "\n",
    "print(flux_variability_analysis(\n",
    "    model, [pseudoreaction_id for (_, pseudoreaction_id) in all_pseudoreaction_ids]))"
   ]
  }
 ],
 "metadata": {
  "kernelspec": {
   "display_name": "fba",
   "language": "python",
   "name": "fba"
  },
  "language_info": {
   "codemirror_mode": {
    "name": "ipython",
    "version": 3
   },
   "file_extension": ".py",
   "mimetype": "text/x-python",
   "name": "python",
   "nbconvert_exporter": "python",
   "pygments_lexer": "ipython3",
   "version": "3.7.9"
  }
 },
 "nbformat": 4,
 "nbformat_minor": 5
}

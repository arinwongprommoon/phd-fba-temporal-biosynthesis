{
 "cells": [
  {
   "cell_type": "markdown",
   "id": "1549e645",
   "metadata": {},
   "source": [
    "Import dependencies"
   ]
  },
  {
   "cell_type": "code",
   "execution_count": null,
   "id": "a99b19aa",
   "metadata": {},
   "outputs": [],
   "source": [
    "%reload_ext autoreload\n",
    "%autoreload 1\n",
    "%matplotlib inline\n",
    "\n",
    "import matplotlib.pyplot as plt\n",
    "import numpy as np\n",
    "import pandas as pd\n",
    "import cobra\n",
    "\n",
    "from yeast8model import Yeast8Model"
   ]
  },
  {
   "cell_type": "markdown",
   "id": "644a923f",
   "metadata": {},
   "source": [
    "# Construct model"
   ]
  },
  {
   "cell_type": "code",
   "execution_count": null,
   "id": "a1c8c4b9",
   "metadata": {},
   "outputs": [],
   "source": [
    "from yeast8model import biomass_component_list_orig\n",
    "\n",
    "glucose_bounds = (-4.75, 0) # gives a sensible growth rate for wt\n",
    "wt_y8 = Yeast8Model(\"./models/yeast-GEM_8-6-0.xml\", growth_id=\"r_2111\", biomass_id=\"r_4041\")\n",
    "wt_y8.biomass_component_list = biomass_component_list_orig\n",
    "wt_y8.model.reactions.r_1714.bounds = glucose_bounds\n",
    "wt_y8.add_media_components(['r_1992'])\n",
    "\n",
    "sol = wt_y8.optimize()"
   ]
  },
  {
   "cell_type": "code",
   "execution_count": null,
   "id": "946efb1f",
   "metadata": {},
   "outputs": [],
   "source": [
    "sol.fluxes['r_2111']"
   ]
  },
  {
   "cell_type": "code",
   "execution_count": null,
   "id": "8fa57cb1",
   "metadata": {},
   "outputs": [],
   "source": [
    "wt_y8.ablation_result = wt_y8.ablate()"
   ]
  },
  {
   "cell_type": "code",
   "execution_count": null,
   "id": "bdb94033",
   "metadata": {},
   "outputs": [],
   "source": [
    "wt_y8.ablation_result"
   ]
  },
  {
   "cell_type": "markdown",
   "id": "323e4acf",
   "metadata": {},
   "source": [
    "# Effect of flux penalty on ablation"
   ]
  },
  {
   "cell_type": "markdown",
   "id": "fa87b814",
   "metadata": {},
   "source": [
    "Import more dependencies and define new objects\n",
    "\n",
    "(will probably move this from notebook to script/module)"
   ]
  },
  {
   "cell_type": "code",
   "execution_count": null,
   "id": "ce66129a",
   "metadata": {},
   "outputs": [],
   "source": [
    "import time"
   ]
  },
  {
   "cell_type": "markdown",
   "id": "a28f0d80",
   "metadata": {},
   "source": [
    "Main work..."
   ]
  },
  {
   "cell_type": "markdown",
   "id": "476abe95",
   "metadata": {},
   "source": [
    "Define range of penalty coefficients to study:"
   ]
  },
  {
   "cell_type": "code",
   "execution_count": null,
   "id": "744b0563",
   "metadata": {},
   "outputs": [],
   "source": [
    "penalty_coeff_range = np.linspace(0, 1, 3)\n",
    "penalty_coeff_range"
   ]
  },
  {
   "cell_type": "code",
   "execution_count": null,
   "id": "28df02d0",
   "metadata": {},
   "outputs": [],
   "source": [
    "# Define data structure to store investigation results.\n",
    "\n",
    "# Alternative considered: dict with floats as keys.\n",
    "# Shot that down because I think that's weird and not the point of a dict,\n",
    "# especially if the penalty_coeff_range can change.\n",
    "effect_list = [{'penalty_coeff': penalty_coeff, 'ablation_result': None} for penalty_coeff in penalty_coeff_range]"
   ]
  },
  {
   "cell_type": "code",
   "execution_count": null,
   "id": "0dc34a5a",
   "metadata": {},
   "outputs": [],
   "source": [
    "for effect_item in effect_list:\n",
    "    print(effect_item)\n",
    "    \n",
    "    print(f\"coeff {effect_item['penalty_coeff']}\")\n",
    "    start = time.time()\n",
    "    wt_y8.set_flux_penalty(penalty_coefficient=effect_item[\"penalty_coeff\"])\n",
    "    end = time.time()\n",
    "    print(f\"penalty set with coeff.  elapsed time: {end - start} s\")\n",
    "    \n",
    "    sol = wt_y8.optimize() # check if this line is necessary\n",
    "    \n",
    "    start = time.time()\n",
    "    ablation_result = wt_y8.ablate(verbose=False)\n",
    "    end = time.time()\n",
    "    print(f\"ablated.  elapsed time: {end - start} s\")\n",
    "    print(ablation_result)\n",
    "          \n",
    "    effect_item[\"ablation_result\"] = ablation_result"
   ]
  },
  {
   "cell_type": "code",
   "execution_count": null,
   "id": "cac3f809",
   "metadata": {},
   "outputs": [],
   "source": [
    "effect_list"
   ]
  }
 ],
 "metadata": {
  "kernelspec": {
   "display_name": "fba",
   "language": "python",
   "name": "fba"
  },
  "language_info": {
   "codemirror_mode": {
    "name": "ipython",
    "version": 3
   },
   "file_extension": ".py",
   "mimetype": "text/x-python",
   "name": "python",
   "nbconvert_exporter": "python",
   "pygments_lexer": "ipython3",
   "version": "3.8.14"
  }
 },
 "nbformat": 4,
 "nbformat_minor": 5
}

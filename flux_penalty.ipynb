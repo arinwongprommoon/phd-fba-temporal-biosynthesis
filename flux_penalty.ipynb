{
 "cells": [
  {
   "cell_type": "markdown",
   "id": "73f96b70",
   "metadata": {},
   "source": [
    "Import dependencies"
   ]
  },
  {
   "cell_type": "code",
   "execution_count": null,
   "id": "0ab85623",
   "metadata": {},
   "outputs": [],
   "source": [
    "%reload_ext autoreload\n",
    "%autoreload 1\n",
    "%matplotlib inline\n",
    "\n",
    "import matplotlib.pyplot as plt\n",
    "import numpy as np\n",
    "import pandas as pd\n",
    "import cobra\n",
    "\n",
    "from yeast8model import Yeast8Model"
   ]
  },
  {
   "cell_type": "markdown",
   "id": "4bb4d098",
   "metadata": {},
   "source": [
    "# Construct model"
   ]
  },
  {
   "cell_type": "code",
   "execution_count": null,
   "id": "3787f594",
   "metadata": {},
   "outputs": [],
   "source": [
    "from yeast8model import biomass_component_list_orig"
   ]
  },
  {
   "cell_type": "code",
   "execution_count": null,
   "id": "2b68cc74",
   "metadata": {},
   "outputs": [],
   "source": [
    "y = Yeast8Model(\"./models/yeast-GEM_8-6-0.xml\")\n",
    "print(\"model obj initd\")\n",
    "\n",
    "glucose_bounds = (-4.75, 0)  # gives a sensible growth rate for wt\n",
    "y.add_media_components([\"r_1992\"])\n",
    "y.model.reactions.r_1714.bounds = glucose_bounds\n",
    "y.biomass_component_list = biomass_component_list_orig\n",
    "print(\"model obj modified\")\n",
    "\n",
    "sol_orig = y.optimize()\n",
    "print(\"optimized\")"
   ]
  },
  {
   "cell_type": "markdown",
   "id": "0e5688f3",
   "metadata": {},
   "source": [
    "# Effect of flux penalty on ablation"
   ]
  },
  {
   "cell_type": "markdown",
   "id": "13bfab7d",
   "metadata": {},
   "source": [
    "Import more dependencies and define new objects\n",
    "\n",
    "(will probably move this from notebook to script/module)"
   ]
  },
  {
   "cell_type": "code",
   "execution_count": null,
   "id": "1d81930d",
   "metadata": {},
   "outputs": [],
   "source": [
    "import time"
   ]
  },
  {
   "cell_type": "markdown",
   "id": "c485fc82",
   "metadata": {},
   "source": [
    "Main work..."
   ]
  },
  {
   "cell_type": "code",
   "execution_count": null,
   "id": "aca415eb",
   "metadata": {},
   "outputs": [],
   "source": [
    "start = time.time()\n",
    "penalty_coefficient = 0.0\n",
    "y.set_flux_penalty(penalty_coefficient=penalty_coefficient)\n",
    "end = time.time()\n",
    "print(f\"penalty set with coeff {penalty_coefficient}\")\n",
    "print(f\"elapsed time: {end - start} s\")\n",
    "\n",
    "sol_pen1 = y.optimize()\n",
    "print(\"optimized with penalty\")\n",
    "\n",
    "abl_res = y.ablate()"
   ]
  },
  {
   "cell_type": "code",
   "execution_count": null,
   "id": "94c79d2a",
   "metadata": {},
   "outputs": [],
   "source": [
    "abl_res"
   ]
  },
  {
   "cell_type": "markdown",
   "id": "f2b9cd1e",
   "metadata": {},
   "source": [
    "Define range of penalty coefficients to study:"
   ]
  },
  {
   "cell_type": "code",
   "execution_count": null,
   "id": "f8d3979e",
   "metadata": {},
   "outputs": [],
   "source": [
    "penalty_coeff_range = np.linspace(0, 1, 3)\n",
    "penalty_coeff_range"
   ]
  },
  {
   "cell_type": "code",
   "execution_count": null,
   "id": "eb830743",
   "metadata": {},
   "outputs": [],
   "source": [
    "# Define data structure to store investigation results.\n",
    "\n",
    "# Alternative considered: dict with floats as keys.\n",
    "# Shot that down because I think that's weird and not the point of a dict,\n",
    "# especially if the penalty_coeff_range can change.\n",
    "effect_list = [\n",
    "    {'penalty_coeff': penalty_coeff, 'ablation_result': None}\n",
    "    for penalty_coeff in penalty_coeff_range\n",
    "]"
   ]
  },
  {
   "cell_type": "code",
   "execution_count": null,
   "id": "72a83a95",
   "metadata": {},
   "outputs": [],
   "source": [
    "for effect_item in effect_list:\n",
    "    print(effect_item)\n",
    "    \n",
    "    print(f\"coeff {effect_item['penalty_coeff']}\")\n",
    "    start = time.time()\n",
    "    y = Yeast8Model(\"./models/yeast-GEM_8-6-0.xml\")\n",
    "    glucose_bounds = (-4.75, 0)  # gives a sensible growth rate for wt\n",
    "    y.add_media_components([\"r_1992\"])\n",
    "    y.model.reactions.r_1714.bounds = glucose_bounds\n",
    "    y.biomass_component_list = biomass_component_list_orig\n",
    "    \n",
    "    penalty_coefficient = effect_item[\"penalty_coeff\"]\n",
    "    y.set_flux_penalty(penalty_coefficient=penalty_coefficient)\n",
    "    end = time.time()\n",
    "    print(f\"penalty set with coeff.  elapsed time: {end - start} s\")\n",
    "    \n",
    "    sol_pen = y.optimize() # check if this line is necessary\n",
    "    \n",
    "    ablation_result = y.ablate(verbose=False)          \n",
    "    effect_item[\"ablation_result\"] = ablation_result"
   ]
  },
  {
   "cell_type": "code",
   "execution_count": null,
   "id": "c2132176",
   "metadata": {},
   "outputs": [],
   "source": [
    "effect_list"
   ]
  }
 ],
 "metadata": {
  "kernelspec": {
   "display_name": "fba",
   "language": "python",
   "name": "fba"
  },
  "language_info": {
   "codemirror_mode": {
    "name": "ipython",
    "version": 3
   },
   "file_extension": ".py",
   "mimetype": "text/x-python",
   "name": "python",
   "nbconvert_exporter": "python",
   "pygments_lexer": "ipython3",
   "version": "3.8.14"
  }
 },
 "nbformat": 4,
 "nbformat_minor": 5
}

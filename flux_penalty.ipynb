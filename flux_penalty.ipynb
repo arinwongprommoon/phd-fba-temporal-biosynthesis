{
 "cells": [
  {
   "cell_type": "markdown",
   "id": "73f96b70",
   "metadata": {},
   "source": [
    "Import dependencies"
   ]
  },
  {
   "cell_type": "code",
   "execution_count": null,
   "id": "0ab85623",
   "metadata": {},
   "outputs": [],
   "source": [
    "%reload_ext autoreload\n",
    "%autoreload 1\n",
    "%matplotlib inline\n",
    "\n",
    "import matplotlib.pyplot as plt\n",
    "import numpy as np\n",
    "import pandas as pd\n",
    "import cobra\n",
    "\n",
    "from yeast8model import Yeast8Model"
   ]
  },
  {
   "cell_type": "markdown",
   "id": "4bb4d098",
   "metadata": {},
   "source": [
    "# Construct model"
   ]
  },
  {
   "cell_type": "code",
   "execution_count": null,
   "id": "884d3866",
   "metadata": {},
   "outputs": [],
   "source": [
    "from yeast8model import biomass_component_list_orig\n",
    "\n",
    "glucose_bounds = (-4.75, 0) # gives a sensible growth rate for wt\n",
    "wt_y8 = Yeast8Model(\"./models/yeast-GEM_8-6-0.xml\", growth_id=\"r_2111\", biomass_id=\"r_4041\")\n",
    "wt_y8.biomass_component_list = biomass_component_list_orig\n",
    "wt_y8.model.reactions.r_1714.bounds = glucose_bounds\n",
    "wt_y8.add_media_components(['r_1992'])\n",
    "\n",
    "sol = wt_y8.optimize()"
   ]
  },
  {
   "cell_type": "code",
   "execution_count": null,
   "id": "3ff24a6f",
   "metadata": {},
   "outputs": [],
   "source": [
    "from yeast8model import biomass_component_list_orig\n",
    "\n",
    "wt_y8 = Yeast8Model(\"./models/yeast-GEM_8-6-0.xml\")\n",
    "glucose_bounds = (-4.75, 0) # gives a sensible growth rate for wt\n",
    "wt_y8.add_media_components(['r_1992'])\n",
    "wt_y8.model.reactions.r_1714.bounds = glucose_bounds\n",
    "wt_y8.biomass_component_list = biomass_component_list_orig"
   ]
  },
  {
   "cell_type": "code",
   "execution_count": null,
   "id": "9395ef42",
   "metadata": {},
   "outputs": [],
   "source": [
    "sol_orig = wt_y8.optimize()"
   ]
  },
  {
   "cell_type": "code",
   "execution_count": null,
   "id": "71651977",
   "metadata": {},
   "outputs": [],
   "source": [
    "sol_orig"
   ]
  },
  {
   "cell_type": "code",
   "execution_count": null,
   "id": "48158980",
   "metadata": {},
   "outputs": [],
   "source": [
    "sol_orig.fluxes[\"r_2111\"]"
   ]
  },
  {
   "cell_type": "code",
   "execution_count": null,
   "id": "df78f954",
   "metadata": {},
   "outputs": [],
   "source": [
    "abl_orig = wt_y8.ablate()"
   ]
  },
  {
   "cell_type": "code",
   "execution_count": null,
   "id": "8bef4bf7",
   "metadata": {},
   "outputs": [],
   "source": [
    "abl_orig"
   ]
  },
  {
   "cell_type": "code",
   "execution_count": null,
   "id": "086e84a1",
   "metadata": {
    "scrolled": true
   },
   "outputs": [],
   "source": [
    "fig, ax = plt.subplots()\n",
    "wt_y8.ablation_barplot(ax, abl_orig)\n",
    "plt.show()"
   ]
  },
  {
   "cell_type": "markdown",
   "id": "0e5688f3",
   "metadata": {},
   "source": [
    "# Effect of flux penalty on ablation"
   ]
  },
  {
   "cell_type": "markdown",
   "id": "13bfab7d",
   "metadata": {},
   "source": [
    "Import more dependencies and define new objects\n",
    "\n",
    "(will probably move this from notebook to script/module)"
   ]
  },
  {
   "cell_type": "code",
   "execution_count": null,
   "id": "1d81930d",
   "metadata": {},
   "outputs": [],
   "source": [
    "import time"
   ]
  },
  {
   "cell_type": "markdown",
   "id": "c485fc82",
   "metadata": {},
   "source": [
    "Main work..."
   ]
  },
  {
   "cell_type": "code",
   "execution_count": null,
   "id": "aca415eb",
   "metadata": {},
   "outputs": [],
   "source": [
    "penalty_coefficient = 0.0\n",
    "wt_y8.set_flux_penalty(penalty_coefficient=penalty_coefficient)"
   ]
  },
  {
   "cell_type": "code",
   "execution_count": null,
   "id": "68f90504",
   "metadata": {},
   "outputs": [],
   "source": [
    "sol_pen = wt_y8.optimize()"
   ]
  },
  {
   "cell_type": "code",
   "execution_count": null,
   "id": "eb19dcfe",
   "metadata": {},
   "outputs": [],
   "source": [
    "sol_pen.fluxes"
   ]
  },
  {
   "cell_type": "code",
   "execution_count": null,
   "id": "ddc6fc36",
   "metadata": {},
   "outputs": [],
   "source": [
    "sol_pen.fluxes[\"r_2111\"]"
   ]
  },
  {
   "cell_type": "code",
   "execution_count": null,
   "id": "80a02627",
   "metadata": {},
   "outputs": [],
   "source": [
    "wt_y8.model.objective"
   ]
  },
  {
   "cell_type": "code",
   "execution_count": null,
   "id": "167ccfe6",
   "metadata": {},
   "outputs": [],
   "source": [
    "wt_y8._penalty_coefficient"
   ]
  },
  {
   "cell_type": "code",
   "execution_count": null,
   "id": "71b76623",
   "metadata": {},
   "outputs": [],
   "source": [
    "diff = sol_pen.fluxes - sol_orig.fluxes\n",
    "print(diff.min())\n",
    "print(diff.max())"
   ]
  },
  {
   "cell_type": "code",
   "execution_count": null,
   "id": "c97b18e1",
   "metadata": {},
   "outputs": [],
   "source": [
    "abl_res = wt_y8.ablate()"
   ]
  },
  {
   "cell_type": "code",
   "execution_count": null,
   "id": "94c79d2a",
   "metadata": {},
   "outputs": [],
   "source": [
    "abl_res"
   ]
  },
  {
   "cell_type": "markdown",
   "id": "f2b9cd1e",
   "metadata": {},
   "source": [
    "Define range of penalty coefficients to study:"
   ]
  },
  {
   "cell_type": "code",
   "execution_count": null,
   "id": "f8d3979e",
   "metadata": {},
   "outputs": [],
   "source": [
    "penalty_coeff_range = np.linspace(0, 1, 3)\n",
    "penalty_coeff_range"
   ]
  },
  {
   "cell_type": "code",
   "execution_count": null,
   "id": "eb830743",
   "metadata": {},
   "outputs": [],
   "source": [
    "# Define data structure to store investigation results.\n",
    "\n",
    "# Alternative considered: dict with floats as keys.\n",
    "# Shot that down because I think that's weird and not the point of a dict,\n",
    "# especially if the penalty_coeff_range can change.\n",
    "effect_list = [{'penalty_coeff': penalty_coeff, 'ablation_result': None} for penalty_coeff in penalty_coeff_range]"
   ]
  },
  {
   "cell_type": "code",
   "execution_count": null,
   "id": "72a83a95",
   "metadata": {},
   "outputs": [],
   "source": [
    "for effect_item in effect_list:\n",
    "    print(effect_item)\n",
    "    \n",
    "    print(f\"coeff {effect_item['penalty_coeff']}\")\n",
    "    start = time.time()\n",
    "    wt_y8.set_flux_penalty(penalty_coefficient=effect_item[\"penalty_coeff\"])\n",
    "    end = time.time()\n",
    "    print(f\"penalty set with coeff.  elapsed time: {end - start} s\")\n",
    "    \n",
    "    sol = wt_y8.optimize() # check if this line is necessary\n",
    "    \n",
    "    start = time.time()\n",
    "    ablation_result = wt_y8.ablate(verbose=False)\n",
    "    end = time.time()\n",
    "    print(f\"ablated.  elapsed time: {end - start} s\")\n",
    "    print(ablation_result)\n",
    "          \n",
    "    effect_item[\"ablation_result\"] = ablation_result"
   ]
  },
  {
   "cell_type": "code",
   "execution_count": null,
   "id": "c2132176",
   "metadata": {},
   "outputs": [],
   "source": [
    "effect_list"
   ]
  }
 ],
 "metadata": {
  "kernelspec": {
   "display_name": "fba",
   "language": "python",
   "name": "fba"
  },
  "language_info": {
   "codemirror_mode": {
    "name": "ipython",
    "version": 3
   },
   "file_extension": ".py",
   "mimetype": "text/x-python",
   "name": "python",
   "nbconvert_exporter": "python",
   "pygments_lexer": "ipython3",
   "version": "3.8.14"
  }
 },
 "nbformat": 4,
 "nbformat_minor": 5
}

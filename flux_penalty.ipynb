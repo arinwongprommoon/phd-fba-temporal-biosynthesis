{
 "cells": [
  {
   "cell_type": "markdown",
   "id": "3b919a4d",
   "metadata": {},
   "source": [
    "Import dependencies"
   ]
  },
  {
   "cell_type": "code",
   "execution_count": 1,
   "id": "e50311c7",
   "metadata": {},
   "outputs": [],
   "source": [
    "%reload_ext autoreload\n",
    "%autoreload 1\n",
    "%matplotlib inline\n",
    "\n",
    "import matplotlib.pyplot as plt\n",
    "import numpy as np\n",
    "import pandas as pd\n",
    "import cobra\n",
    "\n",
    "from yeast8model import Yeast8Model"
   ]
  },
  {
   "cell_type": "markdown",
   "id": "b98f4182",
   "metadata": {},
   "source": [
    "# Construct model"
   ]
  },
  {
   "cell_type": "code",
   "execution_count": 40,
   "id": "4c8b487f",
   "metadata": {},
   "outputs": [
    {
     "name": "stdout",
     "output_type": "stream",
     "text": [
      "Read LP format model from file /tmp/tmpd35b7jcw.lp\n",
      "Reading time = 0.01 seconds\n",
      ": 2749 rows, 8138 columns, 30724 nonzeros\n",
      "Growth (r_2111) unrestricted.\n"
     ]
    }
   ],
   "source": [
    "from yeast8model import biomass_component_list_orig\n",
    "\n",
    "glucose_bounds = (-4.75, 0) # gives a sensible growth rate for wt\n",
    "wt_y8 = Yeast8Model(\"./models/yeast-GEM_8-6-0.xml\", growth_id=\"r_2111\", biomass_id=\"r_4041\")\n",
    "wt_y8.biomass_component_list = biomass_component_list_orig\n",
    "wt_y8.model.reactions.r_1714.bounds = glucose_bounds\n",
    "wt_y8.add_media_components(['r_1992'])\n",
    "\n",
    "sol = wt_y8.optimize()"
   ]
  },
  {
   "cell_type": "markdown",
   "id": "1f0a4e36",
   "metadata": {},
   "source": [
    "# Effect of flux penalty on ablation"
   ]
  },
  {
   "cell_type": "markdown",
   "id": "a708461f",
   "metadata": {},
   "source": [
    "Import more dependencies and define new objects\n",
    "\n",
    "(will probably move this from notebook to script/module)"
   ]
  },
  {
   "cell_type": "code",
   "execution_count": 30,
   "id": "e0a49c09",
   "metadata": {},
   "outputs": [],
   "source": [
    "import time"
   ]
  },
  {
   "cell_type": "markdown",
   "id": "631b8319",
   "metadata": {},
   "source": [
    "Main work..."
   ]
  },
  {
   "cell_type": "markdown",
   "id": "3a5319c3",
   "metadata": {},
   "source": [
    "Define range of penalty coefficients to study:"
   ]
  },
  {
   "cell_type": "code",
   "execution_count": 41,
   "id": "dcdbb42f",
   "metadata": {},
   "outputs": [
    {
     "data": {
      "text/plain": [
       "array([0. , 0.5, 1. ])"
      ]
     },
     "execution_count": 41,
     "metadata": {},
     "output_type": "execute_result"
    }
   ],
   "source": [
    "penalty_coeff_range = np.linspace(0, 1, 3)\n",
    "penalty_coeff_range"
   ]
  },
  {
   "cell_type": "code",
   "execution_count": 42,
   "id": "7fd144c3",
   "metadata": {},
   "outputs": [],
   "source": [
    "# Define data structure to store investigation results.\n",
    "\n",
    "# Alternative considered: dict with floats as keys.\n",
    "# Shot that down because I think that's weird and not the point of a dict,\n",
    "# especially if the penalty_coeff_range can change.\n",
    "effect_list = [{'penalty_coeff': penalty_coeff, 'ablation_result': None} for penalty_coeff in penalty_coeff_range]"
   ]
  },
  {
   "cell_type": "code",
   "execution_count": 45,
   "id": "1c82baac",
   "metadata": {},
   "outputs": [
    {
     "name": "stdout",
     "output_type": "stream",
     "text": [
      "{'penalty_coeff': 0.0, 'ablation_result': None}\n",
      "coeff 0.0\n",
      "Defining flux penalty sum for the first time.\n",
      "Allow a couple minutes...\n",
      "penalty set with coeff.  elapsed time: 100.41635394096375 s\n",
      "Read LP format model from file /tmp/tmpgzfl4_1q.lp\n",
      "Reading time = 0.01 seconds\n",
      ": 2749 rows, 8138 columns, 30724 nonzeros\n",
      "Biomass component ablation...\n",
      "Original\n",
      "Read LP format model from file /tmp/tmptmn10zx9.lp\n",
      "Reading time = 0.01 seconds\n",
      ": 2749 rows, 8138 columns, 30724 nonzeros\n"
     ]
    },
    {
     "name": "stderr",
     "output_type": "stream",
     "text": [
      "/home/jupyter-arin/git/fba-temporal-biosynthesis/yeast8model.py:607: RuntimeWarning: divide by zero encountered in double_scalars\n",
      "  original_est_time = np.log(2) / original_flux\n"
     ]
    },
    {
     "name": "stdout",
     "output_type": "stream",
     "text": [
      "Read LP format model from file /tmp/tmpziv4hjd_.lp\n",
      "Reading time = 0.01 seconds\n",
      ": 2749 rows, 8138 columns, 30724 nonzeros\n"
     ]
    },
    {
     "name": "stderr",
     "output_type": "stream",
     "text": [
      "/home/jupyter-arin/git/fba-temporal-biosynthesis/yeast8model.py:134: RuntimeWarning: divide by zero encountered in double_scalars\n",
      "  np.log(2) / self.ablated_flux\n"
     ]
    },
    {
     "name": "stdout",
     "output_type": "stream",
     "text": [
      "Read LP format model from file /tmp/tmpzo8exof4.lp\n",
      "Reading time = 0.01 seconds\n",
      ": 2749 rows, 8138 columns, 30724 nonzeros\n",
      "Read LP format model from file /tmp/tmptg6ce91d.lp\n",
      "Reading time = 0.01 seconds\n",
      ": 2749 rows, 8138 columns, 30724 nonzeros\n",
      "Read LP format model from file /tmp/tmpv5m453v7.lp\n",
      "Reading time = 0.01 seconds\n",
      ": 2749 rows, 8138 columns, 30724 nonzeros\n",
      "Read LP format model from file /tmp/tmp7u2lc3kr.lp\n",
      "Reading time = 0.01 seconds\n",
      ": 2749 rows, 8138 columns, 30724 nonzeros\n",
      "Read LP format model from file /tmp/tmpn7g6bifc.lp\n",
      "Reading time = 0.01 seconds\n",
      ": 2749 rows, 8138 columns, 30724 nonzeros\n"
     ]
    },
    {
     "name": "stderr",
     "output_type": "stream",
     "text": [
      "/home/jupyter-arin/git/fba-temporal-biosynthesis/yeast8model.py:670: RuntimeWarning: divide by zero encountered in double_scalars\n",
      "  * (np.log(2) / original_flux)\n"
     ]
    },
    {
     "name": "stdout",
     "output_type": "stream",
     "text": [
      "Ablation done.\n",
      "ablated.  elapsed time: 44.50940990447998 s\n",
      "  priority_component  ablated_flux  ablated_est_time  proportional_est_time\n",
      "0           original           0.0               inf                    inf\n",
      "1              lipid           0.0               inf                    inf\n",
      "2            protein           0.0               inf                    inf\n",
      "3       carbohydrate           0.0               inf                    inf\n",
      "4                DNA           0.0               inf                    inf\n",
      "5                RNA           0.0               inf                    inf\n",
      "6           cofactor           0.0               inf                    inf\n",
      "7                ion           0.0               inf                    inf\n",
      "{'penalty_coeff': 0.5, 'ablation_result': None}\n",
      "coeff 0.5\n",
      "Re-using flux penalty sum.\n",
      "penalty set with coeff.  elapsed time: 31.262929677963257 s\n",
      "Read LP format model from file /tmp/tmpd82kp5tn.lp\n",
      "Reading time = 0.01 seconds\n",
      ": 2749 rows, 8138 columns, 30724 nonzeros\n",
      "Biomass component ablation...\n",
      "Original\n",
      "Read LP format model from file /tmp/tmp9kjw4kzu.lp\n",
      "Reading time = 0.01 seconds\n",
      ": 2749 rows, 8138 columns, 30724 nonzeros\n"
     ]
    },
    {
     "name": "stderr",
     "output_type": "stream",
     "text": [
      "/home/jupyter-arin/git/fba-temporal-biosynthesis/yeast8model.py:607: RuntimeWarning: divide by zero encountered in double_scalars\n",
      "  original_est_time = np.log(2) / original_flux\n",
      "/home/jupyter-arin/git/fba-temporal-biosynthesis/yeast8model.py:134: RuntimeWarning: divide by zero encountered in double_scalars\n",
      "  np.log(2) / self.ablated_flux\n"
     ]
    },
    {
     "name": "stdout",
     "output_type": "stream",
     "text": [
      "Read LP format model from file /tmp/tmpt56mt811.lp\n",
      "Reading time = 0.01 seconds\n",
      ": 2749 rows, 8138 columns, 30724 nonzeros\n",
      "Read LP format model from file /tmp/tmpofyu4904.lp\n",
      "Reading time = 0.01 seconds\n",
      ": 2749 rows, 8138 columns, 30724 nonzeros\n",
      "Read LP format model from file /tmp/tmpuekky26r.lp\n",
      "Reading time = 0.03 seconds\n",
      ": 2749 rows, 8138 columns, 30724 nonzeros\n",
      "Read LP format model from file /tmp/tmp3hp9kd16.lp\n",
      "Reading time = 0.01 seconds\n",
      ": 2749 rows, 8138 columns, 30724 nonzeros\n",
      "Read LP format model from file /tmp/tmp0_tp3alv.lp\n",
      "Reading time = 0.01 seconds\n",
      ": 2749 rows, 8138 columns, 30724 nonzeros\n",
      "Read LP format model from file /tmp/tmpdl93k0di.lp\n",
      "Reading time = 0.01 seconds\n",
      ": 2749 rows, 8138 columns, 30724 nonzeros\n"
     ]
    },
    {
     "name": "stderr",
     "output_type": "stream",
     "text": [
      "/home/jupyter-arin/git/fba-temporal-biosynthesis/yeast8model.py:670: RuntimeWarning: divide by zero encountered in double_scalars\n",
      "  * (np.log(2) / original_flux)\n"
     ]
    },
    {
     "name": "stdout",
     "output_type": "stream",
     "text": [
      "Ablation done.\n",
      "ablated.  elapsed time: 208.95163226127625 s\n",
      "  priority_component  ablated_flux  ablated_est_time  proportional_est_time\n",
      "0           original           0.0               inf                    inf\n",
      "1              lipid           0.0               inf                    inf\n",
      "2            protein           0.0               inf                    inf\n",
      "3       carbohydrate           0.0               inf                    inf\n",
      "4                DNA           0.0               inf                    inf\n",
      "5                RNA           0.0               inf                    inf\n",
      "6           cofactor           0.0               inf                    inf\n",
      "7                ion           0.0               inf                    inf\n",
      "{'penalty_coeff': 1.0, 'ablation_result': None}\n",
      "coeff 1.0\n",
      "Re-using flux penalty sum.\n",
      "penalty set with coeff.  elapsed time: 30.772904634475708 s\n",
      "Read LP format model from file /tmp/tmpytnxyi8r.lp\n",
      "Reading time = 0.01 seconds\n",
      ": 2749 rows, 8138 columns, 30724 nonzeros\n",
      "Biomass component ablation...\n",
      "Original\n",
      "Read LP format model from file /tmp/tmp92eq_yen.lp\n",
      "Reading time = 0.01 seconds\n",
      ": 2749 rows, 8138 columns, 30724 nonzeros\n"
     ]
    },
    {
     "name": "stderr",
     "output_type": "stream",
     "text": [
      "/home/jupyter-arin/git/fba-temporal-biosynthesis/yeast8model.py:607: RuntimeWarning: divide by zero encountered in double_scalars\n",
      "  original_est_time = np.log(2) / original_flux\n"
     ]
    },
    {
     "name": "stdout",
     "output_type": "stream",
     "text": [
      "Read LP format model from file /tmp/tmpj5svb9ib.lp\n",
      "Reading time = 0.01 seconds\n",
      ": 2749 rows, 8138 columns, 30724 nonzeros\n"
     ]
    },
    {
     "name": "stderr",
     "output_type": "stream",
     "text": [
      "/home/jupyter-arin/git/fba-temporal-biosynthesis/yeast8model.py:134: RuntimeWarning: divide by zero encountered in double_scalars\n",
      "  np.log(2) / self.ablated_flux\n"
     ]
    },
    {
     "name": "stdout",
     "output_type": "stream",
     "text": [
      "Read LP format model from file /tmp/tmpfy6vn979.lp\n",
      "Reading time = 0.01 seconds\n",
      ": 2749 rows, 8138 columns, 30724 nonzeros\n",
      "Read LP format model from file /tmp/tmpk41dgoq5.lp\n",
      "Reading time = 0.01 seconds\n",
      ": 2749 rows, 8138 columns, 30724 nonzeros\n",
      "Read LP format model from file /tmp/tmprdclntae.lp\n",
      "Reading time = 0.01 seconds\n",
      ": 2749 rows, 8138 columns, 30724 nonzeros\n",
      "Read LP format model from file /tmp/tmp8b2li5gl.lp\n",
      "Reading time = 0.01 seconds\n",
      ": 2749 rows, 8138 columns, 30724 nonzeros\n",
      "Read LP format model from file /tmp/tmpwjp69ecl.lp\n",
      "Reading time = 0.01 seconds\n",
      ": 2749 rows, 8138 columns, 30724 nonzeros\n",
      "Ablation done.\n",
      "ablated.  elapsed time: 216.03116822242737 s\n",
      "  priority_component  ablated_flux  ablated_est_time  proportional_est_time\n",
      "0           original           0.0               inf                    inf\n",
      "1              lipid           0.0               inf                    inf\n",
      "2            protein           0.0               inf                    inf\n",
      "3       carbohydrate           0.0               inf                    inf\n",
      "4                DNA           0.0               inf                    inf\n",
      "5                RNA           0.0               inf                    inf\n",
      "6           cofactor           0.0               inf                    inf\n",
      "7                ion           0.0               inf                    inf\n"
     ]
    },
    {
     "name": "stderr",
     "output_type": "stream",
     "text": [
      "/home/jupyter-arin/git/fba-temporal-biosynthesis/yeast8model.py:670: RuntimeWarning: divide by zero encountered in double_scalars\n",
      "  * (np.log(2) / original_flux)\n"
     ]
    }
   ],
   "source": [
    "for effect_item in effect_list:\n",
    "    print(effect_item)\n",
    "    \n",
    "    print(f\"coeff {effect_item['penalty_coeff']}\")\n",
    "    start = time.time()\n",
    "    wt_y8.set_flux_penalty(penalty_coefficient=effect_item[\"penalty_coeff\"])\n",
    "    end = time.time()\n",
    "    print(f\"penalty set with coeff.  elapsed time: {end - start} s\")\n",
    "    \n",
    "    #sol = wt_y8.optimize() # check if this line is necessary\n",
    "    \n",
    "    start = time.time()\n",
    "    ablation_result = wt_y8.ablate(verbose=False)\n",
    "    end = time.time()\n",
    "    print(f\"ablated.  elapsed time: {end - start} s\")\n",
    "    print(ablation_result)\n",
    "          \n",
    "    effect_item[\"ablation_result\"] = ablation_result"
   ]
  }
 ],
 "metadata": {
  "kernelspec": {
   "display_name": "fba",
   "language": "python",
   "name": "fba"
  },
  "language_info": {
   "codemirror_mode": {
    "name": "ipython",
    "version": 3
   },
   "file_extension": ".py",
   "mimetype": "text/x-python",
   "name": "python",
   "nbconvert_exporter": "python",
   "pygments_lexer": "ipython3",
   "version": "3.8.14"
  }
 },
 "nbformat": 4,
 "nbformat_minor": 5
}

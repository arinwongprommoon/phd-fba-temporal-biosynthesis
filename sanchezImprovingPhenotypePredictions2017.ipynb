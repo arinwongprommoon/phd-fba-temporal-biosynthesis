{
 "cells": [
  {
   "cell_type": "markdown",
   "id": "8f499b69",
   "metadata": {},
   "source": [
    "Aims:\n",
    "  - Reproduce results in Sánchez et al. (2017)\n",
    "  - This is to understand how to deal with exchange fluxes in the context of media compositions, and understand computing growth rate, reactions that flow into the objective function."
   ]
  },
  {
   "cell_type": "markdown",
   "id": "c86edb38",
   "metadata": {},
   "source": [
    "Import dependencies"
   ]
  },
  {
   "cell_type": "code",
   "execution_count": null,
   "id": "c2db6eaf",
   "metadata": {},
   "outputs": [],
   "source": [
    "%reload_ext autoreload\n",
    "%autoreload 1\n",
    "%matplotlib inline\n",
    "\n",
    "import matplotlib.pyplot as plt\n",
    "import numpy as np\n",
    "import cobra\n",
    "import escher"
   ]
  },
  {
   "cell_type": "markdown",
   "id": "a0cede0b",
   "metadata": {},
   "source": [
    "# Load model"
   ]
  },
  {
   "cell_type": "markdown",
   "id": "32777593",
   "metadata": {},
   "source": [
    "The one used in the paper"
   ]
  },
  {
   "cell_type": "code",
   "execution_count": null,
   "id": "dac2045b",
   "metadata": {},
   "outputs": [],
   "source": [
    "# Enzyme-constrained Yeast 7, batch\n",
    "# In this model, the total amount of enzyme is limited, rather than each enzyme being limited separately.\n",
    "# This assumes an average in vivo saturation of enzymes (sigma) of 0.44,\n",
    "# value estimated by fitting the model to growth on glucose,\n",
    "# and the total protein content (P_{total}) of 0.5 g/gDW, assumed to be constant.\n",
    "model = cobra.io.read_sbml_model(\"./models/ecYeast7_v1.0_batch.xml\")\n",
    "model"
   ]
  },
  {
   "cell_type": "markdown",
   "id": "de425684",
   "metadata": {},
   "source": [
    "More recent alternatives"
   ]
  },
  {
   "cell_type": "code",
   "execution_count": null,
   "id": "c23bb126",
   "metadata": {},
   "outputs": [],
   "source": [
    "model = cobra.io.read_sbml_model(\"./models/ecYeastGEM_batch.xml\")\n",
    "model"
   ]
  },
  {
   "cell_type": "code",
   "execution_count": null,
   "id": "5635e8b7",
   "metadata": {},
   "outputs": [],
   "source": [
    "model = cobra.io.read_sbml_model(\"./models/ecYeastGEM.xml\")\n",
    "model"
   ]
  },
  {
   "cell_type": "code",
   "execution_count": null,
   "id": "bcc09897",
   "metadata": {},
   "outputs": [],
   "source": [
    "model = cobra.io.load_yaml_model(\"./models/ecYeastGEMfull_GECKO.yml\")\n",
    "model"
   ]
  },
  {
   "cell_type": "markdown",
   "id": "531142c8",
   "metadata": {},
   "source": [
    "# Set exchange bounds"
   ]
  },
  {
   "cell_type": "markdown",
   "id": "4beb5a32",
   "metadata": {},
   "source": [
    "## Mimimal media"
   ]
  },
  {
   "cell_type": "markdown",
   "id": "21d82fbb",
   "metadata": {},
   "source": [
    "Glucose exchange"
   ]
  },
  {
   "cell_type": "code",
   "execution_count": null,
   "id": "38b1a356",
   "metadata": {},
   "outputs": [],
   "source": [
    "model.reactions.get_by_id('r_1714')"
   ]
  },
  {
   "cell_type": "markdown",
   "id": "bf4af6da",
   "metadata": {},
   "source": [
    "Initially, the glucose exchange bounds are (0,0), meaning there is no glucose exchange.  To simulate glucose uptake, we need to unconstrain the bound, which means setting the bounds to (-1000,0)."
   ]
  },
  {
   "cell_type": "code",
   "execution_count": null,
   "id": "04f89d68",
   "metadata": {},
   "outputs": [],
   "source": [
    "model.reactions.r_1714.bounds = (-1000, 0)"
   ]
  },
  {
   "cell_type": "markdown",
   "id": "10291198",
   "metadata": {},
   "source": [
    "Ethanol exchange -- an example that would yield a very different value.  Note that stoichiometry goes in the opposite direction as glucose."
   ]
  },
  {
   "cell_type": "code",
   "execution_count": null,
   "id": "dd535836",
   "metadata": {},
   "outputs": [],
   "source": [
    "model.reactions.get_by_id('r_1761')"
   ]
  },
  {
   "cell_type": "markdown",
   "id": "e71dfbb9",
   "metadata": {},
   "source": [
    "Set bounds"
   ]
  },
  {
   "cell_type": "code",
   "execution_count": null,
   "id": "b4ed569b",
   "metadata": {},
   "outputs": [],
   "source": [
    "model.reactions.r_1714.bounds = (0, 0)\n",
    "model.reactions.r_1761.bounds = (-1000, 0)\n",
    "#model.reactions.r_1761_REV.bounds = (0, 1)"
   ]
  },
  {
   "cell_type": "markdown",
   "id": "000f2a68",
   "metadata": {},
   "source": [
    "Glycerol exchange"
   ]
  },
  {
   "cell_type": "code",
   "execution_count": null,
   "id": "876776fd",
   "metadata": {},
   "outputs": [],
   "source": [
    "model.reactions.get_by_id('r_1808')"
   ]
  },
  {
   "cell_type": "code",
   "execution_count": null,
   "id": "c8b7215e",
   "metadata": {},
   "outputs": [],
   "source": [
    "model.reactions.r_1714.bounds = (0, 0)\n",
    "model.reactions.r_1808.bounds = (-1000, 0)\n",
    "model.reactions.r_1808_REV.bounds = (0, 1)"
   ]
  },
  {
   "cell_type": "markdown",
   "id": "78ed76eb",
   "metadata": {},
   "source": [
    "## Minimal media + amino acids"
   ]
  },
  {
   "cell_type": "code",
   "execution_count": null,
   "id": "68ac75a0",
   "metadata": {},
   "outputs": [],
   "source": [
    "amino_exch_list = [\n",
    "    'r_1873', 'r_1879', 'r_1880', 'r_1881', 'r_1883',\n",
    "    'r_1889', 'r_1891', 'r_1810', 'r_1893', 'r_1897',\n",
    "    'r_1899', 'r_1900', 'r_1902', 'r_1903', 'r_1904',\n",
    "    'r_1906', 'r_1911', 'r_1912', 'r_1913', 'r_1914',\n",
    "]\n",
    "\n",
    "for amino in amino_exch_list:\n",
    "    model.reactions.get_by_id(amino).bounds = (-1000, 0)"
   ]
  },
  {
   "cell_type": "code",
   "execution_count": null,
   "id": "b70f26a7",
   "metadata": {},
   "outputs": [],
   "source": [
    "# glucose\n",
    "model.reactions.r_1714.bounds = (-1000, 0)"
   ]
  },
  {
   "cell_type": "markdown",
   "id": "fc4454fb",
   "metadata": {},
   "source": [
    "# Optimise model"
   ]
  },
  {
   "cell_type": "code",
   "execution_count": null,
   "id": "ccae0320",
   "metadata": {},
   "outputs": [],
   "source": [
    "# Biomass pseudoreaction, the objective function\n",
    "model.reactions.get_by_id('r_4041')"
   ]
  },
  {
   "cell_type": "code",
   "execution_count": null,
   "id": "0049c68d",
   "metadata": {},
   "outputs": [],
   "source": [
    "model.reactions.get_by_id('r_4041').bounds = (0.0,1000)"
   ]
  },
  {
   "cell_type": "code",
   "execution_count": null,
   "id": "8beeb5fc",
   "metadata": {},
   "outputs": [],
   "source": [
    "solution = model.optimize()\n",
    "\n",
    "biomass = model.reactions.get_by_id('r_4041')\n",
    "print(f'Predicted μmax is {biomass.flux:.4f} h-1')"
   ]
  },
  {
   "cell_type": "markdown",
   "id": "13dc01f4",
   "metadata": {},
   "source": [
    "If we simulate glucose uptake in minimal media, the result should be 0.3790 $h^{-1}$, which agrees with figure 4B (dark indigo circle).\n",
    "\n",
    "Glycerol should give 0.2503, which agreed with the figure too.\n",
    "\n",
    "For some reason ethanol doesn't agree with the figure."
   ]
  },
  {
   "cell_type": "markdown",
   "id": "db101a9b",
   "metadata": {},
   "source": [
    "Glucose uptake in minimal media plus amino acids yields 0.5137, agreeing with the figure (dark indigo square)"
   ]
  },
  {
   "cell_type": "markdown",
   "id": "b276756f",
   "metadata": {},
   "source": [
    "# Gene deletions"
   ]
  },
  {
   "cell_type": "markdown",
   "id": "b827bab3",
   "metadata": {},
   "source": [
    "Start over"
   ]
  },
  {
   "cell_type": "code",
   "execution_count": null,
   "id": "ade8a474",
   "metadata": {},
   "outputs": [],
   "source": [
    "model = cobra.io.read_sbml_model(\"./models/ecYeast7_v1.0_batch.xml\")"
   ]
  },
  {
   "cell_type": "markdown",
   "id": "00afeb08",
   "metadata": {},
   "source": [
    "Unrestrict glucose exchange"
   ]
  },
  {
   "cell_type": "code",
   "execution_count": null,
   "id": "d9041c08",
   "metadata": {},
   "outputs": [],
   "source": [
    "model.reactions.r_1714.bounds = (-1000, 0)"
   ]
  },
  {
   "cell_type": "markdown",
   "id": "3e8e64b5",
   "metadata": {},
   "source": [
    "Focus on these reactions: O<sub>2</sub> consumption and CO<sub>2</sub> production"
   ]
  },
  {
   "cell_type": "code",
   "execution_count": null,
   "id": "9d20b1ed",
   "metadata": {},
   "outputs": [],
   "source": [
    "# O2\n",
    "model.reactions.get_by_id('r_1992')"
   ]
  },
  {
   "cell_type": "code",
   "execution_count": null,
   "id": "313f97c3",
   "metadata": {},
   "outputs": [],
   "source": [
    "# CO2\n",
    "model.reactions.get_by_id('r_1672')"
   ]
  },
  {
   "cell_type": "markdown",
   "id": "23a3bb5c",
   "metadata": {},
   "source": [
    "Optimise wild-type model"
   ]
  },
  {
   "cell_type": "code",
   "execution_count": null,
   "id": "7312b05d",
   "metadata": {},
   "outputs": [],
   "source": [
    "solution = model.optimize()\n",
    "model.summary()"
   ]
  },
  {
   "cell_type": "code",
   "execution_count": null,
   "id": "5e1dfe5d",
   "metadata": {},
   "outputs": [],
   "source": [
    "print(f'growth: {solution[\"r_4041\"]}')\n",
    "print(f'oxygen: {solution[\"r_1992_REV\"]}')\n",
    "print(f'carbon dioxide: {solution[\"r_1672\"]}')"
   ]
  },
  {
   "cell_type": "markdown",
   "id": "9acc1c23",
   "metadata": {},
   "source": [
    "> This (probably) makes sense as in figure 6A, when the dilution rate is 0.38 (off the chart), the oxgen consumption is about 2 and the carbon dioxide production is > 20."
   ]
  },
  {
   "cell_type": "markdown",
   "id": "b143f109",
   "metadata": {},
   "source": [
    "Set dilution rate, i.e. force growth rate."
   ]
  },
  {
   "cell_type": "code",
   "execution_count": null,
   "id": "19b46af9",
   "metadata": {},
   "outputs": [],
   "source": [
    "model.reactions.r_4041.bounds = (0.15, 0.15)\n",
    "solution = model.optimize()\n",
    "print(f'growth: {solution[\"r_4041\"]}')\n",
    "print(f'oxygen: {solution[\"r_1992_REV\"]}')\n",
    "print(f'carbon dioxide: {solution[\"r_1672\"]}')"
   ]
  },
  {
   "cell_type": "markdown",
   "id": "3c4960fc",
   "metadata": {},
   "source": [
    "Sweep\n",
    "\n",
    "**BUG: Running the code the 1st time gives a different result from the 2nd-later times.  The first time aligns the most to fig 6A, but have weird kinks in them.  The kinks could be floating-point rounding issues propagating to the optimisations, but I have no idea why outputs are different each time.  I suspect this may be a Python-specific problem that could be solved by using Julia.**"
   ]
  },
  {
   "cell_type": "code",
   "execution_count": null,
   "id": "626cab95",
   "metadata": {},
   "outputs": [],
   "source": [
    "model = cobra.io.read_sbml_model(\"./models/ecYeast7_v1.0_batch.xml\")\n",
    "model.reactions.r_1714.bounds = (-1000, 0)"
   ]
  },
  {
   "cell_type": "code",
   "execution_count": null,
   "id": "db82e7aa",
   "metadata": {},
   "outputs": [],
   "source": [
    "dil_rates = np.linspace(0.1, 0.35, 600)\n",
    "o2_flux = []\n",
    "co2_flux = []\n",
    "\n",
    "for dil_rate in dil_rates:\n",
    "    model.reactions.r_4041.bounds = (dil_rate, dil_rate)\n",
    "    solution = model.optimize()\n",
    "    o2_flux.append(solution.fluxes[\"r_1992_REV\"])\n",
    "    co2_flux.append(solution.fluxes[\"r_1672\"])"
   ]
  },
  {
   "cell_type": "code",
   "execution_count": null,
   "id": "21e71911",
   "metadata": {},
   "outputs": [],
   "source": [
    "fig, ax = plt.subplots()\n",
    "ax.plot(dil_rates, o2_flux, 'b')\n",
    "ax.plot(dil_rates, co2_flux, 'r')"
   ]
  },
  {
   "cell_type": "markdown",
   "id": "9f0a8dc2",
   "metadata": {},
   "source": [
    "Delete NDI1, NDE1, NDE2"
   ]
  },
  {
   "cell_type": "code",
   "execution_count": null,
   "id": "fd3ac82a",
   "metadata": {},
   "outputs": [],
   "source": [
    "model = cobra.io.read_sbml_model(\"./models/ecYeast7_v1.0_batch.xml\")\n",
    "print('model loaded')\n",
    "# This model has no GPR, so need to manually identify reactions to knock out\n",
    "reactions_to_ko = [\n",
    "    'r_0773No1',\n",
    "    'draw_prot_P32340',\n",
    "    'r_0770No2',\n",
    "    'draw_prot_P40215',\n",
    "    'r_0770No1',\n",
    "    'draw_prot_Q07500',\n",
    "]\n",
    "for reaction in reactions_to_ko:\n",
    "    model.reactions.get_by_id(reaction).knock_out()\n",
    "\n",
    "model.reactions.r_1714.bounds = (-1000, 0)\n",
    "print('bounds set')\n",
    "\n",
    "dil_rates = np.linspace(0.1, 0.35, 600)\n",
    "o2_flux = []\n",
    "co2_flux = []\n",
    "\n",
    "for dil_rate in dil_rates:\n",
    "    model.reactions.r_4041.bounds = (dil_rate, dil_rate)\n",
    "    solution = model.optimize()\n",
    "    o2_flux.append(solution.fluxes[\"r_1992_REV\"])\n",
    "    co2_flux.append(solution.fluxes[\"r_1672\"])\n",
    "print('optimisations done')\n",
    "    \n",
    "fig, ax = plt.subplots()\n",
    "ax.plot(dil_rates, o2_flux, 'b')\n",
    "ax.plot(dil_rates, co2_flux, 'r')"
   ]
  },
  {
   "cell_type": "markdown",
   "id": "d542adb9",
   "metadata": {},
   "source": [
    "> Despite the bug, it's clear that the point where oxygen consumption and carbon dioxide production diverge shift from 0.3ish to 0.2ish, broadly agreeing with figure 6A in Sánchez et al. (2017).  So, merely blocking the reactions should make sense."
   ]
  }
 ],
 "metadata": {
  "kernelspec": {
   "display_name": "fba",
   "language": "python",
   "name": "fba"
  },
  "language_info": {
   "codemirror_mode": {
    "name": "ipython",
    "version": 3
   },
   "file_extension": ".py",
   "mimetype": "text/x-python",
   "name": "python",
   "nbconvert_exporter": "python",
   "pygments_lexer": "ipython3",
   "version": "3.8.14"
  }
 },
 "nbformat": 4,
 "nbformat_minor": 5
}

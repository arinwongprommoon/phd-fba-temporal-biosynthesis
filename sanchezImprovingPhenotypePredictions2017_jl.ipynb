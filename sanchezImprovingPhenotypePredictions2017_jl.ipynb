{
 "cells": [
  {
   "cell_type": "markdown",
   "id": "a4f06903",
   "metadata": {},
   "source": [
    "Import dependencies"
   ]
  },
  {
   "cell_type": "code",
   "execution_count": null,
   "id": "7fbee143",
   "metadata": {},
   "outputs": [],
   "source": [
    "using COBREXA\n",
    "using Tulip"
   ]
  },
  {
   "cell_type": "markdown",
   "id": "66856f62",
   "metadata": {},
   "source": [
    "# Load model"
   ]
  },
  {
   "cell_type": "code",
   "execution_count": null,
   "id": "86521386",
   "metadata": {},
   "outputs": [],
   "source": [
    "model = load_model(\"./models/ecYeast7_v1.0_batch.xml\")"
   ]
  },
  {
   "cell_type": "code",
   "execution_count": null,
   "id": "b6f14045",
   "metadata": {},
   "outputs": [],
   "source": [
    "m = convert(StandardModel, model)"
   ]
  },
  {
   "cell_type": "markdown",
   "id": "13c98d16",
   "metadata": {},
   "source": [
    "Bounds: Inf --> 1000. Otherwise it complains."
   ]
  },
  {
   "cell_type": "code",
   "execution_count": null,
   "id": "c8ddc555",
   "metadata": {},
   "outputs": [],
   "source": [
    "for (rxn_id, rxn) in m.reactions\n",
    "    if isinf(rxn.ub)\n",
    "        rxn.ub = 1000\n",
    "    end\n",
    "end"
   ]
  },
  {
   "cell_type": "markdown",
   "id": "7c2e969e",
   "metadata": {},
   "source": [
    "# Optimise model"
   ]
  },
  {
   "cell_type": "code",
   "execution_count": null,
   "id": "0ab0cf1c",
   "metadata": {},
   "outputs": [],
   "source": [
    "solution = flux_balance_analysis(m, Tulip.Optimizer)"
   ]
  },
  {
   "cell_type": "code",
   "execution_count": null,
   "id": "d3c0b798",
   "metadata": {},
   "outputs": [],
   "source": [
    "using JuMP\n",
    "\n",
    "value.(solution[:x])"
   ]
  }
 ],
 "metadata": {
  "kernelspec": {
   "display_name": "Julia 1.9.0",
   "language": "julia",
   "name": "julia-1.9"
  },
  "language_info": {
   "file_extension": ".jl",
   "mimetype": "application/julia",
   "name": "julia",
   "version": "1.9.0"
  }
 },
 "nbformat": 4,
 "nbformat_minor": 5
}

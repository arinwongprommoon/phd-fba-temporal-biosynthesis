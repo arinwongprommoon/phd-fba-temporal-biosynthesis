{
 "cells": [
  {
   "cell_type": "markdown",
   "id": "98316e56",
   "metadata": {},
   "source": [
    "Import dependencies"
   ]
  },
  {
   "cell_type": "code",
   "execution_count": null,
   "id": "03a24339",
   "metadata": {},
   "outputs": [],
   "source": [
    "%reload_ext autoreload\n",
    "%autoreload 1\n",
    "%matplotlib inline\n",
    "\n",
    "import matplotlib.pyplot as plt\n",
    "import numpy as np\n",
    "import cobra\n",
    "import escher"
   ]
  },
  {
   "cell_type": "markdown",
   "id": "5bbc1424",
   "metadata": {},
   "source": [
    "# Load model"
   ]
  },
  {
   "cell_type": "code",
   "execution_count": null,
   "id": "e9015a22",
   "metadata": {},
   "outputs": [],
   "source": [
    "model = cobra.io.read_sbml_model(\"./models/yeast-GEM-BiGG.xml\")\n",
    "model"
   ]
  },
  {
   "cell_type": "markdown",
   "id": "167bcafb",
   "metadata": {},
   "source": [
    "# Inspect functions, metabolites, and reactions"
   ]
  },
  {
   "cell_type": "markdown",
   "id": "4f1b703f",
   "metadata": {},
   "source": [
    "Objective function is `GROWTH` in the yeast-GEM model, inspecting it and related reactions:"
   ]
  },
  {
   "cell_type": "code",
   "execution_count": null,
   "id": "f00fa83a",
   "metadata": {},
   "outputs": [],
   "source": [
    "model.reactions.get_by_id('GROWTH')"
   ]
  },
  {
   "cell_type": "code",
   "execution_count": null,
   "id": "53774998",
   "metadata": {},
   "outputs": [],
   "source": [
    "model.metabolites.get_by_id('biomass_c')"
   ]
  },
  {
   "cell_type": "code",
   "execution_count": null,
   "id": "e38d56f5",
   "metadata": {},
   "outputs": [],
   "source": [
    "# This is the biomass pseudoreaction -- we're interested in the stoichiometry of this.\n",
    "biomass = model.reactions.get_by_id('BIOMASS_yeast-GEM')\n",
    "biomass\n",
    "# Conveniently, it has one 'metabolite' for all lipids, one for all proteins,\n",
    "# one for RNA, etc.  We want to remove each in turn, so if it's written in this way,\n",
    "# it's super easy to do so."
   ]
  },
  {
   "cell_type": "markdown",
   "id": "15922521",
   "metadata": {},
   "source": [
    "Inspecting each type of macromolecule..."
   ]
  },
  {
   "cell_type": "markdown",
   "id": "192393d8",
   "metadata": {},
   "source": [
    "Lipid"
   ]
  },
  {
   "cell_type": "code",
   "execution_count": null,
   "id": "41c0f7cb",
   "metadata": {},
   "outputs": [],
   "source": [
    "model.metabolites.get_by_id('s_1096')"
   ]
  },
  {
   "cell_type": "code",
   "execution_count": null,
   "id": "cc3e810b",
   "metadata": {},
   "outputs": [],
   "source": [
    "# Lipid pseudoreaction is combining 'bulk' lipid backbone and 'bulk' lipid chain substrates\n",
    "model.reactions.get_by_id('BIOMASS_yeast-GEM_LIP')"
   ]
  },
  {
   "cell_type": "markdown",
   "id": "1c33c550",
   "metadata": {},
   "source": [
    "Protein"
   ]
  },
  {
   "cell_type": "code",
   "execution_count": null,
   "id": "bde91d3a",
   "metadata": {},
   "outputs": [],
   "source": [
    "model.metabolites.get_by_id('protein_c')"
   ]
  },
  {
   "cell_type": "code",
   "execution_count": null,
   "id": "bce7b91f",
   "metadata": {},
   "outputs": [],
   "source": [
    "# Protein pseudoreaction is combining aminoacyl-tRNAs\n",
    "model.reactions.get_by_id('BIOMASS_yeast-GEM_PROT')"
   ]
  },
  {
   "cell_type": "markdown",
   "id": "c5cca786",
   "metadata": {},
   "source": [
    "DNA"
   ]
  },
  {
   "cell_type": "code",
   "execution_count": null,
   "id": "ad673cf1",
   "metadata": {},
   "outputs": [],
   "source": [
    "model.metabolites.get_by_id('dna_c')"
   ]
  },
  {
   "cell_type": "code",
   "execution_count": null,
   "id": "769ad969",
   "metadata": {},
   "outputs": [],
   "source": [
    "# DNA pseudoreaction is combining dNTPs\n",
    "model.reactions.get_by_id('BIOMASS_yeast-GEM_DNA')"
   ]
  },
  {
   "cell_type": "markdown",
   "id": "7d0b3c97",
   "metadata": {},
   "source": [
    "RNA"
   ]
  },
  {
   "cell_type": "code",
   "execution_count": null,
   "id": "0144bdf7",
   "metadata": {},
   "outputs": [],
   "source": [
    "model.metabolites.get_by_id('rna_c')"
   ]
  },
  {
   "cell_type": "code",
   "execution_count": null,
   "id": "9a8b4bca",
   "metadata": {},
   "outputs": [],
   "source": [
    "# RNA pseudoreaction is combining NTPs\n",
    "model.reactions.get_by_id('BIOMASS_yeast-GEM_RNA')"
   ]
  },
  {
   "cell_type": "markdown",
   "id": "888cd23b",
   "metadata": {},
   "source": [
    "# Unmodified model"
   ]
  },
  {
   "cell_type": "markdown",
   "id": "3f5a7716",
   "metadata": {},
   "source": [
    "Limit glucose uptake (minimal media)"
   ]
  },
  {
   "cell_type": "code",
   "execution_count": null,
   "id": "372853f5",
   "metadata": {},
   "outputs": [],
   "source": [
    "model.reactions.EX_glc__D_e.bounds = (-18.5, 1) # TODO, find a sensible number"
   ]
  },
  {
   "cell_type": "markdown",
   "id": "7b8681a1",
   "metadata": {},
   "source": [
    "Simulate model and draw fluxes through central carbon metabolism"
   ]
  },
  {
   "cell_type": "code",
   "execution_count": null,
   "id": "ebd2bc00",
   "metadata": {},
   "outputs": [],
   "source": [
    "solution = model.optimize()\n",
    "b = escher.Builder(\n",
    "    map_name='iMM904.Central carbon metabolism',\n",
    "    reaction_data=solution.fluxes.to_dict()\n",
    ")\n",
    "b"
   ]
  },
  {
   "cell_type": "markdown",
   "id": "f150db24",
   "metadata": {},
   "source": [
    "Get flux through biomass reaction"
   ]
  },
  {
   "cell_type": "code",
   "execution_count": null,
   "id": "22014b87",
   "metadata": {},
   "outputs": [],
   "source": [
    "biomass = model.reactions.get_by_id('BIOMASS_yeast-GEM')\n",
    "print(f'Flux through biomass reaction is {biomass.flux:.4f} mmol/(gDW h)')"
   ]
  },
  {
   "cell_type": "markdown",
   "id": "e0aa138c",
   "metadata": {},
   "source": [
    "Estimate timescale for biomass synthesis"
   ]
  },
  {
   "cell_type": "code",
   "execution_count": null,
   "id": "e8f22086",
   "metadata": {},
   "outputs": [],
   "source": [
    "# Define constants\n",
    "CELL_DRY_MASS = 15e-12 # g\n",
    "MOLWEIGHT_BIOMASS = 0.966 # g/mmol, Takhaveev et al. (2023)"
   ]
  },
  {
   "cell_type": "code",
   "execution_count": null,
   "id": "ba41bf26",
   "metadata": {},
   "outputs": [],
   "source": [
    "biomass_time = 1/(biomass.flux * MOLWEIGHT_BIOMASS)\n",
    "print(f'Estimated time: {biomass_time:.4f} hours')"
   ]
  },
  {
   "cell_type": "markdown",
   "id": "db373254",
   "metadata": {},
   "source": [
    "## Modify biomass reaction by ablating each type of macromolecule"
   ]
  },
  {
   "cell_type": "code",
   "execution_count": null,
   "id": "c0ecde3d",
   "metadata": {},
   "outputs": [],
   "source": [
    "CELL_DRY_MASS = 15e-12 # g\n",
    "\n",
    "class BiomassComponent():\n",
    "    def __init__(\n",
    "        self,\n",
    "        metabolite_label,\n",
    "        metabolite_id,\n",
    "        molecular_mass,\n",
    "        mass_per_cell,\n",
    "    ):\n",
    "        self.metabolite_label = metabolite_label\n",
    "        self.metabolite_id = metabolite_id\n",
    "        self.molecular_mass = molecular_mass\n",
    "        self.mass_per_cell = mass_per_cell\n",
    "        \n",
    "        self.ablated_flux = None\n",
    "        self.est_time = None\n",
    "        \n",
    "    def get_est_time(self):\n",
    "        self.est_time = self.mass_per_cell/(CELL_DRY_MASS * self.ablated_flux * self.molecular_mass)\n",
    "        "
   ]
  },
  {
   "cell_type": "code",
   "execution_count": null,
   "id": "ba69bf03",
   "metadata": {},
   "outputs": [],
   "source": [
    "model_saved = cobra.io.read_sbml_model(\"./models/yeast-GEM-BiGG.xml\")"
   ]
  },
  {
   "cell_type": "code",
   "execution_count": null,
   "id": "de2b91cb",
   "metadata": {},
   "outputs": [],
   "source": [
    "# TODO:\n",
    "# - Create CSV table containing these\n",
    "# - Create a class builder that builds these classes based on the CSV table\n",
    "# - FURTHER: make it able to deal with ranges of values (lower limit, upper limit)\n",
    "\n",
    "Lipids = BiomassComponent(\n",
    "    metabolite_label='lipid',\n",
    "    metabolite_id='s_1096',\n",
    "    molecular_mass=0.800,\n",
    "    mass_per_cell=900e-15,\n",
    ")\n",
    "\n",
    "Proteins = BiomassComponent(\n",
    "    metabolite_label='protein',\n",
    "    metabolite_id='protein_c',\n",
    "    molecular_mass=55,\n",
    "    mass_per_cell=7650e-15,\n",
    ")\n",
    "\n",
    "Carbohydrates = BiomassComponent(\n",
    "    metabolite_label='carbohydrate',\n",
    "    metabolite_id='s_3718',\n",
    "    molecular_mass=1000, # 'variable'\n",
    "    mass_per_cell=(75+3450)*1e-15, # 'storage carbohydrates' + 'structural polymers'\n",
    ")\n",
    "\n",
    "DNA = BiomassComponent(\n",
    "    metabolite_label='DNA',\n",
    "    metabolite_id='dna_c',\n",
    "    molecular_mass=2.5e5,\n",
    "    mass_per_cell=75e-15,\n",
    ")\n",
    "\n",
    "RNA = BiomassComponent(\n",
    "    metabolite_label='RNA',\n",
    "    metabolite_id='rna_c',\n",
    "    molecular_mass=1e2, # 1e4 -- 1e6 Da\n",
    "    mass_per_cell=1650e-15,\n",
    ")"
   ]
  },
  {
   "cell_type": "code",
   "execution_count": null,
   "id": "aac07401",
   "metadata": {},
   "outputs": [],
   "source": [
    "biomass_component_list = [Lipids, Proteins, Carbohydrates, DNA, RNA]\n",
    "\n",
    "all_metabolite_ids = [\n",
    "    biomass_component.metabolite_id\n",
    "    for biomass_component in biomass_component_list\n",
    "]\n",
    "\n",
    "for biomass_component in biomass_component_list:\n",
    "    # get model\n",
    "    model = model_saved.copy()\n",
    "    # model.reactions.EX_glc__D_e.bounds = (-18.5, 1) # Limit glucose uptake.  TODO, find a sensible number\n",
    "    biomass_reaction = model.reactions.get_by_id('BIOMASS_yeast-GEM')\n",
    "    \n",
    "    # boilerplate: lookup\n",
    "    to_ablate = all_metabolite_ids.copy()\n",
    "    to_ablate.remove(biomass_component.metabolite_id)\n",
    "    to_ablate_keys = [\n",
    "        model.metabolites.get_by_id(metabolite_id)\n",
    "        for metabolite_id in to_ablate\n",
    "    ]\n",
    "    to_ablate_dict = dict(zip(to_ablate_keys, [-1]*len(to_ablate_keys)))\n",
    "    \n",
    "    # ablate metabolites from biomass reaction\n",
    "    biomass_reaction.subtract_metabolites(to_ablate_dict)\n",
    "    \n",
    "    # optimise model\n",
    "    solution = model.optimize()\n",
    "    biomass_component.ablated_flux = biomass_reaction.flux\n",
    "    biomass_component.get_est_time()\n",
    "    print(biomass_component.metabolite_label)\n",
    "    print(biomass_reaction)\n",
    "    print(f'flux through ablated biomass reaction: {biomass_component.ablated_flux:.4f} mmol/(gDW h)')\n",
    "    print(f'estimated time: {biomass_component.est_time:.4f} hours')\n",
    "    print('\\n')\n",
    "    \n",
    "total_time = sum([biomass_component.est_time for biomass_component in biomass_component_list])\n",
    "print(f'sum of times: {total_time:.4f} hours')"
   ]
  },
  {
   "cell_type": "markdown",
   "id": "4622b835",
   "metadata": {},
   "source": [
    "Draw fluxes through central carbon metabolism"
   ]
  },
  {
   "cell_type": "code",
   "execution_count": null,
   "id": "487e4c31",
   "metadata": {},
   "outputs": [],
   "source": [
    "b = escher.Builder(\n",
    "    map_name='iMM904.Central carbon metabolism',\n",
    "    reaction_data=solution.fluxes.to_dict()\n",
    ")\n",
    "b"
   ]
  }
 ],
 "metadata": {
  "kernelspec": {
   "display_name": "fba",
   "language": "python",
   "name": "fba"
  },
  "language_info": {
   "codemirror_mode": {
    "name": "ipython",
    "version": 3
   },
   "file_extension": ".py",
   "mimetype": "text/x-python",
   "name": "python",
   "nbconvert_exporter": "python",
   "pygments_lexer": "ipython3",
   "version": "3.7.9"
  }
 },
 "nbformat": 4,
 "nbformat_minor": 5
}

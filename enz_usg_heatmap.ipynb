{
 "cells": [
  {
   "cell_type": "markdown",
   "id": "9ebbf0e5",
   "metadata": {},
   "source": [
    "Imports"
   ]
  },
  {
   "cell_type": "code",
   "execution_count": null,
   "id": "c27b14a5",
   "metadata": {},
   "outputs": [],
   "source": [
    "import matplotlib.pyplot as plt\n",
    "import numpy as np\n",
    "import pandas as pd\n",
    "import seaborn as sns\n",
    "\n",
    "from yeast8model import Yeast8Model"
   ]
  },
  {
   "cell_type": "markdown",
   "id": "a462909c",
   "metadata": {},
   "source": [
    "# Initialise model"
   ]
  },
  {
   "cell_type": "code",
   "execution_count": null,
   "id": "5b666fb5",
   "metadata": {},
   "outputs": [],
   "source": [
    "glc_exch_rate = 16.89\n",
    "wt_ec = Yeast8Model(\"./models/ecYeastGEM_batch_8-6-0.xml\")\n",
    "wt_ec.model.reactions.get_by_id(\"r_1714\").bounds = (-glc_exch_rate, 0)\n",
    "wt_ec.model.reactions.get_by_id(\"r_1714_REV\").bounds = (0, glc_exch_rate)"
   ]
  },
  {
   "cell_type": "markdown",
   "id": "8ef0efed",
   "metadata": {},
   "source": [
    "# Ablate and store fluxes in each round"
   ]
  },
  {
   "cell_type": "code",
   "execution_count": null,
   "id": "2e1a5f29",
   "metadata": {},
   "outputs": [],
   "source": [
    "wt_ec.ablation_result = wt_ec.ablate()\n",
    "\n",
    "ablation_fluxes = wt_ec.ablation_fluxes\n",
    "ablation_fluxes_diff = ablation_fluxes.copy()\n",
    "ablation_fluxes_diff.pop(\"original\")\n",
    "for biomass_component, fluxes in ablation_fluxes_diff.items():\n",
    "    ablation_fluxes_diff[biomass_component] = (\n",
    "        ablation_fluxes[biomass_component] - ablation_fluxes[\"original\"]\n",
    "    )\n",
    "    print(f\"{biomass_component}\")\n",
    "    print(f\"min {1e5 * ablation_fluxes_diff[biomass_component].min()} * 1e-5\")\n",
    "    print(f\"max {1e5 * ablation_fluxes_diff[biomass_component].max()} * 1e-5\")"
   ]
  },
  {
   "cell_type": "markdown",
   "id": "5e5cc397",
   "metadata": {},
   "source": [
    "Work"
   ]
  },
  {
   "cell_type": "code",
   "execution_count": null,
   "id": "031255f3",
   "metadata": {},
   "outputs": [],
   "source": [
    "from script_abl_vs_enz_use import (\n",
    "    subsystem_dict,\n",
    "    extract_protein_ids,\n",
    "    get_participating_rxn_ids,\n",
    "    get_subsystem_list,\n",
    ")"
   ]
  },
  {
   "cell_type": "code",
   "execution_count": null,
   "id": "43d8004b",
   "metadata": {},
   "outputs": [],
   "source": [
    "subsystem_dict"
   ]
  },
  {
   "cell_type": "code",
   "execution_count": null,
   "id": "dc193c93",
   "metadata": {},
   "outputs": [],
   "source": [
    "s = ablation_fluxes_diff['lipid'].copy()"
   ]
  },
  {
   "cell_type": "code",
   "execution_count": null,
   "id": "598f9d63",
   "metadata": {},
   "outputs": [],
   "source": [
    "enz_metabolite_ids = extract_protein_ids(s)\n",
    "participating_rxn_ids, enz_usage_fluxes = get_participating_rxn_ids(\n",
    "    enz_metabolite_ids, s, wt_ec\n",
    ")\n",
    "subsystem_list = get_subsystem_list(participating_rxn_ids, subsystem_dict)"
   ]
  },
  {
   "cell_type": "code",
   "execution_count": null,
   "id": "51591c16",
   "metadata": {
    "scrolled": true
   },
   "outputs": [],
   "source": [
    "subsystem_list"
   ]
  },
  {
   "cell_type": "code",
   "execution_count": null,
   "id": "284c55c2",
   "metadata": {},
   "outputs": [],
   "source": [
    "participating_rxn_df = pd.DataFrame(\n",
    "    {\n",
    "        \"participating_rxn_id\": participating_rxn_ids,\n",
    "        \"subsystem\": subsystem_list,\n",
    "        \"enz_usage_flux\": enz_usage_fluxes,\n",
    "    }\n",
    ")"
   ]
  },
  {
   "cell_type": "code",
   "execution_count": null,
   "id": "5d19e2d8",
   "metadata": {},
   "outputs": [],
   "source": [
    "participating_rxn_df = participating_rxn_df[participating_rxn_df.subsystem != \"Enzyme usage\"]"
   ]
  },
  {
   "cell_type": "code",
   "execution_count": null,
   "id": "4c1923f7",
   "metadata": {},
   "outputs": [],
   "source": [
    "participating_rxn_df = participating_rxn_df.sort_values(by=['subsystem'])"
   ]
  },
  {
   "cell_type": "code",
   "execution_count": null,
   "id": "8b0e4052",
   "metadata": {},
   "outputs": [],
   "source": [
    "fluxes_array = participating_rxn_df.enz_usage_flux.to_numpy()\n",
    "fluxes_array = np.reshape(fluxes_array, (-1,len(fluxes_array)))"
   ]
  },
  {
   "cell_type": "code",
   "execution_count": null,
   "id": "9f8f9d4b",
   "metadata": {},
   "outputs": [],
   "source": [
    "subsystem_list_sorted = participating_rxn_df.subsystem.to_list()"
   ]
  },
  {
   "cell_type": "code",
   "execution_count": null,
   "id": "2bd14b08",
   "metadata": {
    "scrolled": true
   },
   "outputs": [],
   "source": [
    "# TODO: use this without crashing\n",
    "subsystem_labels = []\n",
    "compare_string = ''\n",
    "for subsystem_string in subsystem_list_sorted:\n",
    "    print(f'compare_string: {compare_string}')\n",
    "    print(f'subsystem_string: {subsystem_string}')\n",
    "    if subsystem_string == compare_string:\n",
    "        subsystem_string = ' '\n",
    "    else:\n",
    "        compare_string = subsystem_string\n",
    "    print(f'subsystem_string after: {subsystem_string}')\n",
    "    subsystem_labels.append(subsystem_string)"
   ]
  },
  {
   "cell_type": "code",
   "execution_count": null,
   "id": "b7fd4ed1",
   "metadata": {},
   "outputs": [],
   "source": [
    "# 1d proof of concept\n",
    "sns.heatmap(fluxes_array, center=0, robust=True, cmap='RdBu')"
   ]
  },
  {
   "cell_type": "markdown",
   "id": "39352559",
   "metadata": {},
   "source": [
    "Loop"
   ]
  },
  {
   "cell_type": "code",
   "execution_count": null,
   "id": "f1ff70e0",
   "metadata": {},
   "outputs": [],
   "source": [
    "list_participating_rxn_df = []\n",
    "\n",
    "for idx, (biomass_component, fluxes) in enumerate(ablation_fluxes_diff.items()):\n",
    "    s = fluxes.copy()\n",
    "    \n",
    "    enz_metabolite_ids = extract_protein_ids(s)\n",
    "    participating_rxn_ids, enz_usage_fluxes = get_participating_rxn_ids(\n",
    "        enz_metabolite_ids, s, wt_ec\n",
    "    )\n",
    "    subsystem_list = get_subsystem_list(participating_rxn_ids, subsystem_dict)\n",
    "    \n",
    "    enz_usage_flux_column = \"enz_usage_flux_\" + biomass_component\n",
    "    participating_rxn_df = pd.DataFrame(\n",
    "        {\n",
    "            \"participating_rxn_id\": participating_rxn_ids,\n",
    "            \"subsystem\": subsystem_list,\n",
    "            enz_usage_flux_column: enz_usage_fluxes,\n",
    "        }\n",
    "    )\n",
    "    list_participating_rxn_df.append(participating_rxn_df)"
   ]
  },
  {
   "cell_type": "code",
   "execution_count": null,
   "id": "b3078426",
   "metadata": {},
   "outputs": [],
   "source": [
    "left_columns = list_participating_rxn_df[0].iloc[:,0:2]"
   ]
  },
  {
   "cell_type": "code",
   "execution_count": null,
   "id": "edecabfc",
   "metadata": {},
   "outputs": [],
   "source": [
    "enz_usage_columns = pd.concat(\n",
    "    [list_participating_rxn_df[idx].iloc[:,-1]\n",
    "     for idx in range(len(list_participating_rxn_df))\n",
    "    ], axis=1\n",
    ")"
   ]
  },
  {
   "cell_type": "code",
   "execution_count": null,
   "id": "b2f24167",
   "metadata": {},
   "outputs": [],
   "source": [
    "all_fluxes_df = pd.concat([left_columns, enz_usage_columns], axis=1)"
   ]
  },
  {
   "cell_type": "code",
   "execution_count": null,
   "id": "b7d07509",
   "metadata": {},
   "outputs": [],
   "source": [
    "all_fluxes_df = all_fluxes_df[all_fluxes_df.subsystem != \"Enzyme usage\"]"
   ]
  },
  {
   "cell_type": "code",
   "execution_count": null,
   "id": "104476b2",
   "metadata": {},
   "outputs": [],
   "source": [
    "all_fluxes_df = all_fluxes_df.sort_values(by=['subsystem'])"
   ]
  },
  {
   "cell_type": "code",
   "execution_count": null,
   "id": "17fa226f",
   "metadata": {
    "scrolled": false
   },
   "outputs": [],
   "source": [
    "# 2d proof of concept\n",
    "fig, ax = plt.subplots(figsize=(10,50))\n",
    "sns.heatmap(all_fluxes_df.iloc[:,2:], center=0, robust=True, cmap='RdBu')"
   ]
  }
 ],
 "metadata": {
  "kernelspec": {
   "display_name": "fba",
   "language": "python",
   "name": "fba"
  },
  "language_info": {
   "codemirror_mode": {
    "name": "ipython",
    "version": 3
   },
   "file_extension": ".py",
   "mimetype": "text/x-python",
   "name": "python",
   "nbconvert_exporter": "python",
   "pygments_lexer": "ipython3",
   "version": "3.8.14"
  }
 },
 "nbformat": 4,
 "nbformat_minor": 5
}

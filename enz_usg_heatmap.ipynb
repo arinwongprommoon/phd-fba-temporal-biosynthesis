{
 "cells": [
  {
   "cell_type": "markdown",
   "id": "d3c02912",
   "metadata": {},
   "source": [
    "Imports"
   ]
  },
  {
   "cell_type": "code",
   "execution_count": 59,
   "id": "a34bf454",
   "metadata": {},
   "outputs": [],
   "source": [
    "import matplotlib.pyplot as plt\n",
    "import numpy as np\n",
    "import pandas as pd\n",
    "import seaborn as sns\n",
    "\n",
    "from yeast8model import Yeast8Model"
   ]
  },
  {
   "cell_type": "markdown",
   "id": "96c5cc91",
   "metadata": {},
   "source": [
    "# Initialise model"
   ]
  },
  {
   "cell_type": "code",
   "execution_count": 60,
   "id": "98653de4",
   "metadata": {},
   "outputs": [
    {
     "name": "stdout",
     "output_type": "stream",
     "text": [
      "Growth (r_2111) unrestricted.\n"
     ]
    }
   ],
   "source": [
    "glc_exch_rate = 16.89\n",
    "wt_ec = Yeast8Model(\"./models/ecYeastGEM_batch_8-6-0.xml\")\n",
    "wt_ec.model.reactions.get_by_id(\"r_1714\").bounds = (-glc_exch_rate, 0)\n",
    "wt_ec.model.reactions.get_by_id(\"r_1714_REV\").bounds = (0, glc_exch_rate)"
   ]
  },
  {
   "cell_type": "markdown",
   "id": "1992dbc3",
   "metadata": {},
   "source": [
    "# Ablate and store fluxes in each round"
   ]
  },
  {
   "cell_type": "code",
   "execution_count": 61,
   "id": "dc05992c",
   "metadata": {},
   "outputs": [
    {
     "name": "stdout",
     "output_type": "stream",
     "text": [
      "lipid\n",
      "min -15.7132268693454 * 1e-5\n",
      "max 10.732222184671604 * 1e-5\n",
      "protein\n",
      "min -15.7132268693454 * 1e-5\n",
      "max 20.912808268113988 * 1e-5\n",
      "carbohydrate\n",
      "min -15.7132268693454 * 1e-5\n",
      "max 69.90862690764894 * 1e-5\n",
      "DNA\n",
      "min -15.7132268693454 * 1e-5\n",
      "max 87.830895004639 * 1e-5\n",
      "RNA\n",
      "min -15.7132268693454 * 1e-5\n",
      "max 63.041277234143564 * 1e-5\n",
      "cofactor\n",
      "min -8.830759742568564 * 1e-5\n",
      "max 60.46997765979392 * 1e-5\n",
      "ion\n",
      "min -15.7132268693454 * 1e-5\n",
      "max 89.96004436577562 * 1e-5\n"
     ]
    }
   ],
   "source": [
    "wt_ec.ablation_result = wt_ec.ablate()\n",
    "\n",
    "ablation_fluxes = wt_ec.ablation_fluxes\n",
    "ablation_fluxes_diff = ablation_fluxes.copy()\n",
    "ablation_fluxes_diff.pop(\"original\")\n",
    "for biomass_component, fluxes in ablation_fluxes_diff.items():\n",
    "    ablation_fluxes_diff[biomass_component] = (\n",
    "        ablation_fluxes[biomass_component] - ablation_fluxes[\"original\"]\n",
    "    )\n",
    "    print(f\"{biomass_component}\")\n",
    "    print(f\"min {1e5 * ablation_fluxes_diff[biomass_component].min()} * 1e-5\")\n",
    "    print(f\"max {1e5 * ablation_fluxes_diff[biomass_component].max()} * 1e-5\")"
   ]
  },
  {
   "cell_type": "markdown",
   "id": "bbfa54e3",
   "metadata": {},
   "source": [
    "Work"
   ]
  },
  {
   "cell_type": "code",
   "execution_count": 62,
   "id": "d1d20428",
   "metadata": {},
   "outputs": [],
   "source": [
    "from script_abl_vs_enz_use import (\n",
    "    subsystem_dict,\n",
    "    extract_protein_ids,\n",
    "    get_participating_rxn_ids,\n",
    "    get_subsystem_list,\n",
    ")"
   ]
  },
  {
   "cell_type": "code",
   "execution_count": 63,
   "id": "0aad1c76",
   "metadata": {},
   "outputs": [],
   "source": [
    "list_participating_rxn_df = []\n",
    "\n",
    "for idx, (biomass_component, fluxes) in enumerate(ablation_fluxes_diff.items()):\n",
    "    s = fluxes.copy()\n",
    "    \n",
    "    enz_metabolite_ids = extract_protein_ids(s)\n",
    "    participating_rxn_ids, enz_usage_fluxes = get_participating_rxn_ids(\n",
    "        enz_metabolite_ids, s, wt_ec\n",
    "    )\n",
    "    subsystem_list = get_subsystem_list(participating_rxn_ids, subsystem_dict)\n",
    "    \n",
    "    enz_usage_flux_column = \"enz_usage_flux_\" + biomass_component\n",
    "    participating_rxn_df = pd.DataFrame(\n",
    "        {\n",
    "            \"participating_rxn_id\": participating_rxn_ids,\n",
    "            \"subsystem\": subsystem_list,\n",
    "            enz_usage_flux_column: enz_usage_fluxes,\n",
    "        }\n",
    "    )\n",
    "    list_participating_rxn_df.append(participating_rxn_df)\n",
    "    \n",
    "left_columns = list_participating_rxn_df[0].iloc[:,0:2]\n",
    "enz_usage_columns = pd.concat(\n",
    "    [list_participating_rxn_df[idx].iloc[:,-1]\n",
    "     for idx in range(len(list_participating_rxn_df))\n",
    "    ], axis=1\n",
    ")\n",
    "\n",
    "all_fluxes_df = pd.concat([left_columns, enz_usage_columns], axis=1)\n",
    "all_fluxes_df = all_fluxes_df[all_fluxes_df.subsystem != \"Enzyme usage\"]\n",
    "all_fluxes_df = all_fluxes_df.sort_values(by=['subsystem'])"
   ]
  },
  {
   "cell_type": "code",
   "execution_count": null,
   "id": "382fcb5e",
   "metadata": {
    "scrolled": false
   },
   "outputs": [],
   "source": [
    "# 2d proof of concept\n",
    "fig, ax = plt.subplots(figsize=(10,50))\n",
    "sns.heatmap(all_fluxes_df.iloc[:,2:], center=0, robust=True, cmap='RdBu')"
   ]
  },
  {
   "cell_type": "code",
   "execution_count": 70,
   "id": "14e3e5de",
   "metadata": {},
   "outputs": [],
   "source": [
    "subsystem_list_sorted = all_fluxes_df.subsystem.to_list()"
   ]
  },
  {
   "cell_type": "code",
   "execution_count": 71,
   "id": "4dc6af67",
   "metadata": {},
   "outputs": [],
   "source": [
    "# TODO: use this without crashing\n",
    "subsystem_labels = []\n",
    "compare_string = ''\n",
    "for subsystem_string in subsystem_list_sorted:\n",
    "    if subsystem_string == compare_string:\n",
    "        subsystem_string = ' '\n",
    "    else:\n",
    "        compare_string = subsystem_string\n",
    "    subsystem_labels.append(subsystem_string)"
   ]
  }
 ],
 "metadata": {
  "kernelspec": {
   "display_name": "fba",
   "language": "python",
   "name": "fba"
  },
  "language_info": {
   "codemirror_mode": {
    "name": "ipython",
    "version": 3
   },
   "file_extension": ".py",
   "mimetype": "text/x-python",
   "name": "python",
   "nbconvert_exporter": "python",
   "pygments_lexer": "ipython3",
   "version": "3.8.14"
  }
 },
 "nbformat": 4,
 "nbformat_minor": 5
}

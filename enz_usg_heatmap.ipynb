{
 "cells": [
  {
   "cell_type": "markdown",
   "id": "335067cd",
   "metadata": {},
   "source": [
    "Imports"
   ]
  },
  {
   "cell_type": "code",
   "execution_count": null,
   "id": "55c9761f",
   "metadata": {},
   "outputs": [],
   "source": [
    "import matplotlib.pyplot as plt\n",
    "import numpy as np\n",
    "import pandas as pd\n",
    "import seaborn as sns\n",
    "\n",
    "from yeast8model import Yeast8Model"
   ]
  },
  {
   "cell_type": "markdown",
   "id": "ac4584b5",
   "metadata": {},
   "source": [
    "# Initialise model"
   ]
  },
  {
   "cell_type": "code",
   "execution_count": null,
   "id": "65ee0b96",
   "metadata": {},
   "outputs": [],
   "source": [
    "glc_exch_rate = 16.89\n",
    "wt_ec = Yeast8Model(\"./models/ecYeastGEM_batch_8-6-0.xml\")\n",
    "wt_ec.model.reactions.get_by_id(\"r_1714\").bounds = (-glc_exch_rate, 0)\n",
    "wt_ec.model.reactions.get_by_id(\"r_1714_REV\").bounds = (0, glc_exch_rate)"
   ]
  },
  {
   "cell_type": "markdown",
   "id": "1e6e814b",
   "metadata": {},
   "source": [
    "# Ablate and store fluxes in each round"
   ]
  },
  {
   "cell_type": "code",
   "execution_count": null,
   "id": "82ae614d",
   "metadata": {},
   "outputs": [],
   "source": [
    "wt_ec.ablation_result = wt_ec.ablate()\n",
    "\n",
    "ablation_fluxes = wt_ec.ablation_fluxes\n",
    "ablation_fluxes_diff = ablation_fluxes.copy()\n",
    "ablation_fluxes_diff.pop(\"original\")\n",
    "for biomass_component, fluxes in ablation_fluxes_diff.items():\n",
    "    ablation_fluxes_diff[biomass_component] = (\n",
    "        ablation_fluxes[biomass_component] - ablation_fluxes[\"original\"]\n",
    "    )\n",
    "    print(f\"{biomass_component}\")\n",
    "    print(f\"min {1e5 * ablation_fluxes_diff[biomass_component].min()} * 1e-5\")\n",
    "    print(f\"max {1e5 * ablation_fluxes_diff[biomass_component].max()} * 1e-5\")"
   ]
  },
  {
   "cell_type": "markdown",
   "id": "f7fc98ad",
   "metadata": {},
   "source": [
    "Work"
   ]
  },
  {
   "cell_type": "code",
   "execution_count": null,
   "id": "8641bf9f",
   "metadata": {},
   "outputs": [],
   "source": [
    "from script_abl_vs_enz_use import (\n",
    "    subsystem_dict,\n",
    "    extract_protein_ids,\n",
    "    get_participating_rxn_ids,\n",
    "    get_subsystem_list,\n",
    ")"
   ]
  },
  {
   "cell_type": "code",
   "execution_count": null,
   "id": "608c1ac8",
   "metadata": {},
   "outputs": [],
   "source": [
    "subsystem_dict"
   ]
  },
  {
   "cell_type": "code",
   "execution_count": null,
   "id": "1b42ef3f",
   "metadata": {},
   "outputs": [],
   "source": [
    "s = ablation_fluxes_diff['lipid'].copy()"
   ]
  },
  {
   "cell_type": "code",
   "execution_count": null,
   "id": "888a5400",
   "metadata": {},
   "outputs": [],
   "source": [
    "enz_metabolite_ids = extract_protein_ids(s)\n",
    "participating_rxn_ids, enz_usage_fluxes = get_participating_rxn_ids(\n",
    "    enz_metabolite_ids, s, wt_ec\n",
    ")\n",
    "subsystem_list = get_subsystem_list(participating_rxn_ids, subsystem_dict)"
   ]
  },
  {
   "cell_type": "code",
   "execution_count": null,
   "id": "fa5fe95c",
   "metadata": {
    "scrolled": true
   },
   "outputs": [],
   "source": [
    "subsystem_list"
   ]
  },
  {
   "cell_type": "code",
   "execution_count": null,
   "id": "f72aa34c",
   "metadata": {},
   "outputs": [],
   "source": [
    "participating_rxn_df = pd.DataFrame(\n",
    "    {\n",
    "        \"participating_rxn_id\": participating_rxn_ids,\n",
    "        \"subsystem\": subsystem_list,\n",
    "        \"enz_usage_flux\": enz_usage_fluxes,\n",
    "    }\n",
    ")"
   ]
  },
  {
   "cell_type": "code",
   "execution_count": null,
   "id": "00eda411",
   "metadata": {},
   "outputs": [],
   "source": [
    "participating_rxn_df = participating_rxn_df[participating_rxn_df.subsystem != \"Enzyme usage\"]"
   ]
  },
  {
   "cell_type": "code",
   "execution_count": null,
   "id": "af66a8e8",
   "metadata": {},
   "outputs": [],
   "source": [
    "participating_rxn_df"
   ]
  },
  {
   "cell_type": "code",
   "execution_count": null,
   "id": "c87e9221",
   "metadata": {},
   "outputs": [],
   "source": [
    "participating_rxn_df = participating_rxn_df.sort_values(by=['subsystem'])"
   ]
  },
  {
   "cell_type": "code",
   "execution_count": null,
   "id": "223f2927",
   "metadata": {},
   "outputs": [],
   "source": [
    "fluxes_array = participating_rxn_df.enz_usage_flux.to_numpy()\n",
    "fluxes_array = np.reshape(fluxes_array, (-1,len(fluxes_array)))"
   ]
  },
  {
   "cell_type": "code",
   "execution_count": null,
   "id": "7c193c8d",
   "metadata": {},
   "outputs": [],
   "source": [
    "sns.heatmap(fluxes_array, center=0, robust=True, cmap='RdBu')"
   ]
  }
 ],
 "metadata": {
  "kernelspec": {
   "display_name": "fba",
   "language": "python",
   "name": "fba"
  },
  "language_info": {
   "codemirror_mode": {
    "name": "ipython",
    "version": 3
   },
   "file_extension": ".py",
   "mimetype": "text/x-python",
   "name": "python",
   "nbconvert_exporter": "python",
   "pygments_lexer": "ipython3",
   "version": "3.8.14"
  }
 },
 "nbformat": 4,
 "nbformat_minor": 5
}

{
 "cells": [
  {
   "cell_type": "markdown",
   "id": "c5d6a5f2",
   "metadata": {},
   "source": [
    "Imports"
   ]
  },
  {
   "cell_type": "code",
   "execution_count": null,
   "id": "efcfbb7e",
   "metadata": {},
   "outputs": [],
   "source": [
    "import matplotlib.pyplot as plt\n",
    "import numpy as np\n",
    "import pandas as pd\n",
    "import seaborn as sns\n",
    "\n",
    "from yeast8model import Yeast8Model"
   ]
  },
  {
   "cell_type": "markdown",
   "id": "4756bf5c",
   "metadata": {},
   "source": [
    "# Initialise model"
   ]
  },
  {
   "cell_type": "code",
   "execution_count": null,
   "id": "7b05080f",
   "metadata": {},
   "outputs": [],
   "source": [
    "glc_exch_rate = 16.89\n",
    "wt_ec = Yeast8Model(\"./models/ecYeastGEM_batch_8-6-0.xml\")\n",
    "wt_ec.model.reactions.get_by_id(\"r_1714\").bounds = (-glc_exch_rate, 0)\n",
    "wt_ec.model.reactions.get_by_id(\"r_1714_REV\").bounds = (0, glc_exch_rate)"
   ]
  },
  {
   "cell_type": "markdown",
   "id": "731ec81e",
   "metadata": {},
   "source": [
    "# Ablate and store fluxes in each round"
   ]
  },
  {
   "cell_type": "code",
   "execution_count": null,
   "id": "3de28791",
   "metadata": {},
   "outputs": [],
   "source": [
    "wt_ec.ablation_result = wt_ec.ablate()\n",
    "\n",
    "ablation_fluxes = wt_ec.ablation_fluxes\n",
    "ablation_fluxes_diff = ablation_fluxes.copy()\n",
    "ablation_fluxes_diff.pop(\"original\")\n",
    "for biomass_component, fluxes in ablation_fluxes_diff.items():\n",
    "    ablation_fluxes_diff[biomass_component] = (\n",
    "        ablation_fluxes[biomass_component] - ablation_fluxes[\"original\"]\n",
    "    )\n",
    "    print(f\"{biomass_component}\")\n",
    "    print(f\"min {1e5 * ablation_fluxes_diff[biomass_component].min()} * 1e-5\")\n",
    "    print(f\"max {1e5 * ablation_fluxes_diff[biomass_component].max()} * 1e-5\")"
   ]
  },
  {
   "cell_type": "markdown",
   "id": "6623f728",
   "metadata": {},
   "source": [
    "Work"
   ]
  },
  {
   "cell_type": "code",
   "execution_count": null,
   "id": "38577215",
   "metadata": {},
   "outputs": [],
   "source": [
    "from script_abl_vs_enz_use import (\n",
    "    subsystem_dict,\n",
    "    extract_protein_ids,\n",
    "    get_participating_rxn_ids,\n",
    "    get_subsystem_list,\n",
    ")"
   ]
  },
  {
   "cell_type": "code",
   "execution_count": null,
   "id": "809391b8",
   "metadata": {},
   "outputs": [],
   "source": [
    "list_participating_rxn_df = []\n",
    "\n",
    "for idx, (biomass_component, fluxes) in enumerate(ablation_fluxes_diff.items()):\n",
    "    s = fluxes.copy()\n",
    "    \n",
    "    enz_metabolite_ids = extract_protein_ids(s)\n",
    "    participating_rxn_ids, enz_usage_fluxes = get_participating_rxn_ids(\n",
    "        enz_metabolite_ids, s, wt_ec\n",
    "    )\n",
    "    subsystem_list = get_subsystem_list(participating_rxn_ids, subsystem_dict)\n",
    "    \n",
    "    enz_usage_flux_column = \"enz_usage_flux_\" + biomass_component\n",
    "    participating_rxn_df = pd.DataFrame(\n",
    "        {\n",
    "            \"participating_rxn_id\": participating_rxn_ids,\n",
    "            \"subsystem\": subsystem_list,\n",
    "            enz_usage_flux_column: enz_usage_fluxes,\n",
    "        }\n",
    "    )\n",
    "    list_participating_rxn_df.append(participating_rxn_df)\n",
    "    \n",
    "left_columns = list_participating_rxn_df[0].iloc[:,0:2]\n",
    "enz_usage_columns = pd.concat(\n",
    "    [list_participating_rxn_df[idx].iloc[:,-1]\n",
    "     for idx in range(len(list_participating_rxn_df))\n",
    "    ], axis=1\n",
    ")\n",
    "\n",
    "all_fluxes_df = pd.concat([left_columns, enz_usage_columns], axis=1)\n",
    "all_fluxes_df = all_fluxes_df[all_fluxes_df.subsystem != \"Enzyme usage\"]\n",
    "all_fluxes_df = all_fluxes_df.groupby(['participating_rxn_id', 'subsystem'], as_index=False).sum(numeric_only=True)\n",
    "all_fluxes_df = all_fluxes_df.sort_values(by=['subsystem'])"
   ]
  },
  {
   "cell_type": "code",
   "execution_count": null,
   "id": "4a8b7163",
   "metadata": {},
   "outputs": [],
   "source": [
    "enz_usage_colnames = [\n",
    "    colname \n",
    "    for colname in all_fluxes_df.columns.to_list() \n",
    "    if colname.startswith('enz_usage_flux_')\n",
    "]"
   ]
  },
  {
   "cell_type": "code",
   "execution_count": null,
   "id": "2e80988b",
   "metadata": {},
   "outputs": [],
   "source": [
    "nonzero_fluxes_df = all_fluxes_df.loc[(all_fluxes_df[enz_usage_colnames] != 0).all(axis=1)]"
   ]
  },
  {
   "cell_type": "code",
   "execution_count": null,
   "id": "54760b65",
   "metadata": {},
   "outputs": [],
   "source": [
    "tol = 3e-6\n",
    "farzero_fluxes_df = all_fluxes_df.loc[(all_fluxes_df[enz_usage_colnames].abs() >= tol).any(axis=1)]"
   ]
  },
  {
   "cell_type": "code",
   "execution_count": null,
   "id": "f00446af",
   "metadata": {},
   "outputs": [],
   "source": [
    "print(len(farzero_fluxes_df))"
   ]
  },
  {
   "cell_type": "code",
   "execution_count": null,
   "id": "87a688c2",
   "metadata": {},
   "outputs": [],
   "source": [
    "subsystem_list_sorted = farzero_fluxes_df.subsystem.to_list()\n",
    "\n",
    "subsystem_labels = []\n",
    "compare_string = ''\n",
    "for subsystem_string in subsystem_list_sorted:\n",
    "    if subsystem_string == compare_string:\n",
    "        subsystem_string = ' '\n",
    "    else:\n",
    "        compare_string = subsystem_string\n",
    "    subsystem_labels.append(subsystem_string)"
   ]
  },
  {
   "cell_type": "code",
   "execution_count": null,
   "id": "4c55324e",
   "metadata": {
    "scrolled": false
   },
   "outputs": [],
   "source": [
    "# 2d heatmap\n",
    "fig, ax = plt.subplots(figsize=(10,25))\n",
    "sns.heatmap(\n",
    "    farzero_fluxes_df.iloc[:,2:] * 1e4,\n",
    "    xticklabels=list(ablation_fluxes_diff.keys()),\n",
    "    yticklabels=subsystem_labels,\n",
    "    center=0,\n",
    "    robust=True,\n",
    "    cmap='PiYG',\n",
    "    cbar_kws={'label': r'Flux change [$\\times 10^{-4} mmol \\cdot g_{DW}^{-1} \\cdot h^{-1}$]'},\n",
    "    ax=ax,\n",
    ")\n",
    "ax.tick_params(top=True, labeltop=True, bottom=False, labelbottom=False)\n",
    "ax.set_title(f'Flux changes as a result of ablation\\n(magnitudes smaller than {tol} excluded)')"
   ]
  }
 ],
 "metadata": {
  "kernelspec": {
   "display_name": "fba",
   "language": "python",
   "name": "fba"
  },
  "language_info": {
   "codemirror_mode": {
    "name": "ipython",
    "version": 3
   },
   "file_extension": ".py",
   "mimetype": "text/x-python",
   "name": "python",
   "nbconvert_exporter": "python",
   "pygments_lexer": "ipython3",
   "version": "3.8.14"
  }
 },
 "nbformat": 4,
 "nbformat_minor": 5
}

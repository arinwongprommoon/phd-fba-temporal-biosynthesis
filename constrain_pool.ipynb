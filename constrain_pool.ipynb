{
 "cells": [
  {
   "cell_type": "markdown",
   "id": "7bdf4897",
   "metadata": {},
   "source": [
    "Import dependencies"
   ]
  },
  {
   "cell_type": "code",
   "execution_count": null,
   "id": "1ae365d7",
   "metadata": {},
   "outputs": [],
   "source": [
    "%reload_ext autoreload\n",
    "%autoreload 1\n",
    "%matplotlib inline\n",
    "\n",
    "import matplotlib.pyplot as plt\n",
    "import numpy as np\n",
    "import pandas as pd\n",
    "import pickle\n",
    "import cobra\n",
    "\n",
    "from yeast8model import Yeast8Model"
   ]
  },
  {
   "cell_type": "markdown",
   "id": "0f912b14",
   "metadata": {},
   "source": [
    "# Construct models of cells of interest"
   ]
  },
  {
   "cell_type": "code",
   "execution_count": null,
   "id": "8f4c766c",
   "metadata": {},
   "outputs": [],
   "source": [
    "glc_exch_rate = 16.89\n",
    "wt_ec = Yeast8Model(\"./models/ecYeastGEM_batch_8-6-0.xml\")\n",
    "wt_ec.model.reactions.get_by_id(\"r_1714\").bounds = (-glc_exch_rate, 0)\n",
    "wt_ec.model.reactions.get_by_id(\"r_1714_REV\").bounds = (0, glc_exch_rate)"
   ]
  },
  {
   "cell_type": "markdown",
   "id": "e1104974",
   "metadata": {},
   "source": [
    "# Effect of flux constraints"
   ]
  },
  {
   "cell_type": "code",
   "execution_count": null,
   "id": "2c475f5c",
   "metadata": {},
   "outputs": [],
   "source": [
    "from yeast8model import get_ablation_ratio"
   ]
  },
  {
   "cell_type": "markdown",
   "id": "9d887557",
   "metadata": {},
   "source": [
    "Convenience functions"
   ]
  },
  {
   "cell_type": "code",
   "execution_count": null,
   "id": "d59b5774",
   "metadata": {},
   "outputs": [],
   "source": [
    "def pool_vs_ablation(ymodel, fractions):\n",
    "    # get original pool upper bound\n",
    "    orig_epool = ymodel.model.reactions.get_by_id('prot_pool_exchange').bounds[1]\n",
    "    \n",
    "    abl_res_list = []\n",
    "    prot_pool_exchange_fluxes = []\n",
    "    for fraction in fractions:\n",
    "        # impose pool constraint\n",
    "        ub = fraction*orig_epool\n",
    "        ymodel.model.reactions.get_by_id('prot_pool_exchange').bounds = (0, ub)\n",
    "        sol = ymodel.optimize()\n",
    "        # ablate & ratio\n",
    "        abl_res = ymodel.ablate()\n",
    "        # append lists\n",
    "        abl_res_list.append(abl_res)\n",
    "        prot_pool_exchange_fluxes.append(sol.fluxes['prot_pool_exchange'])\n",
    "        \n",
    "    return abl_res_list, prot_pool_exchange_fluxes"
   ]
  },
  {
   "cell_type": "markdown",
   "id": "f2dd2f32",
   "metadata": {},
   "source": [
    "## Parameters"
   ]
  },
  {
   "cell_type": "code",
   "execution_count": null,
   "id": "c7b3790f",
   "metadata": {},
   "outputs": [],
   "source": [
    "# Probably doesn't matter if step up or down\n",
    "fractions = np.linspace(2, 0, num=51)"
   ]
  },
  {
   "cell_type": "markdown",
   "id": "88a0f7ac",
   "metadata": {},
   "source": [
    "## Enzyme-constrained"
   ]
  },
  {
   "cell_type": "markdown",
   "id": "443b9432",
   "metadata": {},
   "source": [
    "Note: re-load model before re-running."
   ]
  },
  {
   "cell_type": "code",
   "execution_count": null,
   "id": "94ea298b",
   "metadata": {
    "scrolled": true
   },
   "outputs": [],
   "source": [
    "# Generate results\n",
    "abl_list, prot_pool_exchange_fluxes = pool_vs_ablation(wt_ec, fractions)"
   ]
  },
  {
   "cell_type": "code",
   "execution_count": null,
   "id": "7727dbee",
   "metadata": {},
   "outputs": [],
   "source": [
    "# Alternatively, load if saved\n",
    "with open('ec_pool_vs_ablation.pkl', 'rb') as handle:\n",
    "    abl_list = pickle.load(handle)"
   ]
  },
  {
   "cell_type": "code",
   "execution_count": null,
   "id": "b24bd0ce",
   "metadata": {},
   "outputs": [],
   "source": [
    "# Dump data\n",
    "with open('ec_pool_vs_ablation.pkl', 'wb') as handle:\n",
    "    pickle.dump(abl_list, handle, protocol=pickle.HIGHEST_PROTOCOL)"
   ]
  },
  {
   "cell_type": "markdown",
   "id": "ac189005",
   "metadata": {},
   "source": [
    "# Plots"
   ]
  },
  {
   "cell_type": "code",
   "execution_count": null,
   "id": "c583ea49",
   "metadata": {},
   "outputs": [],
   "source": [
    "# Define lists for plotting\n",
    "gr_list = [abl_res.ablated_flux.iloc[0] for abl_res in abl_list]\n",
    "ratio_list = [get_ablation_ratio(abl_res) for abl_res in abl_list]\n",
    "abl_flux_list = [abl_res.ablated_flux.iloc[1:].to_list() for abl_res in abl_list]\n",
    "abl_flux_array = np.array(abl_flux_list)\n",
    "biomass_components_list = abl_list[0].priority_component.iloc[1:].to_list()"
   ]
  },
  {
   "cell_type": "code",
   "execution_count": null,
   "id": "4565c5ad",
   "metadata": {},
   "outputs": [],
   "source": [
    "fig, ax = plt.subplots()\n",
    "ax.plot(fractions, prot_pool_exchange_fluxes, 'o-')\n",
    "ax.set_xlabel(r'Fraction of original $e_{pool}$')\n",
    "ax.set_ylabel('Protein pool exchange flux')\n",
    "ax.set_xlim((0,20))\n",
    "ax.set_ylim((0,2.5))"
   ]
  },
  {
   "cell_type": "code",
   "execution_count": null,
   "id": "d78b5a83",
   "metadata": {},
   "outputs": [],
   "source": [
    "fig, ax = plt.subplots()\n",
    "ax.plot(fractions, gr_list, 'o-')\n",
    "ax.set_xlabel(r'Fraction of original $e_{pool}$')\n",
    "ax.set_ylabel('Growth rate')\n",
    "ax.set_xlim((0,2))\n",
    "ax.set_ylim((0,1))"
   ]
  },
  {
   "cell_type": "code",
   "execution_count": null,
   "id": "b7f71001",
   "metadata": {},
   "outputs": [],
   "source": [
    "fig, ax = plt.subplots()\n",
    "ax.plot(fractions, abl_flux_array, 'o-')\n",
    "ax.set_xlabel(r'Fraction of original $e_{pool}$')\n",
    "ax.set_ylabel('Ablated flux')\n",
    "ax.set_xlim((0,2))\n",
    "ax.set_ylim((0,4))\n",
    "ax.legend(biomass_components_list)"
   ]
  },
  {
   "cell_type": "code",
   "execution_count": null,
   "id": "9058098b",
   "metadata": {},
   "outputs": [],
   "source": [
    "fig, ax = plt.subplots()\n",
    "ax.plot(fractions, ratio_list, 'o-')\n",
    "ax.set_xlabel(r'Fraction of original $e_{pool}$')\n",
    "ax.set_ylabel('Ratio')\n",
    "ax.set_xlim((0,2))\n",
    "ax.set_ylim((0.65,0.77))"
   ]
  }
 ],
 "metadata": {
  "kernelspec": {
   "display_name": "fba",
   "language": "python",
   "name": "fba"
  },
  "language_info": {
   "codemirror_mode": {
    "name": "ipython",
    "version": 3
   },
   "file_extension": ".py",
   "mimetype": "text/x-python",
   "name": "python",
   "nbconvert_exporter": "python",
   "pygments_lexer": "ipython3",
   "version": "3.8.14"
  }
 },
 "nbformat": 4,
 "nbformat_minor": 5
}

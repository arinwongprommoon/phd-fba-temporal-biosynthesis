{
 "cells": [
  {
   "cell_type": "markdown",
   "id": "98316e56",
   "metadata": {},
   "source": [
    "Import dependencies"
   ]
  },
  {
   "cell_type": "code",
   "execution_count": null,
   "id": "03a24339",
   "metadata": {},
   "outputs": [],
   "source": [
    "%reload_ext autoreload\n",
    "%autoreload 1\n",
    "%matplotlib inline\n",
    "\n",
    "import matplotlib.pyplot as plt\n",
    "import numpy as np\n",
    "import cobra\n",
    "import escher"
   ]
  },
  {
   "cell_type": "markdown",
   "id": "5bbc1424",
   "metadata": {},
   "source": [
    "# Load model"
   ]
  },
  {
   "cell_type": "markdown",
   "id": "1fd2afd1",
   "metadata": {},
   "source": [
    "Choose from alternatives"
   ]
  },
  {
   "cell_type": "code",
   "execution_count": null,
   "id": "4c9aa36d",
   "metadata": {},
   "outputs": [],
   "source": [
    "# Yeast 8\n",
    "#model = cobra.io.read_sbml_model(\"./models/yeast-GEM-BiGG.xml\")"
   ]
  },
  {
   "cell_type": "code",
   "execution_count": null,
   "id": "3372fd9a",
   "metadata": {},
   "outputs": [],
   "source": [
    "# Enzyme-constrained Yeast 8, batch\n",
    "# https://github.com/SysBioChalmers/ecModels/tree/main/ecYeastGEM/model\n",
    "# This is supposed under CI, i.e.\n",
    "# automatically re-generated and updated when new models are available.\n",
    "# This model is based on Yeast8.3.4\n",
    "\n",
    "# Average enzyme saturation factor (sigma) = 0.5\n",
    "# Total protein content in the cell [g protein/gDw] (Ptot) = 0.5\n",
    "# Fraction of enzymes in the model [g enzyme/g protein] (f) = 0.5\n",
    "# https://github.com/SysBioChalmers/GECKO/blob/main/userData/ecYeastGEM/YeastGEMAdapter.m\n",
    "model = cobra.io.read_sbml_model(\"./models/ecYeastGEM_batch_8-6-0.xml\")"
   ]
  },
  {
   "cell_type": "markdown",
   "id": "5b4fcf41",
   "metadata": {},
   "source": [
    "Show model"
   ]
  },
  {
   "cell_type": "code",
   "execution_count": null,
   "id": "76a11d19",
   "metadata": {},
   "outputs": [],
   "source": [
    "model"
   ]
  },
  {
   "cell_type": "markdown",
   "id": "dde1d25d",
   "metadata": {},
   "source": [
    "# Utilities"
   ]
  },
  {
   "cell_type": "code",
   "execution_count": null,
   "id": "4cb3b0fb",
   "metadata": {},
   "outputs": [],
   "source": [
    "def print_formulas(reaction):\n",
    "    \"\"\"Print formulas of reactants and products of a reaction.\"\"\"\n",
    "    print('reactants')\n",
    "    for reactant in reaction.reactants:\n",
    "        print(f'{reactant.id} ({reactant.name}): F {reactant.formula}')\n",
    "    print('products')\n",
    "    for product in reaction.products:\n",
    "        print(f'{product.id} ({product.name}): F {product.formula}')\n",
    "\n",
    "def print_formula_weights(reaction):\n",
    "    \"\"\"Print formula weights of reactants and products of a reaction.\"\"\"\n",
    "    print('reactants')\n",
    "    for reactant in reaction.reactants:\n",
    "        print(f'{reactant.id} ({reactant.name}): MW {reactant.formula_weight}')\n",
    "    print('products')\n",
    "    for product in reaction.products:\n",
    "        print(f'{product.id} ({product.name}): MW {product.formula_weight}')"
   ]
  },
  {
   "cell_type": "markdown",
   "id": "9b2aed99",
   "metadata": {},
   "source": [
    "# Objective function"
   ]
  },
  {
   "cell_type": "markdown",
   "id": "05ab72f6",
   "metadata": {},
   "source": [
    "In the ecYeast8 (batch) model, the objective function -- growth -- is reaction ID `r_2111`.\n",
    "\n",
    "This reaction is linked to the biomass reaction, ID `r_4041`.\n",
    "\n",
    "Here, we also see the stoichiometry.  There are five classes of macromolecules: lipids, proteins, carbohydrates, DNA, and RNA.  And there are two other bulk metabolites: cofactor and ion."
   ]
  },
  {
   "cell_type": "code",
   "execution_count": null,
   "id": "7fa4b7b5",
   "metadata": {},
   "outputs": [],
   "source": [
    "model.reactions.get_by_id('r_2111')"
   ]
  },
  {
   "cell_type": "code",
   "execution_count": null,
   "id": "462669cf",
   "metadata": {},
   "outputs": [],
   "source": [
    "model.reactions.get_by_id('r_4041')"
   ]
  },
  {
   "cell_type": "markdown",
   "id": "f681a17b",
   "metadata": {},
   "source": [
    "Medium"
   ]
  },
  {
   "cell_type": "code",
   "execution_count": null,
   "id": "c5836b2b",
   "metadata": {},
   "outputs": [],
   "source": [
    "model.medium"
   ]
  },
  {
   "cell_type": "code",
   "execution_count": null,
   "id": "b5a5a3ce",
   "metadata": {},
   "outputs": [],
   "source": [
    "for reaction_id in model.medium.keys():\n",
    "    print(model.reactions.get_by_id(reaction_id).name)"
   ]
  },
  {
   "cell_type": "markdown",
   "id": "23541b72",
   "metadata": {},
   "source": [
    "Remove bounds on glucose uptake and growth rate"
   ]
  },
  {
   "cell_type": "code",
   "execution_count": null,
   "id": "156e478b",
   "metadata": {},
   "outputs": [],
   "source": [
    "# (no need because bounds are already unrestricted)\n",
    "# Unrestrict glucose uptake\n",
    "model.reactions.get_by_id('r_1714').bounds = (-1000.0, 0)\n",
    "# Unrestrict oxygen uptake (aerobic)\n",
    "model.reactions.get_by_id('r_1992').bounds = (-1000.0, 0)\n",
    "# Unrestrict objective function\n",
    "model.reactions.get_by_id('r_4041').bounds = (0, 1000.0)"
   ]
  },
  {
   "cell_type": "markdown",
   "id": "764030fa",
   "metadata": {},
   "source": [
    "Optimise using (vanilla) FBA"
   ]
  },
  {
   "cell_type": "code",
   "execution_count": null,
   "id": "fb8fc7c2",
   "metadata": {},
   "outputs": [],
   "source": [
    "solution = model.optimize()"
   ]
  },
  {
   "cell_type": "code",
   "execution_count": null,
   "id": "0d090c5a",
   "metadata": {},
   "outputs": [],
   "source": [
    "model.summary()"
   ]
  },
  {
   "cell_type": "code",
   "execution_count": null,
   "id": "e03ed86e",
   "metadata": {},
   "outputs": [],
   "source": [
    "solution['r_0466No1']"
   ]
  },
  {
   "cell_type": "markdown",
   "id": "6d7dc9be",
   "metadata": {},
   "source": [
    "Linear reaction coefficients"
   ]
  },
  {
   "cell_type": "code",
   "execution_count": null,
   "id": "a9997f71",
   "metadata": {},
   "outputs": [],
   "source": [
    "cobra.util.solver.linear_reaction_coefficients(model)"
   ]
  },
  {
   "cell_type": "markdown",
   "id": "941d0155",
   "metadata": {},
   "source": [
    "# Computing 'virtual' molecular weights of bulk metabolites"
   ]
  },
  {
   "cell_type": "markdown",
   "id": "a32f4521",
   "metadata": {},
   "source": [
    "The ecYeast8 model does not specify the molecular weights of these bulk metabolites.\n",
    "\n",
    "This is because these bulk metabolites arise from grouping into classes cellular components that contribute to biomass.  In FBA models, the convention is to have the components have stoichiometric coefficients in units of mmol/gDW in the biomass reaction; however, Yeast8 defines 'isa' reactions in addition to the biomass reaction to group classes of metabolites.\n",
    "\n",
    "To compute 'virtual' molecular weights, I assumed conservation of mass, i.e.\n",
    "\n",
    "\\begin{equation}\n",
    "    \\sum_{s}(\\text{molar mass}_{s})(\\text{stoichiometric coefficient}_{s}) - \\sum_{p}(\\text{molar mass}_{p})(\\text{stoichiometric coefficient}_{p})\n",
    "\\end{equation}\n",
    "\n",
    "where $s = 1, ... (\\text{number of substrates})$ represents substrates and $p = 1, ... (\\text{number of products})$ represents products of the reaction in question.\n",
    "\n",
    "These 'virtual' molecular weights thus reflect the mass fraction of each class of macromolecule in the cell."
   ]
  },
  {
   "cell_type": "markdown",
   "id": "b1a2d80c",
   "metadata": {},
   "source": [
    "## Carbohydrates"
   ]
  },
  {
   "cell_type": "markdown",
   "id": "314dd2d2",
   "metadata": {},
   "source": [
    "To compute the molecular weight of the carbohydrate metabolite, I inspected reaction r_4048.  This reaction accounts for structural (e.g. cell wall) and storage carbohydrates."
   ]
  },
  {
   "cell_type": "code",
   "execution_count": null,
   "id": "b1405d55",
   "metadata": {},
   "outputs": [],
   "source": [
    "model.reactions.get_by_id('r_4048')"
   ]
  },
  {
   "cell_type": "markdown",
   "id": "fb6821a4",
   "metadata": {},
   "source": [
    "Here, the molecular weights of all species except for carbohydrate, the bulk metabolite, are\n",
    "represented in the model."
   ]
  },
  {
   "cell_type": "code",
   "execution_count": null,
   "id": "d1bffbc7",
   "metadata": {},
   "outputs": [],
   "source": [
    "print_formula_weights(model.reactions.get_by_id('r_4048'))"
   ]
  },
  {
   "cell_type": "markdown",
   "id": "d8d80496",
   "metadata": {},
   "source": [
    "Thus, the conservation of mass can be applied directly."
   ]
  },
  {
   "cell_type": "code",
   "execution_count": null,
   "id": "598d775e",
   "metadata": {},
   "outputs": [],
   "source": [
    "MW_CARB = -sum(\n",
    "    [metabolite.formula_weight * coeff\n",
    "     for metabolite, coeff in model.reactions.get_by_id('r_4048').metabolites.items()]\n",
    ")\n",
    "print(MW_CARB)"
   ]
  },
  {
   "cell_type": "markdown",
   "id": "3a1cefc7",
   "metadata": {},
   "source": [
    "We will re-use this code a lot, so I will write a convenience function:"
   ]
  },
  {
   "cell_type": "code",
   "execution_count": null,
   "id": "918a631d",
   "metadata": {},
   "outputs": [],
   "source": [
    "# I admit that this function is not generalisable, but this notebook is\n",
    "# a quick-and-dirty idea sandbox... for now.\n",
    "def mw_from_reaction(reaction):\n",
    "    \"\"\"\n",
    "    Computes molecular weight of a species of unknown weight.\n",
    "    \n",
    "    Only works if there is just one species with unknown weight.\n",
    "    Assumes that the stoichiometric coefficient of the species is 1.\n",
    "    \"\"\"\n",
    "    return -sum(\n",
    "        [metabolite.formula_weight * coeff\n",
    "         for metabolite, coeff in reaction.metabolites.items()]\n",
    "    )"
   ]
  },
  {
   "cell_type": "markdown",
   "id": "83444cce",
   "metadata": {},
   "source": [
    "## DNA, RNA, cofactor, ion"
   ]
  },
  {
   "cell_type": "markdown",
   "id": "665db5b7",
   "metadata": {},
   "source": [
    "The same process can be applied to compute the molecular weights of the DNA, RNA,\n",
    "cofactor, and ion metabolites.  This is because the equations are similar.  They have reactants with molecular weights represented in the model.  And only the bulk metabolite, the sole product, as the metabolite with an unspecified molecular weight. "
   ]
  },
  {
   "cell_type": "code",
   "execution_count": null,
   "id": "6d5380d8",
   "metadata": {},
   "outputs": [],
   "source": [
    "# DNA\n",
    "print_formula_weights(model.reactions.get_by_id('r_4050'))"
   ]
  },
  {
   "cell_type": "code",
   "execution_count": null,
   "id": "c7d67e90",
   "metadata": {},
   "outputs": [],
   "source": [
    "# RNA\n",
    "print_formula_weights(model.reactions.get_by_id('r_4049'))"
   ]
  },
  {
   "cell_type": "code",
   "execution_count": null,
   "id": "acb795cd",
   "metadata": {},
   "outputs": [],
   "source": [
    "model.reactions.get_by_id('r_4598').reaction"
   ]
  },
  {
   "cell_type": "code",
   "execution_count": null,
   "id": "5cafa711",
   "metadata": {},
   "outputs": [],
   "source": [
    "# cofactor\n",
    "print_formula_weights(model.reactions.get_by_id('r_4598'))"
   ]
  },
  {
   "cell_type": "code",
   "execution_count": null,
   "id": "ffbeac75",
   "metadata": {},
   "outputs": [],
   "source": [
    "# ion\n",
    "print_formula_weights(model.reactions.get_by_id('r_4599'))"
   ]
  },
  {
   "cell_type": "code",
   "execution_count": null,
   "id": "68605a6f",
   "metadata": {
    "scrolled": true
   },
   "outputs": [],
   "source": [
    "# The bulk metabolite has a stoichiometric coefficient of 1,\n",
    "# so mw_from_reaction can be used directly.\n",
    "MW_DNA = mw_from_reaction(model.reactions.get_by_id('r_4050'))\n",
    "MW_RNA = mw_from_reaction(model.reactions.get_by_id('r_4049'))\n",
    "MW_COFACTOR = mw_from_reaction(model.reactions.get_by_id('r_4598'))\n",
    "MW_ION = mw_from_reaction(model.reactions.get_by_id('r_4599'))\n",
    "\n",
    "print(MW_DNA)\n",
    "print(MW_RNA)\n",
    "print(MW_COFACTOR)\n",
    "print(MW_ION)"
   ]
  },
  {
   "cell_type": "markdown",
   "id": "2cbc64c6",
   "metadata": {},
   "source": [
    "Note: DNA and RNA 'molecular weights' differ by an order of magnitude.  This reflects how there is more RNA than DNA in the cell."
   ]
  },
  {
   "cell_type": "markdown",
   "id": "24a4f7a6",
   "metadata": {},
   "source": [
    "## Protein"
   ]
  },
  {
   "cell_type": "markdown",
   "id": "e3144ee7",
   "metadata": {},
   "source": [
    "This is slightly less straightforward because the aminoacyl-tRNA reactants are represented in the form of the atoms that make up the aminoacyl residues plus R to represent the tRNA, and the tRNA products are represented as RH."
   ]
  },
  {
   "cell_type": "code",
   "execution_count": null,
   "id": "0ed0ccab",
   "metadata": {},
   "outputs": [],
   "source": [
    "print_formulas(model.reactions.get_by_id('r_4047'))"
   ]
  },
  {
   "cell_type": "markdown",
   "id": "fdb86178",
   "metadata": {},
   "source": [
    "The problem is: R is not listed as an element in `cobrapy`, so I can't use built-in functions (i.e. `print_formula_weights` breaks).  Therefore, I reverse-engineered `cobra.core.formula` and `cobra.core.metabolite` so it can deal with an 'R' element."
   ]
  },
  {
   "cell_type": "code",
   "execution_count": null,
   "id": "a72312fe",
   "metadata": {},
   "outputs": [],
   "source": [
    "# hack: reverse-engineering cobra.core.formula and cobra.core.metabolite\n",
    "# so it can deal with an 'R' element\n",
    "import re\n",
    "from typing import TYPE_CHECKING, Dict, Optional, Union\n",
    "from cobra.core.formula import elements_and_molecular_weights\n",
    "\n",
    "element_re = re.compile(\"([A-Z][a-z]?)([0-9.]+[0-9.]?|(?=[A-Z])?)\")\n",
    "elements_and_molecular_weights['R'] = 0\n",
    "\n",
    "def elements(formula) -> Optional[Dict[str, Union[int, float]]]:\n",
    "    \"\"\"Get dicitonary of elements and counts.\n",
    "\n",
    "    Dictionary of elements as keys and their count in the metabolite\n",
    "    as integer. When set, the `formula` property is updated accordingly.\n",
    "\n",
    "    Returns\n",
    "    -------\n",
    "    composition: None or Dict\n",
    "        A dictionary of elements and counts, where count is int unless it is needed\n",
    "        to be a float.\n",
    "        Returns None in case of error.\n",
    "\n",
    "    \"\"\"\n",
    "    tmp_formula = formula\n",
    "    if tmp_formula is None:\n",
    "        return {}\n",
    "    # necessary for some old pickles which use the deprecated\n",
    "    # Formula class\n",
    "    tmp_formula = str(formula)\n",
    "    # commonly occurring characters in incorrectly constructed formulas\n",
    "    if \"*\" in tmp_formula:\n",
    "        warn(f\"invalid character '*' found in formula '{formula}'\")\n",
    "        tmp_formula = tmp_formula.replace(\"*\", \"\")\n",
    "    if \"(\" in tmp_formula or \")\" in tmp_formula:\n",
    "        warn(f\"invalid formula (has parenthesis) in '{formula}'\")\n",
    "        return None\n",
    "    composition = {}\n",
    "    parsed = element_re.findall(tmp_formula)\n",
    "    for element, count in parsed:\n",
    "        if count == \"\":\n",
    "            count = 1\n",
    "        else:\n",
    "            try:\n",
    "                count = float(count)\n",
    "                int_count = int(count)\n",
    "                if count == int_count:\n",
    "                    count = int_count\n",
    "                else:\n",
    "                    warn(f\"{count} is not an integer (in formula {formula})\")\n",
    "            except ValueError:\n",
    "                warn(f\"failed to parse {count} (in formula {formula})\")\n",
    "                return None\n",
    "        if element in composition:\n",
    "            composition[element] += count\n",
    "        else:\n",
    "            composition[element] = count\n",
    "    return composition\n",
    "\n",
    "def formula_weight(elements) -> Union[int, float]:\n",
    "    \"\"\"Calculate the formula weight.\n",
    "\n",
    "    Returns\n",
    "    ------\n",
    "    float, int\n",
    "        Weight of formula, based on the weight and count of elements. Can be int if\n",
    "        the formula weight is a whole number, but unlikely.\n",
    "    \"\"\"\n",
    "    try:\n",
    "        return sum(\n",
    "            [\n",
    "                count * elements_and_molecular_weights[element]\n",
    "                for element, count in elements.items()\n",
    "            ]\n",
    "        )\n",
    "    except KeyError as e:\n",
    "        warn(f\"The element {e} does not appear in the periodic table\")"
   ]
  },
  {
   "cell_type": "markdown",
   "id": "ad98d5dc",
   "metadata": {},
   "source": [
    "Fortunately, the protein bulk metabolite is the only product with an unknown molecular weight, so I can use the same approach as before to compute the molecular weight."
   ]
  },
  {
   "cell_type": "code",
   "execution_count": null,
   "id": "f6eb0562",
   "metadata": {},
   "outputs": [],
   "source": [
    "protein_pseudoreaction = model.reactions.get_by_id('r_4047')\n",
    "    \n",
    "MW_PROTEIN = -sum(\n",
    "    [formula_weight(elements(metabolite.formula)) * coeff\n",
    "     for metabolite, coeff in protein_pseudoreaction.metabolites.items()]\n",
    ")\n",
    "print(MW_PROTEIN)"
   ]
  },
  {
   "cell_type": "markdown",
   "id": "486036d8",
   "metadata": {},
   "source": [
    "## Lipids"
   ]
  },
  {
   "cell_type": "markdown",
   "id": "82164088",
   "metadata": {},
   "source": [
    "Finally, the lipid metabolite is the least straightforward because some of the reactants do not\n",
    "have molecular weights specified. The lipid pseudoreaction is represented in reaction r_2108:"
   ]
  },
  {
   "cell_type": "code",
   "execution_count": null,
   "id": "869a254f",
   "metadata": {},
   "outputs": [],
   "source": [
    "model.reactions.get_by_id('r_2108')"
   ]
  },
  {
   "cell_type": "markdown",
   "id": "d5c5b061",
   "metadata": {},
   "source": [
    "Both `lipid backbone` and `lipid chain` have no molecular weight specified."
   ]
  },
  {
   "cell_type": "code",
   "execution_count": null,
   "id": "0aca04ef",
   "metadata": {},
   "outputs": [],
   "source": [
    "print_formula_weights(model.reactions.get_by_id('r_2108'))"
   ]
  },
  {
   "cell_type": "markdown",
   "id": "698227a5",
   "metadata": {},
   "source": [
    "### Lipid chain"
   ]
  },
  {
   "cell_type": "markdown",
   "id": "7b2b61f3",
   "metadata": {},
   "source": [
    "Reaction r_4065 specifies a lipid chain pseudoreaction, in which lipid chain is generated:"
   ]
  },
  {
   "cell_type": "code",
   "execution_count": null,
   "id": "209eb255",
   "metadata": {},
   "outputs": [],
   "source": [
    "print_formula_weights(model.reactions.get_by_id('r_4065'))"
   ]
  },
  {
   "cell_type": "markdown",
   "id": "404ca381",
   "metadata": {},
   "source": [
    "As all reactants have molecular weights defined in the model, the molecular weight of lipid\n",
    "chain can be computed from the mass balance of this reaction."
   ]
  },
  {
   "cell_type": "code",
   "execution_count": null,
   "id": "61a2ab16",
   "metadata": {},
   "outputs": [],
   "source": [
    "MW_LIPID_CHAIN = mw_from_reaction(model.reactions.get_by_id('r_4065'))\n",
    "print(MW_LIPID_CHAIN)"
   ]
  },
  {
   "cell_type": "markdown",
   "id": "43629ab1",
   "metadata": {},
   "source": [
    "### Lipid backbone"
   ]
  },
  {
   "cell_type": "markdown",
   "id": "ad41a6f9",
   "metadata": {},
   "source": [
    "Reaction r_4063 specifies a lipid backbone pseudoreaction, in which lipid backbone is\n",
    "generated:"
   ]
  },
  {
   "cell_type": "code",
   "execution_count": null,
   "id": "b62700cb",
   "metadata": {},
   "outputs": [],
   "source": [
    "print_formula_weights(model.reactions.get_by_id('r_4063'))"
   ]
  },
  {
   "cell_type": "markdown",
   "id": "e9ad18d5",
   "metadata": {},
   "source": [
    "Within this reaction, all reactants have defined molecular weights except for `fatty acid\n",
    "backbone`. Four reactions in the model produce `fatty acid backbone`."
   ]
  },
  {
   "cell_type": "code",
   "execution_count": null,
   "id": "7245122d",
   "metadata": {},
   "outputs": [],
   "source": [
    "fab_reaction_list = ['r_3975', 'r_3976', 'r_3977', 'r_3978']\n",
    "mw_fab_list = []\n",
    "\n",
    "for fab_reaction_id in fab_reaction_list:\n",
    "    print(f'ID: {fab_reaction_id}')\n",
    "    fab_reaction = model.reactions.get_by_id(fab_reaction_id)\n",
    "    print(f'Reaction: {fab_reaction.reaction}')\n",
    "    mw = mw_from_reaction(fab_reaction)\n",
    "    # Stoichiometric coefficient of fatty acid backbone is not 1\n",
    "    # in these reactions\n",
    "    mw /= fab_reaction.metabolites[model.metabolites.get_by_id('s_0694[c]')]\n",
    "    print(f'Computed molecular weight: {mw}')\n",
    "    mw_fab_list.append(mw)\n",
    "    print('\\n')"
   ]
  },
  {
   "cell_type": "markdown",
   "id": "e2f82803",
   "metadata": {},
   "source": [
    "Note: the molecular weights computed from each equation\n",
    "are different, as shown above. Since the differences are slight, and ultimately I\n",
    "am making a back-of-the-envelope calculation, I took the average of the four weights."
   ]
  },
  {
   "cell_type": "code",
   "execution_count": null,
   "id": "fc736d27",
   "metadata": {},
   "outputs": [],
   "source": [
    "MW_FATTY_ACID_BACKBONE = np.mean(mw_fab_list)\n",
    "print(MW_FATTY_ACID_BACKBONE)"
   ]
  },
  {
   "cell_type": "markdown",
   "id": "1cbf8ad4",
   "metadata": {},
   "source": [
    "Now, I feed this number back into the lipid backbone pseudoreaction."
   ]
  },
  {
   "cell_type": "code",
   "execution_count": null,
   "id": "f42dae95",
   "metadata": {},
   "outputs": [],
   "source": [
    "# I can do this because the stoichiometric constant of\n",
    "# the lipid backbone bulk metabolite is 1.\n",
    "MW_LIPID_BACKBONE = 0\n",
    "for metabolite, coeff in model.reactions.get_by_id('r_4063').metabolites.items():\n",
    "    if metabolite.id == 's_0694':\n",
    "        MW_LIPID_BACKBONE += coeff * MW_FATTY_ACID_BACKBONE\n",
    "    else:\n",
    "        MW_LIPID_BACKBONE += coeff * metabolite.formula_weight\n",
    "MW_LIPID_BACKBONE = -MW_LIPID_BACKBONE\n",
    "print(MW_LIPID_BACKBONE)"
   ]
  },
  {
   "cell_type": "markdown",
   "id": "11c540b7",
   "metadata": {},
   "source": [
    "### Altogether"
   ]
  },
  {
   "cell_type": "code",
   "execution_count": null,
   "id": "356d1467",
   "metadata": {},
   "outputs": [],
   "source": [
    "MW_LIPID = MW_LIPID_BACKBONE + MW_LIPID_CHAIN\n",
    "print(MW_LIPID)"
   ]
  },
  {
   "cell_type": "markdown",
   "id": "75e84bbc",
   "metadata": {},
   "source": [
    "## Biomass"
   ]
  },
  {
   "cell_type": "markdown",
   "id": "7dad2081",
   "metadata": {},
   "source": [
    "The molecular weight of biomass is simply the molecular weights of each bulk metabolite added together.\n",
    "\n",
    "Note that H2O, ATP, ADP, and Pi are involved in the reaction too.  But, as they are already mass-balanced, they can be ignored in this calculation."
   ]
  },
  {
   "cell_type": "code",
   "execution_count": null,
   "id": "de38e486",
   "metadata": {},
   "outputs": [],
   "source": [
    "MW_BIOMASS = MW_PROTEIN + MW_CARB + MW_RNA + MW_LIPID + MW_COFACTOR + MW_DNA + MW_ION\n",
    "print(MW_BIOMASS)"
   ]
  }
 ],
 "metadata": {
  "kernelspec": {
   "display_name": "fba",
   "language": "python",
   "name": "fba"
  },
  "language_info": {
   "codemirror_mode": {
    "name": "ipython",
    "version": 3
   },
   "file_extension": ".py",
   "mimetype": "text/x-python",
   "name": "python",
   "nbconvert_exporter": "python",
   "pygments_lexer": "ipython3",
   "version": "3.8.14"
  }
 },
 "nbformat": 4,
 "nbformat_minor": 5
}
